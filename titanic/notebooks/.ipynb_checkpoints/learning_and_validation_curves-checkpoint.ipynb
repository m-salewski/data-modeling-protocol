{
 "cells": [
  {
   "cell_type": "markdown",
   "metadata": {
    "_cell_guid": "2ed88b1f-380e-4b02-a694-04f003453e65",
    "_uuid": "0b05f17541802c7a3736f5f8e306d32dbeb7c9b6"
   },
   "source": [
    "# Exploratory data analysis and feature extraction with Python\n",
    "\n",
    "Using **data visualization**, **feature engineering** and **feature selection** to make a simple **logistic regression** look powerful!\n",
    "\n",
    "[Pedro Marcelino](http://pmarcelino.com/) - April 2018\n",
    "\n",
    "Other Kernels: [Comprehensive data exploration in Python](https://www.kaggle.com/pmarcelino/comprehensive-data-exploration-with-python)\n",
    "\n",
    "---"
   ]
  },
  {
   "cell_type": "markdown",
   "metadata": {
    "_cell_guid": "543674f5-aaf8-47fb-a17c-668a89c6a7f7",
    "_uuid": "62d9979ba27bc6c2ed36deed1a0ea0a0bdb68f76"
   },
   "source": [
    "# 0. Belfast, an earlier incubator"
   ]
  },
  {
   "cell_type": "markdown",
   "metadata": {
    "_cell_guid": "c6bee3e3-3756-40ed-8516-1887b494794a",
    "_uuid": "94ab674f2a935da4aab5cd0dbf2086d1b6c12ac1"
   },
   "source": [
    "Incubators are companies that support the creation of startups and their first years of activity. They are important because they help entrepreneurs solve some issues commonly associated with running a business, such as workspace, training, and seed funding.\n",
    "\n",
    "Our engineering masterpiece also needs a starting point. In this section, we start the assemblage of our work by importing some libraries and general functions."
   ]
  },
  {
   "cell_type": "markdown",
   "metadata": {
    "_cell_guid": "7ea5a751-3bc7-40bb-a789-d01d87ab2f12",
    "_uuid": "4454f0dc3023c06875737d99e12d9ba40c3d7813"
   },
   "source": [
    "## Imports"
   ]
  },
  {
   "cell_type": "code",
   "execution_count": 3,
   "metadata": {
    "_cell_guid": "24eda48f-f136-40ff-9bec-27ba612cce6b",
    "_uuid": "1222390a7e9d88443a5d8d8c0489292e9f052e61",
    "collapsed": true
   },
   "outputs": [],
   "source": [
    "# Import libraries\n",
    "import pandas as pd\n",
    "import numpy as np\n",
    "import seaborn as sns\n",
    "import matplotlib.pyplot as plt\n",
    "%matplotlib inline\n",
    "\n",
    "# Put this when it's called\n",
    "from sklearn.model_selection import train_test_split\n",
    "from sklearn.model_selection import learning_curve\n",
    "from sklearn.model_selection import validation_curve\n",
    "from sklearn.model_selection import cross_val_score\n",
    "from sklearn.linear_model import LogisticRegression"
   ]
  },
  {
   "cell_type": "markdown",
   "metadata": {
    "_cell_guid": "dd306186-a9b2-4e62-bf1a-a40535411212",
    "_uuid": "22332c7b42cc1783e12fbe1a0f957224181083e6"
   },
   "source": [
    "## Functions"
   ]
  },
  {
   "cell_type": "code",
   "execution_count": 4,
   "metadata": {
    "_cell_guid": "7d098a03-2b97-41ce-9bea-eb7973830021",
    "_uuid": "a59bd292c30d8d1847573f79a869c5df6b4bca55",
    "collapsed": true
   },
   "outputs": [],
   "source": [
    "# Create table for missing data analysis\n",
    "def draw_missing_data_table(df):\n",
    "    total = df.isnull().sum().sort_values(ascending=False)\n",
    "    percent = (df.isnull().sum()/df.isnull().count()).sort_values(ascending=False)\n",
    "    missing_data = pd.concat([total, percent], axis=1, keys=['Total', 'Percent'])\n",
    "    return missing_data"
   ]
  },
  {
   "cell_type": "code",
   "execution_count": 5,
   "metadata": {
    "_cell_guid": "842d0491-6d3b-4269-ad14-669af85e7b35",
    "_uuid": "2a8bbef09541ed931997ab12fe511832d20d788e",
    "collapsed": true
   },
   "outputs": [],
   "source": [
    "# Plot learning curve\n",
    "def plot_learning_curve(estimator, title, X, y, ylim=None, cv=None,\n",
    "                        n_jobs=1, train_sizes=np.linspace(.1, 1.0, 5)):\n",
    "    plt.figure()\n",
    "    plt.title(title)\n",
    "    if ylim is not None:\n",
    "        plt.ylim(*ylim)\n",
    "    plt.xlabel(\"Training examples\")\n",
    "    plt.ylabel(\"Score\")\n",
    "    train_sizes, train_scores, test_scores = learning_curve(\n",
    "        estimator, X, y, cv=cv, n_jobs=n_jobs, train_sizes=train_sizes)\n",
    "    train_scores_mean = np.mean(train_scores, axis=1)\n",
    "    train_scores_std = np.std(train_scores, axis=1)\n",
    "    test_scores_mean = np.mean(test_scores, axis=1)\n",
    "    test_scores_std = np.std(test_scores, axis=1)\n",
    "    plt.grid()\n",
    "\n",
    "    plt.fill_between(train_sizes, train_scores_mean - train_scores_std,\n",
    "                     train_scores_mean + train_scores_std, alpha=0.1,\n",
    "                     color=\"r\")\n",
    "    plt.fill_between(train_sizes, test_scores_mean - test_scores_std,\n",
    "                     test_scores_mean + test_scores_std, alpha=0.1, color=\"g\")\n",
    "    plt.plot(train_sizes, train_scores_mean, 'o-', color=\"r\",\n",
    "             label=\"Training score\")\n",
    "    plt.plot(train_sizes, test_scores_mean, 'o-', color=\"g\",\n",
    "             label=\"Validation score\")\n",
    "\n",
    "    plt.legend(loc=\"best\")\n",
    "    return plt"
   ]
  },
  {
   "cell_type": "code",
   "execution_count": 6,
   "metadata": {
    "_cell_guid": "f03c3d33-d71f-41f5-909e-e35f3b18b2de",
    "_uuid": "605f7f90ae0f19cc61fb2f46846a483983f63ebf",
    "collapsed": true
   },
   "outputs": [],
   "source": [
    "# Plot validation curve\n",
    "def plot_validation_curve(estimator, title, X, y, param_name, param_range, ylim=None, cv=None,\n",
    "                        n_jobs=1, train_sizes=np.linspace(.1, 1.0, 5)):\n",
    "    train_scores, test_scores = validation_curve(estimator, X, y, param_name, param_range, cv)\n",
    "    train_mean = np.mean(train_scores, axis=1)\n",
    "    train_std = np.std(train_scores, axis=1)\n",
    "    test_mean = np.mean(test_scores, axis=1)\n",
    "    test_std = np.std(test_scores, axis=1)\n",
    "    plt.plot(param_range, train_mean, color='r', marker='o', markersize=5, label='Training score')\n",
    "    plt.fill_between(param_range, train_mean + train_std, train_mean - train_std, alpha=0.15, color='r')\n",
    "    plt.plot(param_range, test_mean, color='g', linestyle='--', marker='s', markersize=5, label='Validation score')\n",
    "    plt.fill_between(param_range, test_mean + test_std, test_mean - test_std, alpha=0.15, color='g')\n",
    "    plt.grid() \n",
    "    plt.xscale('log')\n",
    "    plt.legend(loc='best') \n",
    "    plt.xlabel('Parameter') \n",
    "    plt.ylabel('Score') \n",
    "    plt.ylim(ylim)"
   ]
  },
  {
   "cell_type": "markdown",
   "metadata": {
    "_cell_guid": "7cd18981-748d-4a44-862e-d012970223ff",
    "_uuid": "59a9cb76453cd6b6b73710b1285342209906226f"
   },
   "source": [
    "---"
   ]
  },
  {
   "cell_type": "markdown",
   "metadata": {},
   "source": [
    "### Data prep"
   ]
  },
  {
   "cell_type": "code",
   "execution_count": 14,
   "metadata": {
    "_cell_guid": "5af9f619-5892-45b7-a75b-8402db274527",
    "_uuid": "f54e57ad0a4c79f81b5c8049ae3a54d82d6b71d4",
    "collapsed": true
   },
   "outputs": [],
   "source": [
    "# Import data\n",
    "df = pd.read_csv('../input/train.csv')\n",
    "df_raw = df.copy()  # Save original data set, just in case.\n",
    "\n",
    "# Drop Cabin\n",
    "df.drop('Cabin', axis=1, inplace=True)\n",
    "\n",
    "# Fill missing values in Age with a specific value\n",
    "value = 1000\n",
    "df['Age'].fillna(1000, inplace=True)\n",
    "\n",
    "# Delete observations without Embarked\n",
    "df.drop(df[pd.isnull(df['Embarked'])].index, inplace=True)  # Get index of points where Embarked is null\n",
    "\n",
    "# Drop PassengerId\n",
    "df.drop('PassengerId', axis=1, inplace=True)\n",
    "\n",
    "# Define categorical variables\n",
    "df['Sex'] = pd.Categorical(df['Sex'])\n",
    "df['Embarked'] = pd.Categorical(df['Embarked'])\n",
    "\n",
    "# Create Family feature\n",
    "df['FamilySize'] = df['SibSp'] + df['Parch']\n",
    "\n",
    "# Drop SibSp and Parch\n",
    "df.drop('SibSp',axis=1,inplace=True)\n",
    "df.drop('Parch',axis=1,inplace=True)\n",
    "\n",
    "# Drop Name and Ticket\n",
    "df.drop('Name', axis=1, inplace=True)\n",
    "df.drop('Ticket', axis=1, inplace=True)\n",
    "\n",
    "# Transform categorical variables into dummy variables\n",
    "df = pd.get_dummies(df, drop_first=True)  # To avoid dummy trap"
   ]
  },
  {
   "cell_type": "markdown",
   "metadata": {
    "_cell_guid": "28752da9-accf-46e4-bc07-5fb57ab817da",
    "_uuid": "820ab4de5c972fef9f78a098be7262d2d75fc698"
   },
   "source": [
    "Extra: [What is the 'dummy variable trap'?](http://www.algosome.com/articles/dummy-variable-trap-regression.html)"
   ]
  },
  {
   "cell_type": "markdown",
   "metadata": {},
   "source": [
    "### Test/Train split"
   ]
  },
  {
   "cell_type": "code",
   "execution_count": 17,
   "metadata": {
    "_cell_guid": "97de3798-60bb-4abe-93b5-a35251f078c1",
    "_uuid": "fa31f4467d79d93602f93edd36699c5ec9768c3b",
    "collapsed": true
   },
   "outputs": [],
   "source": [
    "# Create data set to train data imputation methods\n",
    "X = df[df.loc[:, df.columns != 'Survived'].columns]\n",
    "y = df['Survived']\n",
    "X_train, X_test, y_train, y_test = train_test_split(X, y, test_size=.2, random_state=1)"
   ]
  },
  {
   "cell_type": "markdown",
   "metadata": {},
   "source": [
    "### Model"
   ]
  },
  {
   "cell_type": "code",
   "execution_count": 60,
   "metadata": {
    "_cell_guid": "69b509c9-03e2-424a-808f-9e9f28ff46af",
    "_uuid": "37f0fb6f93fa855b8bcb34025709d0e9a1840dee",
    "collapsed": true
   },
   "outputs": [
    {
     "data": {
      "text/plain": [
       "LogisticRegression(C=1.0, class_weight=None, dual=False, fit_intercept=True,\n",
       "                   intercept_scaling=1, l1_ratio=None, max_iter=500,\n",
       "                   multi_class='auto', n_jobs=None, penalty='l2',\n",
       "                   random_state=None, solver='lbfgs', tol=0.0001, verbose=0,\n",
       "                   warm_start=False)"
      ]
     },
     "execution_count": 60,
     "metadata": {},
     "output_type": "execute_result"
    }
   ],
   "source": [
    "# Fit logistic regression\n",
    "logreg = LogisticRegression(max_iter=500, tol=0.0001)\n",
    "logreg.fit(X_train, y_train)"
   ]
  },
  {
   "cell_type": "markdown",
   "metadata": {
    "_cell_guid": "b6a4b442-19e5-4e2f-a986-aa797c2341c7",
    "_uuid": "1626cc74ca408a382afe58dcaf278922820ef493"
   },
   "source": [
    "### 1.4.3.  Assessing model performance: Learning and Validation curves"
   ]
  },
  {
   "cell_type": "code",
   "execution_count": 61,
   "metadata": {
    "_cell_guid": "76111680-eafc-4972-be4c-68457e350b3f",
    "_uuid": "e43d1cca08c5022f8319aa5f4f48347d0e3ea1c6",
    "collapsed": true
   },
   "outputs": [
    {
     "name": "stdout",
     "output_type": "stream",
     "text": [
      "CV accuracy: 0.786 +/- 0.031\n"
     ]
    }
   ],
   "source": [
    "# Model performance\n",
    "scores = cross_val_score(logreg, X_train, y_train, cv=10)\n",
    "print('CV accuracy: %.3f +/- %.3f' % (np.mean(scores), np.std(scores)))"
   ]
  },
  {
   "cell_type": "code",
   "execution_count": 62,
   "metadata": {
    "_cell_guid": "b5a87776-c04a-43bd-a2f4-b600f444308e",
    "_uuid": "a7aefbeb3b1f7fc687bdd15dd222e30e9bb44831",
    "collapsed": true
   },
   "outputs": [
    {
     "data": {
      "image/png": "[encoded data removed]",
      "text/plain": [
       "<Figure size 432x288 with 1 Axes>"
      ]
     },
     "metadata": {
      "needs_background": "light"
     },
     "output_type": "display_data"
    }
   ],
   "source": [
    "# Plot learning curves\n",
    "title = \"Learning Curves (Logistic Regression)\"\n",
    "cv = 10\n",
    "plot_learning_curve(logreg, title, X_train, y_train, ylim=(0.7, 1.01), cv=cv, n_jobs=1);"
   ]
  },
  {
   "cell_type": "markdown",
   "metadata": {},
   "source": [
    "* **overfitting**, model fits the training set, but not the validation set. \n",
    "    * furthermore, the model is not able to generalize to unseen data. \n",
    "    * Troubleshoot: \n",
    "        * reduce the complexity\n",
    "        * collect more data.\n",
    "* **underfitting**, model fits neither training nor validations sets. \n",
    "    * Troubleshoot: \n",
    "        * Improve the model (e.g., tune hyperparameters) \n",
    "        * Improve the data quality (e.g., change features).\n",
    "        * **note** more data is not helpful, since training doesn't work!"
   ]
  },
  {
   "cell_type": "markdown",
   "metadata": {
    "_cell_guid": "a541f404-488e-4769-b1d2-a1472b681c82",
    "_uuid": "0a8ef3e423e47618342e29893f10702b8c550924"
   },
   "source": [
    "**Learning curves** help diagnose these problems\n",
    "* **overfitting**: the learning curve shows a gap between the training and validation scores.     \n",
    "* **underfitting**: the learning curves will converge to a low score value. "
   ]
  },
  {
   "cell_type": "markdown",
   "metadata": {
    "_cell_guid": "a541f404-488e-4769-b1d2-a1472b681c82",
    "_uuid": "0a8ef3e423e47618342e29893f10702b8c550924"
   },
   "source": [
    "Discussion of our results:\n",
    "* The model doesn't overfit. As we can see, the curves converge and no gap between the training and the validation score exists in the last points of the curve.\n",
    "* The model underfits. Our final score is about 0.786. Although our model does better predictions than a [flip-a-coin strategy](https://en.wikipedia.org/wiki/Flipism), it is still far from being an 'intelligent' model. For now, it's just an 'artificial' model."
   ]
  },
  {
   "cell_type": "code",
   "execution_count": 63,
   "metadata": {
    "_cell_guid": "4fa2c196-3f31-4cbd-894a-de53df3b3962",
    "_uuid": "2ef627a383f08b6eed66a8b5371e1c92e4b1a1d5",
    "collapsed": true
   },
   "outputs": [
    {
     "data": {
      "image/png": "[encoded data removed]",
      "text/plain": [
       "<Figure size 432x288 with 1 Axes>"
      ]
     },
     "metadata": {
      "needs_background": "light"
     },
     "output_type": "display_data"
    }
   ],
   "source": [
    "# Plot validation curve\n",
    "title = 'Validation Curve (Logistic Regression)'\n",
    "param_name = 'C'\n",
    "param_range = [0.001, 0.01, 0.1, 1.0, 10.0, 100.0] \n",
    "cv = 10\n",
    "plot_validation_curve(estimator=logreg, title=title, X=X_train, y=y_train, param_name=param_name,\n",
    "                      ylim=(0.5, 1.01), param_range=param_range);"
   ]
  },
  {
   "cell_type": "markdown",
   "metadata": {
    "_cell_guid": "f562059d-80d6-4930-8983-fd6c44534c64",
    "_uuid": "c666b2a4b6bbe7a8f130ed54c984069e2f218303"
   },
   "source": [
    "**Validation curves** help the performance of our model by tuning the hyperparameters.\n",
    "* see how the **model parameter** affects the training and validation scores. \n",
    "    * choose a different parameter value to improve the model.\n",
    "* a gap between the training and validation scores suggests **overfitting**\n",
    "* no gap but low score suggests **underfitting**"
   ]
  },
  {
   "cell_type": "markdown",
   "metadata": {
    "_cell_guid": "f562059d-80d6-4930-8983-fd6c44534c64",
    "_uuid": "c666b2a4b6bbe7a8f130ed54c984069e2f218303"
   },
   "source": [
    "Discussion of our results:\n",
    "* The figure shows that there is no huge difference in model's performance as far as we choose a C value of $10^{-1}$ or higher. Note that in a logistic regression, C is the only model parameter that we can change [(see scikit-learn documentation)](http://scikit-learn.org/stable/modules/linear_model.html#logistic-regression). "
   ]
  }
 ],
 "metadata": {
  "kernelspec": {
   "display_name": "Python 3",
   "language": "python",
   "name": "python3"
  },
  "language_info": {
   "codemirror_mode": {
    "name": "ipython",
    "version": 3
   },
   "file_extension": ".py",
   "mimetype": "text/x-python",
   "name": "python",
   "nbconvert_exporter": "python",
   "pygments_lexer": "ipython3",
   "version": "3.6.8"
  }
 },
 "nbformat": 4,
 "nbformat_minor": 2
}
