{
 "cells": [
  {
   "cell_type": "code",
   "execution_count": 1,
   "metadata": {},
   "outputs": [
    {
     "data": {
      "text/html": [
       "<style>.container { width:100% !important; }</style>"
      ],
      "text/plain": [
       "<IPython.core.display.HTML object>"
      ]
     },
     "metadata": {},
     "output_type": "display_data"
    }
   ],
   "source": [
    "from IPython.core.display import display, HTML\n",
    "display(HTML(\"<style>.container { width:100% !important; }</style>\"))"
   ]
  },
  {
   "cell_type": "code",
   "execution_count": 2,
   "metadata": {},
   "outputs": [],
   "source": [
    "# This will reload imports before executing code, allowing you to easily change contents of custom scripts\n",
    "%load_ext autoreload\n",
    "%autoreload 2"
   ]
  },
  {
   "cell_type": "markdown",
   "metadata": {},
   "source": [
    "<font size=6>\n",
    "    Correlation study\n",
    "</font>"
   ]
  },
  {
   "cell_type": "code",
   "execution_count": 113,
   "metadata": {},
   "outputs": [],
   "source": [
    "def isHappy(n):\n",
    "    \"\"\"\n",
    "    :type n: int\n",
    "    :rtype: bool\n",
    "    \"\"\"\n",
    "\n",
    "    func = lambda digits: sum(map(lambda x: x**2, digits))\n",
    "\n",
    "    test = n\n",
    "    happy = True\n",
    "    saved = []\n",
    "    while happy:\n",
    "\n",
    "        digits = [int(d) for d in str(test)]\n",
    "        test = func(digits)\n",
    "        print(test)\n",
    "        if test == 1:\n",
    "            happy = False\n",
    "            return True\n",
    "\n",
    "        elif test in saved:\n",
    "            return False\n",
    "        else:\n",
    "            saved.append(test)"
   ]
  },
  {
   "cell_type": "code",
   "execution_count": 116,
   "metadata": {},
   "outputs": [
    {
     "name": "stdout",
     "output_type": "stream",
     "text": [
      "65\n",
      "61\n",
      "37\n",
      "58\n",
      "89\n",
      "145\n",
      "42\n",
      "20\n",
      "4\n",
      "16\n",
      "37\n"
     ]
    },
    {
     "data": {
      "text/plain": [
       "False"
      ]
     },
     "execution_count": 116,
     "metadata": {},
     "output_type": "execute_result"
    }
   ],
   "source": [
    "isHappy(18)"
   ]
  },
  {
   "cell_type": "code",
   "execution_count": null,
   "metadata": {},
   "outputs": [],
   "source": []
  },
  {
   "cell_type": "code",
   "execution_count": null,
   "metadata": {},
   "outputs": [],
   "source": []
  },
  {
   "cell_type": "markdown",
   "metadata": {},
   "source": [
    "<font color='black' size=5>\n",
    "Summary\n",
    "</font>\n",
    "\n",
    "**Goal** drop the highly correlated features but keep a replacement which retains much of the information\n",
    "\n",
    "**ToDo**\n",
    "\n",
    "1. ~~Check the plots with the other methods~~\n",
    "    * show that they drop too much $\\to$ seem to drop right amount\n",
    "        * what they keep is not as well-correlated with the targ as what they drop\n",
    "2. New method replaces features with others which don't have above thresh. corr.\n",
    "    * this happens indirectly: A -> B -> C but corr(A,C) < thresh.\n",
    "    * **check** if this happens in real data\n",
    "    * poss. soln.: keep track of who replaces who: \n",
    "        * if the replacer of a replacer has a lower correlation with the replacee\n",
    "            * e.g. \n",
    "                1. corr(A,B) > thresh, corr(A,T) < corr(B,T) $\\to$ replace A with B\n",
    "                2. corr(B,C) > thresh, corr(B,T) < corr(C,T) $\\to$ replace B with C\n",
    "                3. implies C replaces A, but corr(A,C) < thresh $\\to$ keep B\n",
    "            \n",
    "        \n",
    "    \n",
    "For each dropped col, \n",
    "1. check whether it's in the replacements for other cols\n",
    "    * if so, don't drop\n",
    "2. check it's replacements\n",
    "    * drop the col with the lesser correlation with the target feature\n",
    "    \n",
    "Examples:\n",
    "1. one col has one replacer\n",
    "    * the col is not in the replacements set\n",
    "    * the replacer only shows up once in the replacements set\n",
    "    * get the column associated with min(col.corr(targ), replacer.corr(targ))\n",
    "\n",
    "\n",
    "<hr style=\"border: solid rgb(0,0,0) 0.0px; background-color: rgb(0,0,0);height: 2.0px;\"/>"
   ]
  },
  {
   "cell_type": "code",
   "execution_count": 3,
   "metadata": {},
   "outputs": [],
   "source": [
    "import pandas as pd\n",
    "import numpy as np"
   ]
  },
  {
   "cell_type": "code",
   "execution_count": 4,
   "metadata": {},
   "outputs": [],
   "source": [
    "%matplotlib inline\n",
    "import matplotlib.pyplot as plt\n",
    "import seaborn as sns\n",
    "import random\n",
    "colors = [plt.cm.Spectral(each)\n",
    "          for each in np.linspace(0, 1, 20)]\n",
    "random.shuffle(colors)"
   ]
  },
  {
   "cell_type": "markdown",
   "metadata": {},
   "source": [
    "# Data prep"
   ]
  },
  {
   "cell_type": "markdown",
   "metadata": {},
   "source": [
    "## Create rand. correlation matrix"
   ]
  },
  {
   "cell_type": "code",
   "execution_count": 6,
   "metadata": {},
   "outputs": [],
   "source": [
    "corr_matrix = np.abs(np.random.normal(loc=0.8,scale=0.24, size=[20,20])%1.05)\n",
    "\n",
    "corr_matrix = np.clip(0,1, corr_matrix)\n",
    "np.fill_diagonal(corr_matrix,1)\n",
    "corr_matrix = (corr_matrix + corr_matrix.T)/2\n",
    "\n",
    "cols = list(map(str, range(1,21)))\n",
    "df_corr = pd.DataFrame(data=corr_matrix, index=cols, columns=cols)"
   ]
  },
  {
   "cell_type": "code",
   "execution_count": 7,
   "metadata": {},
   "outputs": [],
   "source": [
    "# add some values to see what happens\n",
    "df_corr.loc['1','5'] = 1.0\n",
    "df_corr.loc['5','1'] = 1.0"
   ]
  },
  {
   "cell_type": "markdown",
   "metadata": {},
   "source": [
    "### Get the correlations with the target variable"
   ]
  },
  {
   "cell_type": "code",
   "execution_count": 8,
   "metadata": {},
   "outputs": [],
   "source": [
    "targ_corr = np.abs(np.random.normal(loc=0.4,scale=0.24, size=[20,1])%1.01)\n",
    "np.clip(0,1, targ_corr);\n",
    "#df_targ_corr = pd.DataFrame(data=targ_corr.T, index=['targ'], columns=cols)"
   ]
  },
  {
   "cell_type": "code",
   "execution_count": 9,
   "metadata": {},
   "outputs": [],
   "source": [
    "df_corr.loc['targ',     :] = targ_corr.reshape(1,-1)\n",
    "df_corr.loc[   :-1,'targ'] = targ_corr.reshape(1,-1)\n",
    "df_corr.loc['targ','targ'] = 1.0"
   ]
  },
  {
   "cell_type": "code",
   "execution_count": 10,
   "metadata": {},
   "outputs": [
    {
     "data": {
      "text/html": [
       "<div>\n",
       "<style scoped>\n",
       "    .dataframe tbody tr th:only-of-type {\n",
       "        vertical-align: middle;\n",
       "    }\n",
       "\n",
       "    .dataframe tbody tr th {\n",
       "        vertical-align: top;\n",
       "    }\n",
       "\n",
       "    .dataframe thead th {\n",
       "        text-align: right;\n",
       "    }\n",
       "</style>\n",
       "<table border=\"1\" class=\"dataframe\">\n",
       "  <thead>\n",
       "    <tr style=\"text-align: right;\">\n",
       "      <th></th>\n",
       "      <th>1</th>\n",
       "      <th>2</th>\n",
       "      <th>3</th>\n",
       "      <th>4</th>\n",
       "      <th>5</th>\n",
       "      <th>6</th>\n",
       "      <th>7</th>\n",
       "      <th>8</th>\n",
       "      <th>9</th>\n",
       "      <th>10</th>\n",
       "      <th>...</th>\n",
       "      <th>12</th>\n",
       "      <th>13</th>\n",
       "      <th>14</th>\n",
       "      <th>15</th>\n",
       "      <th>16</th>\n",
       "      <th>17</th>\n",
       "      <th>18</th>\n",
       "      <th>19</th>\n",
       "      <th>20</th>\n",
       "      <th>targ</th>\n",
       "    </tr>\n",
       "  </thead>\n",
       "  <tbody>\n",
       "    <tr>\n",
       "      <th>1</th>\n",
       "      <td>1.000000</td>\n",
       "      <td>0.771903</td>\n",
       "      <td>0.443250</td>\n",
       "      <td>0.841437</td>\n",
       "      <td>1.000000</td>\n",
       "      <td>0.757192</td>\n",
       "      <td>0.264758</td>\n",
       "      <td>0.413617</td>\n",
       "      <td>0.449674</td>\n",
       "      <td>1.015564</td>\n",
       "      <td>...</td>\n",
       "      <td>0.606636</td>\n",
       "      <td>0.403672</td>\n",
       "      <td>0.517755</td>\n",
       "      <td>0.577687</td>\n",
       "      <td>0.332189</td>\n",
       "      <td>0.768724</td>\n",
       "      <td>1.002443</td>\n",
       "      <td>0.622409</td>\n",
       "      <td>0.657391</td>\n",
       "      <td>0.258809</td>\n",
       "    </tr>\n",
       "    <tr>\n",
       "      <th>2</th>\n",
       "      <td>0.771903</td>\n",
       "      <td>1.000000</td>\n",
       "      <td>0.584402</td>\n",
       "      <td>0.921592</td>\n",
       "      <td>0.496246</td>\n",
       "      <td>0.882670</td>\n",
       "      <td>0.956020</td>\n",
       "      <td>0.740453</td>\n",
       "      <td>0.756988</td>\n",
       "      <td>0.603241</td>\n",
       "      <td>...</td>\n",
       "      <td>0.482245</td>\n",
       "      <td>0.639608</td>\n",
       "      <td>0.596513</td>\n",
       "      <td>0.471389</td>\n",
       "      <td>0.947422</td>\n",
       "      <td>0.413342</td>\n",
       "      <td>0.738745</td>\n",
       "      <td>0.778928</td>\n",
       "      <td>0.669935</td>\n",
       "      <td>0.895113</td>\n",
       "    </tr>\n",
       "    <tr>\n",
       "      <th>3</th>\n",
       "      <td>0.443250</td>\n",
       "      <td>0.584402</td>\n",
       "      <td>1.000000</td>\n",
       "      <td>0.541353</td>\n",
       "      <td>0.707891</td>\n",
       "      <td>0.570968</td>\n",
       "      <td>0.725360</td>\n",
       "      <td>0.626490</td>\n",
       "      <td>0.299993</td>\n",
       "      <td>0.688497</td>\n",
       "      <td>...</td>\n",
       "      <td>0.858838</td>\n",
       "      <td>0.078188</td>\n",
       "      <td>0.120635</td>\n",
       "      <td>0.964531</td>\n",
       "      <td>0.422826</td>\n",
       "      <td>0.631109</td>\n",
       "      <td>0.670422</td>\n",
       "      <td>0.529143</td>\n",
       "      <td>0.595843</td>\n",
       "      <td>0.694223</td>\n",
       "    </tr>\n",
       "    <tr>\n",
       "      <th>4</th>\n",
       "      <td>0.841437</td>\n",
       "      <td>0.921592</td>\n",
       "      <td>0.541353</td>\n",
       "      <td>1.000000</td>\n",
       "      <td>0.337890</td>\n",
       "      <td>0.813617</td>\n",
       "      <td>0.594927</td>\n",
       "      <td>0.895055</td>\n",
       "      <td>0.805670</td>\n",
       "      <td>0.594029</td>\n",
       "      <td>...</td>\n",
       "      <td>0.802232</td>\n",
       "      <td>0.437651</td>\n",
       "      <td>0.675937</td>\n",
       "      <td>0.343855</td>\n",
       "      <td>0.919045</td>\n",
       "      <td>0.558661</td>\n",
       "      <td>0.918082</td>\n",
       "      <td>0.926118</td>\n",
       "      <td>0.907533</td>\n",
       "      <td>0.314955</td>\n",
       "    </tr>\n",
       "    <tr>\n",
       "      <th>5</th>\n",
       "      <td>1.000000</td>\n",
       "      <td>0.496246</td>\n",
       "      <td>0.707891</td>\n",
       "      <td>0.337890</td>\n",
       "      <td>1.000000</td>\n",
       "      <td>0.760236</td>\n",
       "      <td>0.800168</td>\n",
       "      <td>0.886603</td>\n",
       "      <td>0.843250</td>\n",
       "      <td>0.801613</td>\n",
       "      <td>...</td>\n",
       "      <td>0.814567</td>\n",
       "      <td>0.579576</td>\n",
       "      <td>0.963986</td>\n",
       "      <td>0.538964</td>\n",
       "      <td>0.880245</td>\n",
       "      <td>0.813833</td>\n",
       "      <td>0.431148</td>\n",
       "      <td>0.561178</td>\n",
       "      <td>0.686070</td>\n",
       "      <td>0.415789</td>\n",
       "    </tr>\n",
       "  </tbody>\n",
       "</table>\n",
       "<p>5 rows × 21 columns</p>\n",
       "</div>"
      ],
      "text/plain": [
       "          1         2         3         4         5         6         7  \\\n",
       "1  1.000000  0.771903  0.443250  0.841437  1.000000  0.757192  0.264758   \n",
       "2  0.771903  1.000000  0.584402  0.921592  0.496246  0.882670  0.956020   \n",
       "3  0.443250  0.584402  1.000000  0.541353  0.707891  0.570968  0.725360   \n",
       "4  0.841437  0.921592  0.541353  1.000000  0.337890  0.813617  0.594927   \n",
       "5  1.000000  0.496246  0.707891  0.337890  1.000000  0.760236  0.800168   \n",
       "\n",
       "          8         9        10  ...        12        13        14        15  \\\n",
       "1  0.413617  0.449674  1.015564  ...  0.606636  0.403672  0.517755  0.577687   \n",
       "2  0.740453  0.756988  0.603241  ...  0.482245  0.639608  0.596513  0.471389   \n",
       "3  0.626490  0.299993  0.688497  ...  0.858838  0.078188  0.120635  0.964531   \n",
       "4  0.895055  0.805670  0.594029  ...  0.802232  0.437651  0.675937  0.343855   \n",
       "5  0.886603  0.843250  0.801613  ...  0.814567  0.579576  0.963986  0.538964   \n",
       "\n",
       "         16        17        18        19        20      targ  \n",
       "1  0.332189  0.768724  1.002443  0.622409  0.657391  0.258809  \n",
       "2  0.947422  0.413342  0.738745  0.778928  0.669935  0.895113  \n",
       "3  0.422826  0.631109  0.670422  0.529143  0.595843  0.694223  \n",
       "4  0.919045  0.558661  0.918082  0.926118  0.907533  0.314955  \n",
       "5  0.880245  0.813833  0.431148  0.561178  0.686070  0.415789  \n",
       "\n",
       "[5 rows x 21 columns]"
      ]
     },
     "execution_count": 10,
     "metadata": {},
     "output_type": "execute_result"
    }
   ],
   "source": [
    "df_corr.head()"
   ]
  },
  {
   "cell_type": "markdown",
   "metadata": {},
   "source": [
    "### Plots"
   ]
  },
  {
   "cell_type": "code",
   "execution_count": 11,
   "metadata": {},
   "outputs": [],
   "source": [
    "threshold = 0.9"
   ]
  },
  {
   "cell_type": "code",
   "execution_count": 12,
   "metadata": {},
   "outputs": [
    {
     "data": {
      "image/png": "[encoded data removed]",
      "text/plain": [
       "<Figure size 1152x576 with 4 Axes>"
      ]
     },
     "metadata": {
      "needs_background": "light"
     },
     "output_type": "display_data"
    }
   ],
   "source": [
    "fig, ax = plt.subplots(1,2, figsize=(16,8))\n",
    "ax = ax.reshape(2)\n",
    "\n",
    "df_upper = df_corr.where(np.triu(np.ones(df_corr.shape), k=1).astype(np.bool))\n",
    "sns.heatmap(df_upper, cmap=\"RdBu\", vmin=0,  vmax=1., square=True, cbar_kws={\"shrink\": .7}, ax=ax[0]);\n",
    "\n",
    "sns.heatmap(df_corr.where(df_corr > threshold), cmap=\"RdBu\", vmin=0,  vmax=1., square=True, cbar_kws={\"shrink\": .7}, ax=ax[1]);\n",
    "\n",
    "plt.title(f'Corr. matrix');"
   ]
  },
  {
   "cell_type": "markdown",
   "metadata": {},
   "source": [
    "<hr style=\"border: solid rgb(0,0,0) 0.0px; background-color: rgb(0,0,0);height: 2.0px;\"/>"
   ]
  },
  {
   "cell_type": "markdown",
   "metadata": {},
   "source": [
    "# Drop features\n",
    "## Get the corr. matrix into a skinny form with two cols and a value column"
   ]
  },
  {
   "cell_type": "code",
   "execution_count": 13,
   "metadata": {},
   "outputs": [],
   "source": [
    "from helpers.correlation_feature_drop import get_correlation_pairs, get_dropped_columns_while, get_dropped_columns"
   ]
  },
  {
   "cell_type": "code",
   "execution_count": 97,
   "metadata": {},
   "outputs": [
    {
     "data": {
      "text/html": [
       "<div>\n",
       "<style scoped>\n",
       "    .dataframe tbody tr th:only-of-type {\n",
       "        vertical-align: middle;\n",
       "    }\n",
       "\n",
       "    .dataframe tbody tr th {\n",
       "        vertical-align: top;\n",
       "    }\n",
       "\n",
       "    .dataframe thead th {\n",
       "        text-align: right;\n",
       "    }\n",
       "</style>\n",
       "<table border=\"1\" class=\"dataframe\">\n",
       "  <thead>\n",
       "    <tr style=\"text-align: right;\">\n",
       "      <th></th>\n",
       "      <th>col1</th>\n",
       "      <th>col2</th>\n",
       "      <th>corr</th>\n",
       "      <th>self</th>\n",
       "      <th>targ</th>\n",
       "    </tr>\n",
       "  </thead>\n",
       "  <tbody>\n",
       "    <tr>\n",
       "      <th>218</th>\n",
       "      <td>19</td>\n",
       "      <td>11</td>\n",
       "      <td>0.917396</td>\n",
       "      <td>True</td>\n",
       "      <td>0.561165</td>\n",
       "    </tr>\n",
       "    <tr>\n",
       "      <th>370</th>\n",
       "      <td>11</td>\n",
       "      <td>19</td>\n",
       "      <td>0.917396</td>\n",
       "      <td>True</td>\n",
       "      <td>0.595890</td>\n",
       "    </tr>\n",
       "  </tbody>\n",
       "</table>\n",
       "</div>"
      ],
      "text/plain": [
       "    col1 col2      corr  self      targ\n",
       "218   19   11  0.917396  True  0.561165\n",
       "370   11   19  0.917396  True  0.595890"
      ]
     },
     "execution_count": 97,
     "metadata": {},
     "output_type": "execute_result"
    }
   ],
   "source": [
    "test_list = ['11','19']\n",
    "df_cpairs[\n",
    "          ((df_cpairs['col1'].isin([test_list[0]])) &  \\\n",
    "            df_cpairs['col2'].isin([test_list[1]])) | \\\n",
    "          ((df_cpairs['col1'].isin([test_list[1]])) & \\\n",
    "            df_cpairs['col2'].isin([test_list[0]]))    \n",
    "          ] "
   ]
  },
  {
   "cell_type": "code",
   "execution_count": 14,
   "metadata": {
    "scrolled": false
   },
   "outputs": [
    {
     "name": "stdout",
     "output_type": "stream",
     "text": [
      "Index(['col1', 'col2', 'corr'], dtype='object')\n",
      "Index(['col1', 'col2', 'corr', 'self', 'targ'], dtype='object')\n",
      "Incoming: 20\n",
      "Retain: 17\n"
     ]
    },
    {
     "data": {
      "text/html": [
       "<div>\n",
       "<style scoped>\n",
       "    .dataframe tbody tr th:only-of-type {\n",
       "        vertical-align: middle;\n",
       "    }\n",
       "\n",
       "    .dataframe tbody tr th {\n",
       "        vertical-align: top;\n",
       "    }\n",
       "\n",
       "    .dataframe thead th {\n",
       "        text-align: right;\n",
       "    }\n",
       "</style>\n",
       "<table border=\"1\" class=\"dataframe\">\n",
       "  <thead>\n",
       "    <tr style=\"text-align: right;\">\n",
       "      <th></th>\n",
       "      <th>col1</th>\n",
       "      <th>col2</th>\n",
       "      <th>targ</th>\n",
       "    </tr>\n",
       "  </thead>\n",
       "  <tbody>\n",
       "    <tr>\n",
       "      <th>0</th>\n",
       "      <td>1</td>\n",
       "      <td>[1, 5, 10, 18]</td>\n",
       "      <td>[0.259, 0.416, 0.77, 0.704]</td>\n",
       "    </tr>\n",
       "    <tr>\n",
       "      <th>1</th>\n",
       "      <td>10</td>\n",
       "      <td>[1, 10, 16, 19]</td>\n",
       "      <td>[0.259, 0.77, 0.45, 0.596]</td>\n",
       "    </tr>\n",
       "    <tr>\n",
       "      <th>2</th>\n",
       "      <td>11</td>\n",
       "      <td>[11, 14, 19]</td>\n",
       "      <td>[0.561, 0.312, 0.596]</td>\n",
       "    </tr>\n",
       "    <tr>\n",
       "      <th>3</th>\n",
       "      <td>12</td>\n",
       "      <td>[12, 20]</td>\n",
       "      <td>[0.806, 0.386]</td>\n",
       "    </tr>\n",
       "    <tr>\n",
       "      <th>4</th>\n",
       "      <td>14</td>\n",
       "      <td>[5, 9, 11, 14]</td>\n",
       "      <td>[0.416, 0.364, 0.561, 0.312]</td>\n",
       "    </tr>\n",
       "    <tr>\n",
       "      <th>5</th>\n",
       "      <td>15</td>\n",
       "      <td>[3, 7, 15]</td>\n",
       "      <td>[0.694, 0.655, 0.777]</td>\n",
       "    </tr>\n",
       "    <tr>\n",
       "      <th>6</th>\n",
       "      <td>16</td>\n",
       "      <td>[2, 4, 6, 10, 16]</td>\n",
       "      <td>[0.895, 0.315, 0.528, 0.77, 0.45]</td>\n",
       "    </tr>\n",
       "    <tr>\n",
       "      <th>7</th>\n",
       "      <td>18</td>\n",
       "      <td>[1, 4, 7, 18, 19]</td>\n",
       "      <td>[0.259, 0.315, 0.655, 0.704, 0.596]</td>\n",
       "    </tr>\n",
       "    <tr>\n",
       "      <th>8</th>\n",
       "      <td>19</td>\n",
       "      <td>[4, 10, 11, 18, 19]</td>\n",
       "      <td>[0.315, 0.77, 0.561, 0.704, 0.596]</td>\n",
       "    </tr>\n",
       "    <tr>\n",
       "      <th>9</th>\n",
       "      <td>2</td>\n",
       "      <td>[2, 4, 7, 16]</td>\n",
       "      <td>[0.895, 0.315, 0.655, 0.45]</td>\n",
       "    </tr>\n",
       "    <tr>\n",
       "      <th>10</th>\n",
       "      <td>20</td>\n",
       "      <td>[4, 12, 20]</td>\n",
       "      <td>[0.315, 0.806, 0.386]</td>\n",
       "    </tr>\n",
       "    <tr>\n",
       "      <th>11</th>\n",
       "      <td>3</td>\n",
       "      <td>[3, 15]</td>\n",
       "      <td>[0.694, 0.777]</td>\n",
       "    </tr>\n",
       "    <tr>\n",
       "      <th>12</th>\n",
       "      <td>4</td>\n",
       "      <td>[2, 4, 16, 18, 19, 20]</td>\n",
       "      <td>[0.895, 0.315, 0.45, 0.704, 0.596, 0.386]</td>\n",
       "    </tr>\n",
       "    <tr>\n",
       "      <th>13</th>\n",
       "      <td>5</td>\n",
       "      <td>[1, 5, 14]</td>\n",
       "      <td>[0.259, 0.416, 0.312]</td>\n",
       "    </tr>\n",
       "    <tr>\n",
       "      <th>14</th>\n",
       "      <td>6</td>\n",
       "      <td>[6, 7, 16]</td>\n",
       "      <td>[0.528, 0.655, 0.45]</td>\n",
       "    </tr>\n",
       "    <tr>\n",
       "      <th>15</th>\n",
       "      <td>7</td>\n",
       "      <td>[2, 6, 7, 15, 18]</td>\n",
       "      <td>[0.895, 0.528, 0.655, 0.777, 0.704]</td>\n",
       "    </tr>\n",
       "    <tr>\n",
       "      <th>16</th>\n",
       "      <td>9</td>\n",
       "      <td>[9, 14]</td>\n",
       "      <td>[0.364, 0.312]</td>\n",
       "    </tr>\n",
       "  </tbody>\n",
       "</table>\n",
       "</div>"
      ],
      "text/plain": [
       "   col1                    col2                                       targ\n",
       "0     1          [1, 5, 10, 18]                [0.259, 0.416, 0.77, 0.704]\n",
       "1    10         [1, 10, 16, 19]                 [0.259, 0.77, 0.45, 0.596]\n",
       "2    11            [11, 14, 19]                      [0.561, 0.312, 0.596]\n",
       "3    12                [12, 20]                             [0.806, 0.386]\n",
       "4    14          [5, 9, 11, 14]               [0.416, 0.364, 0.561, 0.312]\n",
       "5    15              [3, 7, 15]                      [0.694, 0.655, 0.777]\n",
       "6    16       [2, 4, 6, 10, 16]          [0.895, 0.315, 0.528, 0.77, 0.45]\n",
       "7    18       [1, 4, 7, 18, 19]        [0.259, 0.315, 0.655, 0.704, 0.596]\n",
       "8    19     [4, 10, 11, 18, 19]         [0.315, 0.77, 0.561, 0.704, 0.596]\n",
       "9     2           [2, 4, 7, 16]                [0.895, 0.315, 0.655, 0.45]\n",
       "10   20             [4, 12, 20]                      [0.315, 0.806, 0.386]\n",
       "11    3                 [3, 15]                             [0.694, 0.777]\n",
       "12    4  [2, 4, 16, 18, 19, 20]  [0.895, 0.315, 0.45, 0.704, 0.596, 0.386]\n",
       "13    5              [1, 5, 14]                      [0.259, 0.416, 0.312]\n",
       "14    6              [6, 7, 16]                       [0.528, 0.655, 0.45]\n",
       "15    7       [2, 6, 7, 15, 18]        [0.895, 0.528, 0.655, 0.777, 0.704]\n",
       "16    9                 [9, 14]                             [0.364, 0.312]"
      ]
     },
     "metadata": {},
     "output_type": "display_data"
    },
    {
     "name": "stdout",
     "output_type": "stream",
     "text": [
      "Features: ['1', '2', '3', '4', '5', '6', '7', '9', '10', '11', '12', '14', '15', '16', '18', '19', '20']\n",
      "Droppables: ['1', '3', '4', '6', '14', '16', '20']\n",
      "Replacements: ['2', '5', '7', '9', '10', '11', '12', '15', '18', '19']\n",
      "10 7\n",
      "Incoming: 10\n",
      "Retain: 7\n"
     ]
    },
    {
     "data": {
      "text/html": [
       "<div>\n",
       "<style scoped>\n",
       "    .dataframe tbody tr th:only-of-type {\n",
       "        vertical-align: middle;\n",
       "    }\n",
       "\n",
       "    .dataframe tbody tr th {\n",
       "        vertical-align: top;\n",
       "    }\n",
       "\n",
       "    .dataframe thead th {\n",
       "        text-align: right;\n",
       "    }\n",
       "</style>\n",
       "<table border=\"1\" class=\"dataframe\">\n",
       "  <thead>\n",
       "    <tr style=\"text-align: right;\">\n",
       "      <th></th>\n",
       "      <th>col1</th>\n",
       "      <th>col2</th>\n",
       "      <th>targ</th>\n",
       "    </tr>\n",
       "  </thead>\n",
       "  <tbody>\n",
       "    <tr>\n",
       "      <th>0</th>\n",
       "      <td>10</td>\n",
       "      <td>[10, 19]</td>\n",
       "      <td>[0.77, 0.596]</td>\n",
       "    </tr>\n",
       "    <tr>\n",
       "      <th>1</th>\n",
       "      <td>11</td>\n",
       "      <td>[11, 19]</td>\n",
       "      <td>[0.561, 0.596]</td>\n",
       "    </tr>\n",
       "    <tr>\n",
       "      <th>2</th>\n",
       "      <td>15</td>\n",
       "      <td>[7, 15]</td>\n",
       "      <td>[0.655, 0.777]</td>\n",
       "    </tr>\n",
       "    <tr>\n",
       "      <th>3</th>\n",
       "      <td>18</td>\n",
       "      <td>[7, 18, 19]</td>\n",
       "      <td>[0.655, 0.704, 0.596]</td>\n",
       "    </tr>\n",
       "    <tr>\n",
       "      <th>4</th>\n",
       "      <td>19</td>\n",
       "      <td>[10, 11, 18, 19]</td>\n",
       "      <td>[0.77, 0.561, 0.704, 0.596]</td>\n",
       "    </tr>\n",
       "    <tr>\n",
       "      <th>5</th>\n",
       "      <td>2</td>\n",
       "      <td>[2, 7]</td>\n",
       "      <td>[0.895, 0.655]</td>\n",
       "    </tr>\n",
       "    <tr>\n",
       "      <th>6</th>\n",
       "      <td>7</td>\n",
       "      <td>[2, 7, 15, 18]</td>\n",
       "      <td>[0.895, 0.655, 0.777, 0.704]</td>\n",
       "    </tr>\n",
       "  </tbody>\n",
       "</table>\n",
       "</div>"
      ],
      "text/plain": [
       "  col1              col2                          targ\n",
       "0   10          [10, 19]                 [0.77, 0.596]\n",
       "1   11          [11, 19]                [0.561, 0.596]\n",
       "2   15           [7, 15]                [0.655, 0.777]\n",
       "3   18       [7, 18, 19]         [0.655, 0.704, 0.596]\n",
       "4   19  [10, 11, 18, 19]   [0.77, 0.561, 0.704, 0.596]\n",
       "5    2            [2, 7]                [0.895, 0.655]\n",
       "6    7    [2, 7, 15, 18]  [0.895, 0.655, 0.777, 0.704]"
      ]
     },
     "metadata": {},
     "output_type": "display_data"
    },
    {
     "name": "stdout",
     "output_type": "stream",
     "text": [
      "Features: ['2', '7', '10', '11', '15', '18', '19']\n",
      "Droppables: ['7', '11']\n",
      "Replacements: ['2', '10', '15', '18', '19']\n",
      "5 2\n",
      "Incoming: 5\n",
      "Retain: 3\n"
     ]
    },
    {
     "data": {
      "text/html": [
       "<div>\n",
       "<style scoped>\n",
       "    .dataframe tbody tr th:only-of-type {\n",
       "        vertical-align: middle;\n",
       "    }\n",
       "\n",
       "    .dataframe tbody tr th {\n",
       "        vertical-align: top;\n",
       "    }\n",
       "\n",
       "    .dataframe thead th {\n",
       "        text-align: right;\n",
       "    }\n",
       "</style>\n",
       "<table border=\"1\" class=\"dataframe\">\n",
       "  <thead>\n",
       "    <tr style=\"text-align: right;\">\n",
       "      <th></th>\n",
       "      <th>col1</th>\n",
       "      <th>col2</th>\n",
       "      <th>targ</th>\n",
       "    </tr>\n",
       "  </thead>\n",
       "  <tbody>\n",
       "    <tr>\n",
       "      <th>0</th>\n",
       "      <td>10</td>\n",
       "      <td>[10, 19]</td>\n",
       "      <td>[0.77, 0.596]</td>\n",
       "    </tr>\n",
       "    <tr>\n",
       "      <th>1</th>\n",
       "      <td>18</td>\n",
       "      <td>[18, 19]</td>\n",
       "      <td>[0.704, 0.596]</td>\n",
       "    </tr>\n",
       "    <tr>\n",
       "      <th>2</th>\n",
       "      <td>19</td>\n",
       "      <td>[10, 18, 19]</td>\n",
       "      <td>[0.77, 0.704, 0.596]</td>\n",
       "    </tr>\n",
       "  </tbody>\n",
       "</table>\n",
       "</div>"
      ],
      "text/plain": [
       "  col1          col2                  targ\n",
       "0   10      [10, 19]         [0.77, 0.596]\n",
       "1   18      [18, 19]        [0.704, 0.596]\n",
       "2   19  [10, 18, 19]  [0.77, 0.704, 0.596]"
      ]
     },
     "metadata": {},
     "output_type": "display_data"
    },
    {
     "name": "stdout",
     "output_type": "stream",
     "text": [
      "Features: ['10', '18', '19']\n",
      "Droppables: ['19']\n",
      "Replacements: ['10', '18']\n",
      "2 1\n",
      "Incoming: 2\n",
      "Retain: 0\n",
      "0 0\n"
     ]
    }
   ],
   "source": [
    "feature_drop = get_dropped_columns(df_corr, 'targ', 0.9, True)"
   ]
  },
  {
   "cell_type": "markdown",
   "metadata": {},
   "source": [
    "## Plots"
   ]
  },
  {
   "cell_type": "code",
   "execution_count": 15,
   "metadata": {},
   "outputs": [
    {
     "data": {
      "image/png": "[encoded data removed]",
      "text/plain": [
       "<Figure size 1440x576 with 6 Axes>"
      ]
     },
     "metadata": {
      "needs_background": "light"
     },
     "output_type": "display_data"
    }
   ],
   "source": [
    "df_corr_na = df_corr.drop(index='targ', columns='targ').copy()\n",
    "\n",
    "df_corr_na.loc[feature_drop,:] = np.NaN\n",
    "df_corr_na.loc[:, feature_drop] = np.NaN\n",
    "\n",
    "\n",
    "df_corr_cp = df_corr.drop(index='targ', columns='targ').copy()\n",
    "\n",
    "df_upper = df_corr_na.where(np.triu(np.ones(df_corr_na.shape), k=1).astype(np.bool))\n",
    "\n",
    "fig, ax = plt.subplots(1,3, figsize=(20,8))\n",
    "ax = ax.reshape(3)\n",
    "\n",
    "sns.heatmap(df_corr_cp.where(df_corr_cp > threshold), cmap=\"viridis\", vmin=0,  vmax=1., square=True, cbar_kws={\"shrink\": .7}, ax=ax[0]);\n",
    "\n",
    "ax[0].set_title(f'features of high correlation');\n",
    "\n",
    "sns.heatmap(df_upper, cmap=\"viridis\", vmin=0,  vmax=1., square=True, cbar_kws={\"shrink\": .7}, ax=ax[1]);\n",
    "#sns.heatmap(df_corr.where(df_corr > 0.9), cmap=\"RdBu\", vmin=0,  vmax=1., square=True, cbar_kws={\"shrink\": .7}, ax=ax[1]);\n",
    "ax[1].set_title(f'remaining features of low correlation');\n",
    "\n",
    "sns.heatmap(df_corr_na.where(df_corr_na > threshold), cmap=\"viridis\", vmin=0,  vmax=1., square=True, cbar_kws={\"shrink\": .7}, ax=ax[2]);\n",
    "\n",
    "\n",
    "ax[2].set_title(f'remaining features of high correlation');"
   ]
  },
  {
   "cell_type": "markdown",
   "metadata": {},
   "source": [
    "<hr style=\"border: solid rgb(0,0,0) 0.0px; background-color: rgb(0,0,0);height: 2.0px;\"/>\n",
    "\n",
    "## Check other methods"
   ]
  },
  {
   "cell_type": "code",
   "execution_count": 16,
   "metadata": {},
   "outputs": [],
   "source": [
    "from helpers.correlation_feature_droppers import get_corr_feature_drop_1, get_corr_feature_drop_2, get_corr_feature_drop_3"
   ]
  },
  {
   "cell_type": "code",
   "execution_count": 17,
   "metadata": {},
   "outputs": [],
   "source": [
    "df_corr_clean = df_corr.drop(index='targ', columns='targ').copy()"
   ]
  },
  {
   "cell_type": "code",
   "execution_count": 18,
   "metadata": {},
   "outputs": [],
   "source": [
    "feature_drop_1 = get_corr_feature_drop_1(df_corr_clean, 0.90)"
   ]
  },
  {
   "cell_type": "code",
   "execution_count": 19,
   "metadata": {},
   "outputs": [],
   "source": [
    "feature_drop_2 = get_corr_feature_drop_2(df_corr_clean, 0.90)"
   ]
  },
  {
   "cell_type": "code",
   "execution_count": 20,
   "metadata": {},
   "outputs": [],
   "source": [
    "feature_drop_3 = get_corr_feature_drop_3(df_corr_clean, 0.90)"
   ]
  },
  {
   "cell_type": "code",
   "execution_count": 21,
   "metadata": {},
   "outputs": [
    {
     "name": "stdout",
     "output_type": "stream",
     "text": [
      "['1', '3', '4', '6', '7', '11', '14', '16', '19', '20']\n",
      "['4', '5', '7', '10', '14', '15', '16', '18', '19', '20']\n",
      "['4', '5', '7', '7', '10', '14', '14', '15', '16', '16', '18', '19', '20']\n",
      "['4', '5', '7', '10', '14', '15', '16', '18', '19', '20']\n"
     ]
    }
   ],
   "source": [
    "print(sorted(feature_drop, key=int))\n",
    "print(sorted(feature_drop_1, key=int))\n",
    "print(sorted(feature_drop_2, key=int))\n",
    "print(sorted(feature_drop_3, key=int))"
   ]
  },
  {
   "cell_type": "code",
   "execution_count": 22,
   "metadata": {},
   "outputs": [],
   "source": [
    "df_meth_eval = pd.DataFrame(data=20*[1], index=df_corr.columns[:-1], columns=['full'])"
   ]
  },
  {
   "cell_type": "code",
   "execution_count": 23,
   "metadata": {},
   "outputs": [],
   "source": [
    "df_meth_eval['drop'] =  1\n",
    "df_meth_eval.loc[feature_drop, 'drop'] = 0\n",
    "df_meth_eval['drop1'] =  1\n",
    "df_meth_eval.loc[feature_drop_1, 'drop1'] = 0\n",
    "df_meth_eval['drop2'] =  1\n",
    "df_meth_eval.loc[feature_drop_2, 'drop2'] = 0\n",
    "df_meth_eval['drop3'] =  1\n",
    "df_meth_eval.loc[feature_drop_3, 'drop3'] = 0"
   ]
  },
  {
   "cell_type": "code",
   "execution_count": 24,
   "metadata": {},
   "outputs": [
    {
     "data": {
      "text/html": [
       "<div>\n",
       "<style scoped>\n",
       "    .dataframe tbody tr th:only-of-type {\n",
       "        vertical-align: middle;\n",
       "    }\n",
       "\n",
       "    .dataframe tbody tr th {\n",
       "        vertical-align: top;\n",
       "    }\n",
       "\n",
       "    .dataframe thead th {\n",
       "        text-align: right;\n",
       "    }\n",
       "</style>\n",
       "<table border=\"1\" class=\"dataframe\">\n",
       "  <thead>\n",
       "    <tr style=\"text-align: right;\">\n",
       "      <th></th>\n",
       "      <th>full</th>\n",
       "      <th>drop</th>\n",
       "      <th>drop1</th>\n",
       "      <th>drop2</th>\n",
       "      <th>drop3</th>\n",
       "    </tr>\n",
       "  </thead>\n",
       "  <tbody>\n",
       "    <tr>\n",
       "      <th>1</th>\n",
       "      <td>1</td>\n",
       "      <td>0</td>\n",
       "      <td>1</td>\n",
       "      <td>1</td>\n",
       "      <td>1</td>\n",
       "    </tr>\n",
       "    <tr>\n",
       "      <th>2</th>\n",
       "      <td>1</td>\n",
       "      <td>1</td>\n",
       "      <td>1</td>\n",
       "      <td>1</td>\n",
       "      <td>1</td>\n",
       "    </tr>\n",
       "    <tr>\n",
       "      <th>3</th>\n",
       "      <td>1</td>\n",
       "      <td>0</td>\n",
       "      <td>1</td>\n",
       "      <td>1</td>\n",
       "      <td>1</td>\n",
       "    </tr>\n",
       "    <tr>\n",
       "      <th>4</th>\n",
       "      <td>1</td>\n",
       "      <td>0</td>\n",
       "      <td>0</td>\n",
       "      <td>0</td>\n",
       "      <td>0</td>\n",
       "    </tr>\n",
       "    <tr>\n",
       "      <th>5</th>\n",
       "      <td>1</td>\n",
       "      <td>1</td>\n",
       "      <td>0</td>\n",
       "      <td>0</td>\n",
       "      <td>0</td>\n",
       "    </tr>\n",
       "    <tr>\n",
       "      <th>6</th>\n",
       "      <td>1</td>\n",
       "      <td>0</td>\n",
       "      <td>1</td>\n",
       "      <td>1</td>\n",
       "      <td>1</td>\n",
       "    </tr>\n",
       "    <tr>\n",
       "      <th>7</th>\n",
       "      <td>1</td>\n",
       "      <td>0</td>\n",
       "      <td>0</td>\n",
       "      <td>0</td>\n",
       "      <td>0</td>\n",
       "    </tr>\n",
       "    <tr>\n",
       "      <th>8</th>\n",
       "      <td>1</td>\n",
       "      <td>1</td>\n",
       "      <td>1</td>\n",
       "      <td>1</td>\n",
       "      <td>1</td>\n",
       "    </tr>\n",
       "    <tr>\n",
       "      <th>9</th>\n",
       "      <td>1</td>\n",
       "      <td>1</td>\n",
       "      <td>1</td>\n",
       "      <td>1</td>\n",
       "      <td>1</td>\n",
       "    </tr>\n",
       "    <tr>\n",
       "      <th>10</th>\n",
       "      <td>1</td>\n",
       "      <td>1</td>\n",
       "      <td>0</td>\n",
       "      <td>0</td>\n",
       "      <td>0</td>\n",
       "    </tr>\n",
       "    <tr>\n",
       "      <th>11</th>\n",
       "      <td>1</td>\n",
       "      <td>0</td>\n",
       "      <td>1</td>\n",
       "      <td>1</td>\n",
       "      <td>1</td>\n",
       "    </tr>\n",
       "    <tr>\n",
       "      <th>12</th>\n",
       "      <td>1</td>\n",
       "      <td>1</td>\n",
       "      <td>1</td>\n",
       "      <td>1</td>\n",
       "      <td>1</td>\n",
       "    </tr>\n",
       "    <tr>\n",
       "      <th>13</th>\n",
       "      <td>1</td>\n",
       "      <td>1</td>\n",
       "      <td>1</td>\n",
       "      <td>1</td>\n",
       "      <td>1</td>\n",
       "    </tr>\n",
       "    <tr>\n",
       "      <th>14</th>\n",
       "      <td>1</td>\n",
       "      <td>0</td>\n",
       "      <td>0</td>\n",
       "      <td>0</td>\n",
       "      <td>0</td>\n",
       "    </tr>\n",
       "    <tr>\n",
       "      <th>15</th>\n",
       "      <td>1</td>\n",
       "      <td>1</td>\n",
       "      <td>0</td>\n",
       "      <td>0</td>\n",
       "      <td>0</td>\n",
       "    </tr>\n",
       "    <tr>\n",
       "      <th>16</th>\n",
       "      <td>1</td>\n",
       "      <td>0</td>\n",
       "      <td>0</td>\n",
       "      <td>0</td>\n",
       "      <td>0</td>\n",
       "    </tr>\n",
       "    <tr>\n",
       "      <th>17</th>\n",
       "      <td>1</td>\n",
       "      <td>1</td>\n",
       "      <td>1</td>\n",
       "      <td>1</td>\n",
       "      <td>1</td>\n",
       "    </tr>\n",
       "    <tr>\n",
       "      <th>18</th>\n",
       "      <td>1</td>\n",
       "      <td>1</td>\n",
       "      <td>0</td>\n",
       "      <td>0</td>\n",
       "      <td>0</td>\n",
       "    </tr>\n",
       "    <tr>\n",
       "      <th>19</th>\n",
       "      <td>1</td>\n",
       "      <td>0</td>\n",
       "      <td>0</td>\n",
       "      <td>0</td>\n",
       "      <td>0</td>\n",
       "    </tr>\n",
       "    <tr>\n",
       "      <th>20</th>\n",
       "      <td>1</td>\n",
       "      <td>0</td>\n",
       "      <td>0</td>\n",
       "      <td>0</td>\n",
       "      <td>0</td>\n",
       "    </tr>\n",
       "  </tbody>\n",
       "</table>\n",
       "</div>"
      ],
      "text/plain": [
       "    full  drop  drop1  drop2  drop3\n",
       "1      1     0      1      1      1\n",
       "2      1     1      1      1      1\n",
       "3      1     0      1      1      1\n",
       "4      1     0      0      0      0\n",
       "5      1     1      0      0      0\n",
       "6      1     0      1      1      1\n",
       "7      1     0      0      0      0\n",
       "8      1     1      1      1      1\n",
       "9      1     1      1      1      1\n",
       "10     1     1      0      0      0\n",
       "11     1     0      1      1      1\n",
       "12     1     1      1      1      1\n",
       "13     1     1      1      1      1\n",
       "14     1     0      0      0      0\n",
       "15     1     1      0      0      0\n",
       "16     1     0      0      0      0\n",
       "17     1     1      1      1      1\n",
       "18     1     1      0      0      0\n",
       "19     1     0      0      0      0\n",
       "20     1     0      0      0      0"
      ]
     },
     "execution_count": 24,
     "metadata": {},
     "output_type": "execute_result"
    }
   ],
   "source": [
    "df_meth_eval"
   ]
  },
  {
   "cell_type": "markdown",
   "metadata": {},
   "source": [
    "\n",
    "**The problems:**\n",
    "1. features are blindly dropped\n",
    "* no chekcing to see if the droppable feature has better or worse correlation with the target feature\n",
    "* no checking to see if the droppable feature is the replacement for another droppable feature (potentially dropping both features!)\n"
   ]
  },
  {
   "cell_type": "code",
   "execution_count": 41,
   "metadata": {},
   "outputs": [
    {
     "data": {
      "image/png": "[encoded data removed]",
      "text/plain": [
       "<Figure size 1440x720 with 11 Axes>"
      ]
     },
     "metadata": {
      "needs_background": "light"
     },
     "output_type": "display_data"
    }
   ],
   "source": [
    "\n",
    "\n",
    "#df_corr_cp = df_corr.drop(index='targ', columns='targ').copy()\n",
    "\n",
    "#df_upper = df_corr_na.where(np.triu(np.ones(df_corr_na.shape), k=1).astype(np.bool))\n",
    "\n",
    "fig, ax = plt.subplots(2,3, figsize=(20,10))\n",
    "ax = ax.reshape(6)\n",
    "\n",
    "sns.heatmap(df_corr_cp.where(df_corr_cp > threshold), cmap=\"viridis\", vmin=0,  vmax=1., square=True, cbar_kws={\"shrink\": .7}, ax=ax[0]);\n",
    "\n",
    "ax[0].set_title(f'features of high correlation');\n",
    "\n",
    "dropped_features_lists = [None, feature_drop, feature_drop_1, None, feature_drop_2, feature_drop_3]\n",
    "\n",
    "for n in range(1,6):\n",
    "\n",
    "    if n == 3: \n",
    "        ax[n].set_axis_off()\n",
    "        continue\n",
    "    \n",
    "    d_f_l = dropped_features_lists[n]\n",
    "    df_corr_na = df_corr.drop(index='targ', columns='targ').copy()\n",
    "\n",
    "    df_corr_na.loc[d_f_l,:] = np.NaN\n",
    "    df_corr_na.loc[:, d_f_l] = np.NaN\n",
    "    \n",
    "    #sns.heatmap(df_upper, cmap=\"viridis\", vmin=0,  vmax=1., square=True, cbar_kws={\"shrink\": .7}, ax=ax[n]);\n",
    "    #sns.heatmap(df_corr.where(df_corr > 0.9), cmap=\"RdBu\", vmin=0,  vmax=1., square=True, cbar_kws={\"shrink\": .7}, ax=ax[1]);\n",
    "    \n",
    "    sns.heatmap(df_corr_na.where(df_corr_na > threshold), cmap=\"viridis\", vmin=0,  vmax=1., square=True, cbar_kws={\"shrink\": .7}, ax=ax[n]);\n",
    "    ax[n].set_title(f'{n}\\nremaining features of high correlation');\n"
   ]
  },
  {
   "cell_type": "code",
   "execution_count": null,
   "metadata": {},
   "outputs": [],
   "source": []
  },
  {
   "cell_type": "code",
   "execution_count": 58,
   "metadata": {},
   "outputs": [
    {
     "data": {
      "text/html": [
       "<div>\n",
       "<style scoped>\n",
       "    .dataframe tbody tr th:only-of-type {\n",
       "        vertical-align: middle;\n",
       "    }\n",
       "\n",
       "    .dataframe tbody tr th {\n",
       "        vertical-align: top;\n",
       "    }\n",
       "\n",
       "    .dataframe thead th {\n",
       "        text-align: right;\n",
       "    }\n",
       "</style>\n",
       "<table border=\"1\" class=\"dataframe\">\n",
       "  <thead>\n",
       "    <tr style=\"text-align: right;\">\n",
       "      <th></th>\n",
       "      <th>col1</th>\n",
       "      <th>col2</th>\n",
       "      <th>corr</th>\n",
       "      <th>self</th>\n",
       "      <th>targ</th>\n",
       "    </tr>\n",
       "  </thead>\n",
       "  <tbody>\n",
       "    <tr>\n",
       "      <th>9</th>\n",
       "      <td>10</td>\n",
       "      <td>1</td>\n",
       "      <td>1.015564</td>\n",
       "      <td>True</td>\n",
       "      <td>0.258809</td>\n",
       "    </tr>\n",
       "  </tbody>\n",
       "</table>\n",
       "</div>"
      ],
      "text/plain": [
       "  col1 col2      corr  self      targ\n",
       "9   10    1  1.015564  True  0.258809"
      ]
     },
     "execution_count": 58,
     "metadata": {},
     "output_type": "execute_result"
    }
   ],
   "source": [
    "df_cpairs[(df_cpairs['col1'].isin(['10'])) & df_cpairs['col2'].isin(['1'])]"
   ]
  },
  {
   "cell_type": "code",
   "execution_count": null,
   "metadata": {},
   "outputs": [],
   "source": []
  },
  {
   "cell_type": "code",
   "execution_count": 49,
   "metadata": {},
   "outputs": [],
   "source": [
    "keep_cols = [f for f in cols if f not in feature_drop]"
   ]
  },
  {
   "cell_type": "code",
   "execution_count": 55,
   "metadata": {},
   "outputs": [
    {
     "data": {
      "text/html": [
       "<div>\n",
       "<style scoped>\n",
       "    .dataframe tbody tr th:only-of-type {\n",
       "        vertical-align: middle;\n",
       "    }\n",
       "\n",
       "    .dataframe tbody tr th {\n",
       "        vertical-align: top;\n",
       "    }\n",
       "\n",
       "    .dataframe thead th {\n",
       "        text-align: right;\n",
       "    }\n",
       "</style>\n",
       "<table border=\"1\" class=\"dataframe\">\n",
       "  <thead>\n",
       "    <tr style=\"text-align: right;\">\n",
       "      <th></th>\n",
       "      <th>col1</th>\n",
       "      <th>col2</th>\n",
       "      <th>corr</th>\n",
       "      <th>self</th>\n",
       "      <th>targ</th>\n",
       "    </tr>\n",
       "  </thead>\n",
       "  <tbody>\n",
       "  </tbody>\n",
       "</table>\n",
       "</div>"
      ],
      "text/plain": [
       "Empty DataFrame\n",
       "Columns: [col1, col2, corr, self, targ]\n",
       "Index: []"
      ]
     },
     "execution_count": 55,
     "metadata": {},
     "output_type": "execute_result"
    }
   ],
   "source": [
    "df_cpairs[(df_cpairs['col1'].isin(keep_cols)) & \\\n",
    "          (df_cpairs['col2'].isin(keep_cols)) & \\\n",
    "          (df_cpairs['self']) & \\\n",
    "          (df_cpairs['corr']>0.9)]"
   ]
  },
  {
   "cell_type": "code",
   "execution_count": 56,
   "metadata": {},
   "outputs": [],
   "source": [
    "keep_cols = [f for f in cols if f not in feature_drop_1]"
   ]
  },
  {
   "cell_type": "code",
   "execution_count": 57,
   "metadata": {},
   "outputs": [
    {
     "data": {
      "text/html": [
       "<div>\n",
       "<style scoped>\n",
       "    .dataframe tbody tr th:only-of-type {\n",
       "        vertical-align: middle;\n",
       "    }\n",
       "\n",
       "    .dataframe tbody tr th {\n",
       "        vertical-align: top;\n",
       "    }\n",
       "\n",
       "    .dataframe thead th {\n",
       "        text-align: right;\n",
       "    }\n",
       "</style>\n",
       "<table border=\"1\" class=\"dataframe\">\n",
       "  <thead>\n",
       "    <tr style=\"text-align: right;\">\n",
       "      <th></th>\n",
       "      <th>col1</th>\n",
       "      <th>col2</th>\n",
       "      <th>corr</th>\n",
       "      <th>self</th>\n",
       "      <th>targ</th>\n",
       "    </tr>\n",
       "  </thead>\n",
       "  <tbody>\n",
       "  </tbody>\n",
       "</table>\n",
       "</div>"
      ],
      "text/plain": [
       "Empty DataFrame\n",
       "Columns: [col1, col2, corr, self, targ]\n",
       "Index: []"
      ]
     },
     "execution_count": 57,
     "metadata": {},
     "output_type": "execute_result"
    }
   ],
   "source": [
    "df_cpairs[(df_cpairs['col1'].isin(keep_cols)) & \\\n",
    "          (df_cpairs['col2'].isin(keep_cols)) & \\\n",
    "          (df_cpairs['self']) & \\\n",
    "          (df_cpairs['corr']>0.9)]"
   ]
  },
  {
   "cell_type": "code",
   "execution_count": null,
   "metadata": {},
   "outputs": [],
   "source": []
  },
  {
   "cell_type": "code",
   "execution_count": null,
   "metadata": {},
   "outputs": [],
   "source": []
  },
  {
   "cell_type": "code",
   "execution_count": null,
   "metadata": {},
   "outputs": [],
   "source": []
  },
  {
   "cell_type": "code",
   "execution_count": null,
   "metadata": {},
   "outputs": [],
   "source": []
  },
  {
   "cell_type": "code",
   "execution_count": null,
   "metadata": {},
   "outputs": [],
   "source": []
  },
  {
   "cell_type": "code",
   "execution_count": 35,
   "metadata": {},
   "outputs": [
    {
     "data": {
      "text/plain": [
       "<matplotlib.axes._subplots.AxesSubplot at 0x7efd2adcae48>"
      ]
     },
     "execution_count": 35,
     "metadata": {},
     "output_type": "execute_result"
    }
   ],
   "source": [
    "ax[1]()"
   ]
  },
  {
   "cell_type": "code",
   "execution_count": 40,
   "metadata": {},
   "outputs": [
    {
     "ename": "AttributeError",
     "evalue": "'list' object has no attribute '__name__'",
     "output_type": "error",
     "traceback": [
      "\u001b[0;31m---------------------------------------------------------------------------\u001b[0m",
      "\u001b[0;31mAttributeError\u001b[0m                            Traceback (most recent call last)",
      "\u001b[0;32m<ipython-input-40-fec59bb45401>\u001b[0m in \u001b[0;36m<module>\u001b[0;34m\u001b[0m\n\u001b[0;32m----> 1\u001b[0;31m \u001b[0mfeature_drop\u001b[0m\u001b[0;34m.\u001b[0m\u001b[0m__name__\u001b[0m\u001b[0;34m(\u001b[0m\u001b[0;34m)\u001b[0m\u001b[0;34m\u001b[0m\u001b[0;34m\u001b[0m\u001b[0m\n\u001b[0m",
      "\u001b[0;31mAttributeError\u001b[0m: 'list' object has no attribute '__name__'"
     ]
    }
   ],
   "source": [
    "feature_drop.__name__()"
   ]
  },
  {
   "cell_type": "markdown",
   "metadata": {},
   "source": [
    "<hr style=\"border: solid rgb(0,0,0) 0.0px; background-color: rgb(0,0,0);height: 2.0px;\"/>"
   ]
  },
  {
   "cell_type": "markdown",
   "metadata": {},
   "source": [
    "## Walkthrough the functions"
   ]
  },
  {
   "cell_type": "code",
   "execution_count": 25,
   "metadata": {},
   "outputs": [],
   "source": [
    "from helpers.correlation_feature_drop import get_correlation_pairs, get_dropped_columns_while"
   ]
  },
  {
   "cell_type": "code",
   "execution_count": 26,
   "metadata": {},
   "outputs": [],
   "source": [
    "df_cpairs = get_correlation_pairs(df_corr, 'targ')"
   ]
  },
  {
   "cell_type": "code",
   "execution_count": 27,
   "metadata": {},
   "outputs": [],
   "source": [
    "df_cpairs['self'] = True\n",
    "df_cpairs.loc[df_cpairs['col1'] == df_cpairs['col2'],'self'] = False"
   ]
  },
  {
   "cell_type": "markdown",
   "metadata": {},
   "source": [
    "### Join the target correlations to the corr. pairs"
   ]
  },
  {
   "cell_type": "code",
   "execution_count": 28,
   "metadata": {},
   "outputs": [],
   "source": [
    "df_targ_corr = df_corr.loc[df_corr.columns[:-1],'targ'].reset_index().rename(columns={'index':'col2'})"
   ]
  },
  {
   "cell_type": "code",
   "execution_count": 29,
   "metadata": {},
   "outputs": [
    {
     "data": {
      "text/html": [
       "<div>\n",
       "<style scoped>\n",
       "    .dataframe tbody tr th:only-of-type {\n",
       "        vertical-align: middle;\n",
       "    }\n",
       "\n",
       "    .dataframe tbody tr th {\n",
       "        vertical-align: top;\n",
       "    }\n",
       "\n",
       "    .dataframe thead th {\n",
       "        text-align: right;\n",
       "    }\n",
       "</style>\n",
       "<table border=\"1\" class=\"dataframe\">\n",
       "  <thead>\n",
       "    <tr style=\"text-align: right;\">\n",
       "      <th></th>\n",
       "      <th>col2</th>\n",
       "      <th>targ</th>\n",
       "    </tr>\n",
       "  </thead>\n",
       "  <tbody>\n",
       "    <tr>\n",
       "      <th>0</th>\n",
       "      <td>1</td>\n",
       "      <td>0.258809</td>\n",
       "    </tr>\n",
       "    <tr>\n",
       "      <th>1</th>\n",
       "      <td>2</td>\n",
       "      <td>0.895113</td>\n",
       "    </tr>\n",
       "    <tr>\n",
       "      <th>2</th>\n",
       "      <td>3</td>\n",
       "      <td>0.694223</td>\n",
       "    </tr>\n",
       "    <tr>\n",
       "      <th>3</th>\n",
       "      <td>4</td>\n",
       "      <td>0.314955</td>\n",
       "    </tr>\n",
       "    <tr>\n",
       "      <th>4</th>\n",
       "      <td>5</td>\n",
       "      <td>0.415789</td>\n",
       "    </tr>\n",
       "  </tbody>\n",
       "</table>\n",
       "</div>"
      ],
      "text/plain": [
       "  col2      targ\n",
       "0    1  0.258809\n",
       "1    2  0.895113\n",
       "2    3  0.694223\n",
       "3    4  0.314955\n",
       "4    5  0.415789"
      ]
     },
     "execution_count": 29,
     "metadata": {},
     "output_type": "execute_result"
    }
   ],
   "source": [
    "df_targ_corr.head()"
   ]
  },
  {
   "cell_type": "code",
   "execution_count": 30,
   "metadata": {},
   "outputs": [],
   "source": [
    "df_cpairs = df_cpairs.merge(df_targ_corr, on='col2', how='inner')"
   ]
  },
  {
   "cell_type": "code",
   "execution_count": 31,
   "metadata": {},
   "outputs": [
    {
     "data": {
      "text/html": [
       "<div>\n",
       "<style scoped>\n",
       "    .dataframe tbody tr th:only-of-type {\n",
       "        vertical-align: middle;\n",
       "    }\n",
       "\n",
       "    .dataframe tbody tr th {\n",
       "        vertical-align: top;\n",
       "    }\n",
       "\n",
       "    .dataframe thead th {\n",
       "        text-align: right;\n",
       "    }\n",
       "</style>\n",
       "<table border=\"1\" class=\"dataframe\">\n",
       "  <thead>\n",
       "    <tr style=\"text-align: right;\">\n",
       "      <th></th>\n",
       "      <th>col1</th>\n",
       "      <th>col2</th>\n",
       "      <th>corr</th>\n",
       "      <th>self</th>\n",
       "      <th>targ</th>\n",
       "    </tr>\n",
       "  </thead>\n",
       "  <tbody>\n",
       "    <tr>\n",
       "      <th>0</th>\n",
       "      <td>1</td>\n",
       "      <td>1</td>\n",
       "      <td>1.000000</td>\n",
       "      <td>False</td>\n",
       "      <td>0.258809</td>\n",
       "    </tr>\n",
       "    <tr>\n",
       "      <th>1</th>\n",
       "      <td>2</td>\n",
       "      <td>1</td>\n",
       "      <td>0.771903</td>\n",
       "      <td>True</td>\n",
       "      <td>0.258809</td>\n",
       "    </tr>\n",
       "    <tr>\n",
       "      <th>2</th>\n",
       "      <td>3</td>\n",
       "      <td>1</td>\n",
       "      <td>0.443250</td>\n",
       "      <td>True</td>\n",
       "      <td>0.258809</td>\n",
       "    </tr>\n",
       "    <tr>\n",
       "      <th>3</th>\n",
       "      <td>4</td>\n",
       "      <td>1</td>\n",
       "      <td>0.841437</td>\n",
       "      <td>True</td>\n",
       "      <td>0.258809</td>\n",
       "    </tr>\n",
       "    <tr>\n",
       "      <th>4</th>\n",
       "      <td>5</td>\n",
       "      <td>1</td>\n",
       "      <td>1.000000</td>\n",
       "      <td>True</td>\n",
       "      <td>0.258809</td>\n",
       "    </tr>\n",
       "  </tbody>\n",
       "</table>\n",
       "</div>"
      ],
      "text/plain": [
       "  col1 col2      corr   self      targ\n",
       "0    1    1  1.000000  False  0.258809\n",
       "1    2    1  0.771903   True  0.258809\n",
       "2    3    1  0.443250   True  0.258809\n",
       "3    4    1  0.841437   True  0.258809\n",
       "4    5    1  1.000000   True  0.258809"
      ]
     },
     "execution_count": 31,
     "metadata": {},
     "output_type": "execute_result"
    }
   ],
   "source": [
    "df_cpairs.head()"
   ]
  },
  {
   "cell_type": "markdown",
   "metadata": {},
   "source": [
    "### Filter, group, and select the replacer\n",
    "\n",
    "1. For each feature, get the set of features which are highly correlated \n",
    "2. For each group of highly-correlated features, select the one with the highest correlation to the target as the replacer\n",
    "3. Return the unique replacers as the features to keep"
   ]
  },
  {
   "cell_type": "code",
   "execution_count": 32,
   "metadata": {
    "scrolled": false
   },
   "outputs": [
    {
     "name": "stdout",
     "output_type": "stream",
     "text": [
      "Incoming: 20\n",
      "Retain: 17\n"
     ]
    },
    {
     "data": {
      "text/html": [
       "<div>\n",
       "<style scoped>\n",
       "    .dataframe tbody tr th:only-of-type {\n",
       "        vertical-align: middle;\n",
       "    }\n",
       "\n",
       "    .dataframe tbody tr th {\n",
       "        vertical-align: top;\n",
       "    }\n",
       "\n",
       "    .dataframe thead th {\n",
       "        text-align: right;\n",
       "    }\n",
       "</style>\n",
       "<table border=\"1\" class=\"dataframe\">\n",
       "  <thead>\n",
       "    <tr style=\"text-align: right;\">\n",
       "      <th></th>\n",
       "      <th>col1</th>\n",
       "      <th>col2</th>\n",
       "      <th>targ</th>\n",
       "    </tr>\n",
       "  </thead>\n",
       "  <tbody>\n",
       "    <tr>\n",
       "      <th>0</th>\n",
       "      <td>1</td>\n",
       "      <td>[1, 5, 10, 18]</td>\n",
       "      <td>[0.259, 0.416, 0.77, 0.704]</td>\n",
       "    </tr>\n",
       "    <tr>\n",
       "      <th>1</th>\n",
       "      <td>10</td>\n",
       "      <td>[1, 10, 16, 19]</td>\n",
       "      <td>[0.259, 0.77, 0.45, 0.596]</td>\n",
       "    </tr>\n",
       "    <tr>\n",
       "      <th>2</th>\n",
       "      <td>11</td>\n",
       "      <td>[11, 14, 19]</td>\n",
       "      <td>[0.561, 0.312, 0.596]</td>\n",
       "    </tr>\n",
       "    <tr>\n",
       "      <th>3</th>\n",
       "      <td>12</td>\n",
       "      <td>[12, 20]</td>\n",
       "      <td>[0.806, 0.386]</td>\n",
       "    </tr>\n",
       "    <tr>\n",
       "      <th>4</th>\n",
       "      <td>14</td>\n",
       "      <td>[5, 9, 11, 14]</td>\n",
       "      <td>[0.416, 0.364, 0.561, 0.312]</td>\n",
       "    </tr>\n",
       "    <tr>\n",
       "      <th>5</th>\n",
       "      <td>15</td>\n",
       "      <td>[3, 7, 15]</td>\n",
       "      <td>[0.694, 0.655, 0.777]</td>\n",
       "    </tr>\n",
       "    <tr>\n",
       "      <th>6</th>\n",
       "      <td>16</td>\n",
       "      <td>[2, 4, 6, 10, 16]</td>\n",
       "      <td>[0.895, 0.315, 0.528, 0.77, 0.45]</td>\n",
       "    </tr>\n",
       "    <tr>\n",
       "      <th>7</th>\n",
       "      <td>18</td>\n",
       "      <td>[1, 4, 7, 18, 19]</td>\n",
       "      <td>[0.259, 0.315, 0.655, 0.704, 0.596]</td>\n",
       "    </tr>\n",
       "    <tr>\n",
       "      <th>8</th>\n",
       "      <td>19</td>\n",
       "      <td>[4, 10, 11, 18, 19]</td>\n",
       "      <td>[0.315, 0.77, 0.561, 0.704, 0.596]</td>\n",
       "    </tr>\n",
       "    <tr>\n",
       "      <th>9</th>\n",
       "      <td>2</td>\n",
       "      <td>[2, 4, 7, 16]</td>\n",
       "      <td>[0.895, 0.315, 0.655, 0.45]</td>\n",
       "    </tr>\n",
       "    <tr>\n",
       "      <th>10</th>\n",
       "      <td>20</td>\n",
       "      <td>[4, 12, 20]</td>\n",
       "      <td>[0.315, 0.806, 0.386]</td>\n",
       "    </tr>\n",
       "    <tr>\n",
       "      <th>11</th>\n",
       "      <td>3</td>\n",
       "      <td>[3, 15]</td>\n",
       "      <td>[0.694, 0.777]</td>\n",
       "    </tr>\n",
       "    <tr>\n",
       "      <th>12</th>\n",
       "      <td>4</td>\n",
       "      <td>[2, 4, 16, 18, 19, 20]</td>\n",
       "      <td>[0.895, 0.315, 0.45, 0.704, 0.596, 0.386]</td>\n",
       "    </tr>\n",
       "    <tr>\n",
       "      <th>13</th>\n",
       "      <td>5</td>\n",
       "      <td>[1, 5, 14]</td>\n",
       "      <td>[0.259, 0.416, 0.312]</td>\n",
       "    </tr>\n",
       "    <tr>\n",
       "      <th>14</th>\n",
       "      <td>6</td>\n",
       "      <td>[6, 7, 16]</td>\n",
       "      <td>[0.528, 0.655, 0.45]</td>\n",
       "    </tr>\n",
       "    <tr>\n",
       "      <th>15</th>\n",
       "      <td>7</td>\n",
       "      <td>[2, 6, 7, 15, 18]</td>\n",
       "      <td>[0.895, 0.528, 0.655, 0.777, 0.704]</td>\n",
       "    </tr>\n",
       "    <tr>\n",
       "      <th>16</th>\n",
       "      <td>9</td>\n",
       "      <td>[9, 14]</td>\n",
       "      <td>[0.364, 0.312]</td>\n",
       "    </tr>\n",
       "  </tbody>\n",
       "</table>\n",
       "</div>"
      ],
      "text/plain": [
       "   col1                    col2                                       targ\n",
       "0     1          [1, 5, 10, 18]                [0.259, 0.416, 0.77, 0.704]\n",
       "1    10         [1, 10, 16, 19]                 [0.259, 0.77, 0.45, 0.596]\n",
       "2    11            [11, 14, 19]                      [0.561, 0.312, 0.596]\n",
       "3    12                [12, 20]                             [0.806, 0.386]\n",
       "4    14          [5, 9, 11, 14]               [0.416, 0.364, 0.561, 0.312]\n",
       "5    15              [3, 7, 15]                      [0.694, 0.655, 0.777]\n",
       "6    16       [2, 4, 6, 10, 16]          [0.895, 0.315, 0.528, 0.77, 0.45]\n",
       "7    18       [1, 4, 7, 18, 19]        [0.259, 0.315, 0.655, 0.704, 0.596]\n",
       "8    19     [4, 10, 11, 18, 19]         [0.315, 0.77, 0.561, 0.704, 0.596]\n",
       "9     2           [2, 4, 7, 16]                [0.895, 0.315, 0.655, 0.45]\n",
       "10   20             [4, 12, 20]                      [0.315, 0.806, 0.386]\n",
       "11    3                 [3, 15]                             [0.694, 0.777]\n",
       "12    4  [2, 4, 16, 18, 19, 20]  [0.895, 0.315, 0.45, 0.704, 0.596, 0.386]\n",
       "13    5              [1, 5, 14]                      [0.259, 0.416, 0.312]\n",
       "14    6              [6, 7, 16]                       [0.528, 0.655, 0.45]\n",
       "15    7       [2, 6, 7, 15, 18]        [0.895, 0.528, 0.655, 0.777, 0.704]\n",
       "16    9                 [9, 14]                             [0.364, 0.312]"
      ]
     },
     "metadata": {},
     "output_type": "display_data"
    },
    {
     "name": "stdout",
     "output_type": "stream",
     "text": [
      "Features: ['1', '2', '3', '4', '5', '6', '7', '9', '10', '11', '12', '14', '15', '16', '18', '19', '20']\n",
      "Droppables: ['1', '3', '4', '6', '14', '16', '20']\n",
      "Replacements: ['2', '5', '7', '9', '10', '11', '12', '15', '18', '19']\n",
      "10 7\n",
      "Incoming: 10\n",
      "Retain: 7\n"
     ]
    },
    {
     "data": {
      "text/html": [
       "<div>\n",
       "<style scoped>\n",
       "    .dataframe tbody tr th:only-of-type {\n",
       "        vertical-align: middle;\n",
       "    }\n",
       "\n",
       "    .dataframe tbody tr th {\n",
       "        vertical-align: top;\n",
       "    }\n",
       "\n",
       "    .dataframe thead th {\n",
       "        text-align: right;\n",
       "    }\n",
       "</style>\n",
       "<table border=\"1\" class=\"dataframe\">\n",
       "  <thead>\n",
       "    <tr style=\"text-align: right;\">\n",
       "      <th></th>\n",
       "      <th>col1</th>\n",
       "      <th>col2</th>\n",
       "      <th>targ</th>\n",
       "    </tr>\n",
       "  </thead>\n",
       "  <tbody>\n",
       "    <tr>\n",
       "      <th>0</th>\n",
       "      <td>10</td>\n",
       "      <td>[10, 19]</td>\n",
       "      <td>[0.77, 0.596]</td>\n",
       "    </tr>\n",
       "    <tr>\n",
       "      <th>1</th>\n",
       "      <td>11</td>\n",
       "      <td>[11, 19]</td>\n",
       "      <td>[0.561, 0.596]</td>\n",
       "    </tr>\n",
       "    <tr>\n",
       "      <th>2</th>\n",
       "      <td>15</td>\n",
       "      <td>[7, 15]</td>\n",
       "      <td>[0.655, 0.777]</td>\n",
       "    </tr>\n",
       "    <tr>\n",
       "      <th>3</th>\n",
       "      <td>18</td>\n",
       "      <td>[7, 18, 19]</td>\n",
       "      <td>[0.655, 0.704, 0.596]</td>\n",
       "    </tr>\n",
       "    <tr>\n",
       "      <th>4</th>\n",
       "      <td>19</td>\n",
       "      <td>[10, 11, 18, 19]</td>\n",
       "      <td>[0.77, 0.561, 0.704, 0.596]</td>\n",
       "    </tr>\n",
       "    <tr>\n",
       "      <th>5</th>\n",
       "      <td>2</td>\n",
       "      <td>[2, 7]</td>\n",
       "      <td>[0.895, 0.655]</td>\n",
       "    </tr>\n",
       "    <tr>\n",
       "      <th>6</th>\n",
       "      <td>7</td>\n",
       "      <td>[2, 7, 15, 18]</td>\n",
       "      <td>[0.895, 0.655, 0.777, 0.704]</td>\n",
       "    </tr>\n",
       "  </tbody>\n",
       "</table>\n",
       "</div>"
      ],
      "text/plain": [
       "  col1              col2                          targ\n",
       "0   10          [10, 19]                 [0.77, 0.596]\n",
       "1   11          [11, 19]                [0.561, 0.596]\n",
       "2   15           [7, 15]                [0.655, 0.777]\n",
       "3   18       [7, 18, 19]         [0.655, 0.704, 0.596]\n",
       "4   19  [10, 11, 18, 19]   [0.77, 0.561, 0.704, 0.596]\n",
       "5    2            [2, 7]                [0.895, 0.655]\n",
       "6    7    [2, 7, 15, 18]  [0.895, 0.655, 0.777, 0.704]"
      ]
     },
     "metadata": {},
     "output_type": "display_data"
    },
    {
     "name": "stdout",
     "output_type": "stream",
     "text": [
      "Features: ['2', '7', '10', '11', '15', '18', '19']\n",
      "Droppables: ['7', '11']\n",
      "Replacements: ['2', '10', '15', '18', '19']\n",
      "5 2\n",
      "Incoming: 5\n",
      "Retain: 3\n"
     ]
    },
    {
     "data": {
      "text/html": [
       "<div>\n",
       "<style scoped>\n",
       "    .dataframe tbody tr th:only-of-type {\n",
       "        vertical-align: middle;\n",
       "    }\n",
       "\n",
       "    .dataframe tbody tr th {\n",
       "        vertical-align: top;\n",
       "    }\n",
       "\n",
       "    .dataframe thead th {\n",
       "        text-align: right;\n",
       "    }\n",
       "</style>\n",
       "<table border=\"1\" class=\"dataframe\">\n",
       "  <thead>\n",
       "    <tr style=\"text-align: right;\">\n",
       "      <th></th>\n",
       "      <th>col1</th>\n",
       "      <th>col2</th>\n",
       "      <th>targ</th>\n",
       "    </tr>\n",
       "  </thead>\n",
       "  <tbody>\n",
       "    <tr>\n",
       "      <th>0</th>\n",
       "      <td>10</td>\n",
       "      <td>[10, 19]</td>\n",
       "      <td>[0.77, 0.596]</td>\n",
       "    </tr>\n",
       "    <tr>\n",
       "      <th>1</th>\n",
       "      <td>18</td>\n",
       "      <td>[18, 19]</td>\n",
       "      <td>[0.704, 0.596]</td>\n",
       "    </tr>\n",
       "    <tr>\n",
       "      <th>2</th>\n",
       "      <td>19</td>\n",
       "      <td>[10, 18, 19]</td>\n",
       "      <td>[0.77, 0.704, 0.596]</td>\n",
       "    </tr>\n",
       "  </tbody>\n",
       "</table>\n",
       "</div>"
      ],
      "text/plain": [
       "  col1          col2                  targ\n",
       "0   10      [10, 19]         [0.77, 0.596]\n",
       "1   18      [18, 19]        [0.704, 0.596]\n",
       "2   19  [10, 18, 19]  [0.77, 0.704, 0.596]"
      ]
     },
     "metadata": {},
     "output_type": "display_data"
    },
    {
     "name": "stdout",
     "output_type": "stream",
     "text": [
      "Features: ['10', '18', '19']\n",
      "Droppables: ['19']\n",
      "Replacements: ['10', '18']\n",
      "2 1\n",
      "Incoming: 2\n",
      "Retain: 0\n",
      "0 0\n"
     ]
    },
    {
     "data": {
      "text/plain": [
       "{'1', '11', '14', '16', '19', '20', '3', '4', '6', '7'}"
      ]
     },
     "execution_count": 32,
     "metadata": {},
     "output_type": "execute_result"
    }
   ],
   "source": [
    "get_dropped_columns_while(df_cpairs, threshold, True)"
   ]
  },
  {
   "cell_type": "code",
   "execution_count": null,
   "metadata": {},
   "outputs": [],
   "source": []
  }
 ],
 "metadata": {
  "kernelspec": {
   "display_name": "Python 3",
   "language": "python",
   "name": "python3"
  },
  "language_info": {
   "codemirror_mode": {
    "name": "ipython",
    "version": 3
   },
   "file_extension": ".py",
   "mimetype": "text/x-python",
   "name": "python",
   "nbconvert_exporter": "python",
   "pygments_lexer": "ipython3",
   "version": "3.6.9"
  },
  "toc": {
   "nav_menu": {},
   "number_sections": true,
   "sideBar": true,
   "skip_h1_title": false,
   "title_cell": "Table of Contents",
   "title_sidebar": "Contents",
   "toc_cell": false,
   "toc_position": {},
   "toc_section_display": true,
   "toc_window_display": false
  }
 },
 "nbformat": 4,
 "nbformat_minor": 2
}
