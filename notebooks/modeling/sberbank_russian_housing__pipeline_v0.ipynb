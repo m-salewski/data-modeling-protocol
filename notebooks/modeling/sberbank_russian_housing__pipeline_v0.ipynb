{
 "cells": [
  {
   "cell_type": "markdown",
   "metadata": {},
   "source": [
    "<font size=6>\n",
    "    Sberbank Russian Housing Market\n",
    "</font>\n",
    "\n",
    "<hr style=\"border: solid rgb(255,0,0) 0.0px; background-color: rgb(255,0,0);height: 2.0px;\"/>\n",
    "<font color='red' size=5>\n",
    "    Ongoing\n",
    "</font>\n",
    "<hr style=\"border: solid rgb(255,0,0) 0.0px; background-color: rgb(255,0,0);height: 2.0px;\"/>"
   ]
  },
  {
   "cell_type": "markdown",
   "metadata": {},
   "source": [
    "### Summary\n",
    "1. Initial data exploration:\n",
    "    * (rows, cols) = (30471, 292)\n",
    "        * 275 cols are numeric"
   ]
  },
  {
   "cell_type": "code",
   "execution_count": 1,
   "metadata": {},
   "outputs": [],
   "source": [
    "import numpy as np # linear algebra\n",
    "import pandas as pd # data processing, CSV file I/O (e.g. pd.read_csv)\n",
    "\n",
    "from sklearn.preprocessing import StandardScaler RobustScaler, OneHotEncoder\n",
    "\n",
    "from sklearn.compose import ColumnTransformer\n",
    "\n",
    "from sklearn.impute import SimpleImputer\n",
    "\n",
    "from sklearn.pipeline import Pipeline, make_pipeline\n",
    "\n",
    "from sklearn.model_selection import GridSearchCV, KFold, cross_val_score\n",
    "\n",
    "# Models\n",
    "from sklearn.dummy import DummyRegressor\n",
    "from sklearn.linear_model import LinearRegression, ElasticNet, Lasso, Ridge, SGDRegressor\n",
    "from sklearn.svm import SVR, LinearSVR\n",
    "from sklearn.kernel_ridge import KernelRidge\n",
    "from sklearn.ensemble import RandomForestRegressor\n",
    "from sklearn.ensemble import GradientBoostingRegressor\n",
    "\n",
    "import xgboost as xgb\n",
    "import lightgbm as lgb\n",
    "\n",
    "import warnings\n",
    "warnings.filterwarnings('ignore')\n",
    "\n",
    "BASE_PATH = \"../../datasets/sberbank-russian-housing-market/\""
   ]
  },
  {
   "cell_type": "code",
   "execution_count": 2,
   "metadata": {},
   "outputs": [
    {
     "name": "stdout",
     "output_type": "stream",
     "text": [
      "../../datasets/sberbank-russian-housing-market/sample_submission.csv\n",
      "../../datasets/sberbank-russian-housing-market/macro.csv\n",
      "../../datasets/sberbank-russian-housing-market/test.csv\n",
      "../../datasets/sberbank-russian-housing-market/data_dictionary.txt\n",
      "../../datasets/sberbank-russian-housing-market/train.csv\n",
      "../../datasets/sberbank-russian-housing-market/sberbank-russian-housing-market.zip\n",
      "../../datasets/sberbank-russian-housing-market/__MACOSX/._test.csv\n",
      "../../datasets/sberbank-russian-housing-market/__MACOSX/._train.csv\n"
     ]
    }
   ],
   "source": [
    "# Input data files are available in the \"../input/\" directory.\n",
    "# For example, running this (by clicking run or pressing Shift+Enter) will list all files under the input directory\n",
    "\n",
    "import os\n",
    "for dirname, _, filenames in os.walk(BASE_PATH):\n",
    "    for filename in filenames:\n",
    "        print(os.path.join(dirname, filename))"
   ]
  },
  {
   "cell_type": "code",
   "execution_count": 22,
   "metadata": {},
   "outputs": [],
   "source": [
    "%matplotlib inline\n",
    "import matplotlib.pyplot as plt\n",
    "import seaborn as sns\n",
    "import random\n",
    "colors = [plt.cm.Spectral(each)\n",
    "          for each in np.linspace(0, 1, 20)]\n",
    "random.shuffle(colors)"
   ]
  },
  {
   "cell_type": "markdown",
   "metadata": {},
   "source": [
    "## Load the data"
   ]
  },
  {
   "cell_type": "code",
   "execution_count": 3,
   "metadata": {},
   "outputs": [],
   "source": [
    "df = pd.read_csv(BASE_PATH + 'train.csv', \\\n",
    "                 infer_datetime_format=True, parse_dates=['timestamp'])"
   ]
  },
  {
   "cell_type": "markdown",
   "metadata": {},
   "source": [
    "<hr style=\"border: solid rgb(0,0,0) 0.0px; background-color: rgb(0,0,0);height: 5.0px;\"/>"
   ]
  },
  {
   "cell_type": "markdown",
   "metadata": {},
   "source": [
    "# Pipeline exploration\n",
    "\n",
    "PLaying with sklearn's `pipeline` module."
   ]
  },
  {
   "cell_type": "code",
   "execution_count": 15,
   "metadata": {},
   "outputs": [
    {
     "name": "stdout",
     "output_type": "stream",
     "text": [
      "CPU times: user 11.7 s, sys: 4.76 s, total: 16.5 s\n",
      "Wall time: 6.42 s\n",
      "For LinearRegression(copy_X=True, fit_intercept=True, n_jobs=None, normalize=False)\n",
      "\t\t the R2 score is: -52.7664\n",
      "\n",
      "CPU times: user 3.3 s, sys: 1.3 s, total: 4.6 s\n",
      "Wall time: 2.17 s\n",
      "For Ridge(alpha=1.0, copy_X=True, fit_intercept=True, max_iter=None,\n",
      "      normalize=False, random_state=None, solver='auto', tol=0.001)\n",
      "\t\t the R2 score is: -50.7467\n",
      "\n",
      "CPU times: user 2min 39s, sys: 896 ms, total: 2min 40s\n",
      "Wall time: 2min 40s\n",
      "For LinearSVR(C=1.0, dual=True, epsilon=0.0, fit_intercept=True,\n",
      "          intercept_scaling=1.0, loss='epsilon_insensitive', max_iter=1000,\n",
      "          random_state=None, tol=0.0001, verbose=0)\n",
      "\t\t the R2 score is: -22.9566\n",
      "\n",
      "CPU times: user 8min 45s, sys: 475 ms, total: 8min 46s\n",
      "Wall time: 8min 49s\n",
      "For GradientBoostingRegressor(alpha=0.9, ccp_alpha=0.0, criterion='friedman_mse',\n",
      "                          init=None, learning_rate=0.1, loss='ls', max_depth=3,\n",
      "                          max_features=None, max_leaf_nodes=None,\n",
      "                          min_impurity_decrease=0.0, min_impurity_split=None,\n",
      "                          min_samples_leaf=1, min_samples_split=2,\n",
      "                          min_weight_fraction_leaf=0.0, n_estimators=100,\n",
      "                          n_iter_no_change=None, presort='deprecated',\n",
      "                          random_state=None, subsample=1.0, tol=0.0001,\n",
      "                          validation_fraction=0.1, verbose=0, warm_start=False)\n",
      "\t\t the R2 score is: 0.6288\n",
      "\n"
     ]
    }
   ],
   "source": [
    "classif_list = \\\n",
    "[\n",
    "    LinearRegression(),\n",
    "    Ridge(),\n",
    "    LinearSVR(),\n",
    "    GradientBoostingRegressor()\n",
    "]\n",
    "for elem in classif_list:\n",
    "    try:\n",
    "        pipe = make_pipeline(SimpleImputer(), elem)        \n",
    "        %time cv_mean = cross_val_score(pipe, X, y).mean()\n",
    "        print(f\"For {elem}\\n\\t\\t the R2 score is: {cv_mean:.4f}\\n\")\n",
    "    except:\n",
    "        print(f\"{elem} failed\\n\")"
   ]
  },
  {
   "cell_type": "markdown",
   "metadata": {},
   "source": [
    "### Failed pipelines"
   ]
  },
  {
   "cell_type": "markdown",
   "metadata": {},
   "source": [
    "The full list, with the fails included\n",
    "```\n",
    "classif_list = \\\n",
    "[\n",
    "    LinearRegression(),\n",
    "    ElasticNet(),\n",
    "    Lasso(),\n",
    "    Ridge(),\n",
    "    SGDRegressor(),\n",
    "    SVR(),\n",
    "    LinearSVR(),\n",
    "    KernelRidge(),\n",
    "    RandomForestRegressor(),\n",
    "    GradientBoostingRegressor()\n",
    "]\n",
    "```\n",
    "\n",
    "OUtput and results\n",
    "```\n",
    "The R2 for LinearRegression(...) score is: -52.7664\n",
    "\n",
    "    ElasticNet(...) failed\n",
    "\n",
    "    Lasso(...) failed\n",
    "\n",
    "The R2 for Ridge(...) score is: -50.7467\n",
    "\n",
    "The R2 for SGDRegressor(...) score is: -814474132794275548079241717350400.0000\n",
    "\n",
    "    SVR(...) failed\n",
    "\n",
    "The R2 for LinearSVR(...) score is: -19.6381\n",
    "\n",
    "    KernelRidge(...) failed\n",
    "\n",
    "    RandomForestRegressor(...) failed\n",
    "\n",
    "The R2 for GradientBoostingRegressor(...) score is: 0.6301\n",
    "```"
   ]
  },
  {
   "cell_type": "code",
   "execution_count": 1,
   "metadata": {},
   "outputs": [
    {
     "data": {
      "text/plain": [
       "1"
      ]
     },
     "execution_count": 1,
     "metadata": {},
     "output_type": "execute_result"
    }
   ],
   "source": [
    "1"
   ]
  },
  {
   "cell_type": "code",
   "execution_count": null,
   "metadata": {},
   "outputs": [],
   "source": []
  }
 ],
 "metadata": {
  "kernelspec": {
   "display_name": "Python 3",
   "language": "python",
   "name": "python3"
  },
  "language_info": {
   "codemirror_mode": {
    "name": "ipython",
    "version": 3
   },
   "file_extension": ".py",
   "mimetype": "text/x-python",
   "name": "python",
   "nbconvert_exporter": "python",
   "pygments_lexer": "ipython3",
   "version": "3.6.8"
  }
 },
 "nbformat": 4,
 "nbformat_minor": 2
}
