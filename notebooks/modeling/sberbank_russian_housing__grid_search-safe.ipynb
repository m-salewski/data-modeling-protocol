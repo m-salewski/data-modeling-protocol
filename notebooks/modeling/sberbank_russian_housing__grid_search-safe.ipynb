{
 "cells": [
  {
   "cell_type": "code",
   "execution_count": 1,
   "metadata": {
    "cell_style": "center",
    "hide_input": false
   },
   "outputs": [
    {
     "data": {
      "text/html": [
       "<style>.container { width:100% !important; }</style>"
      ],
      "text/plain": [
       "<IPython.core.display.HTML object>"
      ]
     },
     "metadata": {},
     "output_type": "display_data"
    }
   ],
   "source": [
    "from IPython.core.display import display, HTML\n",
    "display(HTML(\"<style>.container { width:100% !important; }</style>\"))"
   ]
  },
  {
   "cell_type": "markdown",
   "metadata": {},
   "source": [
    "sklearn.set_config(display=”diagram”)"
   ]
  },
  {
   "cell_type": "markdown",
   "metadata": {},
   "source": [
    "<font size=6>\n",
    "    Sberbank Russian Housing Market\n",
    "</font>\n",
    "\n",
    "<hr style=\"border: solid rgb(0,0,0) 0.0px; background-color: rgb(0,0,0);height: 2.0px;\"/>\n",
    "<font color='red' size=5>\n",
    "    The show so far ... \n",
    "</font>\n"
   ]
  },
  {
   "cell_type": "markdown",
   "metadata": {},
   "source": [
    "**Summary**\n",
    "\n",
    "1. Load data\n",
    "2. Remove features\n",
    "    * features missing more than 10%\n",
    "    * features with high correlations to the other features\n",
    "        * used hierarchical correlation dropper\n",
    "3. Stage 1 transformations:\n",
    "    * Ignored features: \n",
    "        * e.g. 'id' and 'datetime' columns\n",
    "    * Scale num. features\n",
    "        * perhaps better to wait until after \n",
    "            1. cat. encoding is done with ordinals\n",
    "            2. imputation for (all) features\n",
    "    * Cat. features\n",
    "        * used Ordinal and OneHot-encoders\n",
    "        * used custom encoder to include NANs\n",
    "    * Retrieve column names        \n",
    "    * Recast all features as needed\n",
    "4. Stage 2 transformations:\n",
    "    * Ignored features: \n",
    "        * e.g. 'id' and 'datetime' columns\n",
    "    * Impute remaining features\n",
    "        * Used `SimpleImputer`\n",
    "        * `KNNImputer` failed\n",
    "    * Retrieve column names\n",
    "    * Recast all features as needed\n",
    "\n",
    "5. Modeling\n",
    "\n",
    "6. Evaluate errors\n",
    "\n",
    "7. Feature importance\n",
    "\n",
    "**TODOs**\n",
    "\n",
    "0. Priorities\n",
    "   1. $\\checkmark$ ~~Remove the target feature for the pipeline?~~\n",
    "        * if the pipeline is fit for the independent features, then it should work with them alone;\n",
    "        * whatever preprocessing is needed for the target feature can be done independently, outside of the pipeline \n",
    "   \n",
    "1. $\\checkmark$ ~~Get the columns names of the transformed data after the `Pipeline` / `ColumnTransformer` steps~~\n",
    "    * _Needed for checking, further exploration, and featuring engineering_\n",
    "    \n",
    "2. Check on the appropriate strategies\n",
    "    * $\\checkmark$ ~~first do cat. encoding with `ColumnTransformer`, then do scaling on numericals in another `Pipeline`~~\n",
    "    * ~~do everything in a single `Pipeline` taking care of the steps~~ $\\to$ everything done with `ColumnTransformer` instead\n",
    "        * allows individual selection of features for transformations\n",
    "    * ~~Drop features with many unfilled values (can't do _after_ imputing) or just impute?, then pipeline~~ \n",
    "        * $\\checkmark$ ~~Drop features with many unfilled values before/after preprocessing?~~\n",
    "        * $\\checkmark$ ~~impute afterwards~~\n",
    "\n",
    "3. $\\checkmark$ ~~Drop features which are mutually correlated; keep only the most relevant ones~~\n",
    "    * **!!!** do this before first preprocessing stage?\n",
    "\n",
    "4. More EDA\n",
    "    * Identify quantities to be removed:\n",
    "        * $\\checkmark$ ~~IDs which contribute to the spikes in the neg. tail of the 'price_doc' distribution~~ $\\to$ _this led to a big step in improvement_\n",
    "            * ~~or see if they're correlated with another feature, like 'sub_area'~~ $\\to$ did not find this; just removed sampled IDs\n",
    "            * **open** \n",
    "                * is it possible to automatically detect narrow-bin spikes in a distribution? and eleminate the rows which contribute to them?\n",
    "        * $\\checkmark$ ~~check the distribution of the 'sub_area' feature~~\n",
    "            * ~~are there enough samples for each category?~~ \n",
    "\n",
    "5. More feature engineering\n",
    "    * There are a few more things which can be done to see if there's an improvement:\n",
    "        * $\\checkmark$ ~~removing some IDs (rows) which have some outlier behavior (clearly defined spikes in distributions)~~\n",
    "        * aggregating some features together (e.g. combining nearby 'sub_areas') $\\to$ needs some ad hoc investigations\n",
    "        * $\\checkmark$ Using the classifiers to identify and reduce the number of features to only the important ones. $\\to$ _no improvement; slightly worse with XGB_\n",
    "            * $\\checkmark$ removed the 'sub_area' feature entirely $\\to$ _no improvement_\n",
    "            * **TODO** try with other classifiers\n",
    "\n",
    "6. Try to package up the routine into a single stage with a multistep pipeline\n",
    "    * The issue is employing the KNN_imputer\n",
    "        * the issue _was_ keeping track of the columns since the stages work on different subsets;\n",
    "    * An idea would be to\n",
    "        1. Order the columns first by datatype\n",
    "        2. Then do the structure-preserving transformations (transformations which preserve the number of columns) like scaling, ordinal encoding, imputing(?))\n",
    "        3. Then do the transformations like OneHotEnc \n",
    "    * **Notes**\n",
    "        * since ther original plan was to use the KNN-imputer, where all features were needed together, this meant\n",
    "            1. process the num. and cat. features separately\n",
    "            2. re-attach columns and re-cast dtypes\n",
    "            3. apply the KNN-imputer\n",
    "    * **IDEA** to generalize, need a flexible pipeline \n",
    "        * `overall_pipeline([sub_pipeline1(data_subsetA, data_subsetB, data_subsetC), sub_pipeline2(data_subsetA, data_subset_rest),...])`\n",
    "        * the problem is keeping track of the columns since after the first subpipeline, they will be lost.\n",
    "            \n",
    "**Notes**\n",
    "* All transforms were included with `ColumnTransformer`\n",
    "    * selects cols individually\n",
    "    * can act as a pipeline\n",
    "    * retrieve the columns names and ordering\n",
    "        * _this is important to do the next steps of processing_"
   ]
  },
  {
   "cell_type": "markdown",
   "metadata": {},
   "source": [
    "<hr style=\"border: solid rgb(0,0,0) 0.0px; background-color: rgb(0,0,0);height: 2.0px;\"/>"
   ]
  },
  {
   "cell_type": "code",
   "execution_count": 2,
   "metadata": {
    "cell_style": "center"
   },
   "outputs": [],
   "source": [
    "# This will reload imports before executing code, allowing you to easily change contents of custom scripts\n",
    "%load_ext autoreload\n",
    "%autoreload 2"
   ]
  },
  {
   "cell_type": "code",
   "execution_count": 3,
   "metadata": {},
   "outputs": [],
   "source": [
    "import numpy as np # linear algebra\n",
    "import pandas as pd # data processing, CSV file I/O (e.g. pd.read_csv)"
   ]
  },
  {
   "cell_type": "code",
   "execution_count": 4,
   "metadata": {},
   "outputs": [],
   "source": [
    "import os"
   ]
  },
  {
   "cell_type": "code",
   "execution_count": 5,
   "metadata": {},
   "outputs": [],
   "source": [
    "%matplotlib inline\n",
    "import matplotlib.pyplot as plt\n",
    "import seaborn as sns\n",
    "import random\n",
    "colors = [plt.cm.Spectral(each)\n",
    "          for each in np.linspace(0, 1, 20)]\n",
    "random.shuffle(colors)"
   ]
  },
  {
   "cell_type": "code",
   "execution_count": 6,
   "metadata": {},
   "outputs": [],
   "source": [
    "#import importlib\n",
    "import sys\n",
    "sys.path.append('./helpers/')"
   ]
  },
  {
   "cell_type": "markdown",
   "metadata": {},
   "source": [
    "<hr style=\"border: solid rgb(0,0,0) 0.0px; background-color: rgb(0,0,0);height: 4.0px;\"/>\n",
    "\n",
    "# Modeling"
   ]
  },
  {
   "cell_type": "code",
   "execution_count": 78,
   "metadata": {},
   "outputs": [],
   "source": [
    "import xgboost as xgb\n",
    "\n",
    "from sklearn.model_selection import train_test_split\n",
    "from sklearn.model_selection import KFold\n",
    "from sklearn.model_selection import cross_val_score, cross_validate\n",
    "from sklearn import metrics"
   ]
  },
  {
   "cell_type": "markdown",
   "metadata": {},
   "source": [
    "## Load the data"
   ]
  },
  {
   "cell_type": "code",
   "execution_count": 7,
   "metadata": {},
   "outputs": [],
   "source": [
    "df = pd.read_csv('../../datasets/sberbank-russian-housing-market/train_prepro.csv', \\\n",
    "                 infer_datetime_format=True, parse_dates=['timestamp'])"
   ]
  },
  {
   "cell_type": "code",
   "execution_count": 8,
   "metadata": {},
   "outputs": [
    {
     "data": {
      "text/plain": [
       "(30471, 292)"
      ]
     },
     "execution_count": 8,
     "metadata": {},
     "output_type": "execute_result"
    }
   ],
   "source": [
    "df.shape"
   ]
  },
  {
   "cell_type": "code",
   "execution_count": 87,
   "metadata": {},
   "outputs": [],
   "source": [
    "X = df.drop([\"id\", \"timestamp\"], axis=1)\n",
    "y = df[[\"price_doc_\"]].copy()"
   ]
  },
  {
   "cell_type": "code",
   "execution_count": 91,
   "metadata": {},
   "outputs": [],
   "source": [
    "X_train, X_test, y_train, y_test = train_test_split(X, y, random_state=10, test_size=0.25)"
   ]
  },
  {
   "cell_type": "markdown",
   "metadata": {},
   "source": [
    "### Grid Search"
   ]
  },
  {
   "cell_type": "code",
   "execution_count": 88,
   "metadata": {},
   "outputs": [],
   "source": [
    "#metric = 'neg_mean_squared_log_error'\n",
    "metric = 'neg_mean_squared_error'"
   ]
  },
  {
   "cell_type": "code",
   "execution_count": 89,
   "metadata": {},
   "outputs": [
    {
     "name": "stderr",
     "output_type": "stream",
     "text": [
      "/usr/local/lib/python3.6/dist-packages/sklearn/utils/deprecation.py:144: FutureWarning: The sklearn.metrics.scorer module is  deprecated in version 0.22 and will be removed in version 0.24. The corresponding classes / functions should instead be imported from sklearn.metrics. Anything that cannot be imported from sklearn.metrics is now part of the private API.\n",
      "  warnings.warn(message, FutureWarning)\n"
     ]
    }
   ],
   "source": [
    "from sklearn.model_selection import cross_validate\n",
    "from sklearn.model_selection import GridSearchCV\n",
    "from sklearn.metrics import mean_squared_log_error, make_scorer\n",
    "from sklearn.metrics.scorer import neg_mean_squared_error_scorer"
   ]
  },
  {
   "cell_type": "code",
   "execution_count": 104,
   "metadata": {},
   "outputs": [
    {
     "name": "stdout",
     "output_type": "stream",
     "text": [
      "Fitting 3 folds for each of 144 candidates, totalling 432 fits\n"
     ]
    },
    {
     "name": "stderr",
     "output_type": "stream",
     "text": [
      "[Parallel(n_jobs=-1)]: Using backend LokyBackend with 4 concurrent workers.\n",
      "[Parallel(n_jobs=-1)]: Done   5 tasks      | elapsed:  5.6min\n",
      "[Parallel(n_jobs=-1)]: Done  10 tasks      | elapsed:  8.4min\n",
      "[Parallel(n_jobs=-1)]: Done  17 tasks      | elapsed: 14.2min\n",
      "[Parallel(n_jobs=-1)]: Done  24 tasks      | elapsed: 17.0min\n",
      "[Parallel(n_jobs=-1)]: Done  33 tasks      | elapsed: 25.0min\n",
      "[Parallel(n_jobs=-1)]: Done  42 tasks      | elapsed: 30.3min\n",
      "[Parallel(n_jobs=-1)]: Done  53 tasks      | elapsed: 38.3min\n",
      "[Parallel(n_jobs=-1)]: Done  64 tasks      | elapsed: 43.9min\n",
      "[Parallel(n_jobs=-1)]: Done  77 tasks      | elapsed: 54.4min\n",
      "[Parallel(n_jobs=-1)]: Done  90 tasks      | elapsed: 62.5min\n",
      "[Parallel(n_jobs=-1)]: Done 105 tasks      | elapsed: 73.2min\n",
      "[Parallel(n_jobs=-1)]: Done 120 tasks      | elapsed: 81.4min\n",
      "[Parallel(n_jobs=-1)]: Done 137 tasks      | elapsed: 94.6min\n",
      "[Parallel(n_jobs=-1)]: Done 154 tasks      | elapsed: 105.4min\n",
      "[Parallel(n_jobs=-1)]: Done 173 tasks      | elapsed: 118.8min\n",
      "[Parallel(n_jobs=-1)]: Done 192 tasks      | elapsed: 129.8min\n",
      "[Parallel(n_jobs=-1)]: Done 213 tasks      | elapsed: 145.9min\n",
      "[Parallel(n_jobs=-1)]: Done 234 tasks      | elapsed: 159.4min\n",
      "[Parallel(n_jobs=-1)]: Done 257 tasks      | elapsed: 175.6min\n",
      "[Parallel(n_jobs=-1)]: Done 280 tasks      | elapsed: 189.5min\n",
      "[Parallel(n_jobs=-1)]: Done 305 tasks      | elapsed: 208.1min\n",
      "[Parallel(n_jobs=-1)]: Done 330 tasks      | elapsed: 224.4min\n",
      "[Parallel(n_jobs=-1)]: Done 357 tasks      | elapsed: 243.3min\n",
      "[Parallel(n_jobs=-1)]: Done 384 tasks      | elapsed: 260.1min\n",
      "[Parallel(n_jobs=-1)]: Done 413 tasks      | elapsed: 281.3min\n",
      "[Parallel(n_jobs=-1)]: Done 432 out of 432 | elapsed: 292.7min finished\n"
     ]
    },
    {
     "name": "stdout",
     "output_type": "stream",
     "text": [
      "{'xgbregressor__estimators': 400, 'xgbregressor__learning_rate': 0.02, 'xgbregressor__max_depth': 4, 'xgbregressor__min_child_weight': 0.2}\n",
      "0.5883\n"
     ]
    }
   ],
   "source": [
    "model = xgb.XGBRegressor(objective=\"reg:squarederror\",\n",
    "                             colsample_bytree=0.46, gamma=0.047, \n",
    "                             learning_rate=0.04, max_depth=2, \n",
    "                             min_child_weight=0.5, n_estimators=2000,\n",
    "                             reg_alpha=0.46, reg_lambda=0.86,\n",
    "                             subsample=0.52, random_state=1, n_jobs=-1,silent=0)\n",
    "\n",
    "param_grid = {\n",
    "    'xgbregressor__max_depth' : [4, 8, 12, 16],\n",
    "    'xgbregressor__estimators' : [400 ,800, 1600],\n",
    "    \"xgbregressor__learning_rate\" : [0.02, 0.03, 0.04],\n",
    "    \"xgbregressor__min_child_weight\" : [0.2, 0.3, 0.4, 0.5]\n",
    "    }\n",
    "\n",
    "search = GridSearchCV(model, param_grid, cv=3, scoring=metric, n_jobs=-1, verbose=10)\n",
    "search.fit(X, y)\n",
    "print(f\"{search.best_params_}\")\n",
    "print(f\"{np.sqrt(-search.best_score_):.4}\")"
   ]
  },
  {
   "cell_type": "code",
   "execution_count": 111,
   "metadata": {
    "ExecuteTime": {
     "end_time": "2019-09-22T12:40:19.941415Z",
     "start_time": "2019-09-22T12:40:19.939150Z"
    },
    "_kg_hide-input": true,
    "collapsed": true
   },
   "outputs": [
    {
     "name": "stdout",
     "output_type": "stream",
     "text": [
      "Fitting 3 folds for each of 16 candidates, totalling 48 fits\n"
     ]
    },
    {
     "name": "stderr",
     "output_type": "stream",
     "text": [
      "[Parallel(n_jobs=-1)]: Using backend LokyBackend with 4 concurrent workers.\n",
      "[Parallel(n_jobs=-1)]: Done   1 tasks      | elapsed:   51.3s\n",
      "[Parallel(n_jobs=-1)]: Done   2 tasks      | elapsed:   51.9s\n",
      "[Parallel(n_jobs=-1)]: Done   3 tasks      | elapsed:   52.2s\n",
      "[Parallel(n_jobs=-1)]: Done   4 tasks      | elapsed:   52.3s\n",
      "[Parallel(n_jobs=-1)]: Done   5 tasks      | elapsed:  1.7min\n",
      "[Parallel(n_jobs=-1)]: Done   6 tasks      | elapsed:  1.7min\n",
      "[Parallel(n_jobs=-1)]: Done   7 tasks      | elapsed:  1.7min\n",
      "[Parallel(n_jobs=-1)]: Done   8 tasks      | elapsed:  1.7min\n",
      "[Parallel(n_jobs=-1)]: Done   9 tasks      | elapsed:  2.5min\n",
      "[Parallel(n_jobs=-1)]: Done  10 tasks      | elapsed:  2.5min\n",
      "[Parallel(n_jobs=-1)]: Done  11 tasks      | elapsed:  2.5min\n",
      "[Parallel(n_jobs=-1)]: Done  12 tasks      | elapsed:  2.5min\n",
      "[Parallel(n_jobs=-1)]: Done  13 tasks      | elapsed:  3.3min\n",
      "[Parallel(n_jobs=-1)]: Done  14 tasks      | elapsed:  3.3min\n",
      "[Parallel(n_jobs=-1)]: Done  15 tasks      | elapsed:  3.3min\n",
      "[Parallel(n_jobs=-1)]: Done  16 tasks      | elapsed:  3.3min\n",
      "[Parallel(n_jobs=-1)]: Done  17 tasks      | elapsed:  4.1min\n",
      "[Parallel(n_jobs=-1)]: Done  18 tasks      | elapsed:  4.1min\n",
      "[Parallel(n_jobs=-1)]: Done  19 tasks      | elapsed:  4.1min\n",
      "[Parallel(n_jobs=-1)]: Done  20 tasks      | elapsed:  4.1min\n",
      "[Parallel(n_jobs=-1)]: Done  21 tasks      | elapsed:  4.9min\n",
      "[Parallel(n_jobs=-1)]: Done  22 tasks      | elapsed:  4.9min\n",
      "[Parallel(n_jobs=-1)]: Done  23 tasks      | elapsed:  4.9min\n",
      "[Parallel(n_jobs=-1)]: Done  24 tasks      | elapsed:  4.9min\n",
      "[Parallel(n_jobs=-1)]: Done  25 tasks      | elapsed:  5.7min\n",
      "[Parallel(n_jobs=-1)]: Done  26 tasks      | elapsed:  5.7min\n",
      "[Parallel(n_jobs=-1)]: Done  27 tasks      | elapsed:  5.7min\n",
      "[Parallel(n_jobs=-1)]: Done  28 tasks      | elapsed:  5.7min\n",
      "[Parallel(n_jobs=-1)]: Done  29 tasks      | elapsed:  6.5min\n",
      "[Parallel(n_jobs=-1)]: Done  30 tasks      | elapsed:  6.6min\n",
      "[Parallel(n_jobs=-1)]: Done  31 tasks      | elapsed:  6.6min\n",
      "[Parallel(n_jobs=-1)]: Done  32 tasks      | elapsed:  6.6min\n",
      "[Parallel(n_jobs=-1)]: Done  33 tasks      | elapsed:  7.4min\n",
      "[Parallel(n_jobs=-1)]: Done  34 tasks      | elapsed:  7.4min\n",
      "[Parallel(n_jobs=-1)]: Done  35 tasks      | elapsed:  7.4min\n",
      "[Parallel(n_jobs=-1)]: Done  36 tasks      | elapsed:  7.4min\n",
      "[Parallel(n_jobs=-1)]: Done  37 tasks      | elapsed:  8.2min\n",
      "[Parallel(n_jobs=-1)]: Done  38 tasks      | elapsed:  8.2min\n",
      "[Parallel(n_jobs=-1)]: Done  39 tasks      | elapsed:  8.2min\n",
      "[Parallel(n_jobs=-1)]: Done  40 tasks      | elapsed:  8.2min\n",
      "[Parallel(n_jobs=-1)]: Done  41 tasks      | elapsed:  9.0min\n",
      "[Parallel(n_jobs=-1)]: Done  44 out of  48 | elapsed:  9.1min remaining:   49.5s\n",
      "[Parallel(n_jobs=-1)]: Done  48 out of  48 | elapsed:  9.9min finished\n"
     ]
    },
    {
     "name": "stdout",
     "output_type": "stream",
     "text": [
      "[09:00:58] DEBUG: /workspace/src/gbm/gbtree.cc:146: Using tree method: 2\n",
      "[09:00:59] INFO: /workspace/src/tree/updater_prune.cc:89: tree pruning end, 616 extra nodes, 0 pruned nodes, max_depth=10\n",
      "[09:00:59] INFO: /workspace/src/tree/updater_prune.cc:89: tree pruning end, 640 extra nodes, 0 pruned nodes, max_depth=10\n",
      "[09:01:00] INFO: /workspace/src/tree/updater_prune.cc:89: tree pruning end, 988 extra nodes, 0 pruned nodes, max_depth=10\n",
      "[09:01:00] INFO: /workspace/src/tree/updater_prune.cc:89: tree pruning end, 910 extra nodes, 0 pruned nodes, max_depth=10\n",
      "[09:01:01] INFO: /workspace/src/tree/updater_prune.cc:89: tree pruning end, 920 extra nodes, 0 pruned nodes, max_depth=10\n",
      "[09:01:01] INFO: /workspace/src/tree/updater_prune.cc:89: tree pruning end, 698 extra nodes, 0 pruned nodes, max_depth=10\n",
      "[09:01:02] INFO: /workspace/src/tree/updater_prune.cc:89: tree pruning end, 808 extra nodes, 0 pruned nodes, max_depth=10\n",
      "[09:01:02] INFO: /workspace/src/tree/updater_prune.cc:89: tree pruning end, 680 extra nodes, 0 pruned nodes, max_depth=10\n",
      "[09:01:03] INFO: /workspace/src/tree/updater_prune.cc:89: tree pruning end, 702 extra nodes, 0 pruned nodes, max_depth=10\n",
      "[09:01:03] INFO: /workspace/src/tree/updater_prune.cc:89: tree pruning end, 592 extra nodes, 0 pruned nodes, max_depth=10\n",
      "[09:01:03] INFO: /workspace/src/tree/updater_prune.cc:89: tree pruning end, 408 extra nodes, 0 pruned nodes, max_depth=10\n",
      "[09:01:04] INFO: /workspace/src/tree/updater_prune.cc:89: tree pruning end, 210 extra nodes, 0 pruned nodes, max_depth=10\n",
      "[09:01:04] INFO: /workspace/src/tree/updater_prune.cc:89: tree pruning end, 250 extra nodes, 0 pruned nodes, max_depth=10\n",
      "[09:01:05] INFO: /workspace/src/tree/updater_prune.cc:89: tree pruning end, 332 extra nodes, 0 pruned nodes, max_depth=10\n",
      "[09:01:05] INFO: /workspace/src/tree/updater_prune.cc:89: tree pruning end, 332 extra nodes, 0 pruned nodes, max_depth=10\n",
      "[09:01:06] INFO: /workspace/src/tree/updater_prune.cc:89: tree pruning end, 558 extra nodes, 0 pruned nodes, max_depth=10\n",
      "[09:01:06] INFO: /workspace/src/tree/updater_prune.cc:89: tree pruning end, 660 extra nodes, 0 pruned nodes, max_depth=10\n",
      "[09:01:07] INFO: /workspace/src/tree/updater_prune.cc:89: tree pruning end, 516 extra nodes, 0 pruned nodes, max_depth=10\n",
      "[09:01:07] INFO: /workspace/src/tree/updater_prune.cc:89: tree pruning end, 360 extra nodes, 0 pruned nodes, max_depth=10\n",
      "[09:01:08] INFO: /workspace/src/tree/updater_prune.cc:89: tree pruning end, 542 extra nodes, 0 pruned nodes, max_depth=10\n",
      "[09:01:08] INFO: /workspace/src/tree/updater_prune.cc:89: tree pruning end, 260 extra nodes, 0 pruned nodes, max_depth=10\n",
      "[09:01:09] INFO: /workspace/src/tree/updater_prune.cc:89: tree pruning end, 560 extra nodes, 0 pruned nodes, max_depth=10\n",
      "[09:01:09] INFO: /workspace/src/tree/updater_prune.cc:89: tree pruning end, 280 extra nodes, 0 pruned nodes, max_depth=10\n",
      "[09:01:09] INFO: /workspace/src/tree/updater_prune.cc:89: tree pruning end, 358 extra nodes, 0 pruned nodes, max_depth=10\n",
      "[09:01:10] INFO: /workspace/src/tree/updater_prune.cc:89: tree pruning end, 224 extra nodes, 0 pruned nodes, max_depth=10\n",
      "[09:01:10] INFO: /workspace/src/tree/updater_prune.cc:89: tree pruning end, 424 extra nodes, 0 pruned nodes, max_depth=10\n",
      "[09:01:11] INFO: /workspace/src/tree/updater_prune.cc:89: tree pruning end, 344 extra nodes, 0 pruned nodes, max_depth=10\n",
      "[09:01:11] INFO: /workspace/src/tree/updater_prune.cc:89: tree pruning end, 420 extra nodes, 0 pruned nodes, max_depth=10\n",
      "[09:01:12] INFO: /workspace/src/tree/updater_prune.cc:89: tree pruning end, 490 extra nodes, 0 pruned nodes, max_depth=10\n",
      "[09:01:12] INFO: /workspace/src/tree/updater_prune.cc:89: tree pruning end, 298 extra nodes, 0 pruned nodes, max_depth=10\n",
      "[09:01:13] INFO: /workspace/src/tree/updater_prune.cc:89: tree pruning end, 168 extra nodes, 0 pruned nodes, max_depth=10\n",
      "[09:01:13] INFO: /workspace/src/tree/updater_prune.cc:89: tree pruning end, 374 extra nodes, 0 pruned nodes, max_depth=10\n",
      "[09:01:13] INFO: /workspace/src/tree/updater_prune.cc:89: tree pruning end, 464 extra nodes, 0 pruned nodes, max_depth=10\n",
      "[09:01:14] INFO: /workspace/src/tree/updater_prune.cc:89: tree pruning end, 414 extra nodes, 0 pruned nodes, max_depth=10\n",
      "[09:01:14] INFO: /workspace/src/tree/updater_prune.cc:89: tree pruning end, 448 extra nodes, 0 pruned nodes, max_depth=10\n",
      "[09:01:15] INFO: /workspace/src/tree/updater_prune.cc:89: tree pruning end, 188 extra nodes, 0 pruned nodes, max_depth=10\n",
      "[09:01:15] INFO: /workspace/src/tree/updater_prune.cc:89: tree pruning end, 348 extra nodes, 0 pruned nodes, max_depth=10\n",
      "[09:01:16] INFO: /workspace/src/tree/updater_prune.cc:89: tree pruning end, 288 extra nodes, 0 pruned nodes, max_depth=10\n",
      "[09:01:16] INFO: /workspace/src/tree/updater_prune.cc:89: tree pruning end, 462 extra nodes, 0 pruned nodes, max_depth=10\n",
      "[09:01:17] INFO: /workspace/src/tree/updater_prune.cc:89: tree pruning end, 316 extra nodes, 0 pruned nodes, max_depth=10\n",
      "[09:01:17] INFO: /workspace/src/tree/updater_prune.cc:89: tree pruning end, 376 extra nodes, 0 pruned nodes, max_depth=10\n",
      "[09:01:17] INFO: /workspace/src/tree/updater_prune.cc:89: tree pruning end, 302 extra nodes, 0 pruned nodes, max_depth=10\n",
      "[09:01:18] INFO: /workspace/src/tree/updater_prune.cc:89: tree pruning end, 434 extra nodes, 0 pruned nodes, max_depth=10\n",
      "[09:01:18] INFO: /workspace/src/tree/updater_prune.cc:89: tree pruning end, 328 extra nodes, 0 pruned nodes, max_depth=10\n",
      "[09:01:19] INFO: /workspace/src/tree/updater_prune.cc:89: tree pruning end, 400 extra nodes, 0 pruned nodes, max_depth=10\n",
      "[09:01:19] INFO: /workspace/src/tree/updater_prune.cc:89: tree pruning end, 292 extra nodes, 0 pruned nodes, max_depth=10\n",
      "[09:01:20] INFO: /workspace/src/tree/updater_prune.cc:89: tree pruning end, 424 extra nodes, 0 pruned nodes, max_depth=10\n",
      "[09:01:20] INFO: /workspace/src/tree/updater_prune.cc:89: tree pruning end, 596 extra nodes, 0 pruned nodes, max_depth=10\n",
      "[09:01:21] INFO: /workspace/src/tree/updater_prune.cc:89: tree pruning end, 364 extra nodes, 0 pruned nodes, max_depth=10\n",
      "[09:01:21] INFO: /workspace/src/tree/updater_prune.cc:89: tree pruning end, 476 extra nodes, 0 pruned nodes, max_depth=10\n",
      "[09:01:21] INFO: /workspace/src/tree/updater_prune.cc:89: tree pruning end, 498 extra nodes, 0 pruned nodes, max_depth=10\n",
      "[09:01:22] INFO: /workspace/src/tree/updater_prune.cc:89: tree pruning end, 270 extra nodes, 0 pruned nodes, max_depth=10\n",
      "[09:01:22] INFO: /workspace/src/tree/updater_prune.cc:89: tree pruning end, 382 extra nodes, 0 pruned nodes, max_depth=10\n",
      "[09:01:23] INFO: /workspace/src/tree/updater_prune.cc:89: tree pruning end, 322 extra nodes, 0 pruned nodes, max_depth=10\n",
      "[09:01:23] INFO: /workspace/src/tree/updater_prune.cc:89: tree pruning end, 544 extra nodes, 0 pruned nodes, max_depth=10\n",
      "[09:01:24] INFO: /workspace/src/tree/updater_prune.cc:89: tree pruning end, 578 extra nodes, 0 pruned nodes, max_depth=10\n",
      "[09:01:24] INFO: /workspace/src/tree/updater_prune.cc:89: tree pruning end, 576 extra nodes, 0 pruned nodes, max_depth=10\n",
      "[09:01:25] INFO: /workspace/src/tree/updater_prune.cc:89: tree pruning end, 432 extra nodes, 0 pruned nodes, max_depth=10\n",
      "[09:01:25] INFO: /workspace/src/tree/updater_prune.cc:89: tree pruning end, 552 extra nodes, 0 pruned nodes, max_depth=10\n",
      "[09:01:25] INFO: /workspace/src/tree/updater_prune.cc:89: tree pruning end, 382 extra nodes, 0 pruned nodes, max_depth=10\n",
      "[09:01:26] INFO: /workspace/src/tree/updater_prune.cc:89: tree pruning end, 378 extra nodes, 0 pruned nodes, max_depth=10\n",
      "[09:01:26] INFO: /workspace/src/tree/updater_prune.cc:89: tree pruning end, 274 extra nodes, 0 pruned nodes, max_depth=10\n",
      "[09:01:27] INFO: /workspace/src/tree/updater_prune.cc:89: tree pruning end, 598 extra nodes, 0 pruned nodes, max_depth=10\n",
      "[09:01:27] INFO: /workspace/src/tree/updater_prune.cc:89: tree pruning end, 250 extra nodes, 0 pruned nodes, max_depth=10\n",
      "[09:01:28] INFO: /workspace/src/tree/updater_prune.cc:89: tree pruning end, 502 extra nodes, 0 pruned nodes, max_depth=10\n",
      "[09:01:28] INFO: /workspace/src/tree/updater_prune.cc:89: tree pruning end, 412 extra nodes, 0 pruned nodes, max_depth=10\n",
      "[09:01:29] INFO: /workspace/src/tree/updater_prune.cc:89: tree pruning end, 240 extra nodes, 0 pruned nodes, max_depth=10\n"
     ]
    },
    {
     "name": "stdout",
     "output_type": "stream",
     "text": [
      "[09:01:29] INFO: /workspace/src/tree/updater_prune.cc:89: tree pruning end, 556 extra nodes, 0 pruned nodes, max_depth=10\n",
      "[09:01:29] INFO: /workspace/src/tree/updater_prune.cc:89: tree pruning end, 540 extra nodes, 0 pruned nodes, max_depth=10\n",
      "[09:01:30] INFO: /workspace/src/tree/updater_prune.cc:89: tree pruning end, 488 extra nodes, 0 pruned nodes, max_depth=10\n",
      "[09:01:30] INFO: /workspace/src/tree/updater_prune.cc:89: tree pruning end, 206 extra nodes, 0 pruned nodes, max_depth=10\n",
      "[09:01:31] INFO: /workspace/src/tree/updater_prune.cc:89: tree pruning end, 468 extra nodes, 0 pruned nodes, max_depth=10\n",
      "[09:01:31] INFO: /workspace/src/tree/updater_prune.cc:89: tree pruning end, 394 extra nodes, 0 pruned nodes, max_depth=10\n",
      "[09:01:32] INFO: /workspace/src/tree/updater_prune.cc:89: tree pruning end, 230 extra nodes, 0 pruned nodes, max_depth=10\n",
      "[09:01:32] INFO: /workspace/src/tree/updater_prune.cc:89: tree pruning end, 320 extra nodes, 0 pruned nodes, max_depth=10\n",
      "[09:01:33] INFO: /workspace/src/tree/updater_prune.cc:89: tree pruning end, 350 extra nodes, 0 pruned nodes, max_depth=10\n",
      "[09:01:33] INFO: /workspace/src/tree/updater_prune.cc:89: tree pruning end, 382 extra nodes, 0 pruned nodes, max_depth=10\n",
      "[09:01:33] INFO: /workspace/src/tree/updater_prune.cc:89: tree pruning end, 362 extra nodes, 0 pruned nodes, max_depth=10\n",
      "[09:01:34] INFO: /workspace/src/tree/updater_prune.cc:89: tree pruning end, 378 extra nodes, 0 pruned nodes, max_depth=10\n",
      "[09:01:34] INFO: /workspace/src/tree/updater_prune.cc:89: tree pruning end, 386 extra nodes, 0 pruned nodes, max_depth=10\n",
      "[09:01:35] INFO: /workspace/src/tree/updater_prune.cc:89: tree pruning end, 592 extra nodes, 0 pruned nodes, max_depth=10\n",
      "[09:01:35] INFO: /workspace/src/tree/updater_prune.cc:89: tree pruning end, 336 extra nodes, 0 pruned nodes, max_depth=10\n",
      "[09:01:36] INFO: /workspace/src/tree/updater_prune.cc:89: tree pruning end, 484 extra nodes, 0 pruned nodes, max_depth=10\n",
      "[09:01:36] INFO: /workspace/src/tree/updater_prune.cc:89: tree pruning end, 478 extra nodes, 0 pruned nodes, max_depth=10\n",
      "[09:01:37] INFO: /workspace/src/tree/updater_prune.cc:89: tree pruning end, 598 extra nodes, 0 pruned nodes, max_depth=10\n",
      "[09:01:37] INFO: /workspace/src/tree/updater_prune.cc:89: tree pruning end, 638 extra nodes, 0 pruned nodes, max_depth=10\n",
      "[09:01:37] INFO: /workspace/src/tree/updater_prune.cc:89: tree pruning end, 434 extra nodes, 0 pruned nodes, max_depth=10\n",
      "[09:01:38] INFO: /workspace/src/tree/updater_prune.cc:89: tree pruning end, 548 extra nodes, 0 pruned nodes, max_depth=10\n",
      "[09:01:38] INFO: /workspace/src/tree/updater_prune.cc:89: tree pruning end, 438 extra nodes, 0 pruned nodes, max_depth=10\n",
      "[09:01:39] INFO: /workspace/src/tree/updater_prune.cc:89: tree pruning end, 512 extra nodes, 0 pruned nodes, max_depth=10\n",
      "[09:01:39] INFO: /workspace/src/tree/updater_prune.cc:89: tree pruning end, 540 extra nodes, 0 pruned nodes, max_depth=10\n",
      "[09:01:40] INFO: /workspace/src/tree/updater_prune.cc:89: tree pruning end, 536 extra nodes, 0 pruned nodes, max_depth=10\n",
      "[09:01:40] INFO: /workspace/src/tree/updater_prune.cc:89: tree pruning end, 396 extra nodes, 0 pruned nodes, max_depth=10\n",
      "[09:01:41] INFO: /workspace/src/tree/updater_prune.cc:89: tree pruning end, 302 extra nodes, 0 pruned nodes, max_depth=10\n",
      "[09:01:41] INFO: /workspace/src/tree/updater_prune.cc:89: tree pruning end, 334 extra nodes, 0 pruned nodes, max_depth=10\n",
      "[09:01:41] INFO: /workspace/src/tree/updater_prune.cc:89: tree pruning end, 628 extra nodes, 0 pruned nodes, max_depth=10\n",
      "[09:01:42] INFO: /workspace/src/tree/updater_prune.cc:89: tree pruning end, 500 extra nodes, 0 pruned nodes, max_depth=10\n",
      "[09:01:42] INFO: /workspace/src/tree/updater_prune.cc:89: tree pruning end, 272 extra nodes, 0 pruned nodes, max_depth=10\n",
      "[09:01:43] INFO: /workspace/src/tree/updater_prune.cc:89: tree pruning end, 474 extra nodes, 0 pruned nodes, max_depth=10\n",
      "[09:01:43] INFO: /workspace/src/tree/updater_prune.cc:89: tree pruning end, 504 extra nodes, 0 pruned nodes, max_depth=10\n",
      "{'xgbregressor__estimators': 100, 'xgbregressor__learning_rate': 0.04, 'xgbregressor__max_depth': 8, 'xgbregressor__min_child_weight': 0.4}\n",
      "0.6232\n"
     ]
    }
   ],
   "source": [
    "#GridSearchCV XGBoost\n",
    "\"\"\"\n",
    "    n_estimators : int\n",
    "        Number of gradient boosted trees.  Equivalent to number of boosting\n",
    "        rounds.\n",
    "\n",
    "    max_depth : int\n",
    "        Maximum tree depth for base learners.\n",
    "    learning_rate : float\n",
    "        Boosting learning rate (xgb's \"eta\")\n",
    "    objective : string or callable\n",
    "        Specify the learning task and the corresponding learning objective or\n",
    "        a custom objective function to be used (see note below).\n",
    "    booster: string\n",
    "        Specify which booster to use: gbtree, gblinear or dart.\n",
    "    tree_method: --> documentation\n",
    "    gamma : float\n",
    "        Minimum loss reduction required to make a further partition on a leaf\n",
    "        node of the tree.\n",
    "    min_child_weight : int\n",
    "        Minimum sum of instance weight(hessian) needed in a child.\n",
    "    max_delta_step : int\n",
    "        Maximum delta step we allow each tree's weight estimation to be.\n",
    "    subsample : float\n",
    "        Subsample ratio of the training instance.\n",
    "    colsample_bytree : float\n",
    "        Subsample ratio of columns when constructing each tree.\n",
    "    colsample_bylevel : float\n",
    "        Subsample ratio of columns for each level.\n",
    "    colsample_bynode : float\n",
    "        Subsample ratio of columns for each split.\n",
    "    reg_alpha : float (xgb's alpha)\n",
    "        L1 regularization term on weights\n",
    "    reg_lambda : float (xgb's lambda)\n",
    "        L2 regularization term on weights\n",
    "    scale_pos_weight : float\n",
    "        Balancing of positive and negative weights.\n",
    "\"\"\"\n",
    "\n",
    "\n",
    "xgbreg = xgb.XGBRegressor(base_score=0.5, booster=None, colsample_bylevel=1,\n",
    "             colsample_bynode=1, colsample_bytree=0.7,\n",
    "             eval_metric='rmse', gamma=0, gpu_id=-1, importance_type='gain',\n",
    "             interaction_constraints=None,\n",
    "             max_delta_step=0, max_depth=10, min_child_weight=1,\n",
    "             monotone_constraints=None, n_estimators=100, n_jobs=0,\n",
    "             num_parallel_tree=1, objective='reg:squarederror', random_state=0,\n",
    "             reg_alpha=0, reg_lambda=1, scale_pos_weight=1, silent=0,\n",
    "             subsample=0.7, tree_method=None, validate_parameters=False,\n",
    "             verbosity=3)\n",
    "\n",
    "param_grid = {\n",
    "    'xgbregressor__max_depth' : [8, 12],\n",
    "    'xgbregressor__estimators' : [100, 200],\n",
    "    \"xgbregressor__learning_rate\" : [0.04, 0.06],\n",
    "    \"xgbregressor__min_child_weight\" : [0.4, 1.2],\n",
    "    }\n",
    "\n",
    "search = GridSearchCV(xgbreg, param_grid, cv=3, scoring=metric, n_jobs=-1, verbose=20)\n",
    "search.fit(X, y)\n",
    "print(f\"{search.best_params_}\")\n",
    "print(f\"{np.sqrt(-search.best_score_):.4}\")"
   ]
  },
  {
   "cell_type": "code",
   "execution_count": 115,
   "metadata": {
    "scrolled": false
   },
   "outputs": [
    {
     "name": "stdout",
     "output_type": "stream",
     "text": [
      "[09:28:27] ======== Monitor: Learner ========\n",
      "[09:28:27] Configure: 0.001298s, 1 calls @ 1298us\n",
      "\n",
      "[09:28:27] GetGradient: 0.136064s, 100 calls @ 136064us\n",
      "\n",
      "[09:28:27] PredictRaw: 0.020187s, 100 calls @ 20187us\n",
      "\n",
      "[09:28:27] UpdateOneIter: 44.8924s, 100 calls @ 44892383us\n",
      "\n",
      "[09:28:27] ======== Monitor: GBTree ========\n",
      "[09:28:27] BoostNewTrees: 42.6725s, 100 calls @ 42672518us\n",
      "\n",
      "[09:28:27] CommitModel: 2.05905s, 100 calls @ 2059054us\n",
      "\n",
      "Fitting 5 folds for each of 9 candidates, totalling 45 fits\n"
     ]
    },
    {
     "name": "stderr",
     "output_type": "stream",
     "text": [
      "[Parallel(n_jobs=-1)]: Using backend LokyBackend with 4 concurrent workers.\n",
      "[Parallel(n_jobs=-1)]: Done  45 out of  45 | elapsed: 12.8min finished\n"
     ]
    },
    {
     "name": "stdout",
     "output_type": "stream",
     "text": [
      "[09:41:17] DEBUG: /workspace/src/gbm/gbtree.cc:146: Using tree method: 2\n",
      "[09:41:18] INFO: /workspace/src/tree/updater_prune.cc:89: tree pruning end, 616 extra nodes, 0 pruned nodes, max_depth=10\n",
      "[09:41:18] INFO: /workspace/src/tree/updater_prune.cc:89: tree pruning end, 640 extra nodes, 0 pruned nodes, max_depth=10\n",
      "[09:41:19] INFO: /workspace/src/tree/updater_prune.cc:89: tree pruning end, 988 extra nodes, 0 pruned nodes, max_depth=10\n",
      "[09:41:19] INFO: /workspace/src/tree/updater_prune.cc:89: tree pruning end, 910 extra nodes, 0 pruned nodes, max_depth=10\n",
      "[09:41:20] INFO: /workspace/src/tree/updater_prune.cc:89: tree pruning end, 920 extra nodes, 0 pruned nodes, max_depth=10\n",
      "[09:41:20] INFO: /workspace/src/tree/updater_prune.cc:89: tree pruning end, 698 extra nodes, 0 pruned nodes, max_depth=10\n",
      "[09:41:21] INFO: /workspace/src/tree/updater_prune.cc:89: tree pruning end, 808 extra nodes, 0 pruned nodes, max_depth=10\n",
      "[09:41:21] INFO: /workspace/src/tree/updater_prune.cc:89: tree pruning end, 680 extra nodes, 0 pruned nodes, max_depth=10\n",
      "[09:41:22] INFO: /workspace/src/tree/updater_prune.cc:89: tree pruning end, 702 extra nodes, 0 pruned nodes, max_depth=10\n",
      "[09:41:22] INFO: /workspace/src/tree/updater_prune.cc:89: tree pruning end, 592 extra nodes, 0 pruned nodes, max_depth=10\n",
      "[09:41:23] INFO: /workspace/src/tree/updater_prune.cc:89: tree pruning end, 408 extra nodes, 0 pruned nodes, max_depth=10\n",
      "[09:41:23] INFO: /workspace/src/tree/updater_prune.cc:89: tree pruning end, 210 extra nodes, 0 pruned nodes, max_depth=10\n",
      "[09:41:24] INFO: /workspace/src/tree/updater_prune.cc:89: tree pruning end, 250 extra nodes, 0 pruned nodes, max_depth=10\n",
      "[09:41:24] INFO: /workspace/src/tree/updater_prune.cc:89: tree pruning end, 332 extra nodes, 0 pruned nodes, max_depth=10\n",
      "[09:41:25] INFO: /workspace/src/tree/updater_prune.cc:89: tree pruning end, 332 extra nodes, 0 pruned nodes, max_depth=10\n",
      "[09:41:25] INFO: /workspace/src/tree/updater_prune.cc:89: tree pruning end, 558 extra nodes, 0 pruned nodes, max_depth=10\n",
      "[09:41:26] INFO: /workspace/src/tree/updater_prune.cc:89: tree pruning end, 660 extra nodes, 0 pruned nodes, max_depth=10\n",
      "[09:41:26] INFO: /workspace/src/tree/updater_prune.cc:89: tree pruning end, 516 extra nodes, 0 pruned nodes, max_depth=10\n",
      "[09:41:27] INFO: /workspace/src/tree/updater_prune.cc:89: tree pruning end, 360 extra nodes, 0 pruned nodes, max_depth=10\n",
      "[09:41:27] INFO: /workspace/src/tree/updater_prune.cc:89: tree pruning end, 542 extra nodes, 0 pruned nodes, max_depth=10\n",
      "[09:41:28] INFO: /workspace/src/tree/updater_prune.cc:89: tree pruning end, 260 extra nodes, 0 pruned nodes, max_depth=10\n",
      "[09:41:28] INFO: /workspace/src/tree/updater_prune.cc:89: tree pruning end, 560 extra nodes, 0 pruned nodes, max_depth=10\n",
      "[09:41:29] INFO: /workspace/src/tree/updater_prune.cc:89: tree pruning end, 280 extra nodes, 0 pruned nodes, max_depth=10\n",
      "[09:41:29] INFO: /workspace/src/tree/updater_prune.cc:89: tree pruning end, 358 extra nodes, 0 pruned nodes, max_depth=10\n",
      "[09:41:29] INFO: /workspace/src/tree/updater_prune.cc:89: tree pruning end, 224 extra nodes, 0 pruned nodes, max_depth=10\n",
      "[09:41:30] INFO: /workspace/src/tree/updater_prune.cc:89: tree pruning end, 424 extra nodes, 0 pruned nodes, max_depth=10\n",
      "[09:41:30] INFO: /workspace/src/tree/updater_prune.cc:89: tree pruning end, 344 extra nodes, 0 pruned nodes, max_depth=10\n",
      "[09:41:31] INFO: /workspace/src/tree/updater_prune.cc:89: tree pruning end, 420 extra nodes, 0 pruned nodes, max_depth=10\n",
      "[09:41:31] INFO: /workspace/src/tree/updater_prune.cc:89: tree pruning end, 490 extra nodes, 0 pruned nodes, max_depth=10\n",
      "[09:41:32] INFO: /workspace/src/tree/updater_prune.cc:89: tree pruning end, 298 extra nodes, 0 pruned nodes, max_depth=10\n",
      "[09:41:32] INFO: /workspace/src/tree/updater_prune.cc:89: tree pruning end, 168 extra nodes, 0 pruned nodes, max_depth=10\n",
      "[09:41:33] INFO: /workspace/src/tree/updater_prune.cc:89: tree pruning end, 374 extra nodes, 0 pruned nodes, max_depth=10\n",
      "[09:41:33] INFO: /workspace/src/tree/updater_prune.cc:89: tree pruning end, 464 extra nodes, 0 pruned nodes, max_depth=10\n",
      "[09:41:34] INFO: /workspace/src/tree/updater_prune.cc:89: tree pruning end, 414 extra nodes, 0 pruned nodes, max_depth=10\n",
      "[09:41:34] INFO: /workspace/src/tree/updater_prune.cc:89: tree pruning end, 448 extra nodes, 0 pruned nodes, max_depth=10\n",
      "[09:41:35] INFO: /workspace/src/tree/updater_prune.cc:89: tree pruning end, 188 extra nodes, 0 pruned nodes, max_depth=10\n",
      "[09:41:35] INFO: /workspace/src/tree/updater_prune.cc:89: tree pruning end, 348 extra nodes, 0 pruned nodes, max_depth=10\n",
      "[09:41:35] INFO: /workspace/src/tree/updater_prune.cc:89: tree pruning end, 288 extra nodes, 0 pruned nodes, max_depth=10\n",
      "[09:41:36] INFO: /workspace/src/tree/updater_prune.cc:89: tree pruning end, 462 extra nodes, 0 pruned nodes, max_depth=10\n",
      "[09:41:36] INFO: /workspace/src/tree/updater_prune.cc:89: tree pruning end, 316 extra nodes, 0 pruned nodes, max_depth=10\n",
      "[09:41:37] INFO: /workspace/src/tree/updater_prune.cc:89: tree pruning end, 376 extra nodes, 0 pruned nodes, max_depth=10\n",
      "[09:41:37] INFO: /workspace/src/tree/updater_prune.cc:89: tree pruning end, 302 extra nodes, 0 pruned nodes, max_depth=10\n",
      "[09:41:38] INFO: /workspace/src/tree/updater_prune.cc:89: tree pruning end, 434 extra nodes, 0 pruned nodes, max_depth=10\n",
      "[09:41:38] INFO: /workspace/src/tree/updater_prune.cc:89: tree pruning end, 328 extra nodes, 0 pruned nodes, max_depth=10\n",
      "[09:41:39] INFO: /workspace/src/tree/updater_prune.cc:89: tree pruning end, 400 extra nodes, 0 pruned nodes, max_depth=10\n",
      "[09:41:39] INFO: /workspace/src/tree/updater_prune.cc:89: tree pruning end, 292 extra nodes, 0 pruned nodes, max_depth=10\n",
      "[09:41:40] INFO: /workspace/src/tree/updater_prune.cc:89: tree pruning end, 424 extra nodes, 0 pruned nodes, max_depth=10\n",
      "[09:41:40] INFO: /workspace/src/tree/updater_prune.cc:89: tree pruning end, 596 extra nodes, 0 pruned nodes, max_depth=10\n",
      "[09:41:40] INFO: /workspace/src/tree/updater_prune.cc:89: tree pruning end, 364 extra nodes, 0 pruned nodes, max_depth=10\n",
      "[09:41:41] INFO: /workspace/src/tree/updater_prune.cc:89: tree pruning end, 476 extra nodes, 0 pruned nodes, max_depth=10\n",
      "[09:41:41] INFO: /workspace/src/tree/updater_prune.cc:89: tree pruning end, 498 extra nodes, 0 pruned nodes, max_depth=10\n",
      "[09:41:42] INFO: /workspace/src/tree/updater_prune.cc:89: tree pruning end, 270 extra nodes, 0 pruned nodes, max_depth=10\n",
      "[09:41:42] INFO: /workspace/src/tree/updater_prune.cc:89: tree pruning end, 382 extra nodes, 0 pruned nodes, max_depth=10\n",
      "[09:41:43] INFO: /workspace/src/tree/updater_prune.cc:89: tree pruning end, 322 extra nodes, 0 pruned nodes, max_depth=10\n",
      "[09:41:43] INFO: /workspace/src/tree/updater_prune.cc:89: tree pruning end, 544 extra nodes, 0 pruned nodes, max_depth=10\n",
      "[09:41:44] INFO: /workspace/src/tree/updater_prune.cc:89: tree pruning end, 578 extra nodes, 0 pruned nodes, max_depth=10\n",
      "[09:41:44] INFO: /workspace/src/tree/updater_prune.cc:89: tree pruning end, 576 extra nodes, 0 pruned nodes, max_depth=10\n",
      "[09:41:44] INFO: /workspace/src/tree/updater_prune.cc:89: tree pruning end, 432 extra nodes, 0 pruned nodes, max_depth=10\n",
      "[09:41:45] INFO: /workspace/src/tree/updater_prune.cc:89: tree pruning end, 552 extra nodes, 0 pruned nodes, max_depth=10\n",
      "[09:41:45] INFO: /workspace/src/tree/updater_prune.cc:89: tree pruning end, 382 extra nodes, 0 pruned nodes, max_depth=10\n",
      "[09:41:46] INFO: /workspace/src/tree/updater_prune.cc:89: tree pruning end, 378 extra nodes, 0 pruned nodes, max_depth=10\n",
      "[09:41:46] INFO: /workspace/src/tree/updater_prune.cc:89: tree pruning end, 274 extra nodes, 0 pruned nodes, max_depth=10\n",
      "[09:41:47] INFO: /workspace/src/tree/updater_prune.cc:89: tree pruning end, 598 extra nodes, 0 pruned nodes, max_depth=10\n",
      "[09:41:47] INFO: /workspace/src/tree/updater_prune.cc:89: tree pruning end, 250 extra nodes, 0 pruned nodes, max_depth=10\n",
      "[09:41:48] INFO: /workspace/src/tree/updater_prune.cc:89: tree pruning end, 502 extra nodes, 0 pruned nodes, max_depth=10\n",
      "[09:41:48] INFO: /workspace/src/tree/updater_prune.cc:89: tree pruning end, 412 extra nodes, 0 pruned nodes, max_depth=10\n",
      "[09:41:49] INFO: /workspace/src/tree/updater_prune.cc:89: tree pruning end, 240 extra nodes, 0 pruned nodes, max_depth=10\n"
     ]
    },
    {
     "name": "stdout",
     "output_type": "stream",
     "text": [
      "[09:41:49] INFO: /workspace/src/tree/updater_prune.cc:89: tree pruning end, 556 extra nodes, 0 pruned nodes, max_depth=10\n",
      "[09:41:49] INFO: /workspace/src/tree/updater_prune.cc:89: tree pruning end, 540 extra nodes, 0 pruned nodes, max_depth=10\n",
      "[09:41:50] INFO: /workspace/src/tree/updater_prune.cc:89: tree pruning end, 488 extra nodes, 0 pruned nodes, max_depth=10\n",
      "[09:41:50] INFO: /workspace/src/tree/updater_prune.cc:89: tree pruning end, 206 extra nodes, 0 pruned nodes, max_depth=10\n",
      "[09:41:51] INFO: /workspace/src/tree/updater_prune.cc:89: tree pruning end, 468 extra nodes, 0 pruned nodes, max_depth=10\n",
      "[09:41:51] INFO: /workspace/src/tree/updater_prune.cc:89: tree pruning end, 394 extra nodes, 0 pruned nodes, max_depth=10\n",
      "[09:41:52] INFO: /workspace/src/tree/updater_prune.cc:89: tree pruning end, 230 extra nodes, 0 pruned nodes, max_depth=10\n",
      "[09:41:52] INFO: /workspace/src/tree/updater_prune.cc:89: tree pruning end, 320 extra nodes, 0 pruned nodes, max_depth=10\n",
      "[09:41:52] INFO: /workspace/src/tree/updater_prune.cc:89: tree pruning end, 350 extra nodes, 0 pruned nodes, max_depth=10\n",
      "[09:41:53] INFO: /workspace/src/tree/updater_prune.cc:89: tree pruning end, 382 extra nodes, 0 pruned nodes, max_depth=10\n",
      "[09:41:53] INFO: /workspace/src/tree/updater_prune.cc:89: tree pruning end, 362 extra nodes, 0 pruned nodes, max_depth=10\n",
      "[09:41:54] INFO: /workspace/src/tree/updater_prune.cc:89: tree pruning end, 378 extra nodes, 0 pruned nodes, max_depth=10\n",
      "[09:41:54] INFO: /workspace/src/tree/updater_prune.cc:89: tree pruning end, 386 extra nodes, 0 pruned nodes, max_depth=10\n",
      "[09:41:55] INFO: /workspace/src/tree/updater_prune.cc:89: tree pruning end, 592 extra nodes, 0 pruned nodes, max_depth=10\n",
      "[09:41:55] INFO: /workspace/src/tree/updater_prune.cc:89: tree pruning end, 336 extra nodes, 0 pruned nodes, max_depth=10\n",
      "[09:41:56] INFO: /workspace/src/tree/updater_prune.cc:89: tree pruning end, 484 extra nodes, 0 pruned nodes, max_depth=10\n",
      "[09:41:56] INFO: /workspace/src/tree/updater_prune.cc:89: tree pruning end, 478 extra nodes, 0 pruned nodes, max_depth=10\n",
      "[09:41:56] INFO: /workspace/src/tree/updater_prune.cc:89: tree pruning end, 598 extra nodes, 0 pruned nodes, max_depth=10\n",
      "[09:41:57] INFO: /workspace/src/tree/updater_prune.cc:89: tree pruning end, 638 extra nodes, 0 pruned nodes, max_depth=10\n",
      "[09:41:57] INFO: /workspace/src/tree/updater_prune.cc:89: tree pruning end, 434 extra nodes, 0 pruned nodes, max_depth=10\n",
      "[09:41:58] INFO: /workspace/src/tree/updater_prune.cc:89: tree pruning end, 548 extra nodes, 0 pruned nodes, max_depth=10\n",
      "[09:41:58] INFO: /workspace/src/tree/updater_prune.cc:89: tree pruning end, 438 extra nodes, 0 pruned nodes, max_depth=10\n",
      "[09:41:59] INFO: /workspace/src/tree/updater_prune.cc:89: tree pruning end, 512 extra nodes, 0 pruned nodes, max_depth=10\n",
      "[09:41:59] INFO: /workspace/src/tree/updater_prune.cc:89: tree pruning end, 540 extra nodes, 0 pruned nodes, max_depth=10\n",
      "[09:42:00] INFO: /workspace/src/tree/updater_prune.cc:89: tree pruning end, 536 extra nodes, 0 pruned nodes, max_depth=10\n",
      "[09:42:00] INFO: /workspace/src/tree/updater_prune.cc:89: tree pruning end, 396 extra nodes, 0 pruned nodes, max_depth=10\n",
      "[09:42:00] INFO: /workspace/src/tree/updater_prune.cc:89: tree pruning end, 302 extra nodes, 0 pruned nodes, max_depth=10\n",
      "[09:42:01] INFO: /workspace/src/tree/updater_prune.cc:89: tree pruning end, 334 extra nodes, 0 pruned nodes, max_depth=10\n",
      "[09:42:01] INFO: /workspace/src/tree/updater_prune.cc:89: tree pruning end, 628 extra nodes, 0 pruned nodes, max_depth=10\n",
      "[09:42:02] INFO: /workspace/src/tree/updater_prune.cc:89: tree pruning end, 500 extra nodes, 0 pruned nodes, max_depth=10\n",
      "[09:42:02] INFO: /workspace/src/tree/updater_prune.cc:89: tree pruning end, 272 extra nodes, 0 pruned nodes, max_depth=10\n",
      "[09:42:03] INFO: /workspace/src/tree/updater_prune.cc:89: tree pruning end, 474 extra nodes, 0 pruned nodes, max_depth=10\n",
      "[09:42:03] INFO: /workspace/src/tree/updater_prune.cc:89: tree pruning end, 504 extra nodes, 0 pruned nodes, max_depth=10\n",
      "{'xgbregressor__learning_rate': 0.04, 'xgbregressor__max_depth': 8}\n",
      "0.5809\n"
     ]
    }
   ],
   "source": [
    "\"\"\"\n",
    "XGBRegressor(base_score=None, booster=None, colsample_bylevel=None,\n",
    "             colsample_bynode=None, colsample_bytree=0.7, eta=0.05,\n",
    "             eval_metric='rmse', gamma=None, gpu_id=None,\n",
    "             importance_type='gain', interaction_constraints=None,\n",
    "             learning_rate=None, max_delta_step=None, max_depth=10,\n",
    "             min_child_weight=None, missing=nan, monotone_constraints=None,\n",
    "             n_estimators=100, n_jobs=None, num_parallel_tree=None,\n",
    "             objective='reg:squarederror', random_state=None, reg_alpha=None,\n",
    "             reg_lambda=None, scale_pos_weight=None, silent=0, subsample=0.7,\n",
    "             tree_method=None, validate_parameters=False, verbosity=None)\n",
    "\"\"\"\n",
    "\n",
    "\n",
    "xgb_params = {\n",
    "    'eta': 0.05,\n",
    "    'max_depth': 10,\n",
    "    'subsample': 0.7,\n",
    "    'colsample_bytree': 0.7,\n",
    "    #'objective': 'reg:linear',\n",
    "    # 'objective':'reg:squarederror', 'n_jobs':-1, #for the feature importance\n",
    "    'eval_metric': 'rmse',\n",
    "    'silent': 1\n",
    "}\n",
    "\n",
    "model = xgb.XGBRegressor(**xgb_params)\n",
    "\n",
    "param_grid = {\n",
    "    'xgbregressor__max_depth' : [8, 10, 12],\n",
    "    \"xgbregressor__learning_rate\" : [0.04, 0.05, 0.06],\n",
    "    }\n",
    "\n",
    "\n",
    "\n",
    "kfold = KFold(n_splits=5, shuffle=True, random_state=1)\n",
    "search = GridSearchCV(xgbreg, param_grid, cv=kfold, scoring=metric, n_jobs=-1, verbose=1)\n",
    "search.fit(X, y)\n",
    "print(f\"{search.best_params_}\")\n",
    "print(f\"{np.sqrt(-search.best_score_):.4}\")"
   ]
  },
  {
   "cell_type": "code",
   "execution_count": 124,
   "metadata": {},
   "outputs": [],
   "source": [
    "xgb_params = {\n",
    "    'eta': 0.05,\n",
    "    'max_depth': 10,\n",
    "    'subsample': 0.7,\n",
    "    'colsample_bytree': 0.7,\n",
    "    #'objective': 'reg:linear',\n",
    "    # 'objective':'reg:squarederror', 'n_jobs':-1, #for the feature importance\n",
    "    'eval_metric': 'rmse',\n",
    "    'silent': 1\n",
    "}\n",
    "\n",
    "model = xgb.XGBRegressor(**xgb_params)\n",
    "model.fit(X_train,y_train)\n",
    "#predictions = model.predict(X_test)\n",
    "\n",
    "kfold = KFold(n_splits=5, shuffle=True, random_state=1)\n",
    "cvscorer = cross_val_score(model, X, y, cv=kfold, scoring=metric)"
   ]
  },
  {
   "cell_type": "code",
   "execution_count": 122,
   "metadata": {},
   "outputs": [
    {
     "name": "stdout",
     "output_type": "stream",
     "text": [
      "{'xgbregressor__eta': 0.04, 'xgbregressor__max_depth': 8}\n",
      "0.5278\n"
     ]
    }
   ],
   "source": [
    "param_grid = {\n",
    "    'xgbregressor__max_depth' : [8, 10, 12],\n",
    "    \"xgbregressor__eta\" : [0.04, 0.05, 0.06],\n",
    "    }\n",
    "\n",
    "\n",
    "kfold = KFold(n_splits=5, shuffle=True, random_state=1)\n",
    "search = GridSearchCV(model, param_grid, cv=kfold, scoring=metric, n_jobs=-1, verbose=0)\n",
    "search.fit(X, y)\n",
    "print(f\"{search.best_params_}\")\n",
    "print(f\"{np.sqrt(-search.best_score_):.4}\")"
   ]
  },
  {
   "cell_type": "code",
   "execution_count": 134,
   "metadata": {},
   "outputs": [
    {
     "name": "stdout",
     "output_type": "stream",
     "text": [
      "6 and 0.03 : [0.56235599 0.55436795 0.54351341 0.55013458 0.49835918]\n",
      "6 and 0.05 : [0.56025795 0.53895065 0.52990379 0.52790068 0.48509939]\n",
      "6 and 0.07 : [0.5571593  0.53638571 0.51757359 0.52506484 0.48935352]\n",
      "10 and 0.03 : [0.56045551 0.5589107  0.53130591 0.53865928 0.48276499]\n",
      "10 and 0.05 : [0.55996603 0.5417227  0.51663691 0.52770425 0.49028224]\n",
      "10 and 0.07 : [0.55871529 0.5388298  0.52046872 0.53124797 0.49394451]\n",
      "14 and 0.03 : [0.56158605 0.56168899 0.53197282 0.5456208  0.4915766 ]\n",
      "14 and 0.05 : [0.56352035 0.5566814  0.53096254 0.52834747 0.49521299]\n",
      "14 and 0.07 : [0.56345494 0.55712817 0.52977254 0.53255232 0.49234366]\n"
     ]
    }
   ],
   "source": [
    "for mdep in [6, 10, 14]:\n",
    "    for eta in [0.03, 0.05, 0.07]:\n",
    "        \n",
    "        xgb_params = {\n",
    "            'eta': eta,\n",
    "            'max_depth': mdep,\n",
    "            'subsample': 0.7,\n",
    "            'colsample_bytree': 0.7,\n",
    "            #'objective': 'reg:linear',\n",
    "            # 'objective':'reg:squarederror', 'n_jobs':-1, #for the feature importance\n",
    "            'eval_metric': 'rmse',\n",
    "            'silent': 1\n",
    "        }\n",
    "\n",
    "        model = xgb.XGBRegressor(**xgb_params)\n",
    "        #model.fit(X_train,y_train)\n",
    "        #predictions = model.predict(X_test)\n",
    "\n",
    "        kfold = KFold(n_splits=5, shuffle=True, random_state=1)\n",
    "        cvscorer = cross_val_score(model, X, y, cv=kfold, scoring=metric)\n",
    "        \n",
    "        print(f\"{mdep} and {eta} : {np.sqrt(-cvscorer)}\")"
   ]
  },
  {
   "cell_type": "code",
   "execution_count": 180,
   "metadata": {},
   "outputs": [
    {
     "name": "stdout",
     "output_type": "stream",
     "text": [
      "CPU times: user 1min 32s, sys: 828 ms, total: 1min 33s\n",
      "Wall time: 1min 33s\n",
      "5 and 0.07 : [0.56077457 0.54279565 0.52164662 0.52769164 0.49337784], mean = 0.5292572627936253\n",
      "CPU times: user 1min 31s, sys: 308 ms, total: 1min 31s\n",
      "Wall time: 1min 31s\n",
      "5 and 0.09 : [0.55977847 0.53876098 0.5257959  0.52049635 0.49507466], mean = 0.5279812717764996\n",
      "CPU times: user 1min 31s, sys: 300 ms, total: 1min 31s\n",
      "Wall time: 1min 31s\n",
      "5 and 0.11 : [0.55819602 0.53601322 0.52710451 0.52647031 0.50345507], mean = 0.5302478258318272\n",
      "CPU times: user 1min 50s, sys: 376 ms, total: 1min 50s\n",
      "Wall time: 1min 50s\n",
      "6 and 0.07 : [0.5571593  0.53638571 0.51757359 0.52506484 0.48935352], mean = 0.5251073912803484\n",
      "CPU times: user 1min 49s, sys: 208 ms, total: 1min 49s\n",
      "Wall time: 1min 49s\n",
      "6 and 0.09 : [0.56368708 0.53838457 0.51736249 0.52136593 0.49657825], mean = 0.5274756642040774\n",
      "CPU times: user 1min 49s, sys: 180 ms, total: 1min 49s\n",
      "Wall time: 1min 49s\n",
      "6 and 0.11 : [0.56305759 0.54143402 0.51949723 0.52445857 0.49756633], mean = 0.5292027493482191\n",
      "CPU times: user 2min 8s, sys: 184 ms, total: 2min 8s\n",
      "Wall time: 2min 8s\n",
      "7 and 0.07 : [0.56515454 0.53633542 0.5195998  0.52831302 0.48873387], mean = 0.5276273293607204\n",
      "CPU times: user 2min 7s, sys: 188 ms, total: 2min 7s\n",
      "Wall time: 2min 7s\n",
      "7 and 0.09 : [0.56024223 0.53268036 0.51845736 0.5323258  0.49395917], mean = 0.5275329822531922\n",
      "CPU times: user 2min 6s, sys: 216 ms, total: 2min 7s\n",
      "Wall time: 2min 7s\n",
      "7 and 0.11 : [0.56829219 0.53913634 0.5110422  0.52500318 0.50692333], mean = 0.5300794467620125\n"
     ]
    }
   ],
   "source": [
    "arr = np.array([])\n",
    "n = 0\n",
    "for mdep in [5, 6, 7]:\n",
    "    for eta in [0.07, 0.09, 0.11]:\n",
    "        \n",
    "        xgb_params = {\n",
    "            'eta': eta,\n",
    "            'max_depth': mdep,\n",
    "            'subsample': 0.7,\n",
    "            'colsample_bytree': 0.7,\n",
    "            #'objective': 'reg:linear',\n",
    "            # 'objective':'reg:squarederror', 'n_jobs':-1, #for the feature importance\n",
    "            'eval_metric': 'rmse',\n",
    "            'silent': 1\n",
    "        }\n",
    "\n",
    "        model = xgb.XGBRegressor(**xgb_params)\n",
    "        #model.fit(X_train,y_train)\n",
    "        #predictions = model.predict(X_test)\n",
    "\n",
    "        if n == 0:\n",
    "            arr = np.sqrt(-cvscorer)\n",
    "        else:\n",
    "            arr = np.vstack([arr,np.sqrt(-cvscorer)])\n",
    "        \n",
    "        kfold = KFold(n_splits=5, shuffle=True, random_state=1)\n",
    "        %time cvscorer = cross_val_score(model, X, y, cv=kfold, scoring=metric)\n",
    "        \n",
    "        print(f\"{mdep} and {eta} : {np.sqrt(-cvscorer)}, mean = {np.sqrt(-cvscorer).mean()}\")\n",
    "        n+=1"
   ]
  },
  {
   "cell_type": "code",
   "execution_count": 197,
   "metadata": {
    "scrolled": false
   },
   "outputs": [
    {
     "name": "stdout",
     "output_type": "stream",
     "text": [
      "Fitting 5 folds for each of 9 candidates, totalling 45 fits\n"
     ]
    },
    {
     "name": "stderr",
     "output_type": "stream",
     "text": [
      "[Parallel(n_jobs=-1)]: Using backend LokyBackend with 4 concurrent workers.\n",
      "[Parallel(n_jobs=-1)]: Done   5 tasks      | elapsed:  1.1min\n",
      "[Parallel(n_jobs=-1)]: Done  10 tasks      | elapsed:  1.9min\n",
      "[Parallel(n_jobs=-1)]: Done  17 tasks      | elapsed:  3.2min\n",
      "[Parallel(n_jobs=-1)]: Done  24 tasks      | elapsed:  4.2min\n",
      "[Parallel(n_jobs=-1)]: Done  33 tasks      | elapsed:  5.9min\n",
      "[Parallel(n_jobs=-1)]: Done  43 out of  45 | elapsed:  7.4min remaining:   20.5s\n",
      "[Parallel(n_jobs=-1)]: Done  45 out of  45 | elapsed:  7.7min finished\n"
     ]
    },
    {
     "name": "stdout",
     "output_type": "stream",
     "text": [
      "XGBRegressor(base_score=0.5, booster=None, colsample_bylevel=1,\n",
      "             colsample_bynode=1, colsample_bytree=0.7, eta=0.07,\n",
      "             eval_metric='rmse', gamma=0, gpu_id=-1, importance_type='gain',\n",
      "             interaction_constraints=None, learning_rate=0.0700000003,\n",
      "             max_delta_step=0, max_depth=6, min_child_weight=1, missing=nan,\n",
      "             monotone_constraints=None, n_estimators=100, n_jobs=0,\n",
      "             num_parallel_tree=1, objective='reg:squarederror', random_state=0,\n",
      "             reg_alpha=0, reg_lambda=1, scale_pos_weight=1, silent=1,\n",
      "             subsample=0.7, tree_method=None, validate_parameters=False,\n",
      "             verbosity=None)\n",
      "{'eta': 0.07, 'max_depth': 6}\n",
      "0.5256\n"
     ]
    }
   ],
   "source": [
    "xgb_params = {\n",
    "    'subsample': 0.7,\n",
    "    'colsample_bytree': 0.7,\n",
    "    #'objective': 'reg:linear',\n",
    "    # 'objective':'reg:squarederror', 'n_jobs':-1, #for the feature importance\n",
    "    'eval_metric': 'rmse',\n",
    "    'silent': 1\n",
    "}\n",
    "\n",
    "model = xgb.XGBRegressor(**xgb_params)\n",
    "\n",
    "param_grid = {\n",
    "    \"max_depth\" : [5, 6, 7],\n",
    "    \"eta\" : [0.07, 0.09, 0.11],\n",
    "    }\n",
    "\n",
    "\n",
    "kfold = KFold(n_splits=5, shuffle=True, random_state=1)\n",
    "#cvscorer = cross_val_score(model, X, y, cv=kfold, scoring=metric, verbose=10)\n",
    "search = GridSearchCV(model, param_grid, cv=kfold, scoring=metric, n_jobs=-1, verbose=10)\n",
    "search.fit(X, y, verbose=False)\n",
    "\n",
    "print(search.best_estimator_)\n",
    "print(f\"{search.best_params_}\")\n",
    "print(f\"{np.sqrt(-search.best_score_):.4}\")"
   ]
  },
  {
   "cell_type": "code",
   "execution_count": 215,
   "metadata": {},
   "outputs": [
    {
     "name": "stdout",
     "output_type": "stream",
     "text": [
      "Fitting 3 folds for each of 9 candidates, totalling 27 fits\n"
     ]
    },
    {
     "name": "stderr",
     "output_type": "stream",
     "text": [
      "[Parallel(n_jobs=-1)]: Using backend LokyBackend with 4 concurrent workers.\n",
      "[Parallel(n_jobs=-1)]: Done   5 tasks      | elapsed:  1.1min\n",
      "[Parallel(n_jobs=-1)]: Done  10 tasks      | elapsed:  1.7min\n",
      "[Parallel(n_jobs=-1)]: Done  17 tasks      | elapsed:  2.9min\n",
      "[Parallel(n_jobs=-1)]: Done  23 out of  27 | elapsed:  3.6min remaining:   37.2s\n",
      "[Parallel(n_jobs=-1)]: Done  27 out of  27 | elapsed:  4.0min finished\n"
     ]
    },
    {
     "name": "stdout",
     "output_type": "stream",
     "text": [
      "XGBRegressor(base_score=0.5, booster=None, colsample_bylevel=1,\n",
      "             colsample_bynode=1, colsample_bytree=0.7, eta=0.09,\n",
      "             eval_metric='rmse', gamma=0, gpu_id=-1, importance_type='gain',\n",
      "             interaction_constraints=None, learning_rate=0.0900000036,\n",
      "             max_delta_step=0, max_depth=7, min_child_weight=1, missing=nan,\n",
      "             monotone_constraints=None, n_estimators=100, n_jobs=0,\n",
      "             num_parallel_tree=1, objective='reg:squarederror', random_state=0,\n",
      "             reg_alpha=0, reg_lambda=1, scale_pos_weight=1, silent=1,\n",
      "             subsample=0.7, tree_method=None, validate_parameters=False,\n",
      "             verbosity=None)\n",
      "{'eta': 0.09, 'max_depth': 7}\n",
      "0.5288\n"
     ]
    }
   ],
   "source": [
    "xgb_params = {\n",
    "    'subsample': 0.7,\n",
    "    'colsample_bytree': 0.7,\n",
    "    #'objective': 'reg:linear',\n",
    "    # 'objective':'reg:squarederror', 'n_jobs':-1, #for the feature importance\n",
    "    'eval_metric': 'rmse',\n",
    "    'silent': 1\n",
    "}\n",
    "\n",
    "model = xgb.XGBRegressor(**xgb_params)\n",
    "\n",
    "param_grid = {\n",
    "    \"max_depth\" : [5, 6, 7],\n",
    "    \"eta\" : [0.07, 0.09, 0.11],\n",
    "    }\n",
    "\n",
    "\n",
    "kfold = KFold(n_splits=3, shuffle=True, random_state=1)\n",
    "#cvscorer = cross_val_score(model, X, y, cv=kfold, scoring=metric, verbose=10)\n",
    "search = GridSearchCV(model, param_grid, cv=kfold, scoring=metric, n_jobs=-1, verbose=10)\n",
    "search.fit(X, y, verbose=False)\n",
    "\n",
    "print(search.best_estimator_)\n",
    "print(f\"{search.best_params_}\")\n",
    "print(f\"{np.sqrt(-search.best_score_):.4}\")"
   ]
  },
  {
   "cell_type": "code",
   "execution_count": 198,
   "metadata": {},
   "outputs": [
    {
     "name": "stdout",
     "output_type": "stream",
     "text": [
      "RMSE: 0.387120\n",
      "1.4887433580256662\n",
      "RMSLE: 0.156398\n"
     ]
    }
   ],
   "source": [
    "xgb_params = {\n",
    "    'eta': 0.07,\n",
    "    'max_depth': 6,\n",
    "    'subsample': 0.7,\n",
    "    'colsample_bytree': 0.7,\n",
    "    #'objective': 'reg:linear',\n",
    "    # 'objective':'reg:squarederror', 'n_jobs':-1, #for the feature importance\n",
    "    'eval_metric': 'rmse',\n",
    "    'silent': 1\n",
    "}\n",
    "\n",
    "model = xgb.XGBRegressor(**xgb_params)\n",
    "model.fit(X,y)\n",
    "predictions = model.predict(X_test)\n",
    "rmse = np.sqrt(metrics.mean_squared_error(y_test, predictions))\n",
    "print(\"RMSE: %f\" % (rmse))\n",
    "# Need an offset since \n",
    "#   Mean Squared Logarithmic Error cannot be used when targets contain negative values.\n",
    "offset = abs(min(y_test.price_doc_.min(), predictions.min()))\n",
    "print(offset)\n",
    "rmsle = np.sqrt(metrics.mean_squared_log_error(y_test+offset, predictions+offset))\n",
    "print(\"RMSLE: %f\" % (rmsle))"
   ]
  },
  {
   "cell_type": "code",
   "execution_count": 199,
   "metadata": {},
   "outputs": [
    {
     "name": "stdout",
     "output_type": "stream",
     "text": [
      "RMSE: 0.387120\n",
      "1.4887433580256662\n",
      "RMSLE: 0.156398\n"
     ]
    }
   ],
   "source": [
    "spredictions = search.predict(X_test)\n",
    "rmse = np.sqrt(metrics.mean_squared_error(y_test, spredictions))\n",
    "print(\"RMSE: %f\" % (rmse))\n",
    "# Need an offset since \n",
    "#   Mean Squared Logarithmic Error cannot be used when targets contain negative values.\n",
    "offset = abs(min(y_test.price_doc_.min(), spredictions.min()))\n",
    "print(offset)\n",
    "rmsle = np.sqrt(metrics.mean_squared_log_error(y_test+offset, spredictions+offset))\n",
    "print(\"RMSLE: %f\" % (rmsle))"
   ]
  },
  {
   "cell_type": "code",
   "execution_count": 203,
   "metadata": {},
   "outputs": [],
   "source": [
    "cval = cross_validate(model, X, y, cv=kfold, scoring=metric)"
   ]
  },
  {
   "cell_type": "code",
   "execution_count": 209,
   "metadata": {},
   "outputs": [
    {
     "data": {
      "text/plain": [
       "array([0.5571593 , 0.53638571, 0.51757359, 0.52506484, 0.48935352])"
      ]
     },
     "execution_count": 209,
     "metadata": {},
     "output_type": "execute_result"
    }
   ],
   "source": [
    "np.sqrt(-cval['test_score'])"
   ]
  },
  {
   "cell_type": "code",
   "execution_count": null,
   "metadata": {},
   "outputs": [],
   "source": [
    "kpredictions = cval.predict(X_test)"
   ]
  },
  {
   "cell_type": "code",
   "execution_count": null,
   "metadata": {},
   "outputs": [],
   "source": [
    "rmse = np.sqrt(metrics.mean_squared_error(y_test, kpredictions))\n",
    "print(\"RMSE: %f\" % (rmse))\n",
    "# Need an offset since \n",
    "#   Mean Squared Logarithmic Error cannot be used when targets contain negative values.\n",
    "offset = abs(min(y_test.price_doc_.min(), kpredictions.min()))\n",
    "print(offset)\n",
    "rmsle = np.sqrt(metrics.mean_squared_log_error(y_test+offset, kpredictions+offset))\n",
    "print(\"RMSLE: %f\" % (rmsle))"
   ]
  },
  {
   "cell_type": "code",
   "execution_count": null,
   "metadata": {},
   "outputs": [],
   "source": []
  },
  {
   "cell_type": "code",
   "execution_count": null,
   "metadata": {},
   "outputs": [],
   "source": []
  },
  {
   "cell_type": "code",
   "execution_count": 216,
   "metadata": {},
   "outputs": [
    {
     "name": "stdout",
     "output_type": "stream",
     "text": [
      "Fitting 5 folds for each of 12 candidates, totalling 60 fits\n"
     ]
    },
    {
     "name": "stderr",
     "output_type": "stream",
     "text": [
      "[Parallel(n_jobs=-1)]: Using backend LokyBackend with 4 concurrent workers.\n",
      "[Parallel(n_jobs=-1)]: Done   5 tasks      | elapsed:  1.4min\n",
      "[Parallel(n_jobs=-1)]: Done  10 tasks      | elapsed:  2.8min\n",
      "[Parallel(n_jobs=-1)]: Done  17 tasks      | elapsed:  4.8min\n",
      "[Parallel(n_jobs=-1)]: Done  24 tasks      | elapsed:  6.2min\n",
      "[Parallel(n_jobs=-1)]: Done  33 tasks      | elapsed:  8.5min\n",
      "[Parallel(n_jobs=-1)]: Done  42 tasks      | elapsed: 11.3min\n",
      "[Parallel(n_jobs=-1)]: Done  53 tasks      | elapsed: 14.1min\n",
      "[Parallel(n_jobs=-1)]: Done  60 out of  60 | elapsed: 16.3min remaining:    0.0s\n",
      "[Parallel(n_jobs=-1)]: Done  60 out of  60 | elapsed: 16.3min finished\n"
     ]
    },
    {
     "name": "stdout",
     "output_type": "stream",
     "text": [
      "XGBRegressor(base_score=0.5, booster=None, colsample_bylevel=1,\n",
      "             colsample_bynode=1, colsample_bytree=0.7, eta=0.07,\n",
      "             eval_metric='rmse', gamma=0, gpu_id=-1, importance_type='gain',\n",
      "             interaction_constraints=None, learning_rate=0.0700000003,\n",
      "             max_delta_step=0, max_depth=6, min_child_weight=1.2, missing=nan,\n",
      "             monotone_constraints=None, n_estimators=200, n_jobs=0,\n",
      "             num_parallel_tree=1, objective='reg:squarederror', random_state=0,\n",
      "             reg_alpha=0, reg_lambda=1, scale_pos_weight=1, silent=1,\n",
      "             subsample=0.7, tree_method=None, validate_parameters=False,\n",
      "             verbosity=None)\n",
      "{'gamma': 0, 'min_child_weight': 1.2, 'n_estimators': 200}\n",
      "0.5201\n"
     ]
    }
   ],
   "source": [
    "\"\"\"\n",
    "    n_estimators : int\n",
    "        Number of gradient boosted trees.  Equivalent to number of boosting\n",
    "        rounds.\n",
    "\n",
    "    max_depth : int\n",
    "        Maximum tree depth for base learners.\n",
    "    learning_rate : float\n",
    "        Boosting learning rate (xgb's \"eta\")\n",
    "    objective : string or callable\n",
    "        Specify the learning task and the corresponding learning objective or\n",
    "        a custom objective function to be used (see note below).\n",
    "    booster: string\n",
    "        Specify which booster to use: gbtree, gblinear or dart.\n",
    "    tree_method: --> documentation\n",
    "    gamma : float\n",
    "        Minimum loss reduction required to make a further partition on a leaf\n",
    "        node of the tree.\n",
    "    min_child_weight : int\n",
    "        Minimum sum of instance weight(hessian) needed in a child.\n",
    "    max_delta_step : int\n",
    "        Maximum delta step we allow each tree's weight estimation to be.\n",
    "    subsample : float\n",
    "        Subsample ratio of the training instance.\n",
    "    colsample_bytree : float\n",
    "        Subsample ratio of columns when constructing each tree.\n",
    "    colsample_bylevel : float\n",
    "        Subsample ratio of columns for each level.\n",
    "    colsample_bynode : float\n",
    "        Subsample ratio of columns for each split.\n",
    "    reg_alpha : float (xgb's alpha)\n",
    "        L1 regularization term on weights\n",
    "    reg_lambda : float (xgb's lambda)\n",
    "        L2 regularization term on weights\n",
    "    scale_pos_weight : float\n",
    "        Balancing of positive and negative weights.\n",
    "\"\"\"\n",
    "\n",
    "xgb_params = {\n",
    "    'eta': 0.07,\n",
    "    'max_depth': 6,\n",
    "    'subsample': 0.7,\n",
    "    'colsample_bytree': 0.7,\n",
    "    #'objective': 'reg:linear',\n",
    "    # 'objective':'reg:squarederror', 'n_jobs':-1, #for the feature importance\n",
    "    'eval_metric': 'rmse',\n",
    "    'silent': 1\n",
    "}\n",
    "\n",
    "model = xgb.XGBRegressor(**xgb_params)\n",
    "\n",
    "param_grid = {\n",
    "    'gamma': [ 0, 0.05],\n",
    "    #'colsample_bytree' : [0.5, 0.7],\n",
    "    'n_estimators' : [100, 200],\n",
    "    \"min_child_weight\" : [0.4, 0.8, 1.2],\n",
    "    }\n",
    "\n",
    "kfold = KFold(n_splits=5, shuffle=True, random_state=1)\n",
    "#cvscorer = cross_val_score(model, X, y, cv=kfold, scoring=metric, verbose=10)\n",
    "search = GridSearchCV(model, param_grid, cv=kfold, scoring=metric, n_jobs=-1, verbose=10)\n",
    "search.fit(X, y, verbose=False)\n",
    "\n",
    "print(search.best_estimator_)\n",
    "print(f\"{search.best_params_}\")\n",
    "print(f\"{np.sqrt(-search.best_score_):.4}\")"
   ]
  },
  {
   "cell_type": "code",
   "execution_count": 217,
   "metadata": {},
   "outputs": [
    {
     "data": {
      "text/plain": [
       "{'mean_fit_time': array([42.5209558 , 81.46661668, 41.26491756, 81.95709095, 42.12452459,\n",
       "        85.36955175, 45.8060183 , 88.68928571, 44.23607478, 81.87720037,\n",
       "        43.4821445 , 77.28267612]),\n",
       " 'std_fit_time': array([ 0.95192046,  1.07209948,  1.00026047,  1.26097011,  1.30195554,\n",
       "         0.97427888,  0.83708302,  1.80287587,  1.51610339,  0.80857827,\n",
       "         1.61052412, 15.14742102]),\n",
       " 'mean_score_time': array([0.1226717 , 0.17317767, 0.12005572, 0.1712007 , 0.10528727,\n",
       "        0.24469886, 0.155863  , 0.19407988, 0.1424509 , 0.18986382,\n",
       "        0.12696743, 0.15882673]),\n",
       " 'std_score_time': array([0.02111155, 0.01470896, 0.01209834, 0.00889889, 0.00723817,\n",
       "        0.09519782, 0.04106655, 0.05111934, 0.04997936, 0.02713014,\n",
       "        0.02463149, 0.03513067]),\n",
       " 'param_gamma': masked_array(data=[0, 0, 0, 0, 0, 0, 0.05, 0.05, 0.05, 0.05, 0.05, 0.05],\n",
       "              mask=[False, False, False, False, False, False, False, False,\n",
       "                    False, False, False, False],\n",
       "        fill_value='?',\n",
       "             dtype=object),\n",
       " 'param_min_child_weight': masked_array(data=[0.4, 0.4, 0.8, 0.8, 1.2, 1.2, 0.4, 0.4, 0.8, 0.8, 1.2,\n",
       "                    1.2],\n",
       "              mask=[False, False, False, False, False, False, False, False,\n",
       "                    False, False, False, False],\n",
       "        fill_value='?',\n",
       "             dtype=object),\n",
       " 'param_n_estimators': masked_array(data=[100, 200, 100, 200, 100, 200, 100, 200, 100, 200, 100,\n",
       "                    200],\n",
       "              mask=[False, False, False, False, False, False, False, False,\n",
       "                    False, False, False, False],\n",
       "        fill_value='?',\n",
       "             dtype=object),\n",
       " 'params': [{'gamma': 0, 'min_child_weight': 0.4, 'n_estimators': 100},\n",
       "  {'gamma': 0, 'min_child_weight': 0.4, 'n_estimators': 200},\n",
       "  {'gamma': 0, 'min_child_weight': 0.8, 'n_estimators': 100},\n",
       "  {'gamma': 0, 'min_child_weight': 0.8, 'n_estimators': 200},\n",
       "  {'gamma': 0, 'min_child_weight': 1.2, 'n_estimators': 100},\n",
       "  {'gamma': 0, 'min_child_weight': 1.2, 'n_estimators': 200},\n",
       "  {'gamma': 0.05, 'min_child_weight': 0.4, 'n_estimators': 100},\n",
       "  {'gamma': 0.05, 'min_child_weight': 0.4, 'n_estimators': 200},\n",
       "  {'gamma': 0.05, 'min_child_weight': 0.8, 'n_estimators': 100},\n",
       "  {'gamma': 0.05, 'min_child_weight': 0.8, 'n_estimators': 200},\n",
       "  {'gamma': 0.05, 'min_child_weight': 1.2, 'n_estimators': 100},\n",
       "  {'gamma': 0.05, 'min_child_weight': 1.2, 'n_estimators': 200}],\n",
       " 'split0_test_score': array([-0.31042649, -0.30952733, -0.31042649, -0.30952733, -0.31416672,\n",
       "        -0.31480305, -0.30986305, -0.30823725, -0.30986305, -0.30823725,\n",
       "        -0.3111975 , -0.31020619]),\n",
       " 'split1_test_score': array([-0.28770963, -0.2819319 , -0.28770963, -0.2819319 , -0.27819172,\n",
       "        -0.27275696, -0.27988676, -0.27521211, -0.27988676, -0.27521211,\n",
       "        -0.27937517, -0.2752018 ]),\n",
       " 'split2_test_score': array([-0.26788242, -0.26100841, -0.26788242, -0.26100841, -0.27227449,\n",
       "        -0.26637969, -0.26933869, -0.26370932, -0.26933869, -0.26370932,\n",
       "        -0.27624858, -0.27050636]),\n",
       " 'split3_test_score': array([-0.27569308, -0.26977195, -0.27569308, -0.26977195, -0.26847662,\n",
       "        -0.26064924, -0.2792087 , -0.27727953, -0.2792087 , -0.27727953,\n",
       "        -0.27180451, -0.26484743]),\n",
       " 'split4_test_score': array([-0.23946687, -0.24356351, -0.23946687, -0.24356351, -0.23486376,\n",
       "        -0.23808721, -0.23627254, -0.2412382 , -0.23627254, -0.2412382 ,\n",
       "        -0.23622794, -0.24017014]),\n",
       " 'mean_test_score': array([-0.2762357 , -0.27316062, -0.2762357 , -0.27316062, -0.27359466,\n",
       "        -0.27053523, -0.27491395, -0.27313528, -0.27491395, -0.27313528,\n",
       "        -0.27497074, -0.27218639]),\n",
       " 'std_test_score': array([0.02333529, 0.02206636, 0.02333529, 0.02206636, 0.02527942,\n",
       "        0.02502979, 0.02361718, 0.02172514, 0.02361718, 0.02172514,\n",
       "        0.02385137, 0.02252253]),\n",
       " 'rank_test_score': array([11,  5, 11,  5,  7,  1,  8,  3,  8,  3, 10,  2], dtype=int32)}"
      ]
     },
     "execution_count": 217,
     "metadata": {},
     "output_type": "execute_result"
    }
   ],
   "source": [
    "search.cv_results_"
   ]
  },
  {
   "cell_type": "code",
   "execution_count": 218,
   "metadata": {},
   "outputs": [
    {
     "name": "stdout",
     "output_type": "stream",
     "text": [
      "RMSE: 0.354846\n",
      "1.4887433580256662\n",
      "RMSLE: 0.147912\n"
     ]
    }
   ],
   "source": [
    "spredictions = search.predict(X_test)\n",
    "rmse = np.sqrt(metrics.mean_squared_error(y_test, spredictions))\n",
    "print(\"RMSE: %f\" % (rmse))\n",
    "# Need an offset since \n",
    "#   Mean Squared Logarithmic Error cannot be used when targets contain negative values.\n",
    "offset = abs(min(y_test.price_doc_.min(), spredictions.min()))\n",
    "print(offset)\n",
    "rmsle = np.sqrt(metrics.mean_squared_log_error(y_test+offset, spredictions+offset))\n",
    "print(\"RMSLE: %f\" % (rmsle))"
   ]
  },
  {
   "cell_type": "code",
   "execution_count": 219,
   "metadata": {},
   "outputs": [
    {
     "name": "stdout",
     "output_type": "stream",
     "text": [
      "Fitting 5 folds for each of 9 candidates, totalling 45 fits\n"
     ]
    },
    {
     "name": "stderr",
     "output_type": "stream",
     "text": [
      "[Parallel(n_jobs=-1)]: Using backend LokyBackend with 4 concurrent workers.\n",
      "[Parallel(n_jobs=-1)]: Done   5 tasks      | elapsed:  1.5min\n",
      "[Parallel(n_jobs=-1)]: Done  10 tasks      | elapsed:  3.6min\n",
      "[Parallel(n_jobs=-1)]: Done  17 tasks      | elapsed:  6.4min\n",
      "[Parallel(n_jobs=-1)]: Done  24 tasks      | elapsed:  9.2min\n",
      "[Parallel(n_jobs=-1)]: Done  33 tasks      | elapsed: 12.9min\n",
      "[Parallel(n_jobs=-1)]: Done  43 out of  45 | elapsed: 18.1min remaining:   50.6s\n",
      "[Parallel(n_jobs=-1)]: Done  45 out of  45 | elapsed: 19.0min finished\n"
     ]
    },
    {
     "name": "stdout",
     "output_type": "stream",
     "text": [
      "XGBRegressor(base_score=0.5, booster=None, colsample_bylevel=1,\n",
      "             colsample_bynode=1, colsample_bytree=0.7, eta=0.07,\n",
      "             eval_metric='rmse', gamma=0, gpu_id=-1, importance_type='gain',\n",
      "             interaction_constraints=None, learning_rate=0.0700000003,\n",
      "             max_delta_step=0, max_depth=6, min_child_weight=1.2, missing=nan,\n",
      "             monotone_constraints=None, n_estimators=400, n_jobs=0,\n",
      "             num_parallel_tree=1, objective='reg:squarederror', random_state=0,\n",
      "             reg_alpha=0, reg_lambda=1, scale_pos_weight=1, silent=1,\n",
      "             subsample=0.7, tree_method=None, validate_parameters=False,\n",
      "             verbosity=None)\n",
      "{'min_child_weight': 1.2, 'n_estimators': 400}\n",
      "0.5198\n"
     ]
    }
   ],
   "source": [
    "model = xgb.XGBRegressor(**xgb_params)\n",
    "\n",
    "param_grid = {\n",
    "    'n_estimators' : [100, 200, 400],\n",
    "    \"min_child_weight\" : [1.2, 1.6, 2.0],\n",
    "    }\n",
    "\n",
    "search = GridSearchCV(model, param_grid, cv=kfold, scoring=metric, n_jobs=-1, verbose=10)\n",
    "search.fit(X, y, verbose=False)\n",
    "\n",
    "print(search.best_estimator_)\n",
    "print(f\"{search.best_params_}\")\n",
    "print(f\"{np.sqrt(-search.best_score_):.4}\")"
   ]
  },
  {
   "cell_type": "code",
   "execution_count": null,
   "metadata": {},
   "outputs": [],
   "source": [
    "search.cv_results_"
   ]
  },
  {
   "cell_type": "code",
   "execution_count": 222,
   "metadata": {},
   "outputs": [
    {
     "name": "stdout",
     "output_type": "stream",
     "text": [
      "Fitting 5 folds for each of 9 candidates, totalling 45 fits\n"
     ]
    },
    {
     "name": "stderr",
     "output_type": "stream",
     "text": [
      "[Parallel(n_jobs=-1)]: Using backend LokyBackend with 4 concurrent workers.\n",
      "[Parallel(n_jobs=-1)]: Done   5 tasks      | elapsed:  4.2min\n",
      "[Parallel(n_jobs=-1)]: Done  10 tasks      | elapsed:  9.1min\n",
      "[Parallel(n_jobs=-1)]: Done  17 tasks      | elapsed: 14.8min\n",
      "[Parallel(n_jobs=-1)]: Done  24 tasks      | elapsed: 20.5min\n",
      "[Parallel(n_jobs=-1)]: Done  33 tasks      | elapsed: 28.9min\n",
      "[Parallel(n_jobs=-1)]: Done  43 out of  45 | elapsed: 38.1min remaining:  1.8min\n",
      "[Parallel(n_jobs=-1)]: Done  45 out of  45 | elapsed: 40.5min finished\n"
     ]
    },
    {
     "name": "stdout",
     "output_type": "stream",
     "text": [
      "XGBRegressor(base_score=0.5, booster=None, colsample_bylevel=1,\n",
      "             colsample_bynode=1, colsample_bytree=0.7, eta=0.07,\n",
      "             eval_metric='rmse', gamma=0, gpu_id=-1, importance_type='gain',\n",
      "             interaction_constraints=None, learning_rate=0.0700000003,\n",
      "             max_delta_step=0, max_depth=6, min_child_weight=1.1, missing=nan,\n",
      "             monotone_constraints=None, n_estimators=300, n_jobs=0,\n",
      "             num_parallel_tree=1, objective='reg:squarederror', random_state=0,\n",
      "             reg_alpha=0, reg_lambda=1, scale_pos_weight=1, silent=1,\n",
      "             subsample=0.7, tree_method=None, validate_parameters=False,\n",
      "             verbosity=None)\n",
      "{'min_child_weight': 1.1, 'n_estimators': 300}\n",
      "0.5194\n"
     ]
    }
   ],
   "source": [
    "model = xgb.XGBRegressor(**xgb_params)\n",
    "\n",
    "param_grid = {\n",
    "    'n_estimators' : [300, 500, 400],\n",
    "    \"min_child_weight\" : [1.1, 1.2, 1.3],\n",
    "    }\n",
    "\n",
    "search = GridSearchCV(model, param_grid, cv=kfold, scoring=metric, n_jobs=-1, verbose=10)\n",
    "search.fit(X, y, verbose=False)\n",
    "\n",
    "print(search.best_estimator_)\n",
    "print(f\"{search.best_params_}\")\n",
    "print(f\"{np.sqrt(-search.best_score_):.4}\")"
   ]
  },
  {
   "cell_type": "code",
   "execution_count": 223,
   "metadata": {},
   "outputs": [
    {
     "name": "stdout",
     "output_type": "stream",
     "text": [
      "RMSE: 0.328667\n",
      "1.4887433580256662\n",
      "RMSLE: 0.141490\n"
     ]
    }
   ],
   "source": [
    "spredictions = search.predict(X_test)\n",
    "rmse = np.sqrt(metrics.mean_squared_error(y_test, spredictions))\n",
    "print(\"RMSE: %f\" % (rmse))\n",
    "# Need an offset since \n",
    "#   Mean Squared Logarithmic Error cannot be used when targets contain negative values.\n",
    "offset = abs(min(y_test.price_doc_.min(), spredictions.min()))\n",
    "print(offset)\n",
    "rmsle = np.sqrt(metrics.mean_squared_log_error(y_test+offset, spredictions+offset))\n",
    "print(\"RMSLE: %f\" % (rmsle))"
   ]
  },
  {
   "cell_type": "code",
   "execution_count": 224,
   "metadata": {},
   "outputs": [
    {
     "name": "stdout",
     "output_type": "stream",
     "text": [
      "Fitting 5 folds for each of 3 candidates, totalling 15 fits\n"
     ]
    },
    {
     "name": "stderr",
     "output_type": "stream",
     "text": [
      "[Parallel(n_jobs=-1)]: Using backend LokyBackend with 4 concurrent workers.\n",
      "[Parallel(n_jobs=-1)]: Done   5 tasks      | elapsed:  3.6min\n",
      "[Parallel(n_jobs=-1)]: Done  10 out of  15 | elapsed:  5.5min remaining:  2.7min\n",
      "[Parallel(n_jobs=-1)]: Done  12 out of  15 | elapsed:  5.6min remaining:  1.4min\n",
      "[Parallel(n_jobs=-1)]: Done  15 out of  15 | elapsed:  7.0min finished\n"
     ]
    },
    {
     "name": "stdout",
     "output_type": "stream",
     "text": [
      "XGBRegressor(base_score=0.5, booster=None, colsample_bylevel=1,\n",
      "             colsample_bynode=1, colsample_bytree=0.7, eta=0.07,\n",
      "             eval_metric='rmse', gamma=0, gpu_id=-1, importance_type='gain',\n",
      "             interaction_constraints=None, learning_rate=0.0700000003,\n",
      "             max_delta_step=0, max_depth=6, min_child_weight=1.1, missing=nan,\n",
      "             monotone_constraints=None, n_estimators=300, n_jobs=0,\n",
      "             num_parallel_tree=1, objective='reg:squarederror', random_state=0,\n",
      "             reg_alpha=0, reg_lambda=1, scale_pos_weight=1, silent=1,\n",
      "             subsample=0.7, tree_method=None, validate_parameters=False,\n",
      "             verbosity=None)\n",
      "{'gamma': 0}\n",
      "0.5194\n"
     ]
    }
   ],
   "source": [
    "xgb_params = {\n",
    "    'eta': 0.07,\n",
    "    'max_depth': 6,\n",
    "    'subsample': 0.7,\n",
    "    'colsample_bytree': 0.7,\n",
    "    'n_estimators' : 300,\n",
    "    \"min_child_weight\" : 1.1,\n",
    "    #'objective': 'reg:linear',\n",
    "    # 'objective':'reg:squarederror', 'n_jobs':-1, #for the feature importance\n",
    "    'eval_metric': 'rmse',\n",
    "    'silent': 1\n",
    "}\n",
    "\n",
    "model = xgb.XGBRegressor(**xgb_params)\n",
    "\n",
    "param_grid = {\n",
    "    'gamma': [ 0, 0.02, 0.05]\n",
    "    }\n",
    "\n",
    "search = GridSearchCV(model, param_grid, cv=kfold, scoring=metric, n_jobs=-1, verbose=10)\n",
    "search.fit(X, y, verbose=False)\n",
    "\n",
    "print(search.best_estimator_)\n",
    "print(f\"{search.best_params_}\")\n",
    "print(f\"{np.sqrt(-search.best_score_):.4}\")"
   ]
  },
  {
   "cell_type": "code",
   "execution_count": 225,
   "metadata": {},
   "outputs": [
    {
     "data": {
      "text/plain": [
       "XGBRegressor(base_score=None, booster=None, colsample_bylevel=None,\n",
       "             colsample_bynode=None, colsample_bytree=0.7, eta=0.07,\n",
       "             eval_metric='rmse', gamma=None, gpu_id=None,\n",
       "             importance_type='gain', interaction_constraints=None,\n",
       "             learning_rate=None, max_delta_step=None, max_depth=6,\n",
       "             min_child_weight=1.1, missing=nan, monotone_constraints=None,\n",
       "             n_estimators=300, n_jobs=None, num_parallel_tree=None,\n",
       "             objective='reg:squarederror', random_state=None, reg_alpha=None,\n",
       "             reg_lambda=None, scale_pos_weight=None, silent=1, subsample=0.7,\n",
       "             tree_method=None, validate_parameters=False, verbosity=None)"
      ]
     },
     "execution_count": 225,
     "metadata": {},
     "output_type": "execute_result"
    }
   ],
   "source": [
    "model"
   ]
  },
  {
   "cell_type": "code",
   "execution_count": 226,
   "metadata": {},
   "outputs": [
    {
     "name": "stdout",
     "output_type": "stream",
     "text": [
      "Fitting 5 folds for each of 16 candidates, totalling 80 fits\n"
     ]
    },
    {
     "name": "stderr",
     "output_type": "stream",
     "text": [
      "[Parallel(n_jobs=-1)]: Using backend LokyBackend with 4 concurrent workers.\n",
      "[Parallel(n_jobs=-1)]: Done   5 tasks      | elapsed:  1.5min\n",
      "[Parallel(n_jobs=-1)]: Done  10 tasks      | elapsed:  2.6min\n",
      "[Parallel(n_jobs=-1)]: Done  17 tasks      | elapsed:  4.2min\n",
      "[Parallel(n_jobs=-1)]: Done  24 tasks      | elapsed:  5.4min\n",
      "[Parallel(n_jobs=-1)]: Done  33 tasks      | elapsed:  8.9min\n",
      "[Parallel(n_jobs=-1)]: Done  42 tasks      | elapsed: 12.0min\n",
      "[Parallel(n_jobs=-1)]: Done  53 tasks      | elapsed: 16.4min\n",
      "[Parallel(n_jobs=-1)]: Done  64 tasks      | elapsed: 20.7min\n",
      "[Parallel(n_jobs=-1)]: Done  80 out of  80 | elapsed: 29.0min finished\n"
     ]
    },
    {
     "name": "stdout",
     "output_type": "stream",
     "text": [
      "XGBRegressor(base_score=0.5, booster=None, colsample_bylevel=1,\n",
      "             colsample_bynode=1, colsample_bytree=0.7, eta=0.07,\n",
      "             eval_metric='rmse', gamma=0, gpu_id=-1, importance_type='gain',\n",
      "             interaction_constraints=None, learning_rate=0.0700000003,\n",
      "             max_delta_step=0, max_depth=6, min_child_weight=1.1, missing=nan,\n",
      "             monotone_constraints=None, n_estimators=300, n_jobs=0,\n",
      "             num_parallel_tree=1, objective='reg:squarederror', random_state=0,\n",
      "             reg_alpha=0, reg_lambda=1, scale_pos_weight=1, silent=1,\n",
      "             subsample=0.7, tree_method=None, validate_parameters=False,\n",
      "             verbosity=None)\n",
      "{'colsample_bytree': 0.7, 'subsample': 0.7}\n",
      "0.5194\n"
     ]
    }
   ],
   "source": [
    "xgb_params = {\n",
    "    'gamma': 0,\n",
    "    'eta': 0.07,\n",
    "    'max_depth': 6,\n",
    "    'subsample': 0.7,\n",
    "    'colsample_bytree': 0.7,\n",
    "    'n_estimators' : 300,\n",
    "    \"min_child_weight\" : 1.1,\n",
    "    #'objective': 'reg:linear',\n",
    "    # 'objective':'reg:squarederror', 'n_jobs':-1, #for the feature importance\n",
    "    'eval_metric': 'rmse',\n",
    "    'silent': 1\n",
    "}\n",
    "\n",
    "model = xgb.XGBRegressor(**xgb_params)\n",
    "\n",
    "param_grid = {\n",
    "    'colsample_bytree':[0.3, 0.5, 0.7, 0.9],\n",
    "    'subsample':[0.3, 0.5, 0.7, 0.9]\n",
    "    }\n",
    "\n",
    "search = GridSearchCV(model, param_grid, cv=kfold, scoring=metric, n_jobs=-1, verbose=10)\n",
    "search.fit(X, y, verbose=False)\n",
    "\n",
    "print(search.best_estimator_)\n",
    "print(f\"{search.best_params_}\")\n",
    "print(f\"{np.sqrt(-search.best_score_):.4}\")\n"
   ]
  },
  {
   "cell_type": "code",
   "execution_count": 227,
   "metadata": {},
   "outputs": [
    {
     "name": "stdout",
     "output_type": "stream",
     "text": [
      "{'mean_fit_time': array([ 46.3559309 ,  54.83768091,  52.85115061,  50.9309761 ,\n",
      "        63.06631422,  79.33278546,  78.98773656,  75.35476274,\n",
      "        81.79499931, 104.83905892, 104.73465052, 100.94535451,\n",
      "       101.48061872, 130.16002874, 130.70538607, 114.57496576]), 'std_fit_time': array([ 1.03775692,  1.32031135,  0.37331833,  0.43773047,  0.68011316,\n",
      "        0.47695917,  0.80096659,  0.91998981,  0.25309469,  0.72681904,\n",
      "        0.8606693 ,  0.88227917,  0.91177404,  0.70560155,  0.72910741,\n",
      "       10.32965045]), 'mean_score_time': array([0.23813739, 0.22941055, 0.22635722, 0.22615843, 0.2177619 ,\n",
      "       0.21779685, 0.22500219, 0.22044559, 0.21297193, 0.21774774,\n",
      "       0.22262397, 0.22432413, 0.20871401, 0.22738929, 0.22589936,\n",
      "       0.1841361 ]), 'std_score_time': array([0.01696243, 0.00988501, 0.00528221, 0.00263231, 0.00645164,\n",
      "       0.00715118, 0.00727169, 0.00485262, 0.00465211, 0.00347154,\n",
      "       0.00493767, 0.0079677 , 0.0076571 , 0.01426605, 0.00486998,\n",
      "       0.03035496]), 'param_colsample_bytree': masked_array(data=[0.3, 0.3, 0.3, 0.3, 0.5, 0.5, 0.5, 0.5, 0.7, 0.7, 0.7,\n",
      "                   0.7, 0.9, 0.9, 0.9, 0.9],\n",
      "             mask=[False, False, False, False, False, False, False, False,\n",
      "                   False, False, False, False, False, False, False, False],\n",
      "       fill_value='?',\n",
      "            dtype=object), 'param_subsample': masked_array(data=[0.3, 0.5, 0.7, 0.9, 0.3, 0.5, 0.7, 0.9, 0.3, 0.5, 0.7,\n",
      "                   0.9, 0.3, 0.5, 0.7, 0.9],\n",
      "             mask=[False, False, False, False, False, False, False, False,\n",
      "                   False, False, False, False, False, False, False, False],\n",
      "       fill_value='?',\n",
      "            dtype=object), 'params': [{'colsample_bytree': 0.3, 'subsample': 0.3}, {'colsample_bytree': 0.3, 'subsample': 0.5}, {'colsample_bytree': 0.3, 'subsample': 0.7}, {'colsample_bytree': 0.3, 'subsample': 0.9}, {'colsample_bytree': 0.5, 'subsample': 0.3}, {'colsample_bytree': 0.5, 'subsample': 0.5}, {'colsample_bytree': 0.5, 'subsample': 0.7}, {'colsample_bytree': 0.5, 'subsample': 0.9}, {'colsample_bytree': 0.7, 'subsample': 0.3}, {'colsample_bytree': 0.7, 'subsample': 0.5}, {'colsample_bytree': 0.7, 'subsample': 0.7}, {'colsample_bytree': 0.7, 'subsample': 0.9}, {'colsample_bytree': 0.9, 'subsample': 0.3}, {'colsample_bytree': 0.9, 'subsample': 0.5}, {'colsample_bytree': 0.9, 'subsample': 0.7}, {'colsample_bytree': 0.9, 'subsample': 0.9}], 'split0_test_score': array([-0.31254507, -0.30952003, -0.31677446, -0.31268752, -0.31635105,\n",
      "       -0.30725635, -0.31710887, -0.31437924, -0.31562732, -0.31332309,\n",
      "       -0.31193825, -0.31919971, -0.3167665 , -0.32240434, -0.30343312,\n",
      "       -0.31387249]), 'split1_test_score': array([-0.30233752, -0.29435852, -0.29263612, -0.2919505 , -0.29051812,\n",
      "       -0.28887367, -0.28183582, -0.27700223, -0.30102311, -0.29516862,\n",
      "       -0.2720647 , -0.27056229, -0.28302549, -0.28310252, -0.27808488,\n",
      "       -0.27826936]), 'split2_test_score': array([-0.27856555, -0.27176262, -0.28068907, -0.27395129, -0.28058031,\n",
      "       -0.26633524, -0.26732212, -0.26567769, -0.27257172, -0.27151186,\n",
      "       -0.26473623, -0.27077323, -0.27490623, -0.28130786, -0.27390706,\n",
      "       -0.27132287]), 'split3_test_score': array([-0.27832184, -0.28491464, -0.28215834, -0.27359915, -0.28909301,\n",
      "       -0.27499276, -0.27841397, -0.26907698, -0.27331543, -0.27168048,\n",
      "       -0.26093382, -0.27387052, -0.27192257, -0.27234408, -0.26791683,\n",
      "       -0.26915172]), 'split4_test_score': array([-0.25286832, -0.246999  , -0.2366446 , -0.23668648, -0.25227023,\n",
      "       -0.24384475, -0.23116964, -0.24478433, -0.25903033, -0.24470034,\n",
      "       -0.23919554, -0.24843212, -0.25263641, -0.25722127, -0.25691034,\n",
      "       -0.25318841]), 'mean_test_score': array([-0.28492766, -0.28151096, -0.28178052, -0.27777499, -0.28576255,\n",
      "       -0.27626055, -0.27517008, -0.27418409, -0.28431358, -0.27927688,\n",
      "       -0.26977371, -0.27656757, -0.27985144, -0.28327602, -0.27605045,\n",
      "       -0.27716097]), 'std_test_score': array([0.02086978, 0.02120028, 0.02600386, 0.02506054, 0.02058133,\n",
      "       0.02131072, 0.02760959, 0.0227437 , 0.02077418, 0.02334622,\n",
      "       0.02375559, 0.02317764, 0.02097988, 0.02160225, 0.01543401,\n",
      "       0.0201091 ]), 'rank_test_score': array([15, 11, 12,  8, 16,  5,  3,  2, 14,  9,  1,  6, 10, 13,  4,  7],\n",
      "      dtype=int32)}\n",
      "RMSE: 0.328667\n",
      "1.4887433580256662\n",
      "RMSLE: 0.141490\n"
     ]
    }
   ],
   "source": [
    "print(search.cv_results_)\n",
    "spredictions = search.predict(X_test)\n",
    "rmse = np.sqrt(metrics.mean_squared_error(y_test, spredictions))\n",
    "print(\"RMSE: %f\" % (rmse))\n",
    "# Need an offset since \n",
    "#   Mean Squared Logarithmic Error cannot be used when targets contain negative values.\n",
    "offset = abs(min(y_test.price_doc_.min(), spredictions.min()))\n",
    "print(offset)\n",
    "rmsle = np.sqrt(metrics.mean_squared_log_error(y_test+offset, spredictions+offset))\n",
    "print(\"RMSLE: %f\" % (rmsle))"
   ]
  },
  {
   "cell_type": "markdown",
   "metadata": {},
   "source": [
    "<hr style=\"border: 4px dashed #000000; border-style: none none dashed; color: #fff; background-color: #fff; height: 4.0px;\"/>\n",
    "\n",
    "## Training and validation\n",
    "\n"
   ]
  },
  {
   "cell_type": "markdown",
   "metadata": {},
   "source": [
    "## NOTES\n",
    "\n",
    "1. there is a discrepancy between TTS and KFold validated estimators $\\to$ which to trust?\n",
    "\n",
    "2. The params used in one cross_val object are different from another?\n",
    "\n",
    "### TODO\n",
    "\n",
    "1. Split the data into test, train sets\n",
    "2. take the Train set, and then do the CV _only_ on it. \n",
    "3. then use the test set to eval the model"
   ]
  },
  {
   "cell_type": "markdown",
   "metadata": {},
   "source": [
    "## Evaluation"
   ]
  },
  {
   "cell_type": "markdown",
   "metadata": {},
   "source": [
    "### Test of the larger param. set $\\to$ has a larger error"
   ]
  },
  {
   "cell_type": "code",
   "execution_count": 137,
   "metadata": {},
   "outputs": [],
   "source": [
    "xgb_params1 = {'objective': 'reg:squarederror',\n",
    " 'base_score': None,\n",
    " 'booster': None,\n",
    " 'colsample_bylevel': None,\n",
    " 'colsample_bynode': None,\n",
    " 'colsample_bytree': 0.7,\n",
    " 'gamma': 0,\n",
    " 'gpu_id': None,\n",
    " 'importance_type': 'gain',\n",
    " 'interaction_constraints': None,\n",
    " 'learning_rate': None,\n",
    " 'max_delta_step': None,\n",
    " 'max_depth': 6,\n",
    " 'min_child_weight': 1.1,\n",
    " 'monotone_constraints': None,\n",
    " 'n_estimators': 300,\n",
    " 'n_jobs': None,\n",
    " 'num_parallel_tree': None,\n",
    " 'random_state': None,\n",
    " 'reg_alpha': None,\n",
    " 'reg_lambda': None,\n",
    " 'scale_pos_weight': None,\n",
    " 'subsample': 0.7,\n",
    " 'tree_method': None,\n",
    " 'validate_parameters': False,\n",
    " 'verbosity': None,\n",
    " 'eta': 0.07,\n",
    " 'eval_metric': 'rmse',\n",
    " 'silent': 1}"
   ]
  },
  {
   "cell_type": "code",
   "execution_count": 138,
   "metadata": {},
   "outputs": [],
   "source": [
    "model = xgb.XGBRegressor(**xgb_params1)\n",
    "model.fit(X_train,y_train)\n",
    "predictions = model.predict(X_test)"
   ]
  },
  {
   "cell_type": "code",
   "execution_count": 139,
   "metadata": {},
   "outputs": [
    {
     "name": "stdout",
     "output_type": "stream",
     "text": [
      "TTS RMSE: 0.567856\n"
     ]
    }
   ],
   "source": [
    "rmse = np.sqrt(metrics.mean_squared_error(y_test, predictions))\n",
    "print(\"TTS RMSE: %f\" % (rmse))"
   ]
  },
  {
   "cell_type": "code",
   "execution_count": 140,
   "metadata": {},
   "outputs": [
    {
     "name": "stdout",
     "output_type": "stream",
     "text": [
      "RMSLE: 0.171353\n"
     ]
    }
   ],
   "source": [
    "# Need an offset since \n",
    "#   Mean Squared Logarithmic Error cannot be used when targets contain negative values.\n",
    "offset = abs(min(y_test.price_doc_.min(), predictions.min()))\n",
    "rmsle = np.sqrt(metrics.mean_squared_log_error(y_test+offset, predictions+offset))\n",
    "print(\"RMSLE: %f\" % (rmsle))"
   ]
  },
  {
   "cell_type": "code",
   "execution_count": 141,
   "metadata": {},
   "outputs": [],
   "source": [
    "kfold = KFold(n_splits=5, shuffle=True, random_state=1)"
   ]
  },
  {
   "cell_type": "code",
   "execution_count": 142,
   "metadata": {},
   "outputs": [
    {
     "name": "stdout",
     "output_type": "stream",
     "text": [
      "CPU times: user 8min 50s, sys: 1.81 s, total: 8min 52s\n",
      "Wall time: 2min 34s\n"
     ]
    }
   ],
   "source": [
    "model1 = xgb.XGBRegressor(**xgb_params1)\n",
    "%time cv_scores = cross_val_score(model1, X, y, cv=kfold, scoring=metric)"
   ]
  },
  {
   "cell_type": "code",
   "execution_count": 143,
   "metadata": {
    "scrolled": false
   },
   "outputs": [
    {
     "name": "stdout",
     "output_type": "stream",
     "text": [
      "CV. RMSE: 0.5170\n"
     ]
    }
   ],
   "source": [
    "print(f\"CV. RMSE: {np.sqrt(-cv_scores).mean():.4f}\")"
   ]
  },
  {
   "cell_type": "code",
   "execution_count": 144,
   "metadata": {},
   "outputs": [
    {
     "name": "stdout",
     "output_type": "stream",
     "text": [
      "CPU times: user 8min 55s, sys: 2.12 s, total: 8min 57s\n",
      "Wall time: 2min 35s\n"
     ]
    }
   ],
   "source": [
    "model2 = xgb.XGBRegressor(**xgb_params1)\n",
    "%time cvscorer = cross_validate(model2, X, y, cv=kfold, scoring=metric, return_estimator=True)"
   ]
  },
  {
   "cell_type": "code",
   "execution_count": 145,
   "metadata": {},
   "outputs": [
    {
     "name": "stdout",
     "output_type": "stream",
     "text": [
      "CV. RMSE: 0.5170\n"
     ]
    }
   ],
   "source": [
    "print(f\"CV. RMSE: {np.sqrt(-cvscorer['test_score']).mean():.4f}\")"
   ]
  },
  {
   "cell_type": "code",
   "execution_count": 146,
   "metadata": {},
   "outputs": [
    {
     "name": "stdout",
     "output_type": "stream",
     "text": [
      "TTS RMSE: 0.421552\n",
      "RMSLE: 0.142935\n",
      "\n",
      "TTS RMSE: 0.348126\n",
      "RMSLE: 0.143595\n",
      "\n",
      "TTS RMSE: 0.335790\n",
      "RMSLE: 0.141886\n",
      "\n",
      "TTS RMSE: 0.339128\n",
      "RMSLE: 0.141615\n",
      "\n",
      "TTS RMSE: 0.369601\n",
      "RMSLE: 0.142663\n",
      "\n"
     ]
    }
   ],
   "source": [
    "for estimator in cvscorer['estimator']:\n",
    "\n",
    "    # For each estimator, predict on the test set\n",
    "    predictiones = estimator.predict(X_test)\n",
    "\n",
    "    # Get the error\n",
    "    rmse = np.sqrt(metrics.mean_squared_error(y_test, predictiones))\n",
    "    print(\"TTS RMSE: %f\" % (rmse))\n",
    "    \n",
    "    # Need an offset since \n",
    "    #   Mean Squared Logarithmic Error cannot be used when targets contain negative values.\n",
    "    offset = abs(min(y_test.price_doc_.min(), predictiones.min()))\n",
    "    rmsle = np.sqrt(metrics.mean_squared_log_error(y_test+offset, predictiones+offset))\n",
    "    print(\"RMSLE: %f\" % (rmsle))\n",
    "    print()"
   ]
  },
  {
   "cell_type": "markdown",
   "metadata": {},
   "source": [
    "### Test of the smaller param. set $\\to$ has a _noticibly_ smaller error"
   ]
  },
  {
   "cell_type": "code",
   "execution_count": 126,
   "metadata": {},
   "outputs": [],
   "source": [
    "xgb_params2 = {\n",
    "    'eta': 0.07,\n",
    "    'max_depth': 6,\n",
    "    'subsample': 0.7,\n",
    "    'colsample_bytree': 0.7,\n",
    "    #'objective': 'reg:linear',\n",
    "    # 'objective':'reg:squarederror', 'n_jobs':-1, #for the feature importance\n",
    "    'eval_metric': 'rmse',\n",
    "    'silent': 1,\n",
    "    'colsample_bytree': 0.7,\n",
    "    'learning_rate': 0.07,\n",
    "    'min_child_weight': 1.1,\n",
    "    'monotone_constraints': None,\n",
    "    'n_estimators': 300,\n",
    "    'subsample': 0.7      \n",
    "}"
   ]
  },
  {
   "cell_type": "code",
   "execution_count": 127,
   "metadata": {},
   "outputs": [
    {
     "name": "stdout",
     "output_type": "stream",
     "text": [
      "CPU times: user 8min 57s, sys: 1.47 s, total: 8min 58s\n",
      "Wall time: 2min 36s\n"
     ]
    }
   ],
   "source": [
    "model3 = xgb.XGBRegressor(**xgb_params2)\n",
    "%time cv_scores = cross_val_score(model3, X, y, cv=kfold, scoring=metric)"
   ]
  },
  {
   "cell_type": "code",
   "execution_count": 128,
   "metadata": {},
   "outputs": [
    {
     "name": "stdout",
     "output_type": "stream",
     "text": [
      "CV. RMSE: 0.5170\n"
     ]
    }
   ],
   "source": [
    "print(f\"CV. RMSE: {np.sqrt(-cv_scores).mean():.4f}\")"
   ]
  },
  {
   "cell_type": "code",
   "execution_count": 129,
   "metadata": {},
   "outputs": [
    {
     "name": "stdout",
     "output_type": "stream",
     "text": [
      "CPU times: user 8min 49s, sys: 1.96 s, total: 8min 51s\n",
      "Wall time: 2min 32s\n"
     ]
    }
   ],
   "source": [
    "model4 = xgb.XGBRegressor(**xgb_params2)\n",
    "%time cvscorer = cross_validate(model4, X, y, cv=kfold, scoring=metric, return_estimator=True)"
   ]
  },
  {
   "cell_type": "code",
   "execution_count": 130,
   "metadata": {},
   "outputs": [
    {
     "name": "stdout",
     "output_type": "stream",
     "text": [
      "CV. RMSE: 0.5170\n"
     ]
    }
   ],
   "source": [
    "print(f\"CV. RMSE: {np.sqrt(-cvscorer['test_score']).mean():.4f}\")"
   ]
  },
  {
   "cell_type": "markdown",
   "metadata": {},
   "source": [
    "### So, what gives?"
   ]
  },
  {
   "cell_type": "code",
   "execution_count": 135,
   "metadata": {},
   "outputs": [
    {
     "name": "stdout",
     "output_type": "stream",
     "text": [
      "learning_rate 0.077 0.07\n",
      "max_depth 7 6\n",
      "missing nan nan\n",
      "eta 0.077 0.07\n"
     ]
    }
   ],
   "source": [
    "m3_params = model3.get_xgb_params()\n",
    "for k,v in model1.get_xgb_params().items():\n",
    "    \n",
    "    if v!=m3_params[k]: print(k,v,m3_params[k])"
   ]
  },
  {
   "cell_type": "code",
   "execution_count": null,
   "metadata": {},
   "outputs": [],
   "source": []
  },
  {
   "cell_type": "code",
   "execution_count": null,
   "metadata": {},
   "outputs": [],
   "source": []
  },
  {
   "cell_type": "code",
   "execution_count": null,
   "metadata": {},
   "outputs": [],
   "source": []
  },
  {
   "cell_type": "code",
   "execution_count": null,
   "metadata": {},
   "outputs": [],
   "source": []
  },
  {
   "cell_type": "code",
   "execution_count": null,
   "metadata": {},
   "outputs": [],
   "source": []
  },
  {
   "cell_type": "markdown",
   "metadata": {},
   "source": [
    "## Track record\n",
    "\n",
    "\n",
    "**Note** unless specified, all measurements are done with TTSplit\n",
    "\n",
    "Before 14.05.2020\n",
    "```\n",
    "RMSLE: 0.218097\n",
    "```\n",
    "\n",
    "14.05.2020\n",
    "```\n",
    "RMSLE: 0.217262\n",
    "```\n",
    "\n",
    "19.05.2020, dropped the 'sub_area' feature\n",
    "```\n",
    "RMSLE: 0.218165\n",
    "```\n",
    "\n",
    "19.05.2020, dropped rows with distribution spikes\n",
    "```\n",
    "RMSLE: 0.154526\n",
    "```\n",
    "\n",
    "20.05.2020, dropped more rows with distribution spikes; updated version\n",
    "```\n",
    "RMSLE: 0.173733\n",
    "```\n",
    "\n",
    "20.05.2020, final version with the cleaned distribution spikes\n",
    "```\n",
    "RMSLE: 0.163458\n",
    "```\n",
    "\n",
    "28.05.2020, after GridSearch, _but_ using KFold-CV\n",
    "```\n",
    "RMSLE: 0.141490\n",
    "```\n",
    "\n",
    "28.05.2020, after GridSearch using again TTSplit\n",
    "```\n",
    "RMSLE: 0.173176\n",
    "```"
   ]
  },
  {
   "cell_type": "code",
   "execution_count": 91,
   "metadata": {},
   "outputs": [
    {
     "data": {
      "text/plain": [
       "[<matplotlib.lines.Line2D at 0x7f40b2144320>]"
      ]
     },
     "execution_count": 91,
     "metadata": {},
     "output_type": "execute_result"
    },
    {
     "data": {
      "image/png": "[encoded data removed]",
      "text/plain": [
       "<Figure size 1152x720 with 1 Axes>"
      ]
     },
     "metadata": {
      "needs_background": "light"
     },
     "output_type": "display_data"
    }
   ],
   "source": [
    "offsets = np.arange(1.5,11.0, 0.5)\n",
    "errors = []\n",
    "for x in offsets:\n",
    "    rmsle = np.sqrt(metrics.mean_squared_log_error(y_test+x, predictions+x))\n",
    "    errors.append(rmsle)\n",
    "errors = np.array(errors)\n",
    "\n",
    "plt.figure(figsize=[16,10])\n",
    "plt.plot(offsets, errors, 'o-')"
   ]
  },
  {
   "cell_type": "markdown",
   "metadata": {},
   "source": [
    "### Distributions"
   ]
  },
  {
   "cell_type": "code",
   "execution_count": 229,
   "metadata": {},
   "outputs": [
    {
     "data": {
      "text/plain": [
       "array([-0.08078796, -0.43090177, -0.6155516 , ...,  0.37530148,\n",
       "        3.6901767 , -0.22487855], dtype=float32)"
      ]
     },
     "execution_count": 229,
     "metadata": {},
     "output_type": "execute_result"
    }
   ],
   "source": [
    "spredictions"
   ]
  },
  {
   "cell_type": "code",
   "execution_count": 230,
   "metadata": {},
   "outputs": [],
   "source": [
    "bin_width = 0.1\n",
    "bins=np.arange(-2,12 + bin_width, bin_width)\n",
    "hist_train, _ = np.histogram(y_train, bins=bins)\n",
    "hist_test, _ = np.histogram(y_test, bins=bins)\n",
    "#hist_pred, _ = np.histogram(predictions, bins=bins)\n",
    "hist_pred, _ = np.histogram(spredictions, bins=bins)"
   ]
  },
  {
   "cell_type": "code",
   "execution_count": 231,
   "metadata": {},
   "outputs": [
    {
     "data": {
      "image/png": "[encoded data removed]",
      "text/plain": [
       "<Figure size 1152x720 with 1 Axes>"
      ]
     },
     "metadata": {
      "needs_background": "light"
     },
     "output_type": "display_data"
    }
   ],
   "source": [
    "fig, ax = plt.subplots(1,1,figsize=[16,10])\n",
    "\n",
    "ax.bar( x=bins[:-1],height=hist_train, width=bin_width, label='train', alpha=0.5)\n",
    "ax.bar( x=bins[:-1],height=hist_test, width=bin_width, label='test', alpha=0.5)\n",
    "ax.bar( x=bins[:-1],height=hist_pred, width=bin_width, label='pred', alpha=0.5)\n",
    "ax.legend();"
   ]
  },
  {
   "cell_type": "code",
   "execution_count": 232,
   "metadata": {},
   "outputs": [],
   "source": [
    "hist_train, _ = np.histogram(y_train, bins=bins, density=True)\n",
    "hist_test, _ = np.histogram(y_test, bins=bins, density=True)\n",
    "hist_pred, _ = np.histogram(predictions, bins=bins, density=True)"
   ]
  },
  {
   "cell_type": "code",
   "execution_count": 233,
   "metadata": {},
   "outputs": [
    {
     "data": {
      "image/png": "[encoded data removed]",
      "text/plain": [
       "<Figure size 1152x720 with 1 Axes>"
      ]
     },
     "metadata": {
      "needs_background": "light"
     },
     "output_type": "display_data"
    }
   ],
   "source": [
    "fig, ax = plt.subplots(1,1,figsize=[16,10])\n",
    "\n",
    "ax.bar( x=bins[:-1],height=hist_train, width=bin_width, label='train', alpha=0.5)\n",
    "ax.bar( x=bins[:-1],height=hist_test, width=bin_width, label='test', alpha=0.5)\n",
    "ax.bar( x=bins[:-1],height=hist_pred, width=bin_width, label='pred', alpha=0.5)\n",
    "ax.legend();"
   ]
  },
  {
   "cell_type": "code",
   "execution_count": 234,
   "metadata": {
    "scrolled": false
   },
   "outputs": [
    {
     "data": {
      "image/png": "[encoded data removed]",
      "text/plain": [
       "<Figure size 1152x720 with 2 Axes>"
      ]
     },
     "metadata": {
      "needs_background": "light"
     },
     "output_type": "display_data"
    }
   ],
   "source": [
    "fig, ax = plt.subplots(2,1,figsize=[16,10])\n",
    "\n",
    "ax =ax.reshape(2)\n",
    "\n",
    "ax[0].plot( bins[:-1], hist_train, 'X:', label='train', alpha=0.95)\n",
    "ax[0].plot( bins[:-1], hist_test,  'P-.', label='test',  alpha=0.95)\n",
    "ax[0].plot( bins[:-1], hist_pred,  '.:', label='pred',  alpha=0.95)\n",
    "ax[0].set_xlim(-2.0,5.5)\n",
    "\n",
    "ax[1].plot( bins[:-1], hist_train, 'X:', label='train', alpha=0.95)\n",
    "ax[1].plot( bins[:-1], hist_test,  'P-.', label='test',  alpha=0.95)\n",
    "ax[1].plot( bins[:-1], hist_pred,  '.:', label='pred',  alpha=0.95)\n",
    "ax[1].set_yscale('log')\n",
    "ax[1].set_xlim(-2.0,5.5)\n",
    "ax[1].legend();"
   ]
  },
  {
   "cell_type": "markdown",
   "metadata": {},
   "source": [
    "\n",
    "<hr style=\"border: solid rgb(255,0,0) 0.0px; background-color: rgb(255,0,0);height: 2.0px;\"/>\n",
    "<font color='red' size=5>\n",
    "    STOP \n",
    "</font>"
   ]
  },
  {
   "cell_type": "markdown",
   "metadata": {},
   "source": [
    "## Various classifiers"
   ]
  },
  {
   "cell_type": "code",
   "execution_count": 92,
   "metadata": {},
   "outputs": [
    {
     "name": "stderr",
     "output_type": "stream",
     "text": [
      "/usr/local/lib/python3.6/dist-packages/sklearn/utils/deprecation.py:144: FutureWarning: The sklearn.metrics.scorer module is  deprecated in version 0.22 and will be removed in version 0.24. The corresponding classes / functions should instead be imported from sklearn.metrics. Anything that cannot be imported from sklearn.metrics is now part of the private API.\n",
      "  warnings.warn(message, FutureWarning)\n"
     ]
    }
   ],
   "source": [
    "from sklearn.model_selection import cross_val_score, cross_validate\n",
    "from sklearn.model_selection import GridSearchCV, KFold\n",
    "from sklearn.decomposition import PCA\n",
    "from sklearn.metrics import mean_squared_log_error, make_scorer\n",
    "from sklearn.metrics.scorer import neg_mean_squared_error_scorer\n",
    "\n",
    "from sklearn.linear_model import LinearRegression, ElasticNet, Lasso, Ridge, RidgeCV\n",
    "from sklearn.svm import SVR\n",
    "from sklearn.kernel_ridge import KernelRidge\n",
    "from sklearn.ensemble import RandomForestRegressor, GradientBoostingRegressor\n",
    "\n",
    "import xgboost as xgb\n",
    "import lightgbm as lgb\n",
    "\n",
    "\n",
    "classifiers = [\n",
    "               Ridge(), \n",
    "               Lasso(), \n",
    "               ElasticNet(),\n",
    "               KernelRidge(),\n",
    "               SVR(),\n",
    "               RandomForestRegressor(),\n",
    "               GradientBoostingRegressor(),\n",
    "               lgb.LGBMRegressor(),\n",
    "               xgb.XGBRegressor(objective=\"reg:squarederror\"),\n",
    "]\n",
    "\n",
    "clf_names = [\n",
    "            \"ridge      \",\n",
    "            \"lasso      \",\n",
    "            \"elastic    \",\n",
    "            \"kernlrdg   \",\n",
    "            \"svr        \",\n",
    "            \"rndmforest \", \n",
    "            \"gbm        \", \n",
    "            \"lgbm       \", \n",
    "            \"xgboost    \",\n",
    "]"
   ]
  },
  {
   "cell_type": "markdown",
   "metadata": {},
   "source": [
    "```\n",
    "train, test, y_train, y_test = train_test_split(df.drop([\"id\", \"timestamp\"], axis=1), \n",
    "                                                df_targ.drop([\"id\",\"price_doc\"], axis=1), random_state=10, test_size=0.25)\n",
    "model = xgb.XGBRegressor(**xgb_params)\n",
    "model.fit(X_train,y_train)\n",
    "predictions = model.predict(X_test)\n",
    "```"
   ]
  },
  {
   "cell_type": "code",
   "execution_count": 93,
   "metadata": {
    "scrolled": false
   },
   "outputs": [
    {
     "name": "stdout",
     "output_type": "stream",
     "text": [
      "ridge       0.9728\n",
      "lasso       0.9996\n",
      "elastic     0.9996\n",
      "kernlrdg    0.9728\n"
     ]
    },
    {
     "name": "stderr",
     "output_type": "stream",
     "text": [
      "/usr/local/lib/python3.6/dist-packages/sklearn/utils/validation.py:760: DataConversionWarning: A column-vector y was passed when a 1d array was expected. Please change the shape of y to (n_samples, ), for example using ravel().\n",
      "  y = column_or_1d(y, warn=True)\n",
      "/usr/local/lib/python3.6/dist-packages/sklearn/utils/validation.py:760: DataConversionWarning: A column-vector y was passed when a 1d array was expected. Please change the shape of y to (n_samples, ), for example using ravel().\n",
      "  y = column_or_1d(y, warn=True)\n",
      "/usr/local/lib/python3.6/dist-packages/sklearn/utils/validation.py:760: DataConversionWarning: A column-vector y was passed when a 1d array was expected. Please change the shape of y to (n_samples, ), for example using ravel().\n",
      "  y = column_or_1d(y, warn=True)\n",
      "/usr/local/lib/python3.6/dist-packages/sklearn/utils/validation.py:760: DataConversionWarning: A column-vector y was passed when a 1d array was expected. Please change the shape of y to (n_samples, ), for example using ravel().\n",
      "  y = column_or_1d(y, warn=True)\n",
      "/usr/local/lib/python3.6/dist-packages/sklearn/utils/validation.py:760: DataConversionWarning: A column-vector y was passed when a 1d array was expected. Please change the shape of y to (n_samples, ), for example using ravel().\n",
      "  y = column_or_1d(y, warn=True)\n"
     ]
    },
    {
     "name": "stdout",
     "output_type": "stream",
     "text": [
      "svr         0.5649\n"
     ]
    },
    {
     "name": "stderr",
     "output_type": "stream",
     "text": [
      "/usr/local/lib/python3.6/dist-packages/sklearn/model_selection/_validation.py:515: DataConversionWarning: A column-vector y was passed when a 1d array was expected. Please change the shape of y to (n_samples,), for example using ravel().\n",
      "  estimator.fit(X_train, y_train, **fit_params)\n",
      "/usr/local/lib/python3.6/dist-packages/sklearn/model_selection/_validation.py:515: DataConversionWarning: A column-vector y was passed when a 1d array was expected. Please change the shape of y to (n_samples,), for example using ravel().\n",
      "  estimator.fit(X_train, y_train, **fit_params)\n",
      "/usr/local/lib/python3.6/dist-packages/sklearn/model_selection/_validation.py:515: DataConversionWarning: A column-vector y was passed when a 1d array was expected. Please change the shape of y to (n_samples,), for example using ravel().\n",
      "  estimator.fit(X_train, y_train, **fit_params)\n",
      "/usr/local/lib/python3.6/dist-packages/sklearn/model_selection/_validation.py:515: DataConversionWarning: A column-vector y was passed when a 1d array was expected. Please change the shape of y to (n_samples,), for example using ravel().\n",
      "  estimator.fit(X_train, y_train, **fit_params)\n",
      "/usr/local/lib/python3.6/dist-packages/sklearn/model_selection/_validation.py:515: DataConversionWarning: A column-vector y was passed when a 1d array was expected. Please change the shape of y to (n_samples,), for example using ravel().\n",
      "  estimator.fit(X_train, y_train, **fit_params)\n"
     ]
    },
    {
     "name": "stdout",
     "output_type": "stream",
     "text": [
      "rndmforest  0.5334\n"
     ]
    },
    {
     "name": "stderr",
     "output_type": "stream",
     "text": [
      "/usr/local/lib/python3.6/dist-packages/sklearn/ensemble/_gb.py:1454: DataConversionWarning: A column-vector y was passed when a 1d array was expected. Please change the shape of y to (n_samples, ), for example using ravel().\n",
      "  y = column_or_1d(y, warn=True)\n",
      "/usr/local/lib/python3.6/dist-packages/sklearn/ensemble/_gb.py:1454: DataConversionWarning: A column-vector y was passed when a 1d array was expected. Please change the shape of y to (n_samples, ), for example using ravel().\n",
      "  y = column_or_1d(y, warn=True)\n",
      "/usr/local/lib/python3.6/dist-packages/sklearn/ensemble/_gb.py:1454: DataConversionWarning: A column-vector y was passed when a 1d array was expected. Please change the shape of y to (n_samples, ), for example using ravel().\n",
      "  y = column_or_1d(y, warn=True)\n",
      "/usr/local/lib/python3.6/dist-packages/sklearn/ensemble/_gb.py:1454: DataConversionWarning: A column-vector y was passed when a 1d array was expected. Please change the shape of y to (n_samples, ), for example using ravel().\n",
      "  y = column_or_1d(y, warn=True)\n",
      "/usr/local/lib/python3.6/dist-packages/sklearn/ensemble/_gb.py:1454: DataConversionWarning: A column-vector y was passed when a 1d array was expected. Please change the shape of y to (n_samples, ), for example using ravel().\n",
      "  y = column_or_1d(y, warn=True)\n"
     ]
    },
    {
     "name": "stdout",
     "output_type": "stream",
     "text": [
      "gbm         0.5369\n",
      "lgbm        0.5239\n",
      "xgboost     0.5373\n"
     ]
    }
   ],
   "source": [
    "X = df.drop([\"id\", \"timestamp\"], axis=1)\n",
    "y = df_targ.drop([\"id\",\"price_doc\"], axis=1)\n",
    "#metric = 'neg_mean_squared_log_error'\n",
    "metric = 'neg_mean_squared_error'\n",
    "\n",
    "for clf_name, clf in zip(clf_names, classifiers):\n",
    "    kfold = KFold(n_splits=5, shuffle=True, random_state=1)\n",
    "    print(f\"{clf_name} {np.sqrt(-cross_val_score(clf, X, y, cv=kfold, scoring=metric)).mean():.4f}\")"
   ]
  },
  {
   "cell_type": "code",
   "execution_count": 101,
   "metadata": {
    "scrolled": true
   },
   "outputs": [
    {
     "data": {
      "text/plain": [
       "['accuracy',\n",
       " 'adjusted_mutual_info_score',\n",
       " 'adjusted_rand_score',\n",
       " 'average_precision',\n",
       " 'balanced_accuracy',\n",
       " 'completeness_score',\n",
       " 'explained_variance',\n",
       " 'f1',\n",
       " 'f1_macro',\n",
       " 'f1_micro',\n",
       " 'f1_samples',\n",
       " 'f1_weighted',\n",
       " 'fowlkes_mallows_score',\n",
       " 'homogeneity_score',\n",
       " 'jaccard',\n",
       " 'jaccard_macro',\n",
       " 'jaccard_micro',\n",
       " 'jaccard_samples',\n",
       " 'jaccard_weighted',\n",
       " 'max_error',\n",
       " 'mutual_info_score',\n",
       " 'neg_brier_score',\n",
       " 'neg_log_loss',\n",
       " 'neg_mean_absolute_error',\n",
       " 'neg_mean_gamma_deviance',\n",
       " 'neg_mean_poisson_deviance',\n",
       " 'neg_mean_squared_error',\n",
       " 'neg_mean_squared_log_error',\n",
       " 'neg_median_absolute_error',\n",
       " 'neg_root_mean_squared_error',\n",
       " 'normalized_mutual_info_score',\n",
       " 'precision',\n",
       " 'precision_macro',\n",
       " 'precision_micro',\n",
       " 'precision_samples',\n",
       " 'precision_weighted',\n",
       " 'r2',\n",
       " 'recall',\n",
       " 'recall_macro',\n",
       " 'recall_micro',\n",
       " 'recall_samples',\n",
       " 'recall_weighted',\n",
       " 'roc_auc',\n",
       " 'roc_auc_ovo',\n",
       " 'roc_auc_ovo_weighted',\n",
       " 'roc_auc_ovr',\n",
       " 'roc_auc_ovr_weighted',\n",
       " 'v_measure_score']"
      ]
     },
     "execution_count": 101,
     "metadata": {},
     "output_type": "execute_result"
    }
   ],
   "source": [
    "from sklearn.metrics import SCORERS\n",
    "sorted(SCORERS.keys())"
   ]
  },
  {
   "cell_type": "markdown",
   "metadata": {
    "ExecuteTime": {
     "end_time": "2019-09-20T14:24:34.936184Z",
     "start_time": "2019-09-20T14:24:34.915884Z"
    }
   },
   "source": [
    "# Hypertuning the engines"
   ]
  },
  {
   "cell_type": "markdown",
   "metadata": {
    "ExecuteTime": {
     "end_time": "2019-09-20T16:51:31.417541Z",
     "start_time": "2019-09-20T16:51:31.407012Z"
    }
   },
   "source": [
    "> <span style=\"color:darkred\">Skip ahead to the next chapter (6.) if you don't want to find **new** parameters.\n",
    "\n",
    "For each of the promising classifiers we now try to find optimal hyperparameters with a search grid and sklearn's `GridSearchCV()`. (*commented out to allow for faster execution of whole kernel*)\n",
    "\n",
    "As a starting point I looked into several of the kernels that I already have mentioned and tuned based on their findings.\n"
   ]
  },
  {
   "cell_type": "code",
   "execution_count": 96,
   "metadata": {},
   "outputs": [],
   "source": [
    "from sklearn.pipeline import Pipeline, make_pipeline"
   ]
  },
  {
   "cell_type": "code",
   "execution_count": 67,
   "metadata": {
    "ExecuteTime": {
     "end_time": "2019-09-22T12:40:19.916494Z",
     "start_time": "2019-09-22T12:40:19.914631Z"
    },
    "_kg_hide-input": true
   },
   "outputs": [],
   "source": [
    "# X = dtrain[dtrain.GrLivArea < 4000].drop([\"SalePrice\"], axis=1)\n",
    "# y = np.log1p(dtrain[dtrain.GrLivArea < 4000].SalePrice)\n",
    "# metric = 'neg_mean_squared_error'\n",
    "\n",
    "# sk = pd.DataFrame(X.iloc[:, :60].skew(), columns=[\"skewness\"])\n",
    "# sk = sk[sk.skewness > .75]\n",
    "# for feature_ in sk.index:\n",
    "#     X[feature_] = boxcox1p(X[feature_], 0.15)"
   ]
  },
  {
   "cell_type": "code",
   "execution_count": 105,
   "metadata": {},
   "outputs": [
    {
     "data": {
      "text/plain": [
       "'neg_mean_squared_error'"
      ]
     },
     "execution_count": 105,
     "metadata": {},
     "output_type": "execute_result"
    }
   ],
   "source": [
    "metric"
   ]
  },
  {
   "cell_type": "code",
   "execution_count": 104,
   "metadata": {
    "ExecuteTime": {
     "end_time": "2019-09-22T12:40:19.920331Z",
     "start_time": "2019-09-22T12:40:19.918284Z"
    },
    "_kg_hide-input": true
   },
   "outputs": [
    {
     "name": "stdout",
     "output_type": "stream",
     "text": [
      "{'ridge__alpha': 1.0}\n",
      "1.065\n"
     ]
    }
   ],
   "source": [
    "# GridSearchCV Ridge\n",
    "ridge = make_pipeline(Ridge(alpha=15, random_state=1))\n",
    "#ridge = make_pipeline(RobustScaler(), Ridge(alpha=15, random_state=1))\n",
    "#ridge = Ridge(alpha=15, random_state=1) # didn't work\n",
    "param_grid = {\n",
    "    'ridge__alpha' : np.linspace(1, 10, 1),\n",
    "}#    'ridge__max_iter' : np.linspace(10, 200, 5),\n",
    "search = GridSearchCV(ridge, param_grid, cv=kfold, scoring=metric, n_jobs=5)\n",
    "search.fit(X, y)\n",
    "print(f\"{search.best_params_}\")\n",
    "print(f\"{np.sqrt(-search.best_score_):.4}\")"
   ]
  },
  {
   "cell_type": "code",
   "execution_count": 98,
   "metadata": {},
   "outputs": [
    {
     "name": "stdout",
     "output_type": "stream",
     "text": [
      "Ridge 0.9728\n"
     ]
    }
   ],
   "source": [
    "kfold = KFold(n_splits=5, shuffle=True, random_state=1)\n",
    "print(f\"{'Ridge'} {np.sqrt(-cross_val_score(Ridge(), X, y, cv=kfold, scoring=metric)).mean():.4f}\")"
   ]
  },
  {
   "cell_type": "code",
   "execution_count": null,
   "metadata": {},
   "outputs": [],
   "source": [
    "Ridge()"
   ]
  },
  {
   "cell_type": "code",
   "execution_count": 69,
   "metadata": {
    "ExecuteTime": {
     "end_time": "2019-09-22T12:40:19.923903Z",
     "start_time": "2019-09-22T12:40:19.921659Z"
    },
    "_kg_hide-input": true
   },
   "outputs": [],
   "source": [
    "# # GridSearchCV Lasso\n",
    "# lasso = make_pipeline(RobustScaler(), Lasso(alpha=0.00044, random_state=1))\n",
    "# param_grid = {'lasso__alpha' : np.linspace(0.00005, 0.001, 30)}\n",
    "# search = GridSearchCV(lasso, param_grid, cv=5, scoring=metric, n_jobs=-1)\n",
    "# search.fit(X, y)\n",
    "# print(f\"{search.best_params_}\")\n",
    "# print(f\"{np.sqrt(-search.best_score_):.4}\")"
   ]
  },
  {
   "cell_type": "code",
   "execution_count": 70,
   "metadata": {
    "ExecuteTime": {
     "end_time": "2019-09-22T12:40:19.927240Z",
     "start_time": "2019-09-22T12:40:19.925187Z"
    },
    "_kg_hide-input": true
   },
   "outputs": [],
   "source": [
    "# # GridSearchCV ElasticNet\n",
    "# elastic = make_pipeline(RobustScaler(), ElasticNet(alpha=0.0005, l1_ratio=1, random_state=1))\n",
    "# param_grid = {\n",
    "#     'elasticnet__alpha' : np.linspace(0.0001, 0.001, 10),\n",
    "#     'elasticnet__l1_ratio' : np.linspace(0.5, 1, 10),\n",
    "# }\n",
    "# search = GridSearchCV(elastic, param_grid, cv=5, scoring=metric, n_jobs=-1)\n",
    "# search.fit(X, y)\n",
    "# print(f\"{search.best_params_}\")\n",
    "# print(f\"{np.sqrt(-search.best_score_):.4}\")"
   ]
  },
  {
   "cell_type": "code",
   "execution_count": 71,
   "metadata": {
    "ExecuteTime": {
     "end_time": "2019-09-22T12:40:19.930340Z",
     "start_time": "2019-09-22T12:40:19.928423Z"
    },
    "_kg_hide-input": true
   },
   "outputs": [],
   "source": [
    "# # GridSearchCV KernelRidge\n",
    "# kernel = KernelRidge(alpha=1)\n",
    "# param_grid = {'alpha' : np.linspace(0.001, 1, 30)}\n",
    "# search = GridSearchCV(kernel, param_grid, cv=5, scoring=metric, n_jobs=-1)\n",
    "# search.fit(X, y)\n",
    "# print(f\"{search.best_params_}\")\n",
    "# print(f\"{np.sqrt(-search.best_score_):.4}\")"
   ]
  },
  {
   "cell_type": "code",
   "execution_count": 72,
   "metadata": {
    "ExecuteTime": {
     "end_time": "2019-09-22T12:40:19.934312Z",
     "start_time": "2019-09-22T12:40:19.932339Z"
    },
    "_kg_hide-input": true
   },
   "outputs": [],
   "source": [
    "# # GridSearchCV GBM\n",
    "# # huber loss is considered less sensitive to outliers\n",
    "# gbm = GradientBoostingRegressor(n_estimators=2500, learning_rate=0.04,\n",
    "#                                    max_depth=2, max_features='sqrt',\n",
    "#                                    min_samples_leaf=15, min_samples_split=10, \n",
    "#                                    loss='huber', random_state=1)\n",
    "# param_grid = {\n",
    "#     'n_estimators' : [2500],\n",
    "#     'learning_rate' : [0.03, 0.04, 0.05],\n",
    "#     'max_depth' : [2],\n",
    "# }\n",
    "# search = GridSearchCV(gbm, param_grid, cv=5, scoring=metric, n_jobs=-1)\n",
    "# search.fit(X, y)\n",
    "# print(f\"{search.best_params_}\")\n",
    "# print(f\"{np.sqrt(-search.best_score_):.4}\")"
   ]
  },
  {
   "cell_type": "code",
   "execution_count": 73,
   "metadata": {
    "ExecuteTime": {
     "end_time": "2019-09-22T12:40:19.937803Z",
     "start_time": "2019-09-22T12:40:19.935662Z"
    },
    "_kg_hide-input": true
   },
   "outputs": [],
   "source": [
    "# # GridSearchCV LightGBM\n",
    "# lgbm = lgb.LGBMRegressor(objective='regression', num_leaves=5,\n",
    "#                         learning_rate=0.03, n_estimators=8000,\n",
    "#                         max_bin=55, bagging_fraction=0.8,\n",
    "#                         bagging_freq=5, feature_fraction=0.23,\n",
    "#                         feature_fraction_seed=9, bagging_seed=9,\n",
    "#                         min_data_in_leaf=6, min_sum_hessian_in_leaf=11)\n",
    "# param_grid = {\n",
    "#     'n_estimators' : [8000],\n",
    "#     'learning_rate' : [0.03],\n",
    "# }\n",
    "# search = GridSearchCV(clf, param_grid, cv=5, scoring=metric, n_jobs=-1)\n",
    "# search.fit(X, y)\n",
    "# print(f\"{search.best_params_}\")\n",
    "# print(f\"{np.sqrt(-search.best_score_):.4}\")"
   ]
  },
  {
   "cell_type": "code",
   "execution_count": 75,
   "metadata": {
    "ExecuteTime": {
     "end_time": "2019-09-22T12:40:19.944824Z",
     "start_time": "2019-09-22T12:40:19.942780Z"
    },
    "_kg_hide-input": true
   },
   "outputs": [],
   "source": [
    "# # try a stacked regressor on top of the seven tuned classifiers \n",
    "# # leaving out xgboost in the stack for now since it seems to crash the stacked regressor\n",
    "# clf_to_stack = [lasso, ridge, elastic, kernel, gbm, lgbm]\n",
    "\n",
    "# stack = StackingCVRegressor(regressors=(clf_to_stack),\n",
    "#                             meta_regressor=xgb.XGBRegressor(objective=\"reg:squarederror\", n_jobs=-1), \n",
    "#                             use_features_in_secondary=True)\n",
    "\n",
    "# print(f\"{np.sqrt(-cross_val_score(stack, X, y, scoring=metric)).mean():.4f} Log Error\")"
   ]
  },
  {
   "cell_type": "code",
   "execution_count": null,
   "metadata": {},
   "outputs": [],
   "source": []
  }
 ],
 "metadata": {
  "kernelspec": {
   "display_name": "Python 3",
   "language": "python",
   "name": "python3"
  },
  "language_info": {
   "codemirror_mode": {
    "name": "ipython",
    "version": 3
   },
   "file_extension": ".py",
   "mimetype": "text/x-python",
   "name": "python",
   "nbconvert_exporter": "python",
   "pygments_lexer": "ipython3",
   "version": "3.6.9"
  },
  "toc": {
   "nav_menu": {},
   "number_sections": true,
   "sideBar": true,
   "skip_h1_title": false,
   "title_cell": "Table of Contents",
   "title_sidebar": "Contents",
   "toc_cell": false,
   "toc_position": {},
   "toc_section_display": true,
   "toc_window_display": false
  }
 },
 "nbformat": 4,
 "nbformat_minor": 2
}
