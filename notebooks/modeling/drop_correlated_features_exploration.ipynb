{
 "cells": [
  {
   "cell_type": "code",
   "execution_count": 1,
   "metadata": {},
   "outputs": [
    {
     "data": {
      "text/html": [
       "<style>.container { width:100% !important; }</style>"
      ],
      "text/plain": [
       "<IPython.core.display.HTML object>"
      ]
     },
     "metadata": {},
     "output_type": "display_data"
    }
   ],
   "source": [
    "from IPython.core.display import display, HTML\n",
    "display(HTML(\"<style>.container { width:100% !important; }</style>\"))"
   ]
  },
  {
   "cell_type": "markdown",
   "metadata": {},
   "source": [
    "<font size=6>\n",
    "    Correlation study\n",
    "</font>\n",
    "\n",
    "<hr style=\"border: solid rgb(0,0,0) 0.0px; background-color: rgb(0,0,0);height: 2.0px;\"/>\n",
    "<font color='red' size=5>\n",
    "    The show so far ... \n",
    "</font>\n"
   ]
  },
  {
   "cell_type": "code",
   "execution_count": 2,
   "metadata": {},
   "outputs": [],
   "source": [
    "import pandas as pd\n",
    "import numpy as np"
   ]
  },
  {
   "cell_type": "code",
   "execution_count": 4,
   "metadata": {},
   "outputs": [],
   "source": [
    "%matplotlib inline\n",
    "import matplotlib.pyplot as plt\n",
    "import seaborn as sns\n",
    "import random\n",
    "colors = [plt.cm.Spectral(each)\n",
    "          for each in np.linspace(0, 1, 20)]\n",
    "random.shuffle(colors)"
   ]
  },
  {
   "cell_type": "code",
   "execution_count": 20,
   "metadata": {},
   "outputs": [],
   "source": [
    "cols = list(map(str, range(1,21)))"
   ]
  },
  {
   "cell_type": "code",
   "execution_count": 27,
   "metadata": {},
   "outputs": [],
   "source": [
    "def get_corr_feature_drop_1(df_corr,threshold=0.95):\n",
    "    # from https://chrisalbon.com/machine_learning/feature_selection/drop_highly_correlated_features/\n",
    "    # also seen in https://stackoverflow.com/questions/29294983/how-to-calculate-correlation-between-all-columns-and-remove-highly-correlated-on\n",
    "    \"\"\"\n",
    "    Basic, minimal feature drop function: \n",
    "    blindly selects correlations to drop based on correlation\n",
    "    \"\"\"\n",
    "    # Create correlation matrix, with abs since interested only in magnitude\n",
    "    #df_corr = df.corr().abs()\n",
    "\n",
    "    # Select upper triangle of correlation matrix\n",
    "    upper = df_corr.where(np.triu(np.ones(df_corr.shape), k=1).astype(np.bool))\n",
    "\n",
    "    # Find index of feature columns with correlation greater than threshold\n",
    "    cols_to_drop = [column for column in upper.columns if any(upper[column] > threshold)]\n",
    "\n",
    "    # Drop features \n",
    "    #df.drop(to_drop, axis=1, inplace=True)\n",
    "\n",
    "    return cols_to_drop"
   ]
  },
  {
   "cell_type": "code",
   "execution_count": 54,
   "metadata": {},
   "outputs": [
    {
     "data": {
      "text/plain": [
       "array([0.33739681, 0.99845119, 0.62000924, 0.72394956, 0.98151164,\n",
       "       0.28110948, 0.03583807, 0.89488157, 0.73275171, 0.7294638 ,\n",
       "       0.43010819, 0.6548725 , 0.67473604, 0.67273599, 0.34042704,\n",
       "       0.65391838, 0.66084369, 0.46570534, 0.87271478, 0.76843275])"
      ]
     },
     "execution_count": 54,
     "metadata": {},
     "output_type": "execute_result"
    }
   ],
   "source": [
    "np.abs(np.random.normal(loc=0.75,scale=0.25, size=[20])%1.1)"
   ]
  },
  {
   "cell_type": "code",
   "execution_count": 87,
   "metadata": {},
   "outputs": [
    {
     "data": {
      "image/png": "[encoded data removed]",
      "text/plain": [
       "<Figure size 1152x576 with 4 Axes>"
      ]
     },
     "metadata": {
      "needs_background": "light"
     },
     "output_type": "display_data"
    }
   ],
   "source": [
    "corr_matrix = np.abs(np.random.normal(loc=0.8,scale=0.24, size=[20,20])%1.05)\n",
    "#corr_matrix = np.random.rand(20,20)\n",
    "np.clip(0,1, corr_matrix)\n",
    "np.fill_diagonal(corr_matrix,1)\n",
    "corr_matrix = (corr_matrix + corr_matrix.T)/2\n",
    "\n",
    "df_corr = pd.DataFrame(data=corr_matrix, index=cols, columns=cols)\n",
    "\n",
    "\n",
    "\n",
    "fig, ax = plt.subplots(1,2, figsize=(16,8))\n",
    "ax = ax.reshape(2)\n",
    "\n",
    "sns.heatmap(df_corr, cmap=\"RdBu\", vmin=0,  vmax=1., square=True, cbar_kws={\"shrink\": .7}, ax=ax[0]);\n",
    "\n",
    "sns.heatmap(df_corr.where(df_corr > 0.9), cmap=\"RdBu\", vmin=0,  vmax=1., square=True, cbar_kws={\"shrink\": .7}, ax=ax[1]);\n",
    "\n",
    "\n",
    "plt.title(f'Corr. matrix');"
   ]
  },
  {
   "cell_type": "code",
   "execution_count": 94,
   "metadata": {},
   "outputs": [],
   "source": [
    "threshold = 0.9"
   ]
  },
  {
   "cell_type": "code",
   "execution_count": 95,
   "metadata": {},
   "outputs": [
    {
     "data": {
      "text/plain": [
       "['8', '9', '11', '14', '15', '16', '18', '19']"
      ]
     },
     "execution_count": 95,
     "metadata": {},
     "output_type": "execute_result"
    }
   ],
   "source": [
    "get_corr_feature_drop_1(df_corr,threshold)"
   ]
  },
  {
   "cell_type": "code",
   "execution_count": 75,
   "metadata": {},
   "outputs": [
    {
     "data": {
      "image/png": "[encoded data removed]",
      "text/plain": [
       "<Figure size 432x288 with 2 Axes>"
      ]
     },
     "metadata": {
      "needs_background": "light"
     },
     "output_type": "display_data"
    }
   ],
   "source": [
    "plt.imshow(corr_matrix)\n",
    "cb =plt.colorbar()"
   ]
  },
  {
   "cell_type": "code",
   "execution_count": 101,
   "metadata": {},
   "outputs": [],
   "source": [
    "df_corr.loc['1','5'] = 1.0\n",
    "df_corr.loc['5','1'] = 1.0"
   ]
  },
  {
   "cell_type": "code",
   "execution_count": 102,
   "metadata": {},
   "outputs": [],
   "source": [
    "df_upper = df_corr.where(np.triu(np.ones(df_corr.shape), k=1).astype(np.bool))"
   ]
  },
  {
   "cell_type": "code",
   "execution_count": 103,
   "metadata": {},
   "outputs": [
    {
     "data": {
      "image/png": "[encoded data removed]",
      "text/plain": [
       "<Figure size 1152x576 with 4 Axes>"
      ]
     },
     "metadata": {
      "needs_background": "light"
     },
     "output_type": "display_data"
    }
   ],
   "source": [
    "fig, ax = plt.subplots(1,2, figsize=(16,8))\n",
    "ax = ax.reshape(2)\n",
    "\n",
    "sns.heatmap(df_upper, cmap=\"RdBu\", vmin=0,  vmax=1., square=True, cbar_kws={\"shrink\": .7}, ax=ax[1]);\n",
    "\n",
    "sns.heatmap(df_corr.where(df_corr > 0.9), cmap=\"RdBu\", vmin=0,  vmax=1., square=True, cbar_kws={\"shrink\": .7}, ax=ax[0]);\n",
    "\n",
    "\n",
    "plt.title(f'Corr. matrix');"
   ]
  },
  {
   "cell_type": "code",
   "execution_count": 121,
   "metadata": {},
   "outputs": [],
   "source": [
    "df_targ_corr = np.abs(np.random.normal(loc=0.5,scale=0.24, size=[20,1])%1.05)\n",
    "np.clip(0,1, df_targ_corr)\n",
    "df_targ_corr = pd.DataFrame(data=df_targ_corr.T, index=['targ'], columns=cols)"
   ]
  },
  {
   "cell_type": "code",
   "execution_count": 122,
   "metadata": {},
   "outputs": [
    {
     "data": {
      "text/html": [
       "<div>\n",
       "<style scoped>\n",
       "    .dataframe tbody tr th:only-of-type {\n",
       "        vertical-align: middle;\n",
       "    }\n",
       "\n",
       "    .dataframe tbody tr th {\n",
       "        vertical-align: top;\n",
       "    }\n",
       "\n",
       "    .dataframe thead th {\n",
       "        text-align: right;\n",
       "    }\n",
       "</style>\n",
       "<table border=\"1\" class=\"dataframe\">\n",
       "  <thead>\n",
       "    <tr style=\"text-align: right;\">\n",
       "      <th></th>\n",
       "      <th>1</th>\n",
       "      <th>2</th>\n",
       "      <th>3</th>\n",
       "      <th>4</th>\n",
       "      <th>5</th>\n",
       "      <th>6</th>\n",
       "      <th>7</th>\n",
       "      <th>8</th>\n",
       "      <th>9</th>\n",
       "      <th>10</th>\n",
       "      <th>11</th>\n",
       "      <th>12</th>\n",
       "      <th>13</th>\n",
       "      <th>14</th>\n",
       "      <th>15</th>\n",
       "      <th>16</th>\n",
       "      <th>17</th>\n",
       "      <th>18</th>\n",
       "      <th>19</th>\n",
       "      <th>20</th>\n",
       "    </tr>\n",
       "  </thead>\n",
       "  <tbody>\n",
       "    <tr>\n",
       "      <th>targ</th>\n",
       "      <td>0.767172</td>\n",
       "      <td>0.500187</td>\n",
       "      <td>0.372487</td>\n",
       "      <td>0.695082</td>\n",
       "      <td>0.572712</td>\n",
       "      <td>0.275609</td>\n",
       "      <td>0.464009</td>\n",
       "      <td>0.546802</td>\n",
       "      <td>0.423983</td>\n",
       "      <td>0.395407</td>\n",
       "      <td>0.427922</td>\n",
       "      <td>0.393207</td>\n",
       "      <td>0.323214</td>\n",
       "      <td>0.295114</td>\n",
       "      <td>0.046772</td>\n",
       "      <td>0.448215</td>\n",
       "      <td>0.600166</td>\n",
       "      <td>0.493147</td>\n",
       "      <td>0.158992</td>\n",
       "      <td>0.627863</td>\n",
       "    </tr>\n",
       "  </tbody>\n",
       "</table>\n",
       "</div>"
      ],
      "text/plain": [
       "             1         2         3         4         5         6         7  \\\n",
       "targ  0.767172  0.500187  0.372487  0.695082  0.572712  0.275609  0.464009   \n",
       "\n",
       "             8         9        10        11        12        13        14  \\\n",
       "targ  0.546802  0.423983  0.395407  0.427922  0.393207  0.323214  0.295114   \n",
       "\n",
       "            15        16        17        18        19        20  \n",
       "targ  0.046772  0.448215  0.600166  0.493147  0.158992  0.627863  "
      ]
     },
     "execution_count": 122,
     "metadata": {},
     "output_type": "execute_result"
    }
   ],
   "source": [
    "df_targ_corr.head()"
   ]
  },
  {
   "cell_type": "markdown",
   "metadata": {},
   "source": [
    "**Goal** drop the highly correlated features but keep a replacement which retains much of the information\n",
    "\n",
    "**The problems:**\n",
    "1. features are blindly dropped\n",
    "* no chekcing to see if the droppable feature has better or worse correlation with the target feature\n",
    "* no checking to see if the droppable feature is the replacement for another droppable feature (potentially dropping both features!)\n",
    "\n",
    "\n",
    "**ToDo**\n",
    "For each dropped col, \n",
    "1. check whether it's in the replacements for other cols\n",
    "    * if so, don't drop\n",
    "2. check it's replacements\n",
    "    * drop the col with the lesser correlation with the target feature\n",
    "    \n",
    "Examples:\n",
    "1. one col has one replacer\n",
    "    * the col is not in the replacements set\n",
    "    * the replacer only shows up once in the replacements set\n",
    "    * get the column associated with min(col.corr(targ), replacer.corr(targ))\n"
   ]
  },
  {
   "cell_type": "code",
   "execution_count": 131,
   "metadata": {},
   "outputs": [
    {
     "name": "stdout",
     "output_type": "stream",
     "text": [
      "drop it\n",
      "\tsave it\n",
      "\tsave it\n",
      "drop it\n",
      "drop it\n",
      "\tsave it\n",
      "drop it\n",
      "drop it\n",
      "drop it\n"
     ]
    }
   ],
   "source": [
    "discardables, replaceables, replaceable = [], [], []\n",
    "for column in df_upper.columns:\n",
    "    # For each column, see if there are any highly correlated rows\n",
    "    #   if so, save the current col name.\n",
    "    if any(df_upper[column] > threshold):\n",
    "        discardables.append(column)\n",
    "        replacers = df_corr[df_upper[column]>threshold].index.tolist()        \n",
    "        replaceable += replacers\n",
    "        replaceables.append(replacers)\n",
    "replaceable = sorted(list(set(replaceable)))\n",
    "replace_dict = dict(zip(discardables,replaceables))\n",
    "\n",
    "for column in discardables:\n",
    "    # For each column, see if there are any highly correlated rows\n",
    "    #   if so, save the current col name.\n",
    "    if column in replaceable:\n",
    "        print('\\tsave it')\n",
    "    else:\n",
    "        print('drop it')"
   ]
  },
  {
   "cell_type": "code",
   "execution_count": null,
   "metadata": {},
   "outputs": [],
   "source": []
  },
  {
   "cell_type": "code",
   "execution_count": 115,
   "metadata": {},
   "outputs": [],
   "source": [
    "cols_to_drop = get_corr_feature_drop_1(df_corr,threshold)"
   ]
  },
  {
   "cell_type": "code",
   "execution_count": 116,
   "metadata": {},
   "outputs": [
    {
     "name": "stdout",
     "output_type": "stream",
     "text": [
      "5 ['1']\n",
      "8 ['4']\n",
      "9 ['3', '7']\n",
      "11 ['2', '8']\n",
      "14 ['2', '13']\n",
      "15 ['3']\n",
      "16 ['9']\n",
      "18 ['15']\n",
      "19 ['4', '10']\n"
     ]
    }
   ],
   "source": [
    "for col in cols_to_drop:\n",
    "    print(col,df_corr[df_upper[col]>threshold].index.tolist())"
   ]
  },
  {
   "cell_type": "code",
   "execution_count": 132,
   "metadata": {},
   "outputs": [],
   "source": [
    "x = df_corr.values"
   ]
  },
  {
   "cell_type": "code",
   "execution_count": 133,
   "metadata": {},
   "outputs": [
    {
     "data": {
      "text/plain": [
       "numpy.ndarray"
      ]
     },
     "execution_count": 133,
     "metadata": {},
     "output_type": "execute_result"
    }
   ],
   "source": [
    "type(x)"
   ]
  },
  {
   "cell_type": "code",
   "execution_count": 134,
   "metadata": {},
   "outputs": [
    {
     "ename": "NameError",
     "evalue": "name 'corr' is not defined",
     "output_type": "error",
     "traceback": [
      "\u001b[0;31m---------------------------------------------------------------------------\u001b[0m",
      "\u001b[0;31mNameError\u001b[0m                                 Traceback (most recent call last)",
      "\u001b[0;32m<ipython-input-134-c7f85857d349>\u001b[0m in \u001b[0;36m<module>\u001b[0;34m\u001b[0m\n\u001b[1;32m      4\u001b[0m     \u001b[0mmask\u001b[0m \u001b[0;34m=\u001b[0m \u001b[0mnp\u001b[0m\u001b[0;34m.\u001b[0m\u001b[0mix_\u001b[0m\u001b[0;34m(\u001b[0m\u001b[0mkeep_idx\u001b[0m\u001b[0;34m,\u001b[0m \u001b[0mkeep_idx\u001b[0m\u001b[0;34m)\u001b[0m\u001b[0;34m\u001b[0m\u001b[0;34m\u001b[0m\u001b[0m\n\u001b[1;32m      5\u001b[0m     \u001b[0;31m# Get the number of correlations above a threshold.\u001b[0m\u001b[0;34m\u001b[0m\u001b[0;34m\u001b[0m\u001b[0;34m\u001b[0m\u001b[0m\n\u001b[0;32m----> 6\u001b[0;31m     \u001b[0mcounts\u001b[0m \u001b[0;34m=\u001b[0m \u001b[0mnp\u001b[0m\u001b[0;34m.\u001b[0m\u001b[0msum\u001b[0m\u001b[0;34m(\u001b[0m\u001b[0mcorr\u001b[0m\u001b[0;34m[\u001b[0m\u001b[0mmask\u001b[0m\u001b[0;34m]\u001b[0m \u001b[0;34m>\u001b[0m \u001b[0mthreshold\u001b[0m\u001b[0;34m,\u001b[0m \u001b[0maxis\u001b[0m\u001b[0;34m=\u001b[0m\u001b[0;36m0\u001b[0m\u001b[0;34m)\u001b[0m\u001b[0;34m\u001b[0m\u001b[0;34m\u001b[0m\u001b[0m\n\u001b[0m\u001b[1;32m      7\u001b[0m     \u001b[0mprint\u001b[0m\u001b[0;34m(\u001b[0m\u001b[0mcounts\u001b[0m\u001b[0;34m.\u001b[0m\u001b[0mshape\u001b[0m\u001b[0;34m)\u001b[0m\u001b[0;34m\u001b[0m\u001b[0;34m\u001b[0m\u001b[0m\n\u001b[1;32m      8\u001b[0m     \u001b[0;32mif\u001b[0m \u001b[0mmax\u001b[0m\u001b[0;34m(\u001b[0m\u001b[0mcounts\u001b[0m\u001b[0;34m)\u001b[0m \u001b[0;34m==\u001b[0m \u001b[0;36m0\u001b[0m\u001b[0;34m:\u001b[0m\u001b[0;34m\u001b[0m\u001b[0;34m\u001b[0m\u001b[0m\n",
      "\u001b[0;31mNameError\u001b[0m: name 'corr' is not defined"
     ]
    }
   ],
   "source": [
    "keep_idx = np.ones(x.shape[0], dtype=bool)\n",
    "for i in range(x.shape[0]):\n",
    "    # Create the mask from the kept indices\n",
    "    mask = np.ix_(keep_idx, keep_idx)\n",
    "    # Get the number of correlations above a threshold.\n",
    "    counts = np.sum(corr[mask] > threshold, axis=0)\n",
    "    print(counts.shape)\n",
    "    if max(counts) == 0:\n",
    "        break\n",
    "    # Get the worst offender and work out what the\n",
    "    # original index was\n",
    "    idx = np.where(keep_idx)[0][np.argmax(counts)]\n",
    "    # Update mask\n",
    "    keep_idx[idx] = False"
   ]
  },
  {
   "cell_type": "code",
   "execution_count": null,
   "metadata": {},
   "outputs": [],
   "source": []
  },
  {
   "cell_type": "code",
   "execution_count": null,
   "metadata": {},
   "outputs": [],
   "source": []
  }
 ],
 "metadata": {
  "kernelspec": {
   "display_name": "Python 3",
   "language": "python",
   "name": "python3"
  },
  "language_info": {
   "codemirror_mode": {
    "name": "ipython",
    "version": 3
   },
   "file_extension": ".py",
   "mimetype": "text/x-python",
   "name": "python",
   "nbconvert_exporter": "python",
   "pygments_lexer": "ipython3",
   "version": "3.6.9"
  },
  "toc": {
   "nav_menu": {},
   "number_sections": true,
   "sideBar": true,
   "skip_h1_title": false,
   "title_cell": "Table of Contents",
   "title_sidebar": "Contents",
   "toc_cell": false,
   "toc_position": {},
   "toc_section_display": true,
   "toc_window_display": false
  }
 },
 "nbformat": 4,
 "nbformat_minor": 2
}
