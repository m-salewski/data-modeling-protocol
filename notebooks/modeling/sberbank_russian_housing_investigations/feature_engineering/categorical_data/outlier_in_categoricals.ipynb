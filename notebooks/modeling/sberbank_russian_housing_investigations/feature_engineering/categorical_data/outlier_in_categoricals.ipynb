{
 "cells": [
  {
   "cell_type": "code",
   "execution_count": 1,
   "metadata": {},
   "outputs": [
    {
     "data": {
      "text/html": [
       "<style>.container { width:100% !important; }</style>"
      ],
      "text/plain": [
       "<IPython.core.display.HTML object>"
      ]
     },
     "metadata": {},
     "output_type": "display_data"
    }
   ],
   "source": [
    "from IPython.core.display import display, HTML\n",
    "display(HTML(\"<style>.container { width:100% !important; }</style>\"))"
   ]
  },
  {
   "cell_type": "markdown",
   "metadata": {},
   "source": [
    "<font size=6>\n",
    "    Sberbank Russian Housing Market\n",
    "</font>\n",
    "\n",
    "<hr style=\"border: solid rgb(0,0,0) 0.0px; background-color: rgb(0,0,0);height: 2.0px;\"/>\n",
    "<font color='red' size=5>\n",
    "    The show so far ... \n",
    "</font>\n"
   ]
  },
  {
   "cell_type": "markdown",
   "metadata": {},
   "source": [
    "**Summary**\n",
    "\n",
    "Outlier detection in the categorical feature\n"
   ]
  },
  {
   "cell_type": "markdown",
   "metadata": {},
   "source": [
    "<hr style=\"border: solid rgb(0,0,0) 0.0px; background-color: rgb(0,0,0);height: 2.0px;\"/>"
   ]
  },
  {
   "cell_type": "code",
   "execution_count": 2,
   "metadata": {},
   "outputs": [],
   "source": [
    "# This will reload imports before executing code, allowing you to easily change contents of custom scripts\n",
    "%load_ext autoreload\n",
    "%autoreload 2"
   ]
  },
  {
   "cell_type": "code",
   "execution_count": 3,
   "metadata": {},
   "outputs": [],
   "source": [
    "import numpy as np # linear algebra\n",
    "import pandas as pd # data processing, CSV file I/O (e.g. pd.read_csv)"
   ]
  },
  {
   "cell_type": "code",
   "execution_count": 4,
   "metadata": {},
   "outputs": [],
   "source": [
    "import os"
   ]
  },
  {
   "cell_type": "code",
   "execution_count": 5,
   "metadata": {},
   "outputs": [],
   "source": [
    "%matplotlib inline\n",
    "import matplotlib.pyplot as plt\n",
    "import seaborn as sns\n",
    "import random\n",
    "colors = [plt.cm.Spectral(each)\n",
    "          for each in np.linspace(0, 1, 20)]\n",
    "random.shuffle(colors)"
   ]
  },
  {
   "cell_type": "code",
   "execution_count": 6,
   "metadata": {},
   "outputs": [],
   "source": [
    "#import importlib\n",
    "import sys\n",
    "sys.path.append('./helpers/')"
   ]
  },
  {
   "cell_type": "markdown",
   "metadata": {},
   "source": [
    "## Load the data"
   ]
  },
  {
   "cell_type": "code",
   "execution_count": 7,
   "metadata": {},
   "outputs": [],
   "source": [
    "df = pd.read_csv('../../datasets/sberbank-russian-housing-market/train.csv', \\\n",
    "                 infer_datetime_format=True, parse_dates=['timestamp'])"
   ]
  },
  {
   "cell_type": "code",
   "execution_count": 8,
   "metadata": {},
   "outputs": [
    {
     "data": {
      "text/plain": [
       "(30471, 292)"
      ]
     },
     "execution_count": 8,
     "metadata": {},
     "output_type": "execute_result"
    }
   ],
   "source": [
    "df.shape"
   ]
  },
  {
   "cell_type": "markdown",
   "metadata": {},
   "source": [
    "## Preprocess the data\n",
    "\n",
    "### Drop features\n",
    "\n",
    "#### Characterize the missing values"
   ]
  },
  {
   "cell_type": "code",
   "execution_count": 9,
   "metadata": {},
   "outputs": [],
   "source": [
    "from helpers.fill_rates import get_column_fill_rates, get_row_fill_rates"
   ]
  },
  {
   "cell_type": "markdown",
   "metadata": {},
   "source": [
    "#### Separate some features based on type and/or use"
   ]
  },
  {
   "cell_type": "markdown",
   "metadata": {},
   "source": [
    "**Note** the target feature may also need to be transformed, _e.g._ rescaled"
   ]
  },
  {
   "cell_type": "code",
   "execution_count": 20,
   "metadata": {},
   "outputs": [],
   "source": [
    "target_feature = 'price_doc'\n",
    "target_col = [target_feature]"
   ]
  },
  {
   "cell_type": "code",
   "execution_count": 21,
   "metadata": {},
   "outputs": [],
   "source": [
    "ignore_cols = ['id','timestamp']"
   ]
  },
  {
   "cell_type": "markdown",
   "metadata": {},
   "source": [
    "Select the categorical features"
   ]
  },
  {
   "cell_type": "code",
   "execution_count": 22,
   "metadata": {},
   "outputs": [],
   "source": [
    "string_cols = df.drop(columns=ignore_cols+target_col).select_dtypes('object').columns.tolist()"
   ]
  },
  {
   "cell_type": "markdown",
   "metadata": {},
   "source": [
    "##### Dropping rows of cat. features with low representation\n",
    "\n",
    "Consider dropping rows which contribute to the tail-end of features' distributions\n",
    "\n",
    "(_Ideally, they would be outliers in several features, but this is difficult to check with no promise of a significant reward_)"
   ]
  },
  {
   "cell_type": "code",
   "execution_count": 23,
   "metadata": {},
   "outputs": [
    {
     "name": "stdout",
     "output_type": "stream",
     "text": [
      "sub_area: 5.82849%\n"
     ]
    }
   ],
   "source": [
    "num_rows = len(df.index)\n",
    "low_information_cols = [] #\n",
    "\n",
    "col = 'sub_area'\n",
    "cnts = df[col].value_counts(dropna=False)\n",
    "top_pct = (cnts/num_rows).iloc[0]\n",
    "\n",
    "low_information_cols.append(col)\n",
    "print('{0}: {1:.5f}%'.format(col, top_pct*100))\n",
    "df_cnts = cnts.reset_index()"
   ]
  },
  {
   "cell_type": "code",
   "execution_count": 24,
   "metadata": {},
   "outputs": [],
   "source": [
    "df_cnts['%'] = df_cnts.sub_area.apply(lambda x: round(100.*x/num_rows,2))\n",
    "df_cnts = df_cnts.sort_values('sub_area',ascending=False)"
   ]
  },
  {
   "cell_type": "code",
   "execution_count": 25,
   "metadata": {},
   "outputs": [
    {
     "data": {
      "text/html": [
       "<div>\n",
       "<style scoped>\n",
       "    .dataframe tbody tr th:only-of-type {\n",
       "        vertical-align: middle;\n",
       "    }\n",
       "\n",
       "    .dataframe tbody tr th {\n",
       "        vertical-align: top;\n",
       "    }\n",
       "\n",
       "    .dataframe thead th {\n",
       "        text-align: right;\n",
       "    }\n",
       "</style>\n",
       "<table border=\"1\" class=\"dataframe\">\n",
       "  <thead>\n",
       "    <tr style=\"text-align: right;\">\n",
       "      <th></th>\n",
       "      <th>index</th>\n",
       "      <th>sub_area</th>\n",
       "      <th>%</th>\n",
       "    </tr>\n",
       "  </thead>\n",
       "  <tbody>\n",
       "    <tr>\n",
       "      <th>0</th>\n",
       "      <td>Poselenie Sosenskoe</td>\n",
       "      <td>1776</td>\n",
       "      <td>5.83</td>\n",
       "    </tr>\n",
       "    <tr>\n",
       "      <th>1</th>\n",
       "      <td>Nekrasovka</td>\n",
       "      <td>1611</td>\n",
       "      <td>5.29</td>\n",
       "    </tr>\n",
       "    <tr>\n",
       "      <th>2</th>\n",
       "      <td>Poselenie Vnukovskoe</td>\n",
       "      <td>1372</td>\n",
       "      <td>4.50</td>\n",
       "    </tr>\n",
       "    <tr>\n",
       "      <th>3</th>\n",
       "      <td>Poselenie Moskovskij</td>\n",
       "      <td>925</td>\n",
       "      <td>3.04</td>\n",
       "    </tr>\n",
       "    <tr>\n",
       "      <th>4</th>\n",
       "      <td>Poselenie Voskresenskoe</td>\n",
       "      <td>713</td>\n",
       "      <td>2.34</td>\n",
       "    </tr>\n",
       "  </tbody>\n",
       "</table>\n",
       "</div>"
      ],
      "text/plain": [
       "                     index  sub_area     %\n",
       "0      Poselenie Sosenskoe      1776  5.83\n",
       "1               Nekrasovka      1611  5.29\n",
       "2     Poselenie Vnukovskoe      1372  4.50\n",
       "3     Poselenie Moskovskij       925  3.04\n",
       "4  Poselenie Voskresenskoe       713  2.34"
      ]
     },
     "execution_count": 25,
     "metadata": {},
     "output_type": "execute_result"
    }
   ],
   "source": [
    "df_cnts.head()"
   ]
  },
  {
   "cell_type": "code",
   "execution_count": 26,
   "metadata": {},
   "outputs": [],
   "source": [
    "csum = np.cumsum(df_cnts['%'].values)"
   ]
  },
  {
   "cell_type": "code",
   "execution_count": 27,
   "metadata": {},
   "outputs": [
    {
     "data": {
      "image/png": "[encoded data removed]",
      "text/plain": [
       "<Figure size 1440x720 with 2 Axes>"
      ]
     },
     "metadata": {
      "needs_background": "light"
     },
     "output_type": "display_data"
    }
   ],
   "source": [
    "fig, ax = plt.subplots(1,1,figsize=[20,10])\n",
    "ax.plot(csum,'o-')\n",
    "ax.plot([0,144],[99,99],'k--', dashes=[0.5,0.5], linewidth=1.25)\n",
    "ax.plot([0,144],[97,97],'k--', dashes=[1.0,1.0], linewidth=1.25)\n",
    "ax.plot([0,144],[95,95],'k--', dashes=[2.0,2.0], linewidth=1.25)\n",
    "ax.set_ylabel('cumsum of total (%)')\n",
    "ax.set_ylim(0,105)\n",
    "ax1=ax.twinx()\n",
    "ax1.bar(x=df_cnts.index, height=df_cnts['%'].values, color='C1')\n",
    "ax1.set_ylabel('% of total')\n",
    "ax1.grid()\n",
    "ax.set_xlabel('index of \\'sub_area\\'');"
   ]
  },
  {
   "cell_type": "code",
   "execution_count": 28,
   "metadata": {},
   "outputs": [
    {
     "name": "stdout",
     "output_type": "stream",
     "text": [
      "1560 0.05119621935610909\n"
     ]
    }
   ],
   "source": [
    "cats_to_exclude = []\n",
    "counts = 0\n",
    "for n,r in df_cnts.sort_values('sub_area').iterrows():\n",
    "\n",
    "    if counts/num_rows > 0.05:\n",
    "        print(counts, counts/num_rows)\n",
    "        break\n",
    "    counts += r['sub_area']\n",
    "    cats_to_exclude.append(r['index'])"
   ]
  },
  {
   "cell_type": "code",
   "execution_count": 29,
   "metadata": {},
   "outputs": [
    {
     "data": {
      "text/plain": [
       "['Poselenie Klenovskoe',\n",
       " 'Poselenie Mihajlovo-Jarcevskoe',\n",
       " 'Poselenie Shhapovskoe',\n",
       " 'Poselenie Kievskij',\n",
       " 'Molzhaninovskoe',\n",
       " 'Poselenie Marushkinskoe',\n",
       " 'Poselenie Voronovskoe',\n",
       " 'Vostochnoe',\n",
       " 'Arbat',\n",
       " 'Poselenie Mosrentgen',\n",
       " 'Poselenie Kokoshkino',\n",
       " 'Poselenie Krasnopahorskoe',\n",
       " 'Poselenie Rogovskoe',\n",
       " 'Poselenie Rjazanovskoe',\n",
       " \"Krasnosel'skoe\",\n",
       " 'Severnoe',\n",
       " 'Vnukovo',\n",
       " 'Kapotnja',\n",
       " \"Zamoskvorech'e\",\n",
       " 'Dorogomilovo',\n",
       " 'Metrogorodok',\n",
       " \"Sokol'niki\",\n",
       " 'Begovoe',\n",
       " 'Kurkino',\n",
       " 'Rostokino',\n",
       " \"Altuf'evskoe\",\n",
       " 'Sokol',\n",
       " 'Nizhegorodskoe',\n",
       " 'Gagarinskoe',\n",
       " 'Ostankinskoe',\n",
       " 'Jakimanka',\n",
       " 'Savelovskoe',\n",
       " 'Marfino',\n",
       " 'Hamovniki',\n",
       " 'Staroe Krjukovo']"
      ]
     },
     "execution_count": 29,
     "metadata": {},
     "output_type": "execute_result"
    }
   ],
   "source": [
    "cats_to_exclude"
   ]
  }
 ],
 "metadata": {
  "kernelspec": {
   "display_name": "Python 3",
   "language": "python",
   "name": "python3"
  },
  "language_info": {
   "codemirror_mode": {
    "name": "ipython",
    "version": 3
   },
   "file_extension": ".py",
   "mimetype": "text/x-python",
   "name": "python",
   "nbconvert_exporter": "python",
   "pygments_lexer": "ipython3",
   "version": "3.6.9"
  },
  "toc": {
   "nav_menu": {},
   "number_sections": true,
   "sideBar": true,
   "skip_h1_title": false,
   "title_cell": "Table of Contents",
   "title_sidebar": "Contents",
   "toc_cell": false,
   "toc_position": {},
   "toc_section_display": true,
   "toc_window_display": false
  }
 },
 "nbformat": 4,
 "nbformat_minor": 2
}
