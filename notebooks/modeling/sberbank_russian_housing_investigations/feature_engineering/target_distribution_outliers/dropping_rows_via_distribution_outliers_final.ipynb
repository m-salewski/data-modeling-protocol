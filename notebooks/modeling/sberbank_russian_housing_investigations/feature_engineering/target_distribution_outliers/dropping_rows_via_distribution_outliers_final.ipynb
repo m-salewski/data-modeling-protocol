{
 "cells": [
  {
   "cell_type": "code",
   "execution_count": 1,
   "metadata": {
    "cell_style": "center",
    "hide_input": false
   },
   "outputs": [
    {
     "data": {
      "text/html": [
       "<style>.container { width:100% !important; }</style>"
      ],
      "text/plain": [
       "<IPython.core.display.HTML object>"
      ]
     },
     "metadata": {},
     "output_type": "display_data"
    }
   ],
   "source": [
    "from IPython.core.display import display, HTML\n",
    "display(HTML(\"<style>.container { width:100% !important; }</style>\"))"
   ]
  },
  {
   "cell_type": "markdown",
   "metadata": {},
   "source": [
    "sklearn.set_config(display=”diagram”)"
   ]
  },
  {
   "cell_type": "markdown",
   "metadata": {},
   "source": [
    "<font size=6>\n",
    "    Sberbank Russian Housing Market: target distribution cleaning and modeling\n",
    "</font>"
   ]
  },
  {
   "cell_type": "markdown",
   "metadata": {},
   "source": [
    "**TODOs**\n",
    "\n",
    "4. More EDA\n",
    "    * Identify quantities to be removed:\n",
    "        * $\\checkmark$ ~~IDs which contribute to the spikes in the neg. tail of the 'price_doc' distribution~~ $\\to$ _this led to a big step in improvement_\n",
    "            * ~~or see if they're correlated with another feature, like 'sub_area'~~ $\\to$ did not find this; just removed sampled IDs\n",
    "            * **open** \n",
    "                * is it possible to automatically detect narrow-bin spikes in a distribution? and eleminate the rows which contribute to them?\n",
    "        * $\\checkmark$ ~~check the distribution of the 'sub_area' feature~~\n",
    "            * ~~are there enough samples for each category?~~ "
   ]
  },
  {
   "cell_type": "markdown",
   "metadata": {},
   "source": [
    "<hr style=\"border: solid rgb(0,0,0) 0.0px; background-color: rgb(0,0,0);height: 2.0px;\"/>"
   ]
  },
  {
   "cell_type": "code",
   "execution_count": 2,
   "metadata": {
    "cell_style": "center"
   },
   "outputs": [],
   "source": [
    "# This will reload imports before executing code, allowing you to easily change contents of custom scripts\n",
    "%load_ext autoreload\n",
    "%autoreload 2"
   ]
  },
  {
   "cell_type": "code",
   "execution_count": 3,
   "metadata": {},
   "outputs": [],
   "source": [
    "import numpy as np # linear algebra\n",
    "import pandas as pd # data processing, CSV file I/O (e.g. pd.read_csv)"
   ]
  },
  {
   "cell_type": "code",
   "execution_count": 4,
   "metadata": {},
   "outputs": [],
   "source": [
    "import os"
   ]
  },
  {
   "cell_type": "code",
   "execution_count": 5,
   "metadata": {},
   "outputs": [],
   "source": [
    "%matplotlib inline\n",
    "import matplotlib.pyplot as plt\n",
    "import seaborn as sns\n",
    "import random\n",
    "colors = [plt.cm.Spectral(each)\n",
    "          for each in np.linspace(0, 1, 20)]\n",
    "random.shuffle(colors)"
   ]
  },
  {
   "cell_type": "code",
   "execution_count": 6,
   "metadata": {},
   "outputs": [],
   "source": [
    "#import importlib\n",
    "import sys\n",
    "sys.path.append('./helpers/')"
   ]
  },
  {
   "cell_type": "markdown",
   "metadata": {},
   "source": [
    "## Load the data"
   ]
  },
  {
   "cell_type": "code",
   "execution_count": 120,
   "metadata": {},
   "outputs": [],
   "source": [
    "df = pd.read_csv('../../datasets/sberbank-russian-housing-market/train.csv', \\\n",
    "                 infer_datetime_format=True, parse_dates=['timestamp'])"
   ]
  },
  {
   "cell_type": "code",
   "execution_count": 121,
   "metadata": {},
   "outputs": [
    {
     "data": {
      "text/plain": [
       "(30471, 292)"
      ]
     },
     "execution_count": 121,
     "metadata": {},
     "output_type": "execute_result"
    }
   ],
   "source": [
    "df.shape"
   ]
  },
  {
   "cell_type": "markdown",
   "metadata": {},
   "source": [
    "Get the dtypes of the DF; save to a dict for later use"
   ]
  },
  {
   "cell_type": "code",
   "execution_count": 122,
   "metadata": {},
   "outputs": [],
   "source": [
    "df_dtypes = df.dtypes.reset_index().rename(columns={'index':'column', 0:'datatype'})\n",
    "df_dtype_dict = dict(zip(df_dtypes.column, df_dtypes.datatype.astype(str)))"
   ]
  },
  {
   "cell_type": "markdown",
   "metadata": {},
   "source": [
    "## Preprocess the data"
   ]
  },
  {
   "cell_type": "markdown",
   "metadata": {},
   "source": [
    "### Feature work: the target"
   ]
  },
  {
   "cell_type": "markdown",
   "metadata": {},
   "source": [
    "#### Separate the target feature"
   ]
  },
  {
   "cell_type": "markdown",
   "metadata": {},
   "source": [
    "**Note** the target feature may also need to be transformed, _e.g._ rescaled"
   ]
  },
  {
   "cell_type": "code",
   "execution_count": 123,
   "metadata": {},
   "outputs": [],
   "source": [
    "target_feature = 'price_doc'\n",
    "target_col = [target_feature]"
   ]
  },
  {
   "cell_type": "code",
   "execution_count": 124,
   "metadata": {},
   "outputs": [
    {
     "data": {
      "text/html": [
       "<div>\n",
       "<style scoped>\n",
       "    .dataframe tbody tr th:only-of-type {\n",
       "        vertical-align: middle;\n",
       "    }\n",
       "\n",
       "    .dataframe tbody tr th {\n",
       "        vertical-align: top;\n",
       "    }\n",
       "\n",
       "    .dataframe thead th {\n",
       "        text-align: right;\n",
       "    }\n",
       "</style>\n",
       "<table border=\"1\" class=\"dataframe\">\n",
       "  <thead>\n",
       "    <tr style=\"text-align: right;\">\n",
       "      <th></th>\n",
       "      <th>price_doc</th>\n",
       "    </tr>\n",
       "  </thead>\n",
       "  <tbody>\n",
       "    <tr>\n",
       "      <th>0</th>\n",
       "      <td>5850000</td>\n",
       "    </tr>\n",
       "    <tr>\n",
       "      <th>1</th>\n",
       "      <td>6000000</td>\n",
       "    </tr>\n",
       "    <tr>\n",
       "      <th>2</th>\n",
       "      <td>5700000</td>\n",
       "    </tr>\n",
       "    <tr>\n",
       "      <th>3</th>\n",
       "      <td>13100000</td>\n",
       "    </tr>\n",
       "    <tr>\n",
       "      <th>4</th>\n",
       "      <td>16331452</td>\n",
       "    </tr>\n",
       "  </tbody>\n",
       "</table>\n",
       "</div>"
      ],
      "text/plain": [
       "   price_doc\n",
       "0    5850000\n",
       "1    6000000\n",
       "2    5700000\n",
       "3   13100000\n",
       "4   16331452"
      ]
     },
     "execution_count": 124,
     "metadata": {},
     "output_type": "execute_result"
    }
   ],
   "source": [
    "df[target_col].head()"
   ]
  },
  {
   "cell_type": "code",
   "execution_count": 125,
   "metadata": {},
   "outputs": [],
   "source": [
    "df_targ = df[['id']+target_col].copy()"
   ]
  },
  {
   "cell_type": "code",
   "execution_count": 126,
   "metadata": {},
   "outputs": [],
   "source": [
    "df = df.drop(columns=target_feature)"
   ]
  },
  {
   "cell_type": "code",
   "execution_count": 127,
   "metadata": {},
   "outputs": [],
   "source": [
    "#feature_importance_dropped_cols = ['incineration_raion', 'big_market_raion', 'sub_area']\n",
    "#df = df.drop(columns=feature_importance_dropped_cols)"
   ]
  },
  {
   "cell_type": "markdown",
   "metadata": {},
   "source": [
    "#### Inspect and clean the target"
   ]
  },
  {
   "cell_type": "code",
   "execution_count": 128,
   "metadata": {},
   "outputs": [
    {
     "data": {
      "text/plain": [
       "count    3.047100e+04\n",
       "mean     7.123035e+06\n",
       "std      4.780111e+06\n",
       "min      1.000000e+05\n",
       "25%      4.740002e+06\n",
       "50%      6.274411e+06\n",
       "75%      8.300000e+06\n",
       "max      1.111111e+08\n",
       "Name: price_doc, dtype: float64"
      ]
     },
     "execution_count": 128,
     "metadata": {},
     "output_type": "execute_result"
    }
   ],
   "source": [
    "df_targ['price_doc'].describe()"
   ]
  },
  {
   "cell_type": "code",
   "execution_count": 129,
   "metadata": {},
   "outputs": [],
   "source": [
    "targ_vals = df_targ['price_doc'].values"
   ]
  },
  {
   "cell_type": "code",
   "execution_count": 130,
   "metadata": {},
   "outputs": [
    {
     "name": "stdout",
     "output_type": "stream",
     "text": [
      "1200\n"
     ]
    }
   ],
   "source": [
    "bin_width = 1e5\n",
    "bins=np.arange(bin_width, 1.2e8 + bin_width, bin_width)\n",
    "print(len(bins))"
   ]
  },
  {
   "cell_type": "code",
   "execution_count": 131,
   "metadata": {},
   "outputs": [],
   "source": [
    "hist_df_price_doc, _ = np.histogram(targ_vals, bins=bins, density=False)"
   ]
  },
  {
   "cell_type": "code",
   "execution_count": 132,
   "metadata": {},
   "outputs": [
    {
     "data": {
      "image/png": "[encoded data removed]",
      "text/plain": [
       "<Figure size 1440x720 with 1 Axes>"
      ]
     },
     "metadata": {
      "needs_background": "light"
     },
     "output_type": "display_data"
    }
   ],
   "source": [
    "fig, ax = plt.subplots(1,1,figsize=[20,10])\n",
    "#ax.bar( x=bins[:-1],height=hist_test, width=bin_width, label='test', alpha=0.5)\n",
    "ax.bar( x=bins[:-1],height=hist_df_price_doc/30471.0, width=bin_width, label='raw', alpha=0.95)\n",
    "ax.set_xlim(1e5, 5e7)\n",
    "ax.legend()\n",
    "ax.grid();"
   ]
  },
  {
   "cell_type": "code",
   "execution_count": 144,
   "metadata": {},
   "outputs": [],
   "source": [
    "from matplotlib.ticker import (MultipleLocator, FormatStrFormatter,\n",
    "                               AutoMinorLocator)"
   ]
  },
  {
   "cell_type": "code",
   "execution_count": 171,
   "metadata": {
    "scrolled": false
   },
   "outputs": [
    {
     "data": {
      "image/png": "[encoded data removed]",
      "text/plain": [
       "<Figure size 1440x720 with 1 Axes>"
      ]
     },
     "metadata": {
      "needs_background": "light"
     },
     "output_type": "display_data"
    }
   ],
   "source": [
    "fig, ax = plt.subplots(1,1,figsize=[20,10])\n",
    "#ax.bar( x=bins[:-1],height=hist_test, width=bin_width, label='test', alpha=0.5)\n",
    "ax.bar( x=bins[:-1],height=hist_df_price_doc/30471.0, width=bin_width, label='raw', alpha=0.5)\n",
    "#ax.plot(bins[:-1],hist_df_price_doc/30471.0, '.:')\n",
    "ax.set_xlim(1e5, 1e7)\n",
    "\n",
    "ax.legend()\n",
    "\n",
    "#ax.set_xticks(np.arange(0,1e7,1e6), minor=True)\n",
    "# Make a plot with major ticks that are multiples of 20 and minor ticks that\n",
    "# are multiples of 5.  Label major ticks with '%d' formatting but don't label\n",
    "# minor ticks.\n",
    "ax.xaxis.set_major_locator(MultipleLocator(1e6))\n",
    "#ax.xaxis.set_major_formatter(FormatStrFormatter('%d'))\n",
    "\n",
    "# For the minor ticks, use no labels; default NullFormatter.\n",
    "ax.xaxis.set_minor_locator(MultipleLocator(5e5))\n",
    "\n",
    "ax.tick_params(which='both', width=0.5)\n",
    "ax.tick_params(which='major', length=10)\n",
    "ax.tick_params(which='minor', length=5)\n",
    "\n",
    "ax.grid(which='both',axis='x');"
   ]
  },
  {
   "cell_type": "markdown",
   "metadata": {},
   "source": [
    "**Notes** there are spikes in price values for every interval of 500k CURRENCY; some are reasonable, but mostly they appear distinct. \n",
    "Such spikes could be due to some mechanism which (due to their lack of counts) would not be picked up in a model."
   ]
  },
  {
   "cell_type": "code",
   "execution_count": 173,
   "metadata": {},
   "outputs": [],
   "source": [
    "price_peaks = np.arange(1,20.5,0.5)"
   ]
  },
  {
   "cell_type": "markdown",
   "metadata": {},
   "source": [
    "1. bin the prices"
   ]
  },
  {
   "cell_type": "code",
   "execution_count": 223,
   "metadata": {},
   "outputs": [],
   "source": [
    "df_targ['price_doc_bin'] = df_targ['price_doc'].apply(lambda x: x-x%bin_width)"
   ]
  },
  {
   "cell_type": "code",
   "execution_count": 226,
   "metadata": {},
   "outputs": [
    {
     "data": {
      "text/plain": [
       "id               747\n",
       "price_doc        747\n",
       "price_doc_bin    747\n",
       "dtype: int64"
      ]
     },
     "execution_count": 226,
     "metadata": {},
     "output_type": "execute_result"
    }
   ],
   "source": [
    "df_targ[df_targ['price_doc'] == 1e6].count()"
   ]
  },
  {
   "cell_type": "code",
   "execution_count": 230,
   "metadata": {},
   "outputs": [
    {
     "data": {
      "text/plain": [
       "id               197\n",
       "price_doc        197\n",
       "price_doc_bin    197\n",
       "dtype: int64"
      ]
     },
     "execution_count": 230,
     "metadata": {},
     "output_type": "execute_result"
    }
   ],
   "source": [
    "df_targ[df_targ['price_doc_bin'] == 0.9e6].count()"
   ]
  },
  {
   "cell_type": "code",
   "execution_count": 244,
   "metadata": {},
   "outputs": [
    {
     "data": {
      "text/plain": [
       "array([197, 772,  64,  65,  20,   8,  53,   5,  20,  20,  48, 790,  84,\n",
       "        45,  54,  63, 119,  48,  64,  68,  80, 454, 153, 182, 166, 159,\n",
       "       201, 245, 214, 283, 274, 401])"
      ]
     },
     "execution_count": 244,
     "metadata": {},
     "output_type": "execute_result"
    }
   ],
   "source": [
    "hist_df_price_doc[8:40]"
   ]
  },
  {
   "cell_type": "code",
   "execution_count": 250,
   "metadata": {},
   "outputs": [
    {
     "name": "stdout",
     "output_type": "stream",
     "text": [
      "1.0 \t 197 \t 772 \t 64 \t 130.5\n",
      "1.5 \t 8 \t 53 \t 5 \t 6.5\n",
      "2.0 \t 48 \t 790 \t 84 \t 66.0\n",
      "2.5 \t 63 \t 119 \t 48 \t 55.5\n",
      "3.0 \t 80 \t 454 \t 153 \t 116.5\n",
      "3.5 \t 159 \t 201 \t 245 \t 202.0\n",
      "4.0 \t 274 \t 401 \t 279 \t 276.5\n",
      "4.5 \t 392 \t 417 \t 361 \t 376.5\n",
      "5.0 \t 385 \t 554 \t 411 \t 398.0\n",
      "5.5 \t 477 \t 590 \t 494 \t 485.5\n",
      "6.0 \t 499 \t 597 \t 485 \t 492.0\n",
      "6.5 \t 518 \t 633 \t 421 \t 469.5\n",
      "7.0 \t 365 \t 515 \t 332 \t 348.5\n",
      "7.5 \t 336 \t 433 \t 303 \t 319.5\n",
      "8.0 \t 229 \t 313 \t 238 \t 233.5\n",
      "8.5 \t 214 \t 319 \t 185 \t 199.5\n",
      "9.0 \t 153 \t 235 \t 134 \t 143.5\n",
      "9.5 \t 93 \t 191 \t 103 \t 98.0\n",
      "10.0 \t 73 \t 177 \t 90 \t 81.5\n",
      "10.5 \t 102 \t 157 \t 68 \t 85.0\n",
      "11.0 \t 62 \t 150 \t 63 \t 62.5\n",
      "11.5 \t 77 \t 106 \t 71 \t 74.0\n",
      "12.0 \t 67 \t 126 \t 45 \t 56.0\n",
      "12.5 \t 51 \t 101 \t 41 \t 46.0\n",
      "13.0 \t 62 \t 87 \t 44 \t 53.0\n",
      "13.5 \t 38 \t 87 \t 23 \t 30.5\n",
      "14.0 \t 31 \t 86 \t 23 \t 27.0\n",
      "14.5 \t 34 \t 65 \t 34 \t 34.0\n",
      "15.0 \t 20 \t 65 \t 23 \t 21.5\n",
      "15.5 \t 24 \t 49 \t 17 \t 20.5\n",
      "16.0 \t 11 \t 59 \t 13 \t 12.0\n",
      "16.5 \t 19 \t 29 \t 11 \t 15.0\n",
      "17.0 \t 11 \t 36 \t 8 \t 9.5\n",
      "17.5 \t 11 \t 33 \t 13 \t 12.0\n",
      "18.0 \t 7 \t 31 \t 6 \t 6.5\n",
      "18.5 \t 11 \t 19 \t 8 \t 9.5\n",
      "19.0 \t 8 \t 15 \t 4 \t 6.0\n",
      "19.5 \t 6 \t 11 \t 2 \t 4.0\n",
      "20.0 \t 7 \t 15 \t 4 \t 5.5\n"
     ]
    }
   ],
   "source": [
    "avg_counts = []\n",
    "for z in price_peaks:\n",
    "    \n",
    "    #lo_ = df_targ[(df_targ['price_doc']<(z*1e6)) & (df_targ['price_doc']>=(z*1e6-1e4))]['price_doc'].count()\n",
    "    #hi_ = df_targ[(df_targ['price_doc']>(z*1e6)) & (df_targ['price_doc']<=(z*1e6+5e4))]['price_doc'].count()    \n",
    "    \n",
    "    lo = df_targ[(df_targ['price_doc_bin']==(z*1e6)-1e5)]['price_doc'].count()\n",
    "    sp = df_targ[(df_targ['price_doc_bin']==(z*1e6))]['price_doc'].count()\n",
    "    hi = df_targ[(df_targ['price_doc_bin']==(z*1e6)+1e5)]['price_doc'].count()  \n",
    "    \n",
    "    avg = 0.5*(lo+hi)\n",
    "\n",
    "    print(z,'\\t',lo,'\\t', sp,'\\t', hi, '\\t', avg)    \n",
    "    #print(z,'\\t',lo_,lo, avg, hi,hi_)\n",
    "    \n",
    "    avg_counts.append(avg)"
   ]
  },
  {
   "cell_type": "code",
   "execution_count": 251,
   "metadata": {},
   "outputs": [],
   "source": [
    "df_targ_cp = df_targ.copy()"
   ]
  },
  {
   "cell_type": "code",
   "execution_count": 252,
   "metadata": {},
   "outputs": [
    {
     "data": {
      "text/plain": [
       "id               30471\n",
       "price_doc        30471\n",
       "price_doc_bin    30471\n",
       "dtype: int64"
      ]
     },
     "execution_count": 252,
     "metadata": {},
     "output_type": "execute_result"
    }
   ],
   "source": [
    "df_targ.count()"
   ]
  },
  {
   "cell_type": "code",
   "execution_count": 257,
   "metadata": {
    "scrolled": false
   },
   "outputs": [
    {
     "name": "stdout",
     "output_type": "stream",
     "text": [
      "(28218, 3)\n",
      "(26457, 3)\n"
     ]
    }
   ],
   "source": [
    "print(df_targ_cp.shape)\n",
    "for n,z in enumerate(price_peaks):\n",
    "    \n",
    "    samp_size = int(avg_counts[n])\n",
    "    #print(int(samp_size))\n",
    "    \n",
    "    df_samp = df_targ_cp[df_targ_cp['price_doc_bin']==(z*1e6)]\n",
    "    #print('1',df_targ_cp.shape)\n",
    "    #print('1',df_samp.shape)   \n",
    "    # There might not be enough rows to properly sample from\n",
    "    alt_samp_size = df_samp.shape[0]\n",
    "    df_samp = df_samp.sample(min(samp_size, alt_samp_size))\n",
    "    #print('1',df_samp.shape)    \n",
    "    \n",
    "    df_targ_cp.where(df_targ_cp['price_doc_bin']!=(z*1e6), inplace=True)\n",
    "    df_targ_cp.dropna(inplace=True)\n",
    "    #print('2',df_targ_cp.shape)\n",
    "    \n",
    "    df_targ_cp = pd.concat([df_targ_cp,df_samp])\n",
    "    #print('3',df_targ_cp.shape)\n",
    "    \n",
    "    #print()\n",
    "\n",
    "print(df_targ_cp.shape)"
   ]
  },
  {
   "cell_type": "code",
   "execution_count": 258,
   "metadata": {},
   "outputs": [],
   "source": [
    "hist_df_price_doc_, _ = np.histogram(df_targ_cp.price_doc.values, bins=bins, density=False)"
   ]
  },
  {
   "cell_type": "code",
   "execution_count": 262,
   "metadata": {},
   "outputs": [
    {
     "data": {
      "image/png": "[encoded data removed]",
      "text/plain": [
       "<Figure size 1440x720 with 1 Axes>"
      ]
     },
     "metadata": {
      "needs_background": "light"
     },
     "output_type": "display_data"
    }
   ],
   "source": [
    "fig, ax = plt.subplots(1,1,figsize=[20,10])\n",
    "#ax.bar( x=bins[:-1],height=hist_test, width=bin_width, label='test', alpha=0.5)\n",
    "norma = 1.0 #30471.0\n",
    "\n",
    "ax.bar( x=bins[:-1],height=hist_df_price_doc /norma, width=bin_width, label='raw', alpha=0.35)\n",
    "ax.bar( x=bins[:-1],height=hist_df_price_doc_/norma, width=bin_width/2, align='edge', label='filtered', alpha=0.95)\n",
    "\n",
    "#ax.plot(bins[:-1],hist_df_price_doc/norma, '.:', label='raw', alpha=0.95)\n",
    "#ax.plot(bins[:-1],hist_df_price_doc_/norma, '+--', label='filtered', alpha=0.95)\n",
    "\n",
    "ax.set_xlim(1e5, 1e7)\n",
    "\n",
    "ax.legend()\n",
    "\n",
    "#ax.set_xticks(np.arange(0,1e7,1e6), minor=True)\n",
    "# Make a plot with major ticks that are multiples of 20 and minor ticks that\n",
    "# are multiples of 5.  Label major ticks with '%d' formatting but don't label\n",
    "# minor ticks.\n",
    "ax.xaxis.set_major_locator(MultipleLocator(1e6))\n",
    "#ax.xaxis.set_major_formatter(FormatStrFormatter('%d'))\n",
    "\n",
    "# For the minor ticks, use no labels; default NullFormatter.\n",
    "ax.xaxis.set_minor_locator(MultipleLocator(5e5))\n",
    "\n",
    "ax.tick_params(which='both', width=0.5)\n",
    "ax.tick_params(which='major', length=10)\n",
    "ax.tick_params(which='minor', length=5)\n",
    "\n",
    "ax.grid(which='both',axis='x');"
   ]
  },
  {
   "cell_type": "code",
   "execution_count": 263,
   "metadata": {},
   "outputs": [],
   "source": [
    "peaks = np.arange(1,20.5,0.5)*1e6 "
   ]
  },
  {
   "cell_type": "code",
   "execution_count": 270,
   "metadata": {},
   "outputs": [],
   "source": [
    "def get_peak_ids(df, identifier, target, peaks, bin_width, verbose=False):\n",
    "    \n",
    "    df_cp = df.copy()\n",
    "    \n",
    "    target_bin = target + \"_bin\"\n",
    "    \n",
    "    df_cp[target_bin] = df_cp[target].apply(lambda x: x-x%bin_width)\n",
    "    \n",
    "    avg_counts = []\n",
    "    for z in peaks:\n",
    "\n",
    "        lo = df_targ[(df_targ[target_bin]==z-bin_width)][target].count()\n",
    "        sp = df_targ[(df_targ[target_bin]==z)][target].count()\n",
    "        hi = df_targ[(df_targ[target_bin]==z+bin_width)][target].count()  \n",
    "\n",
    "        avg = 0.5*(lo+hi)\n",
    "\n",
    "        if verbose: print(z,'\\t',lo,'\\t', sp,'\\t', hi, '\\t', avg)    \n",
    "\n",
    "        avg_counts.append(avg)\n",
    "\n",
    "    if verbose: print('Starting with:', df_cp.shape)\n",
    "    for n,z in enumerate(peaks):\n",
    "\n",
    "        samp_size = int(avg_counts[n])\n",
    "        if verbose: print(int(samp_size))\n",
    "\n",
    "        df_samp = df_cp[df_cp[target_bin]==z]\n",
    "        if verbose: print('1',df_cp.shape)\n",
    "        if verbose: print('1',df_samp.shape)   \n",
    "            \n",
    "        # There might not be enough rows to properly sample from\n",
    "        alt_samp_size = df_samp.shape[0]\n",
    "        df_samp = df_samp.sample(min(samp_size, alt_samp_size))\n",
    "        if verbose: print('1',df_samp.shape)    \n",
    "\n",
    "        df_cp.where(df_cp[target_bin]!=z, inplace=True)\n",
    "        df_cp.dropna(inplace=True)\n",
    "        if verbose: print('2',df_cp.shape)\n",
    "\n",
    "        df_cp = pd.concat([df_cp, df_samp])\n",
    "        if verbose: print('3',df_cp.shape)\n",
    "\n",
    "        if verbose: print()\n",
    "\n",
    "    if verbose: print('Ending with:', df_cp.shape)    \n",
    "\n",
    "    id_list = df_cp.dropna()[identifier].tolist()\n",
    "    \n",
    "    return id_list"
   ]
  },
  {
   "cell_type": "code",
   "execution_count": 267,
   "metadata": {},
   "outputs": [],
   "source": [
    "id_listt = df_targ_cp.dropna()['id'].tolist()"
   ]
  },
  {
   "cell_type": "code",
   "execution_count": 272,
   "metadata": {
    "scrolled": false
   },
   "outputs": [],
   "source": [
    "id_list = get_peak_ids(df_targ_cp, 'id', 'price_doc', peaks, bin_width)"
   ]
  },
  {
   "cell_type": "code",
   "execution_count": null,
   "metadata": {},
   "outputs": [],
   "source": []
  },
  {
   "cell_type": "code",
   "execution_count": 276,
   "metadata": {},
   "outputs": [
    {
     "data": {
      "text/plain": [
       "(26457, 26457, 30471, 0.1317318105739884)"
      ]
     },
     "execution_count": 276,
     "metadata": {},
     "output_type": "execute_result"
    }
   ],
   "source": [
    "len(id_listt),len(id_list), df.shape[0], abs(len(id_list)-df.shape[0])/df.shape[0], "
   ]
  },
  {
   "cell_type": "markdown",
   "metadata": {},
   "source": [
    "### Feature work: the rest\n",
    "\n",
    "#### Separate some features based on type and/or use\n",
    "\n",
    "##### Identify the numerical features"
   ]
  },
  {
   "cell_type": "code",
   "execution_count": 277,
   "metadata": {},
   "outputs": [],
   "source": [
    "ignore_cols = ['id','timestamp']"
   ]
  },
  {
   "cell_type": "code",
   "execution_count": 16,
   "metadata": {},
   "outputs": [],
   "source": [
    "float_cols = df.drop(columns=ignore_cols).select_dtypes('float').columns.tolist()\n",
    "\n",
    "int_cols = df.drop(columns=ignore_cols).select_dtypes('int').columns.tolist()\n",
    "\n",
    "num_cols = df.drop(columns=ignore_cols).select_dtypes(['int', 'float']).columns.tolist()"
   ]
  },
  {
   "cell_type": "markdown",
   "metadata": {},
   "source": [
    "Select the categorical features"
   ]
  },
  {
   "cell_type": "code",
   "execution_count": 17,
   "metadata": {
    "hide_input": false
   },
   "outputs": [],
   "source": [
    "string_cols = df.drop(columns=ignore_cols).select_dtypes('object').columns.tolist()"
   ]
  },
  {
   "cell_type": "markdown",
   "metadata": {},
   "source": [
    "### Drop features\n",
    "\n",
    "#### Characterize the missing values"
   ]
  },
  {
   "cell_type": "code",
   "execution_count": 18,
   "metadata": {},
   "outputs": [],
   "source": [
    "from helpers.fill_rates import get_column_fill_rates, get_row_fill_rates"
   ]
  },
  {
   "cell_type": "code",
   "execution_count": 19,
   "metadata": {},
   "outputs": [
    {
     "data": {
      "text/plain": [
       "<matplotlib.axes._subplots.AxesSubplot at 0x7ff871e3ff98>"
      ]
     },
     "execution_count": 19,
     "metadata": {},
     "output_type": "execute_result"
    },
    {
     "data": {
      "image/png": "[encoded data removed]",
      "text/plain": [
       "<Figure size 1440x720 with 2 Axes>"
      ]
     },
     "metadata": {
      "needs_background": "light"
     },
     "output_type": "display_data"
    }
   ],
   "source": [
    "df_fillrates = get_column_fill_rates(df,0.0)\n",
    "unfilled_cols = df_fillrates[df_fillrates['frac_full']<=0.90]['column_name'].tolist()\n",
    "\n",
    "plt.figure(figsize=[20,10])\n",
    "colours = ['#000099', '#ffff00'] # specify the colours - yellow is missing. blue is not missing.\n",
    "sns.heatmap(df[unfilled_cols].isnull().sample(frac=1).reset_index(drop=True), cmap=sns.color_palette(colours))"
   ]
  },
  {
   "cell_type": "code",
   "execution_count": 20,
   "metadata": {},
   "outputs": [
    {
     "data": {
      "text/plain": [
       "<matplotlib.axes._subplots.AxesSubplot at 0x7ff871ed6f28>"
      ]
     },
     "execution_count": 20,
     "metadata": {},
     "output_type": "execute_result"
    },
    {
     "data": {
      "image/png": "[encoded data removed]",
      "text/plain": [
       "<Figure size 1440x720 with 2 Axes>"
      ]
     },
     "metadata": {
      "needs_background": "light"
     },
     "output_type": "display_data"
    }
   ],
   "source": [
    "plt.figure(figsize=[20,10])\n",
    "colours = ['#000099', '#ffff00'] # specify the colours - yellow is missing. blue is not missing.\n",
    "sns.heatmap(df[unfilled_cols].isnull().reset_index(drop=True), cmap=sns.color_palette(colours))"
   ]
  },
  {
   "cell_type": "markdown",
   "metadata": {},
   "source": [
    "##### Check the fill rate of the features\n",
    "\n",
    "Keep all features having more than 90% (arbitrary) of their values"
   ]
  },
  {
   "cell_type": "code",
   "execution_count": 21,
   "metadata": {
    "scrolled": false
   },
   "outputs": [
    {
     "data": {
      "text/html": [
       "<div>\n",
       "<style scoped>\n",
       "    .dataframe tbody tr th:only-of-type {\n",
       "        vertical-align: middle;\n",
       "    }\n",
       "\n",
       "    .dataframe tbody tr th {\n",
       "        vertical-align: top;\n",
       "    }\n",
       "\n",
       "    .dataframe thead th {\n",
       "        text-align: right;\n",
       "    }\n",
       "</style>\n",
       "<table border=\"1\" class=\"dataframe\">\n",
       "  <thead>\n",
       "    <tr style=\"text-align: right;\">\n",
       "      <th></th>\n",
       "      <th>column_name</th>\n",
       "      <th>frac_full</th>\n",
       "    </tr>\n",
       "  </thead>\n",
       "  <tbody>\n",
       "    <tr>\n",
       "      <th>229</th>\n",
       "      <td>cafe_sum_2000_min_price_avg</td>\n",
       "      <td>0.943389</td>\n",
       "    </tr>\n",
       "    <tr>\n",
       "      <th>230</th>\n",
       "      <td>cafe_sum_2000_max_price_avg</td>\n",
       "      <td>0.943389</td>\n",
       "    </tr>\n",
       "    <tr>\n",
       "      <th>231</th>\n",
       "      <td>cafe_avg_price_2000</td>\n",
       "      <td>0.943389</td>\n",
       "    </tr>\n",
       "    <tr>\n",
       "      <th>252</th>\n",
       "      <td>cafe_sum_3000_min_price_avg</td>\n",
       "      <td>0.967477</td>\n",
       "    </tr>\n",
       "    <tr>\n",
       "      <th>254</th>\n",
       "      <td>cafe_avg_price_3000</td>\n",
       "      <td>0.967477</td>\n",
       "    </tr>\n",
       "    <tr>\n",
       "      <th>253</th>\n",
       "      <td>cafe_sum_3000_max_price_avg</td>\n",
       "      <td>0.967477</td>\n",
       "    </tr>\n",
       "    <tr>\n",
       "      <th>275</th>\n",
       "      <td>cafe_sum_5000_min_price_avg</td>\n",
       "      <td>0.990253</td>\n",
       "    </tr>\n",
       "    <tr>\n",
       "      <th>276</th>\n",
       "      <td>cafe_sum_5000_max_price_avg</td>\n",
       "      <td>0.990253</td>\n",
       "    </tr>\n",
       "    <tr>\n",
       "      <th>277</th>\n",
       "      <td>cafe_avg_price_5000</td>\n",
       "      <td>0.990253</td>\n",
       "    </tr>\n",
       "    <tr>\n",
       "      <th>269</th>\n",
       "      <td>prom_part_5000</td>\n",
       "      <td>0.994158</td>\n",
       "    </tr>\n",
       "  </tbody>\n",
       "</table>\n",
       "</div>"
      ],
      "text/plain": [
       "                     column_name  frac_full\n",
       "229  cafe_sum_2000_min_price_avg   0.943389\n",
       "230  cafe_sum_2000_max_price_avg   0.943389\n",
       "231          cafe_avg_price_2000   0.943389\n",
       "252  cafe_sum_3000_min_price_avg   0.967477\n",
       "254          cafe_avg_price_3000   0.967477\n",
       "253  cafe_sum_3000_max_price_avg   0.967477\n",
       "275  cafe_sum_5000_min_price_avg   0.990253\n",
       "276  cafe_sum_5000_max_price_avg   0.990253\n",
       "277          cafe_avg_price_5000   0.990253\n",
       "269               prom_part_5000   0.994158"
      ]
     },
     "metadata": {},
     "output_type": "display_data"
    }
   ],
   "source": [
    "threshold = 0.90\n",
    "df_fillrates = get_column_fill_rates(df,threshold)\n",
    "display(df_fillrates.sort_values(\"frac_full\", ascending=True)[:10])"
   ]
  },
  {
   "cell_type": "code",
   "execution_count": 22,
   "metadata": {},
   "outputs": [
    {
     "name": "stdout",
     "output_type": "stream",
     "text": [
      "Number of features more than 90% filled: 256\n"
     ]
    }
   ],
   "source": [
    "filled_cols = df_fillrates.column_name.tolist()\n",
    "print(f'Number of features more than {round(100*threshold)}% filled: { len(filled_cols)}')"
   ]
  },
  {
   "cell_type": "markdown",
   "metadata": {},
   "source": [
    "##### Check the fill rate of the rows\n",
    "\n",
    "**Note** this is passive; nothing is done with this info; it will also change when the unfilled features are removed\n",
    "\n",
    "<font color='red' size=2>\n",
    "    If this were applied, then the target_feature would need to be included (or matched by keeping the `id`)\n",
    "</font>"
   ]
  },
  {
   "cell_type": "code",
   "execution_count": 23,
   "metadata": {},
   "outputs": [
    {
     "data": {
      "text/html": [
       "<div>\n",
       "<style scoped>\n",
       "    .dataframe tbody tr th:only-of-type {\n",
       "        vertical-align: middle;\n",
       "    }\n",
       "\n",
       "    .dataframe tbody tr th {\n",
       "        vertical-align: top;\n",
       "    }\n",
       "\n",
       "    .dataframe thead th {\n",
       "        text-align: right;\n",
       "    }\n",
       "</style>\n",
       "<table border=\"1\" class=\"dataframe\">\n",
       "  <thead>\n",
       "    <tr style=\"text-align: right;\">\n",
       "      <th></th>\n",
       "      <th>id</th>\n",
       "      <th>row_counts</th>\n",
       "      <th>frac_full</th>\n",
       "    </tr>\n",
       "  </thead>\n",
       "  <tbody>\n",
       "    <tr>\n",
       "      <th>3589</th>\n",
       "      <td>3589</td>\n",
       "      <td>248</td>\n",
       "      <td>0.852234</td>\n",
       "    </tr>\n",
       "    <tr>\n",
       "      <th>20231</th>\n",
       "      <td>20231</td>\n",
       "      <td>250</td>\n",
       "      <td>0.859107</td>\n",
       "    </tr>\n",
       "    <tr>\n",
       "      <th>5094</th>\n",
       "      <td>5094</td>\n",
       "      <td>250</td>\n",
       "      <td>0.859107</td>\n",
       "    </tr>\n",
       "    <tr>\n",
       "      <th>8474</th>\n",
       "      <td>8474</td>\n",
       "      <td>250</td>\n",
       "      <td>0.859107</td>\n",
       "    </tr>\n",
       "    <tr>\n",
       "      <th>7972</th>\n",
       "      <td>7972</td>\n",
       "      <td>250</td>\n",
       "      <td>0.859107</td>\n",
       "    </tr>\n",
       "    <tr>\n",
       "      <th>7172</th>\n",
       "      <td>7172</td>\n",
       "      <td>250</td>\n",
       "      <td>0.859107</td>\n",
       "    </tr>\n",
       "    <tr>\n",
       "      <th>7902</th>\n",
       "      <td>7902</td>\n",
       "      <td>250</td>\n",
       "      <td>0.859107</td>\n",
       "    </tr>\n",
       "    <tr>\n",
       "      <th>22097</th>\n",
       "      <td>22097</td>\n",
       "      <td>250</td>\n",
       "      <td>0.859107</td>\n",
       "    </tr>\n",
       "    <tr>\n",
       "      <th>5105</th>\n",
       "      <td>5105</td>\n",
       "      <td>250</td>\n",
       "      <td>0.859107</td>\n",
       "    </tr>\n",
       "    <tr>\n",
       "      <th>5277</th>\n",
       "      <td>5277</td>\n",
       "      <td>250</td>\n",
       "      <td>0.859107</td>\n",
       "    </tr>\n",
       "  </tbody>\n",
       "</table>\n",
       "</div>"
      ],
      "text/plain": [
       "          id  row_counts  frac_full\n",
       "3589    3589         248   0.852234\n",
       "20231  20231         250   0.859107\n",
       "5094    5094         250   0.859107\n",
       "8474    8474         250   0.859107\n",
       "7972    7972         250   0.859107\n",
       "7172    7172         250   0.859107\n",
       "7902    7902         250   0.859107\n",
       "22097  22097         250   0.859107\n",
       "5105    5105         250   0.859107\n",
       "5277    5277         250   0.859107"
      ]
     },
     "metadata": {},
     "output_type": "display_data"
    }
   ],
   "source": [
    "threshold = 0.85\n",
    "df_fillrates = get_row_fill_rates(df,threshold)\n",
    "display(df_fillrates.sort_values(\"frac_full\", ascending=True)[:10])"
   ]
  },
  {
   "cell_type": "code",
   "execution_count": 24,
   "metadata": {},
   "outputs": [
    {
     "name": "stdout",
     "output_type": "stream",
     "text": [
      "Number of features more than 85% filled: 30470\n"
     ]
    }
   ],
   "source": [
    "print(f'Number of features more than {round(100*threshold)}% filled: { df_fillrates.shape[0]}')"
   ]
  },
  {
   "cell_type": "markdown",
   "metadata": {},
   "source": [
    "##### Check the information content of the features\n",
    "\n",
    "If the features contain little useful information (_ie_ they have low variance), they might not contribute much to the model. \n",
    "<br/>\n",
    "For efficiecy reasons, it might be best to drop these, though the resulting model will likely be unchanged."
   ]
  },
  {
   "cell_type": "code",
   "execution_count": 25,
   "metadata": {
    "scrolled": false
   },
   "outputs": [
    {
     "name": "stdout",
     "output_type": "stream",
     "text": [
      "oil_chemistry_raion: 99.02858%\n",
      "no     30175\n",
      "yes      296\n",
      "Name: oil_chemistry_raion, dtype: int64\n",
      "\n",
      "railroad_terminal_raion: 96.27187%\n",
      "no     29335\n",
      "yes     1136\n",
      "Name: railroad_terminal_raion, dtype: int64\n",
      "\n",
      "nuclear_reactor_raion: 97.16780%\n",
      "no     29608\n",
      "yes      863\n",
      "Name: nuclear_reactor_raion, dtype: int64\n",
      "\n",
      "big_road1_1line: 97.43691%\n",
      "no     29690\n",
      "yes      781\n",
      "Name: big_road1_1line, dtype: int64\n",
      "\n",
      "railroad_1line: 97.06934%\n",
      "no     29578\n",
      "yes      893\n",
      "Name: railroad_1line, dtype: int64\n",
      "\n",
      "cafe_count_500_price_high: 97.25641%\n",
      "0    29635\n",
      "1      787\n",
      "2       38\n",
      "3       11\n",
      "Name: cafe_count_500_price_high, dtype: int64\n",
      "\n",
      "mosque_count_500: 99.51101%\n",
      "0    30322\n",
      "1      149\n",
      "Name: mosque_count_500, dtype: int64\n",
      "\n",
      "cafe_count_1000_price_high: 95.52689%\n",
      "0    29108\n",
      "1     1104\n",
      "2      145\n",
      "3       51\n",
      "4       39\n",
      "5       15\n",
      "6        8\n",
      "7        1\n",
      "Name: cafe_count_1000_price_high, dtype: int64\n",
      "\n",
      "mosque_count_1000: 98.08342%\n",
      "0    29887\n",
      "1      584\n",
      "Name: mosque_count_1000, dtype: int64\n",
      "\n",
      "mosque_count_1500: 96.21936%\n",
      "0    29319\n",
      "1     1152\n",
      "Name: mosque_count_1500, dtype: int64\n",
      "\n"
     ]
    }
   ],
   "source": [
    "num_rows = len(df.index)\n",
    "low_information_cols = [] #\n",
    "\n",
    "for col in df.columns:\n",
    "    cnts = df[col].value_counts(dropna=False)\n",
    "    top_pct = (cnts/num_rows).iloc[0]\n",
    "    \n",
    "    if top_pct > 0.95:\n",
    "        low_information_cols.append(col)\n",
    "        print('{0}: {1:.5f}%'.format(col, top_pct*100))\n",
    "        print(cnts)\n",
    "        print()"
   ]
  },
  {
   "cell_type": "code",
   "execution_count": 26,
   "metadata": {},
   "outputs": [
    {
     "data": {
      "text/plain": [
       "10"
      ]
     },
     "execution_count": 26,
     "metadata": {},
     "output_type": "execute_result"
    }
   ],
   "source": [
    "len(low_information_cols)"
   ]
  },
  {
   "cell_type": "markdown",
   "metadata": {},
   "source": [
    "##### Dropping rows of cat. features with low representation\n",
    "\n",
    "Consider dropping rows which contribute to the tail-end of features' distributions\n",
    "\n",
    "(_Ideally, they would be outliers in several features, but this is difficult to check with no promise of a significant reward_)"
   ]
  },
  {
   "cell_type": "code",
   "execution_count": 27,
   "metadata": {},
   "outputs": [
    {
     "name": "stdout",
     "output_type": "stream",
     "text": [
      "sub_area: 5.82849%\n"
     ]
    }
   ],
   "source": [
    "num_rows = len(df.index)\n",
    "low_rep_cat_cols = [] #\n",
    "\n",
    "col = 'sub_area'\n",
    "cnts = df[col].value_counts(dropna=False)\n",
    "top_pct = (cnts/num_rows).iloc[0]\n",
    "\n",
    "low_rep_cat_cols.append(col)\n",
    "print('{0}: {1:.5f}%'.format(col, top_pct*100))\n",
    "df_cnts = cnts.reset_index().rename(columns={'index':'sub_area', 'sub_area':'counts'})"
   ]
  },
  {
   "cell_type": "code",
   "execution_count": 28,
   "metadata": {},
   "outputs": [],
   "source": [
    "df_cnts['%'] = df_cnts.counts.apply(lambda x: round(100.*x/num_rows,2))\n",
    "df_cnts = df_cnts.sort_values('counts',ascending=False)"
   ]
  },
  {
   "cell_type": "code",
   "execution_count": 29,
   "metadata": {},
   "outputs": [
    {
     "data": {
      "text/html": [
       "<div>\n",
       "<style scoped>\n",
       "    .dataframe tbody tr th:only-of-type {\n",
       "        vertical-align: middle;\n",
       "    }\n",
       "\n",
       "    .dataframe tbody tr th {\n",
       "        vertical-align: top;\n",
       "    }\n",
       "\n",
       "    .dataframe thead th {\n",
       "        text-align: right;\n",
       "    }\n",
       "</style>\n",
       "<table border=\"1\" class=\"dataframe\">\n",
       "  <thead>\n",
       "    <tr style=\"text-align: right;\">\n",
       "      <th></th>\n",
       "      <th>sub_area</th>\n",
       "      <th>counts</th>\n",
       "      <th>%</th>\n",
       "    </tr>\n",
       "  </thead>\n",
       "  <tbody>\n",
       "    <tr>\n",
       "      <th>0</th>\n",
       "      <td>Poselenie Sosenskoe</td>\n",
       "      <td>1776</td>\n",
       "      <td>5.83</td>\n",
       "    </tr>\n",
       "    <tr>\n",
       "      <th>1</th>\n",
       "      <td>Nekrasovka</td>\n",
       "      <td>1611</td>\n",
       "      <td>5.29</td>\n",
       "    </tr>\n",
       "    <tr>\n",
       "      <th>2</th>\n",
       "      <td>Poselenie Vnukovskoe</td>\n",
       "      <td>1372</td>\n",
       "      <td>4.50</td>\n",
       "    </tr>\n",
       "    <tr>\n",
       "      <th>3</th>\n",
       "      <td>Poselenie Moskovskij</td>\n",
       "      <td>925</td>\n",
       "      <td>3.04</td>\n",
       "    </tr>\n",
       "    <tr>\n",
       "      <th>4</th>\n",
       "      <td>Poselenie Voskresenskoe</td>\n",
       "      <td>713</td>\n",
       "      <td>2.34</td>\n",
       "    </tr>\n",
       "    <tr>\n",
       "      <th>5</th>\n",
       "      <td>Mitino</td>\n",
       "      <td>679</td>\n",
       "      <td>2.23</td>\n",
       "    </tr>\n",
       "    <tr>\n",
       "      <th>6</th>\n",
       "      <td>Tverskoe</td>\n",
       "      <td>678</td>\n",
       "      <td>2.23</td>\n",
       "    </tr>\n",
       "    <tr>\n",
       "      <th>7</th>\n",
       "      <td>Krjukovo</td>\n",
       "      <td>518</td>\n",
       "      <td>1.70</td>\n",
       "    </tr>\n",
       "    <tr>\n",
       "      <th>8</th>\n",
       "      <td>Mar'ino</td>\n",
       "      <td>508</td>\n",
       "      <td>1.67</td>\n",
       "    </tr>\n",
       "    <tr>\n",
       "      <th>9</th>\n",
       "      <td>Poselenie Filimonkovskoe</td>\n",
       "      <td>496</td>\n",
       "      <td>1.63</td>\n",
       "    </tr>\n",
       "    <tr>\n",
       "      <th>10</th>\n",
       "      <td>Juzhnoe Butovo</td>\n",
       "      <td>451</td>\n",
       "      <td>1.48</td>\n",
       "    </tr>\n",
       "    <tr>\n",
       "      <th>11</th>\n",
       "      <td>Poselenie Shherbinka</td>\n",
       "      <td>443</td>\n",
       "      <td>1.45</td>\n",
       "    </tr>\n",
       "    <tr>\n",
       "      <th>12</th>\n",
       "      <td>Solncevo</td>\n",
       "      <td>421</td>\n",
       "      <td>1.38</td>\n",
       "    </tr>\n",
       "    <tr>\n",
       "      <th>13</th>\n",
       "      <td>Zapadnoe Degunino</td>\n",
       "      <td>410</td>\n",
       "      <td>1.35</td>\n",
       "    </tr>\n",
       "    <tr>\n",
       "      <th>14</th>\n",
       "      <td>Poselenie Desjonovskoe</td>\n",
       "      <td>362</td>\n",
       "      <td>1.19</td>\n",
       "    </tr>\n",
       "    <tr>\n",
       "      <th>15</th>\n",
       "      <td>Otradnoe</td>\n",
       "      <td>353</td>\n",
       "      <td>1.16</td>\n",
       "    </tr>\n",
       "    <tr>\n",
       "      <th>16</th>\n",
       "      <td>Nagatinskij Zaton</td>\n",
       "      <td>327</td>\n",
       "      <td>1.07</td>\n",
       "    </tr>\n",
       "    <tr>\n",
       "      <th>17</th>\n",
       "      <td>Bogorodskoe</td>\n",
       "      <td>305</td>\n",
       "      <td>1.00</td>\n",
       "    </tr>\n",
       "    <tr>\n",
       "      <th>18</th>\n",
       "      <td>Nagornoe</td>\n",
       "      <td>305</td>\n",
       "      <td>1.00</td>\n",
       "    </tr>\n",
       "    <tr>\n",
       "      <th>19</th>\n",
       "      <td>Strogino</td>\n",
       "      <td>301</td>\n",
       "      <td>0.99</td>\n",
       "    </tr>\n",
       "  </tbody>\n",
       "</table>\n",
       "</div>"
      ],
      "text/plain": [
       "                    sub_area  counts     %\n",
       "0        Poselenie Sosenskoe    1776  5.83\n",
       "1                 Nekrasovka    1611  5.29\n",
       "2       Poselenie Vnukovskoe    1372  4.50\n",
       "3       Poselenie Moskovskij     925  3.04\n",
       "4    Poselenie Voskresenskoe     713  2.34\n",
       "5                     Mitino     679  2.23\n",
       "6                   Tverskoe     678  2.23\n",
       "7                   Krjukovo     518  1.70\n",
       "8                    Mar'ino     508  1.67\n",
       "9   Poselenie Filimonkovskoe     496  1.63\n",
       "10            Juzhnoe Butovo     451  1.48\n",
       "11      Poselenie Shherbinka     443  1.45\n",
       "12                  Solncevo     421  1.38\n",
       "13         Zapadnoe Degunino     410  1.35\n",
       "14    Poselenie Desjonovskoe     362  1.19\n",
       "15                  Otradnoe     353  1.16\n",
       "16         Nagatinskij Zaton     327  1.07\n",
       "17               Bogorodskoe     305  1.00\n",
       "18                  Nagornoe     305  1.00\n",
       "19                  Strogino     301  0.99"
      ]
     },
     "execution_count": 29,
     "metadata": {},
     "output_type": "execute_result"
    }
   ],
   "source": [
    "df_cnts.head(20)"
   ]
  },
  {
   "cell_type": "code",
   "execution_count": 30,
   "metadata": {},
   "outputs": [],
   "source": [
    "csum = np.cumsum(df_cnts['%'].values)"
   ]
  },
  {
   "cell_type": "code",
   "execution_count": 31,
   "metadata": {},
   "outputs": [
    {
     "data": {
      "image/png": "[encoded data removed]",
      "text/plain": [
       "<Figure size 1440x720 with 2 Axes>"
      ]
     },
     "metadata": {
      "needs_background": "light"
     },
     "output_type": "display_data"
    }
   ],
   "source": [
    "fig, ax = plt.subplots(1,1,figsize=[20,10])\n",
    "ax.plot(csum,'o-')\n",
    "ax.plot([0,144],[99,99],'k--', dashes=[0.5,0.5], linewidth=1.25)\n",
    "ax.plot([0,144],[97,97],'k--', dashes=[1.0,1.0], linewidth=1.25)\n",
    "ax.plot([0,144],[95,95],'k--', dashes=[2.0,2.0], linewidth=1.25)\n",
    "ax.set_ylabel('cumsum of total (%)')\n",
    "ax.set_ylim(0,105)\n",
    "ax1=ax.twinx()\n",
    "ax1.bar(x=df_cnts.index, height=df_cnts['%'].values, color='C1')\n",
    "ax1.set_ylabel('% of total')\n",
    "ax1.grid()\n",
    "ax.set_xlabel('index of \\'sub_area\\'');"
   ]
  },
  {
   "cell_type": "code",
   "execution_count": 32,
   "metadata": {},
   "outputs": [
    {
     "name": "stdout",
     "output_type": "stream",
     "text": [
      "342 0.011223786551146992\n"
     ]
    }
   ],
   "source": [
    "cats_to_exclude = []\n",
    "counts = 0\n",
    "for n,r in df_cnts.sort_values('counts').iterrows():\n",
    "\n",
    "    if counts/num_rows > 0.01:\n",
    "        print(counts, counts/num_rows)\n",
    "        break\n",
    "    counts += r['counts']\n",
    "    cats_to_exclude.append(r['sub_area'])"
   ]
  },
  {
   "cell_type": "code",
   "execution_count": 33,
   "metadata": {},
   "outputs": [
    {
     "name": "stdout",
     "output_type": "stream",
     "text": [
      "18\n",
      "['Poselenie Klenovskoe', 'Poselenie Mihajlovo-Jarcevskoe', 'Poselenie Kievskij', 'Poselenie Shhapovskoe', 'Molzhaninovskoe', 'Poselenie Marushkinskoe', 'Vostochnoe', 'Poselenie Voronovskoe', 'Arbat', 'Poselenie Mosrentgen', 'Poselenie Kokoshkino', 'Poselenie Krasnopahorskoe', 'Poselenie Rogovskoe', 'Poselenie Rjazanovskoe', \"Krasnosel'skoe\", 'Severnoe', 'Vnukovo', 'Kapotnja']\n"
     ]
    }
   ],
   "source": [
    "print(len(cats_to_exclude))\n",
    "print(cats_to_exclude)"
   ]
  },
  {
   "cell_type": "code",
   "execution_count": 34,
   "metadata": {},
   "outputs": [
    {
     "data": {
      "text/html": [
       "<div>\n",
       "<style scoped>\n",
       "    .dataframe tbody tr th:only-of-type {\n",
       "        vertical-align: middle;\n",
       "    }\n",
       "\n",
       "    .dataframe tbody tr th {\n",
       "        vertical-align: top;\n",
       "    }\n",
       "\n",
       "    .dataframe thead th {\n",
       "        text-align: right;\n",
       "    }\n",
       "</style>\n",
       "<table border=\"1\" class=\"dataframe\">\n",
       "  <thead>\n",
       "    <tr style=\"text-align: right;\">\n",
       "      <th></th>\n",
       "      <th>sub_area</th>\n",
       "      <th>counts</th>\n",
       "      <th>%</th>\n",
       "    </tr>\n",
       "  </thead>\n",
       "  <tbody>\n",
       "    <tr>\n",
       "      <th>128</th>\n",
       "      <td>Kapotnja</td>\n",
       "      <td>49</td>\n",
       "      <td>0.16</td>\n",
       "    </tr>\n",
       "    <tr>\n",
       "      <th>129</th>\n",
       "      <td>Vnukovo</td>\n",
       "      <td>44</td>\n",
       "      <td>0.14</td>\n",
       "    </tr>\n",
       "    <tr>\n",
       "      <th>130</th>\n",
       "      <td>Severnoe</td>\n",
       "      <td>37</td>\n",
       "      <td>0.12</td>\n",
       "    </tr>\n",
       "    <tr>\n",
       "      <th>131</th>\n",
       "      <td>Krasnosel'skoe</td>\n",
       "      <td>37</td>\n",
       "      <td>0.12</td>\n",
       "    </tr>\n",
       "    <tr>\n",
       "      <th>132</th>\n",
       "      <td>Poselenie Rjazanovskoe</td>\n",
       "      <td>34</td>\n",
       "      <td>0.11</td>\n",
       "    </tr>\n",
       "    <tr>\n",
       "      <th>133</th>\n",
       "      <td>Poselenie Rogovskoe</td>\n",
       "      <td>31</td>\n",
       "      <td>0.10</td>\n",
       "    </tr>\n",
       "    <tr>\n",
       "      <th>134</th>\n",
       "      <td>Poselenie Krasnopahorskoe</td>\n",
       "      <td>27</td>\n",
       "      <td>0.09</td>\n",
       "    </tr>\n",
       "    <tr>\n",
       "      <th>135</th>\n",
       "      <td>Poselenie Kokoshkino</td>\n",
       "      <td>20</td>\n",
       "      <td>0.07</td>\n",
       "    </tr>\n",
       "    <tr>\n",
       "      <th>136</th>\n",
       "      <td>Poselenie Mosrentgen</td>\n",
       "      <td>19</td>\n",
       "      <td>0.06</td>\n",
       "    </tr>\n",
       "    <tr>\n",
       "      <th>137</th>\n",
       "      <td>Arbat</td>\n",
       "      <td>15</td>\n",
       "      <td>0.05</td>\n",
       "    </tr>\n",
       "    <tr>\n",
       "      <th>138</th>\n",
       "      <td>Poselenie Voronovskoe</td>\n",
       "      <td>7</td>\n",
       "      <td>0.02</td>\n",
       "    </tr>\n",
       "    <tr>\n",
       "      <th>139</th>\n",
       "      <td>Vostochnoe</td>\n",
       "      <td>7</td>\n",
       "      <td>0.02</td>\n",
       "    </tr>\n",
       "    <tr>\n",
       "      <th>140</th>\n",
       "      <td>Poselenie Marushkinskoe</td>\n",
       "      <td>6</td>\n",
       "      <td>0.02</td>\n",
       "    </tr>\n",
       "    <tr>\n",
       "      <th>141</th>\n",
       "      <td>Molzhaninovskoe</td>\n",
       "      <td>3</td>\n",
       "      <td>0.01</td>\n",
       "    </tr>\n",
       "    <tr>\n",
       "      <th>142</th>\n",
       "      <td>Poselenie Kievskij</td>\n",
       "      <td>2</td>\n",
       "      <td>0.01</td>\n",
       "    </tr>\n",
       "    <tr>\n",
       "      <th>143</th>\n",
       "      <td>Poselenie Shhapovskoe</td>\n",
       "      <td>2</td>\n",
       "      <td>0.01</td>\n",
       "    </tr>\n",
       "    <tr>\n",
       "      <th>144</th>\n",
       "      <td>Poselenie Mihajlovo-Jarcevskoe</td>\n",
       "      <td>1</td>\n",
       "      <td>0.00</td>\n",
       "    </tr>\n",
       "    <tr>\n",
       "      <th>145</th>\n",
       "      <td>Poselenie Klenovskoe</td>\n",
       "      <td>1</td>\n",
       "      <td>0.00</td>\n",
       "    </tr>\n",
       "  </tbody>\n",
       "</table>\n",
       "</div>"
      ],
      "text/plain": [
       "                           sub_area  counts     %\n",
       "128                        Kapotnja      49  0.16\n",
       "129                         Vnukovo      44  0.14\n",
       "130                        Severnoe      37  0.12\n",
       "131                  Krasnosel'skoe      37  0.12\n",
       "132          Poselenie Rjazanovskoe      34  0.11\n",
       "133             Poselenie Rogovskoe      31  0.10\n",
       "134       Poselenie Krasnopahorskoe      27  0.09\n",
       "135            Poselenie Kokoshkino      20  0.07\n",
       "136            Poselenie Mosrentgen      19  0.06\n",
       "137                           Arbat      15  0.05\n",
       "138           Poselenie Voronovskoe       7  0.02\n",
       "139                      Vostochnoe       7  0.02\n",
       "140         Poselenie Marushkinskoe       6  0.02\n",
       "141                 Molzhaninovskoe       3  0.01\n",
       "142              Poselenie Kievskij       2  0.01\n",
       "143           Poselenie Shhapovskoe       2  0.01\n",
       "144  Poselenie Mihajlovo-Jarcevskoe       1  0.00\n",
       "145            Poselenie Klenovskoe       1  0.00"
      ]
     },
     "execution_count": 34,
     "metadata": {},
     "output_type": "execute_result"
    }
   ],
   "source": [
    "df_cnts[df_cnts['sub_area'].isin(cats_to_exclude)]"
   ]
  },
  {
   "cell_type": "markdown",
   "metadata": {},
   "source": [
    "**Notes** \n",
    "\n",
    "Strategies:\n",
    "* drop the rows with these values $\\to$ _means no prediction will be made for these!!!_\n",
    "* combine these values into a new value, e.g. `'other'`\n",
    "* (advanced) combine nearby regions of low counts into neighbors with higher counts\n",
    "\n",
    "<font color='red' size=3>\n",
    "    Warning: as above, if this were applied, then the target_feature would need to be included (or matched by keeping the `id`)\n",
    "</font>"
   ]
  },
  {
   "cell_type": "markdown",
   "metadata": {},
   "source": [
    "#### Correlation-based feature drop"
   ]
  },
  {
   "cell_type": "code",
   "execution_count": 35,
   "metadata": {},
   "outputs": [],
   "source": [
    "from helpers.correlation_feature_drop import get_dropped_columns"
   ]
  },
  {
   "cell_type": "code",
   "execution_count": 36,
   "metadata": {},
   "outputs": [],
   "source": [
    "threshold = 0.9"
   ]
  },
  {
   "cell_type": "code",
   "execution_count": 38,
   "metadata": {},
   "outputs": [],
   "source": [
    "# Note: be sure to include the target feature in the correlation --> the current function requires it.\n",
    "df_corr = df.drop(columns=ignore_cols+string_cols)\n",
    "df_corr[target_feature] = df_targ['price_doc']\n",
    "df_corr = df_corr.corr().abs()"
   ]
  },
  {
   "cell_type": "code",
   "execution_count": 39,
   "metadata": {},
   "outputs": [
    {
     "name": "stdout",
     "output_type": "stream",
     "text": [
      "Index(['col1', 'col2', 'corr'], dtype='object')\n",
      "Index(['col1', 'col2', 'corr', 'self', 'price_doc'], dtype='object')\n"
     ]
    }
   ],
   "source": [
    "drop_corr_cols = get_dropped_columns(df_corr, target_feature, threshold, False)"
   ]
  },
  {
   "cell_type": "markdown",
   "metadata": {},
   "source": [
    "#### Select the cols to keep"
   ]
  },
  {
   "cell_type": "code",
   "execution_count": 40,
   "metadata": {},
   "outputs": [],
   "source": [
    "keep_cols = [c for c in df.columns.tolist() if (c in filled_cols) & (c not in drop_corr_cols + low_information_cols)]"
   ]
  },
  {
   "cell_type": "code",
   "execution_count": 41,
   "metadata": {},
   "outputs": [
    {
     "name": "stdout",
     "output_type": "stream",
     "text": [
      "(30471, 105)\n",
      "(30471, 105)\n"
     ]
    }
   ],
   "source": [
    "df = df[keep_cols]\n",
    "print(df.shape) #(30471, 116)\n",
    "#df = df[df['sub_area'].isin(cats_to_exclude)==False].copy()\n",
    "print(df.shape)"
   ]
  },
  {
   "cell_type": "markdown",
   "metadata": {},
   "source": [
    "### Transformations"
   ]
  },
  {
   "cell_type": "markdown",
   "metadata": {},
   "source": [
    "#### Inspect the categorical then do encoding"
   ]
  },
  {
   "cell_type": "markdown",
   "metadata": {},
   "source": [
    "**Note** need to regrab the new set of string cols since some were dropped."
   ]
  },
  {
   "cell_type": "code",
   "execution_count": 42,
   "metadata": {},
   "outputs": [],
   "source": [
    "string_cols = df.drop(columns=ignore_cols).select_dtypes('object').columns.tolist()"
   ]
  },
  {
   "cell_type": "code",
   "execution_count": 43,
   "metadata": {},
   "outputs": [
    {
     "name": "stdout",
     "output_type": "stream",
     "text": [
      "['product_type', 'sub_area', 'culture_objects_top_25', 'thermal_power_plant_raion', 'incineration_raion', 'radiation_raion', 'big_market_raion', 'detention_facility_raion', 'water_1line', 'ecology']\n"
     ]
    }
   ],
   "source": [
    "print(string_cols)"
   ]
  },
  {
   "cell_type": "code",
   "execution_count": 44,
   "metadata": {},
   "outputs": [
    {
     "data": {
      "text/html": [
       "<div>\n",
       "<style scoped>\n",
       "    .dataframe tbody tr th:only-of-type {\n",
       "        vertical-align: middle;\n",
       "    }\n",
       "\n",
       "    .dataframe tbody tr th {\n",
       "        vertical-align: top;\n",
       "    }\n",
       "\n",
       "    .dataframe thead th {\n",
       "        text-align: right;\n",
       "    }\n",
       "</style>\n",
       "<table border=\"1\" class=\"dataframe\">\n",
       "  <thead>\n",
       "    <tr style=\"text-align: right;\">\n",
       "      <th></th>\n",
       "      <th>product_type</th>\n",
       "      <th>sub_area</th>\n",
       "      <th>culture_objects_top_25</th>\n",
       "      <th>thermal_power_plant_raion</th>\n",
       "      <th>incineration_raion</th>\n",
       "      <th>radiation_raion</th>\n",
       "      <th>big_market_raion</th>\n",
       "      <th>detention_facility_raion</th>\n",
       "      <th>water_1line</th>\n",
       "      <th>ecology</th>\n",
       "    </tr>\n",
       "  </thead>\n",
       "  <tbody>\n",
       "    <tr>\n",
       "      <th>0</th>\n",
       "      <td>Investment</td>\n",
       "      <td>Bibirevo</td>\n",
       "      <td>no</td>\n",
       "      <td>no</td>\n",
       "      <td>no</td>\n",
       "      <td>no</td>\n",
       "      <td>no</td>\n",
       "      <td>no</td>\n",
       "      <td>no</td>\n",
       "      <td>good</td>\n",
       "    </tr>\n",
       "    <tr>\n",
       "      <th>1</th>\n",
       "      <td>Investment</td>\n",
       "      <td>Nagatinskij Zaton</td>\n",
       "      <td>yes</td>\n",
       "      <td>no</td>\n",
       "      <td>no</td>\n",
       "      <td>no</td>\n",
       "      <td>no</td>\n",
       "      <td>no</td>\n",
       "      <td>no</td>\n",
       "      <td>excellent</td>\n",
       "    </tr>\n",
       "    <tr>\n",
       "      <th>2</th>\n",
       "      <td>Investment</td>\n",
       "      <td>Tekstil'shhiki</td>\n",
       "      <td>no</td>\n",
       "      <td>no</td>\n",
       "      <td>no</td>\n",
       "      <td>yes</td>\n",
       "      <td>no</td>\n",
       "      <td>no</td>\n",
       "      <td>no</td>\n",
       "      <td>poor</td>\n",
       "    </tr>\n",
       "    <tr>\n",
       "      <th>3</th>\n",
       "      <td>Investment</td>\n",
       "      <td>Mitino</td>\n",
       "      <td>no</td>\n",
       "      <td>no</td>\n",
       "      <td>no</td>\n",
       "      <td>no</td>\n",
       "      <td>no</td>\n",
       "      <td>no</td>\n",
       "      <td>no</td>\n",
       "      <td>good</td>\n",
       "    </tr>\n",
       "    <tr>\n",
       "      <th>4</th>\n",
       "      <td>Investment</td>\n",
       "      <td>Basmannoe</td>\n",
       "      <td>no</td>\n",
       "      <td>no</td>\n",
       "      <td>no</td>\n",
       "      <td>yes</td>\n",
       "      <td>no</td>\n",
       "      <td>no</td>\n",
       "      <td>no</td>\n",
       "      <td>excellent</td>\n",
       "    </tr>\n",
       "  </tbody>\n",
       "</table>\n",
       "</div>"
      ],
      "text/plain": [
       "  product_type           sub_area culture_objects_top_25  \\\n",
       "0   Investment           Bibirevo                     no   \n",
       "1   Investment  Nagatinskij Zaton                    yes   \n",
       "2   Investment     Tekstil'shhiki                     no   \n",
       "3   Investment             Mitino                     no   \n",
       "4   Investment          Basmannoe                     no   \n",
       "\n",
       "  thermal_power_plant_raion incineration_raion radiation_raion  \\\n",
       "0                        no                 no              no   \n",
       "1                        no                 no              no   \n",
       "2                        no                 no             yes   \n",
       "3                        no                 no              no   \n",
       "4                        no                 no             yes   \n",
       "\n",
       "  big_market_raion detention_facility_raion water_1line    ecology  \n",
       "0               no                       no          no       good  \n",
       "1               no                       no          no  excellent  \n",
       "2               no                       no          no       poor  \n",
       "3               no                       no          no       good  \n",
       "4               no                       no          no  excellent  "
      ]
     },
     "execution_count": 44,
     "metadata": {},
     "output_type": "execute_result"
    }
   ],
   "source": [
    "df[string_cols].head()"
   ]
  },
  {
   "cell_type": "markdown",
   "metadata": {},
   "source": [
    "**Note**\n",
    "* Ordinals:\n",
    "    * 'ecology'\n",
    "* OneHots\n",
    "    * 'sub_area', 'product_type' (but only two vals)\n",
    "* Binaries\n",
    "    * the rest\n",
    "    * _But these will also be considered ordinals_"
   ]
  },
  {
   "cell_type": "markdown",
   "metadata": {},
   "source": [
    "~~<font color='red' size=3>\n",
    "    EDIT: dropped 'sub_area' functionality\n",
    "</font>~~"
   ]
  },
  {
   "cell_type": "code",
   "execution_count": 45,
   "metadata": {},
   "outputs": [],
   "source": [
    "from sklearn.preprocessing import OrdinalEncoder, OneHotEncoder, FunctionTransformer\n",
    "from sklearn.compose import ColumnTransformer\n",
    "\n",
    "import categorical_encoding\n",
    "from categorical_encoding import OrdinalEncoderNans\n",
    "\n",
    "\n",
    "onehot_cat_cols = [\"sub_area\", \"product_type\"]\n",
    "#onehot_cat_cols = [\"product_type\"]\n",
    "\n",
    "ord4_cat_cols = [\"ecology\"]\n",
    "ord4_cats = ['poor', 'satisfactory', 'good', 'excellent', 'no data'] # Normally, this is a nested list, ie [[1,2,3,...]]\n",
    "\n",
    "ord2_cat_cols = [e for e in string_cols if (e not in onehot_cat_cols) & (e not in ord4_cat_cols) ]\n",
    "ord2_cats = len(ord2_cat_cols)*[[\"no\", \"yes\"]]"
   ]
  },
  {
   "cell_type": "code",
   "execution_count": 46,
   "metadata": {},
   "outputs": [
    {
     "data": {
      "text/plain": [
       "sub_area        146\n",
       "product_type      2\n",
       "dtype: int64"
      ]
     },
     "execution_count": 46,
     "metadata": {},
     "output_type": "execute_result"
    }
   ],
   "source": [
    "df[onehot_cat_cols].nunique()"
   ]
  },
  {
   "cell_type": "code",
   "execution_count": 47,
   "metadata": {},
   "outputs": [
    {
     "name": "stdout",
     "output_type": "stream",
     "text": [
      "274 2 7 1\n"
     ]
    },
    {
     "data": {
      "text/plain": [
       "430"
      ]
     },
     "execution_count": 47,
     "metadata": {},
     "output_type": "execute_result"
    }
   ],
   "source": [
    "onehot_sum = sum(df[onehot_cat_cols].nunique())\n",
    "\n",
    "print(len(num_cols), len(onehot_cat_cols), len(ord2_cat_cols), len(ord4_cat_cols))\n",
    "sum([len(num_cols), onehot_sum, len(ord2_cat_cols), len(ord4_cat_cols)])"
   ]
  },
  {
   "cell_type": "markdown",
   "metadata": {},
   "source": [
    "#### Pipelines\n",
    "\n",
    "##### Numerical features in a pipeline\n",
    "\n",
    "**Note** could also use with the ColumnTransformer, like the cat. features, since is only one transform on the subset"
   ]
  },
  {
   "cell_type": "code",
   "execution_count": 48,
   "metadata": {},
   "outputs": [],
   "source": [
    "from sklearn.pipeline import Pipeline\n",
    "\n",
    "from sklearn.preprocessing import StandardScaler\n",
    "\n",
    "num_pipeline = Pipeline([\n",
    "        ('std_scaler', StandardScaler()),\n",
    "    ])\n",
    "# Use in ColumnTransformer as \n",
    "#   (\"num_pipe\",  num_pipeline, num_cols),\n"
   ]
  },
  {
   "cell_type": "markdown",
   "metadata": {},
   "source": [
    "##### putting the cat-encs together into the pipeline"
   ]
  },
  {
   "cell_type": "code",
   "execution_count": 49,
   "metadata": {},
   "outputs": [],
   "source": [
    "# Need to re-grab the numerics as well!\n",
    "num_cols = df.drop(columns=ignore_cols).select_dtypes(['int', 'float']).columns.tolist()"
   ]
  },
  {
   "cell_type": "code",
   "execution_count": 50,
   "metadata": {
    "scrolled": false
   },
   "outputs": [],
   "source": [
    "pipeline_stage1 = ColumnTransformer([    \n",
    "        (\"ignored\",   FunctionTransformer(lambda x: x), ignore_cols),\n",
    "        #(\"target\",  StandardScaler(), target_col),  \n",
    "        (\"num_cols\",  StandardScaler(), num_cols),  \n",
    "        (\"onehots\",   OneHotEncoder(sparse=False), onehot_cat_cols),\n",
    "        (\"ordinals2\", OrdinalEncoder(ord2_cats), ord2_cat_cols),   \n",
    "        (\"ordinals4\", OrdinalEncoderNans(ord4_cats), ord4_cat_cols),    \n",
    "    ])\n",
    "\n",
    "data = pipeline_stage1.fit_transform(df)"
   ]
  },
  {
   "cell_type": "code",
   "execution_count": 51,
   "metadata": {},
   "outputs": [
    {
     "data": {
      "text/plain": [
       "(30471, 251)"
      ]
     },
     "execution_count": 51,
     "metadata": {},
     "output_type": "execute_result"
    }
   ],
   "source": [
    "data.shape"
   ]
  },
  {
   "cell_type": "code",
   "execution_count": 52,
   "metadata": {},
   "outputs": [
    {
     "data": {
      "text/plain": [
       "(30471, 105)"
      ]
     },
     "execution_count": 52,
     "metadata": {},
     "output_type": "execute_result"
    }
   ],
   "source": [
    "df.shape"
   ]
  },
  {
   "cell_type": "markdown",
   "metadata": {},
   "source": [
    "####  Retrieve the column names\n",
    "\n",
    "This is a bit specific here, but generalizable"
   ]
  },
  {
   "cell_type": "code",
   "execution_count": 53,
   "metadata": {},
   "outputs": [],
   "source": [
    "def get_transformed_column_names(pipeline_transformers):\n",
    "\n",
    "    prepro_columns = []\n",
    "    for line in pipeline_stage1.transformers_[:]:\n",
    "\n",
    "        #print(type(line[1]).__name__ )\n",
    "        if type(line[1]).__name__ == 'OneHotEncoder':\n",
    "            # Note: can include old column identifiers in the OHE feature names\n",
    "            #    with .get_feature_names(ohe_column_names)\n",
    "            new_cols = line[1].get_feature_names().tolist()\n",
    "            #print(line[0],'\\t', len(new_cols))\n",
    "            prepro_columns += new_cols\n",
    "        else:\n",
    "            new_cols = line[2]\n",
    "            #print(line[0],'\\t', len(new_cols))\n",
    "            prepro_columns += new_cols    \n",
    "            \n",
    "    return prepro_columns"
   ]
  },
  {
   "cell_type": "code",
   "execution_count": 54,
   "metadata": {},
   "outputs": [],
   "source": [
    "prepro_columns = get_transformed_column_names(pipeline_stage1.transformers_)"
   ]
  },
  {
   "cell_type": "code",
   "execution_count": 55,
   "metadata": {},
   "outputs": [
    {
     "name": "stdout",
     "output_type": "stream",
     "text": [
      "2 1 93 148 7 1\n",
      "252 == 251\n"
     ]
    }
   ],
   "source": [
    "onehot_sum = sum(df[onehot_cat_cols].nunique())\n",
    "check_col_lengths = [len(ignore_cols), len(target_col), len(num_cols), onehot_sum, len(ord2_cat_cols), len(ord4_cat_cols)]\n",
    "print(*check_col_lengths)\n",
    "print(sum(check_col_lengths), '==', len(prepro_columns))"
   ]
  },
  {
   "cell_type": "markdown",
   "metadata": {},
   "source": [
    "#### Rebuild the DF and re-cast the data type\n",
    "\n",
    "Prepare for the next pipeline: imputing\n",
    "\n",
    "##### Rebuild the DF"
   ]
  },
  {
   "cell_type": "code",
   "execution_count": 56,
   "metadata": {},
   "outputs": [],
   "source": [
    "df = pd.DataFrame(data=data, columns=prepro_columns)"
   ]
  },
  {
   "cell_type": "markdown",
   "metadata": {},
   "source": [
    "##### Re-cast the data types"
   ]
  },
  {
   "cell_type": "code",
   "execution_count": 57,
   "metadata": {},
   "outputs": [],
   "source": [
    "ignored_dtypes = [df_dtype_dict[c] for c in ignore_cols]\n",
    "\n",
    "def set_dtypes(prepro_columns, nonfloat_dtypes):\n",
    "    \"\"\"Set a new dtype dict for the preprocessed df\n",
    "    \n",
    "    Args:\n",
    "      prepro_columns ([str]): columns for the dict keys\n",
    "      nonfloat_dtypes ([str]): datatypes for the non-float datatypes \n",
    "                               (assumes these are in the front of prepro_columns)\n",
    "\n",
    "    Returns:\n",
    "      dict: dictionary of column to datatype\n",
    "    \"\"\"\n",
    "\n",
    "    nr_float_cols = len(prepro_columns)-len(nonfloat_dtypes)\n",
    "\n",
    "    #### NOTE: all preprocess cols will now be floats\n",
    "    dtypes_list = nonfloat_dtypes + (nr_float_cols)*['float']\n",
    "\n",
    "    return dict(zip(prepro_columns, dtypes_list))    "
   ]
  },
  {
   "cell_type": "code",
   "execution_count": 58,
   "metadata": {},
   "outputs": [],
   "source": [
    "dtypes_dict = set_dtypes(prepro_columns, ignored_dtypes)"
   ]
  },
  {
   "cell_type": "code",
   "execution_count": 59,
   "metadata": {},
   "outputs": [
    {
     "data": {
      "text/plain": [
       "251"
      ]
     },
     "execution_count": 59,
     "metadata": {},
     "output_type": "execute_result"
    }
   ],
   "source": [
    "len(dtypes_dict)"
   ]
  },
  {
   "cell_type": "code",
   "execution_count": 60,
   "metadata": {},
   "outputs": [],
   "source": [
    "df = df.astype(dtypes_dict)"
   ]
  },
  {
   "cell_type": "code",
   "execution_count": 61,
   "metadata": {
    "scrolled": true
   },
   "outputs": [
    {
     "data": {
      "text/html": [
       "<div>\n",
       "<style scoped>\n",
       "    .dataframe tbody tr th:only-of-type {\n",
       "        vertical-align: middle;\n",
       "    }\n",
       "\n",
       "    .dataframe tbody tr th {\n",
       "        vertical-align: top;\n",
       "    }\n",
       "\n",
       "    .dataframe thead th {\n",
       "        text-align: right;\n",
       "    }\n",
       "</style>\n",
       "<table border=\"1\" class=\"dataframe\">\n",
       "  <thead>\n",
       "    <tr style=\"text-align: right;\">\n",
       "      <th></th>\n",
       "      <th>id</th>\n",
       "      <th>timestamp</th>\n",
       "      <th>full_sq</th>\n",
       "      <th>floor</th>\n",
       "      <th>area_m</th>\n",
       "      <th>green_zone_part</th>\n",
       "      <th>indust_part</th>\n",
       "      <th>school_education_centers_raion</th>\n",
       "      <th>school_education_centers_top_20_raion</th>\n",
       "      <th>healthcare_centers_raion</th>\n",
       "      <th>...</th>\n",
       "      <th>x1_Investment</th>\n",
       "      <th>x1_OwnerOccupier</th>\n",
       "      <th>culture_objects_top_25</th>\n",
       "      <th>thermal_power_plant_raion</th>\n",
       "      <th>incineration_raion</th>\n",
       "      <th>radiation_raion</th>\n",
       "      <th>big_market_raion</th>\n",
       "      <th>detention_facility_raion</th>\n",
       "      <th>water_1line</th>\n",
       "      <th>ecology</th>\n",
       "    </tr>\n",
       "  </thead>\n",
       "  <tbody>\n",
       "    <tr>\n",
       "      <th>0</th>\n",
       "      <td>1</td>\n",
       "      <td>2011-08-20</td>\n",
       "      <td>-0.294873</td>\n",
       "      <td>-0.690013</td>\n",
       "      <td>-0.544788</td>\n",
       "      <td>-0.166746</td>\n",
       "      <td>-1.000975</td>\n",
       "      <td>0.085621</td>\n",
       "      <td>-0.329044</td>\n",
       "      <td>-0.214951</td>\n",
       "      <td>...</td>\n",
       "      <td>1.0</td>\n",
       "      <td>0.0</td>\n",
       "      <td>0.0</td>\n",
       "      <td>0.0</td>\n",
       "      <td>0.0</td>\n",
       "      <td>0.0</td>\n",
       "      <td>0.0</td>\n",
       "      <td>0.0</td>\n",
       "      <td>0.0</td>\n",
       "      <td>2.0</td>\n",
       "    </tr>\n",
       "    <tr>\n",
       "      <th>1</th>\n",
       "      <td>2</td>\n",
       "      <td>2011-08-23</td>\n",
       "      <td>-0.531523</td>\n",
       "      <td>-0.877987</td>\n",
       "      <td>-0.390702</td>\n",
       "      <td>0.877732</td>\n",
       "      <td>-0.583340</td>\n",
       "      <td>0.956436</td>\n",
       "      <td>-0.329044</td>\n",
       "      <td>-0.214951</td>\n",
       "      <td>...</td>\n",
       "      <td>1.0</td>\n",
       "      <td>0.0</td>\n",
       "      <td>1.0</td>\n",
       "      <td>0.0</td>\n",
       "      <td>0.0</td>\n",
       "      <td>0.0</td>\n",
       "      <td>0.0</td>\n",
       "      <td>0.0</td>\n",
       "      <td>0.0</td>\n",
       "      <td>3.0</td>\n",
       "    </tr>\n",
       "    <tr>\n",
       "      <th>2</th>\n",
       "      <td>3</td>\n",
       "      <td>2011-08-27</td>\n",
       "      <td>-0.294873</td>\n",
       "      <td>-1.065960</td>\n",
       "      <td>-0.622239</td>\n",
       "      <td>-0.607483</td>\n",
       "      <td>-0.002814</td>\n",
       "      <td>0.666164</td>\n",
       "      <td>-0.329044</td>\n",
       "      <td>-0.214951</td>\n",
       "      <td>...</td>\n",
       "      <td>1.0</td>\n",
       "      <td>0.0</td>\n",
       "      <td>0.0</td>\n",
       "      <td>0.0</td>\n",
       "      <td>0.0</td>\n",
       "      <td>1.0</td>\n",
       "      <td>0.0</td>\n",
       "      <td>0.0</td>\n",
       "      <td>0.0</td>\n",
       "      <td>0.0</td>\n",
       "    </tr>\n",
       "    <tr>\n",
       "      <th>3</th>\n",
       "      <td>4</td>\n",
       "      <td>2011-09-01</td>\n",
       "      <td>0.914671</td>\n",
       "      <td>0.249854</td>\n",
       "      <td>-0.245700</td>\n",
       "      <td>-0.138328</td>\n",
       "      <td>-0.413849</td>\n",
       "      <td>1.536979</td>\n",
       "      <td>-0.329044</td>\n",
       "      <td>-0.214951</td>\n",
       "      <td>...</td>\n",
       "      <td>1.0</td>\n",
       "      <td>0.0</td>\n",
       "      <td>0.0</td>\n",
       "      <td>0.0</td>\n",
       "      <td>0.0</td>\n",
       "      <td>0.0</td>\n",
       "      <td>0.0</td>\n",
       "      <td>0.0</td>\n",
       "      <td>0.0</td>\n",
       "      <td>2.0</td>\n",
       "    </tr>\n",
       "    <tr>\n",
       "      <th>4</th>\n",
       "      <td>5</td>\n",
       "      <td>2011-09-05</td>\n",
       "      <td>0.599138</td>\n",
       "      <td>-0.690013</td>\n",
       "      <td>-0.448374</td>\n",
       "      <td>-1.163354</td>\n",
       "      <td>-0.687151</td>\n",
       "      <td>1.246708</td>\n",
       "      <td>-0.329044</td>\n",
       "      <td>1.794590</td>\n",
       "      <td>...</td>\n",
       "      <td>1.0</td>\n",
       "      <td>0.0</td>\n",
       "      <td>0.0</td>\n",
       "      <td>0.0</td>\n",
       "      <td>0.0</td>\n",
       "      <td>1.0</td>\n",
       "      <td>0.0</td>\n",
       "      <td>0.0</td>\n",
       "      <td>0.0</td>\n",
       "      <td>3.0</td>\n",
       "    </tr>\n",
       "  </tbody>\n",
       "</table>\n",
       "<p>5 rows × 251 columns</p>\n",
       "</div>"
      ],
      "text/plain": [
       "   id  timestamp   full_sq     floor    area_m  green_zone_part  indust_part  \\\n",
       "0   1 2011-08-20 -0.294873 -0.690013 -0.544788        -0.166746    -1.000975   \n",
       "1   2 2011-08-23 -0.531523 -0.877987 -0.390702         0.877732    -0.583340   \n",
       "2   3 2011-08-27 -0.294873 -1.065960 -0.622239        -0.607483    -0.002814   \n",
       "3   4 2011-09-01  0.914671  0.249854 -0.245700        -0.138328    -0.413849   \n",
       "4   5 2011-09-05  0.599138 -0.690013 -0.448374        -1.163354    -0.687151   \n",
       "\n",
       "   school_education_centers_raion  school_education_centers_top_20_raion  \\\n",
       "0                        0.085621                              -0.329044   \n",
       "1                        0.956436                              -0.329044   \n",
       "2                        0.666164                              -0.329044   \n",
       "3                        1.536979                              -0.329044   \n",
       "4                        1.246708                              -0.329044   \n",
       "\n",
       "   healthcare_centers_raion  ...  x1_Investment  x1_OwnerOccupier  \\\n",
       "0                 -0.214951  ...            1.0               0.0   \n",
       "1                 -0.214951  ...            1.0               0.0   \n",
       "2                 -0.214951  ...            1.0               0.0   \n",
       "3                 -0.214951  ...            1.0               0.0   \n",
       "4                  1.794590  ...            1.0               0.0   \n",
       "\n",
       "   culture_objects_top_25  thermal_power_plant_raion  incineration_raion  \\\n",
       "0                     0.0                        0.0                 0.0   \n",
       "1                     1.0                        0.0                 0.0   \n",
       "2                     0.0                        0.0                 0.0   \n",
       "3                     0.0                        0.0                 0.0   \n",
       "4                     0.0                        0.0                 0.0   \n",
       "\n",
       "   radiation_raion  big_market_raion  detention_facility_raion  water_1line  \\\n",
       "0              0.0               0.0                       0.0          0.0   \n",
       "1              0.0               0.0                       0.0          0.0   \n",
       "2              1.0               0.0                       0.0          0.0   \n",
       "3              0.0               0.0                       0.0          0.0   \n",
       "4              1.0               0.0                       0.0          0.0   \n",
       "\n",
       "   ecology  \n",
       "0      2.0  \n",
       "1      3.0  \n",
       "2      0.0  \n",
       "3      2.0  \n",
       "4      3.0  \n",
       "\n",
       "[5 rows x 251 columns]"
      ]
     },
     "execution_count": 61,
     "metadata": {},
     "output_type": "execute_result"
    }
   ],
   "source": [
    "df.head()"
   ]
  },
  {
   "cell_type": "markdown",
   "metadata": {},
   "source": [
    "## Second stage preprocessing\n",
    "\n",
    "### Imputing\n",
    "\n",
    "<font color='green' size=2> \n",
    "    Can this be organized with the above into a single pipeline?\n",
    "    <br/>\n",
    "    Possibly, since the following stage is an imputer\n",
    "</font>"
   ]
  },
  {
   "cell_type": "code",
   "execution_count": 62,
   "metadata": {},
   "outputs": [],
   "source": [
    "from sklearn.impute import SimpleImputer, KNNImputer"
   ]
  },
  {
   "cell_type": "markdown",
   "metadata": {},
   "source": [
    "**Note** `KNNImputer` failed with a kernel restart. Memory? $\\to$ try again"
   ]
  },
  {
   "cell_type": "code",
   "execution_count": 63,
   "metadata": {},
   "outputs": [],
   "source": [
    "subprepro_columns = [c for c in prepro_columns if c not in ignore_cols + target_col]"
   ]
  },
  {
   "cell_type": "code",
   "execution_count": 64,
   "metadata": {
    "scrolled": false
   },
   "outputs": [],
   "source": [
    "pipeline_stage2 = ColumnTransformer([\n",
    "        (\"ignored\",   FunctionTransformer(lambda x: x), ignore_cols),\n",
    "        ('imputer', SimpleImputer(strategy='median'), subprepro_columns),    \n",
    "    ])\n",
    " \n",
    "####NOTE: still need to Scale the ordinalTransformed feature\n",
    "data = pipeline_stage2.fit_transform(df)"
   ]
  },
  {
   "cell_type": "markdown",
   "metadata": {},
   "source": [
    "### Rebuild the DF and re-cast the data type"
   ]
  },
  {
   "cell_type": "code",
   "execution_count": 65,
   "metadata": {},
   "outputs": [],
   "source": [
    "#### NOTE: can use the same cols and dtypes as before since no further reordering of columns was made\n",
    "df = pd.DataFrame(data=data, columns=prepro_columns).astype(dtypes_dict)"
   ]
  },
  {
   "cell_type": "code",
   "execution_count": 66,
   "metadata": {},
   "outputs": [
    {
     "name": "stdout",
     "output_type": "stream",
     "text": [
      "<class 'pandas.core.frame.DataFrame'>\n",
      "RangeIndex: 30471 entries, 0 to 30470\n",
      "Data columns (total 251 columns):\n",
      "id                                       30471 non-null int64\n",
      "timestamp                                30471 non-null datetime64[ns]\n",
      "full_sq                                  30471 non-null float64\n",
      "floor                                    30471 non-null float64\n",
      "area_m                                   30471 non-null float64\n",
      "green_zone_part                          30471 non-null float64\n",
      "indust_part                              30471 non-null float64\n",
      "school_education_centers_raion           30471 non-null float64\n",
      "school_education_centers_top_20_raion    30471 non-null float64\n",
      "healthcare_centers_raion                 30471 non-null float64\n",
      "university_top_20_raion                  30471 non-null float64\n",
      "sport_objects_raion                      30471 non-null float64\n",
      "additional_education_raion               30471 non-null float64\n",
      "shopping_centers_raion                   30471 non-null float64\n",
      "male_f                                   30471 non-null float64\n",
      "ekder_male                               30471 non-null float64\n",
      "ID_metro                                 30471 non-null float64\n",
      "metro_min_avto                           30471 non-null float64\n",
      "kindergarten_km                          30471 non-null float64\n",
      "green_zone_km                            30471 non-null float64\n",
      "industrial_km                            30471 non-null float64\n",
      "water_treatment_km                       30471 non-null float64\n",
      "cemetery_km                              30471 non-null float64\n",
      "incineration_km                          30471 non-null float64\n",
      "railroad_station_walk_min                30471 non-null float64\n",
      "ID_railroad_station_walk                 30471 non-null float64\n",
      "railroad_station_avto_min                30471 non-null float64\n",
      "ID_railroad_station_avto                 30471 non-null float64\n",
      "public_transport_station_km              30471 non-null float64\n",
      "water_km                                 30471 non-null float64\n",
      "mkad_km                                  30471 non-null float64\n",
      "big_road1_km                             30471 non-null float64\n",
      "ID_big_road1                             30471 non-null float64\n",
      "big_road2_km                             30471 non-null float64\n",
      "ID_big_road2                             30471 non-null float64\n",
      "railroad_km                              30471 non-null float64\n",
      "zd_vokzaly_avto_km                       30471 non-null float64\n",
      "ID_railroad_terminal                     30471 non-null float64\n",
      "bus_terminal_avto_km                     30471 non-null float64\n",
      "ID_bus_terminal                          30471 non-null float64\n",
      "oil_chemistry_km                         30471 non-null float64\n",
      "nuclear_reactor_km                       30471 non-null float64\n",
      "ts_km                                    30471 non-null float64\n",
      "big_market_km                            30471 non-null float64\n",
      "market_shop_km                           30471 non-null float64\n",
      "fitness_km                               30471 non-null float64\n",
      "swim_pool_km                             30471 non-null float64\n",
      "ice_rink_km                              30471 non-null float64\n",
      "hospice_morgue_km                        30471 non-null float64\n",
      "detention_facility_km                    30471 non-null float64\n",
      "university_km                            30471 non-null float64\n",
      "workplaces_km                            30471 non-null float64\n",
      "office_km                                30471 non-null float64\n",
      "additional_education_km                  30471 non-null float64\n",
      "church_synagogue_km                      30471 non-null float64\n",
      "mosque_km                                30471 non-null float64\n",
      "theater_km                               30471 non-null float64\n",
      "catering_km                              30471 non-null float64\n",
      "green_part_500                           30471 non-null float64\n",
      "prom_part_500                            30471 non-null float64\n",
      "office_count_500                         30471 non-null float64\n",
      "office_sqm_500                           30471 non-null float64\n",
      "trc_count_500                            30471 non-null float64\n",
      "trc_sqm_500                              30471 non-null float64\n",
      "cafe_count_500_price_1000                30471 non-null float64\n",
      "cafe_count_500_price_4000                30471 non-null float64\n",
      "leisure_count_500                        30471 non-null float64\n",
      "sport_count_500                          30471 non-null float64\n",
      "market_count_500                         30471 non-null float64\n",
      "green_part_1000                          30471 non-null float64\n",
      "trc_count_1000                           30471 non-null float64\n",
      "trc_sqm_1000                             30471 non-null float64\n",
      "sport_count_1000                         30471 non-null float64\n",
      "market_count_1000                        30471 non-null float64\n",
      "prom_part_1500                           30471 non-null float64\n",
      "trc_sqm_1500                             30471 non-null float64\n",
      "market_count_1500                        30471 non-null float64\n",
      "trc_sqm_2000                             30471 non-null float64\n",
      "cafe_sum_2000_max_price_avg              30471 non-null float64\n",
      "mosque_count_2000                        30471 non-null float64\n",
      "market_count_2000                        30471 non-null float64\n",
      "green_part_3000                          30471 non-null float64\n",
      "prom_part_3000                           30471 non-null float64\n",
      "trc_sqm_3000                             30471 non-null float64\n",
      "cafe_sum_3000_min_price_avg              30471 non-null float64\n",
      "mosque_count_3000                        30471 non-null float64\n",
      "market_count_3000                        30471 non-null float64\n",
      "green_part_5000                          30471 non-null float64\n",
      "prom_part_5000                           30471 non-null float64\n",
      "office_sqm_5000                          30471 non-null float64\n",
      "trc_sqm_5000                             30471 non-null float64\n",
      "cafe_sum_5000_max_price_avg              30471 non-null float64\n",
      "mosque_count_5000                        30471 non-null float64\n",
      "sport_count_5000                         30471 non-null float64\n",
      "market_count_5000                        30471 non-null float64\n",
      "x0_Ajeroport                             30471 non-null float64\n",
      "x0_Akademicheskoe                        30471 non-null float64\n",
      "x0_Alekseevskoe                          30471 non-null float64\n",
      "x0_Altuf'evskoe                          30471 non-null float64\n",
      "x0_Arbat                                 30471 non-null float64\n",
      "x0_Babushkinskoe                         30471 non-null float64\n",
      "x0_Basmannoe                             30471 non-null float64\n",
      "x0_Begovoe                               30471 non-null float64\n",
      "x0_Beskudnikovskoe                       30471 non-null float64\n",
      "x0_Bibirevo                              30471 non-null float64\n",
      "x0_Birjulevo Vostochnoe                  30471 non-null float64\n",
      "x0_Birjulevo Zapadnoe                    30471 non-null float64\n",
      "x0_Bogorodskoe                           30471 non-null float64\n",
      "x0_Brateevo                              30471 non-null float64\n",
      "x0_Butyrskoe                             30471 non-null float64\n",
      "x0_Caricyno                              30471 non-null float64\n",
      "x0_Cheremushki                           30471 non-null float64\n",
      "x0_Chertanovo Central'noe                30471 non-null float64\n",
      "x0_Chertanovo Juzhnoe                    30471 non-null float64\n",
      "x0_Chertanovo Severnoe                   30471 non-null float64\n",
      "x0_Danilovskoe                           30471 non-null float64\n",
      "x0_Dmitrovskoe                           30471 non-null float64\n",
      "x0_Donskoe                               30471 non-null float64\n",
      "x0_Dorogomilovo                          30471 non-null float64\n",
      "x0_Filevskij Park                        30471 non-null float64\n",
      "x0_Fili Davydkovo                        30471 non-null float64\n",
      "x0_Gagarinskoe                           30471 non-null float64\n",
      "x0_Gol'janovo                            30471 non-null float64\n",
      "x0_Golovinskoe                           30471 non-null float64\n",
      "x0_Hamovniki                             30471 non-null float64\n",
      "x0_Horoshevo-Mnevniki                    30471 non-null float64\n",
      "x0_Horoshevskoe                          30471 non-null float64\n",
      "x0_Hovrino                               30471 non-null float64\n",
      "x0_Ivanovskoe                            30471 non-null float64\n",
      "x0_Izmajlovo                             30471 non-null float64\n",
      "x0_Jakimanka                             30471 non-null float64\n",
      "x0_Jaroslavskoe                          30471 non-null float64\n",
      "x0_Jasenevo                              30471 non-null float64\n",
      "x0_Juzhnoe Butovo                        30471 non-null float64\n",
      "x0_Juzhnoe Medvedkovo                    30471 non-null float64\n",
      "x0_Juzhnoe Tushino                       30471 non-null float64\n",
      "x0_Juzhnoportovoe                        30471 non-null float64\n",
      "x0_Kapotnja                              30471 non-null float64\n",
      "x0_Kon'kovo                              30471 non-null float64\n",
      "x0_Koptevo                               30471 non-null float64\n",
      "x0_Kosino-Uhtomskoe                      30471 non-null float64\n",
      "x0_Kotlovka                              30471 non-null float64\n",
      "x0_Krasnosel'skoe                        30471 non-null float64\n",
      "x0_Krjukovo                              30471 non-null float64\n",
      "x0_Krylatskoe                            30471 non-null float64\n",
      "x0_Kuncevo                               30471 non-null float64\n",
      "x0_Kurkino                               30471 non-null float64\n",
      "x0_Kuz'minki                             30471 non-null float64\n",
      "x0_Lefortovo                             30471 non-null float64\n",
      "x0_Levoberezhnoe                         30471 non-null float64\n",
      "x0_Lianozovo                             30471 non-null float64\n",
      "x0_Ljublino                              30471 non-null float64\n",
      "x0_Lomonosovskoe                         30471 non-null float64\n",
      "x0_Losinoostrovskoe                      30471 non-null float64\n",
      "x0_Mar'ina Roshha                        30471 non-null float64\n",
      "x0_Mar'ino                               30471 non-null float64\n",
      "x0_Marfino                               30471 non-null float64\n",
      "x0_Matushkino                            30471 non-null float64\n",
      "x0_Meshhanskoe                           30471 non-null float64\n",
      "x0_Metrogorodok                          30471 non-null float64\n",
      "x0_Mitino                                30471 non-null float64\n",
      "x0_Molzhaninovskoe                       30471 non-null float64\n",
      "x0_Moskvorech'e-Saburovo                 30471 non-null float64\n",
      "x0_Mozhajskoe                            30471 non-null float64\n",
      "x0_Nagatino-Sadovniki                    30471 non-null float64\n",
      "x0_Nagatinskij Zaton                     30471 non-null float64\n",
      "x0_Nagornoe                              30471 non-null float64\n",
      "x0_Nekrasovka                            30471 non-null float64\n",
      "x0_Nizhegorodskoe                        30471 non-null float64\n",
      "x0_Novo-Peredelkino                      30471 non-null float64\n",
      "x0_Novogireevo                           30471 non-null float64\n",
      "x0_Novokosino                            30471 non-null float64\n",
      "x0_Obruchevskoe                          30471 non-null float64\n",
      "x0_Ochakovo-Matveevskoe                  30471 non-null float64\n",
      "x0_Orehovo-Borisovo Juzhnoe              30471 non-null float64\n",
      "x0_Orehovo-Borisovo Severnoe             30471 non-null float64\n",
      "x0_Ostankinskoe                          30471 non-null float64\n",
      "x0_Otradnoe                              30471 non-null float64\n",
      "x0_Pechatniki                            30471 non-null float64\n",
      "x0_Perovo                                30471 non-null float64\n",
      "x0_Pokrovskoe Streshnevo                 30471 non-null float64\n",
      "x0_Poselenie Desjonovskoe                30471 non-null float64\n",
      "x0_Poselenie Filimonkovskoe              30471 non-null float64\n",
      "x0_Poselenie Kievskij                    30471 non-null float64\n",
      "x0_Poselenie Klenovskoe                  30471 non-null float64\n",
      "x0_Poselenie Kokoshkino                  30471 non-null float64\n",
      "x0_Poselenie Krasnopahorskoe             30471 non-null float64\n",
      "x0_Poselenie Marushkinskoe               30471 non-null float64\n",
      "x0_Poselenie Mihajlovo-Jarcevskoe        30471 non-null float64\n",
      "x0_Poselenie Moskovskij                  30471 non-null float64\n",
      "x0_Poselenie Mosrentgen                  30471 non-null float64\n",
      "x0_Poselenie Novofedorovskoe             30471 non-null float64\n",
      "x0_Poselenie Pervomajskoe                30471 non-null float64\n",
      "x0_Poselenie Rjazanovskoe                30471 non-null float64\n",
      "x0_Poselenie Rogovskoe                   30471 non-null float64\n",
      "x0_Poselenie Shhapovskoe                 30471 non-null float64\n",
      "x0_Poselenie Shherbinka                  30471 non-null float64\n",
      "x0_Poselenie Sosenskoe                   30471 non-null float64\n",
      "x0_Poselenie Vnukovskoe                  30471 non-null float64\n",
      "x0_Poselenie Voronovskoe                 30471 non-null float64\n",
      "x0_Poselenie Voskresenskoe               30471 non-null float64\n",
      "x0_Preobrazhenskoe                       30471 non-null float64\n",
      "x0_Presnenskoe                           30471 non-null float64\n",
      "x0_Prospekt Vernadskogo                  30471 non-null float64\n",
      "x0_Ramenki                               30471 non-null float64\n",
      "x0_Rjazanskij                            30471 non-null float64\n",
      "x0_Rostokino                             30471 non-null float64\n",
      "x0_Savelki                               30471 non-null float64\n",
      "x0_Savelovskoe                           30471 non-null float64\n",
      "x0_Severnoe                              30471 non-null float64\n",
      "x0_Severnoe Butovo                       30471 non-null float64\n",
      "x0_Severnoe Izmajlovo                    30471 non-null float64\n",
      "x0_Severnoe Medvedkovo                   30471 non-null float64\n",
      "x0_Severnoe Tushino                      30471 non-null float64\n",
      "x0_Shhukino                              30471 non-null float64\n",
      "x0_Silino                                30471 non-null float64\n",
      "x0_Sokol                                 30471 non-null float64\n",
      "x0_Sokol'niki                            30471 non-null float64\n",
      "x0_Sokolinaja Gora                       30471 non-null float64\n",
      "x0_Solncevo                              30471 non-null float64\n",
      "x0_Staroe Krjukovo                       30471 non-null float64\n",
      "x0_Strogino                              30471 non-null float64\n",
      "x0_Sviblovo                              30471 non-null float64\n",
      "x0_Taganskoe                             30471 non-null float64\n",
      "x0_Tekstil'shhiki                        30471 non-null float64\n",
      "x0_Teplyj Stan                           30471 non-null float64\n",
      "x0_Timirjazevskoe                        30471 non-null float64\n",
      "x0_Troickij okrug                        30471 non-null float64\n",
      "x0_Troparevo-Nikulino                    30471 non-null float64\n",
      "x0_Tverskoe                              30471 non-null float64\n",
      "x0_Veshnjaki                             30471 non-null float64\n",
      "x0_Vnukovo                               30471 non-null float64\n",
      "x0_Vojkovskoe                            30471 non-null float64\n",
      "x0_Vostochnoe                            30471 non-null float64\n",
      "x0_Vostochnoe Degunino                   30471 non-null float64\n",
      "x0_Vostochnoe Izmajlovo                  30471 non-null float64\n",
      "x0_Vyhino-Zhulebino                      30471 non-null float64\n",
      "x0_Zamoskvorech'e                        30471 non-null float64\n",
      "x0_Zapadnoe Degunino                     30471 non-null float64\n",
      "x0_Zjablikovo                            30471 non-null float64\n",
      "x0_Zjuzino                               30471 non-null float64\n",
      "x1_Investment                            30471 non-null float64\n",
      "x1_OwnerOccupier                         30471 non-null float64\n",
      "culture_objects_top_25                   30471 non-null float64\n",
      "thermal_power_plant_raion                30471 non-null float64\n",
      "incineration_raion                       30471 non-null float64\n",
      "radiation_raion                          30471 non-null float64\n",
      "big_market_raion                         30471 non-null float64\n",
      "detention_facility_raion                 30471 non-null float64\n",
      "water_1line                              30471 non-null float64\n",
      "ecology                                  30471 non-null float64\n",
      "dtypes: datetime64[ns](1), float64(249), int64(1)\n",
      "memory usage: 58.4 MB\n"
     ]
    }
   ],
   "source": [
    "df.info(verbose=True, null_counts=True)"
   ]
  },
  {
   "cell_type": "markdown",
   "metadata": {},
   "source": [
    "<hr style=\"border: solid rgb(0,0,0) 0.0px; background-color: rgb(0,0,0);height: 2.0px;\"/>\n",
    "\n",
    "<font color='black' size=5>\n",
    "    Modeling\n",
    "</font>"
   ]
  },
  {
   "cell_type": "code",
   "execution_count": 68,
   "metadata": {},
   "outputs": [],
   "source": [
    "import xgboost as xgb\n",
    "\n",
    "from sklearn.model_selection import train_test_split\n",
    "from sklearn import metrics\n",
    "from sklearn import model_selection, preprocessing\n",
    "\n",
    "from sklearn.linear_model import LinearRegression"
   ]
  },
  {
   "cell_type": "code",
   "execution_count": 69,
   "metadata": {},
   "outputs": [],
   "source": [
    "stasca = StandardScaler()"
   ]
  },
  {
   "cell_type": "code",
   "execution_count": 70,
   "metadata": {},
   "outputs": [],
   "source": [
    "df_targ['price_doc_'] = stasca.fit_transform(df_targ['price_doc'].values.reshape(-1, 1))"
   ]
  },
  {
   "cell_type": "code",
   "execution_count": 71,
   "metadata": {},
   "outputs": [
    {
     "data": {
      "text/html": [
       "<div>\n",
       "<style scoped>\n",
       "    .dataframe tbody tr th:only-of-type {\n",
       "        vertical-align: middle;\n",
       "    }\n",
       "\n",
       "    .dataframe tbody tr th {\n",
       "        vertical-align: top;\n",
       "    }\n",
       "\n",
       "    .dataframe thead th {\n",
       "        text-align: right;\n",
       "    }\n",
       "</style>\n",
       "<table border=\"1\" class=\"dataframe\">\n",
       "  <thead>\n",
       "    <tr style=\"text-align: right;\">\n",
       "      <th></th>\n",
       "      <th>id</th>\n",
       "      <th>price_doc</th>\n",
       "      <th>price_doc_</th>\n",
       "    </tr>\n",
       "  </thead>\n",
       "  <tbody>\n",
       "    <tr>\n",
       "      <th>0</th>\n",
       "      <td>1</td>\n",
       "      <td>5850000</td>\n",
       "      <td>-0.266324</td>\n",
       "    </tr>\n",
       "    <tr>\n",
       "      <th>1</th>\n",
       "      <td>2</td>\n",
       "      <td>6000000</td>\n",
       "      <td>-0.234943</td>\n",
       "    </tr>\n",
       "    <tr>\n",
       "      <th>2</th>\n",
       "      <td>3</td>\n",
       "      <td>5700000</td>\n",
       "      <td>-0.297704</td>\n",
       "    </tr>\n",
       "    <tr>\n",
       "      <th>3</th>\n",
       "      <td>4</td>\n",
       "      <td>13100000</td>\n",
       "      <td>1.250402</td>\n",
       "    </tr>\n",
       "    <tr>\n",
       "      <th>4</th>\n",
       "      <td>5</td>\n",
       "      <td>16331452</td>\n",
       "      <td>1.926434</td>\n",
       "    </tr>\n",
       "  </tbody>\n",
       "</table>\n",
       "</div>"
      ],
      "text/plain": [
       "   id  price_doc  price_doc_\n",
       "0   1    5850000   -0.266324\n",
       "1   2    6000000   -0.234943\n",
       "2   3    5700000   -0.297704\n",
       "3   4   13100000    1.250402\n",
       "4   5   16331452    1.926434"
      ]
     },
     "execution_count": 71,
     "metadata": {},
     "output_type": "execute_result"
    }
   ],
   "source": [
    "df_targ.head()"
   ]
  },
  {
   "cell_type": "code",
   "execution_count": 72,
   "metadata": {},
   "outputs": [],
   "source": [
    "id_list = get_peak_ids(df_targ)"
   ]
  },
  {
   "cell_type": "code",
   "execution_count": 75,
   "metadata": {},
   "outputs": [
    {
     "data": {
      "text/plain": [
       "dtype('int64')"
      ]
     },
     "execution_count": 75,
     "metadata": {},
     "output_type": "execute_result"
    }
   ],
   "source": [
    "df_targ.id.dtypes"
   ]
  },
  {
   "cell_type": "code",
   "execution_count": 76,
   "metadata": {},
   "outputs": [],
   "source": [
    "id_list = list(map(int, id_list))"
   ]
  },
  {
   "cell_type": "code",
   "execution_count": 79,
   "metadata": {},
   "outputs": [],
   "source": [
    "df_targ = df_targ[df_targ['id'].isin(id_list)].copy()\n",
    "#df_idtarg['price_doc'] = stasca.fit_transform(df_idtarg['price_doc'].values.reshape(-1, 1))"
   ]
  },
  {
   "cell_type": "code",
   "execution_count": 81,
   "metadata": {},
   "outputs": [
    {
     "data": {
      "text/plain": [
       "(26238, 3)"
      ]
     },
     "execution_count": 81,
     "metadata": {},
     "output_type": "execute_result"
    }
   ],
   "source": [
    "df_targ.shape"
   ]
  },
  {
   "cell_type": "code",
   "execution_count": 82,
   "metadata": {},
   "outputs": [
    {
     "data": {
      "text/html": [
       "<div>\n",
       "<style scoped>\n",
       "    .dataframe tbody tr th:only-of-type {\n",
       "        vertical-align: middle;\n",
       "    }\n",
       "\n",
       "    .dataframe tbody tr th {\n",
       "        vertical-align: top;\n",
       "    }\n",
       "\n",
       "    .dataframe thead th {\n",
       "        text-align: right;\n",
       "    }\n",
       "</style>\n",
       "<table border=\"1\" class=\"dataframe\">\n",
       "  <thead>\n",
       "    <tr style=\"text-align: right;\">\n",
       "      <th></th>\n",
       "      <th>id</th>\n",
       "      <th>price_doc</th>\n",
       "      <th>price_doc_</th>\n",
       "    </tr>\n",
       "  </thead>\n",
       "  <tbody>\n",
       "    <tr>\n",
       "      <th>0</th>\n",
       "      <td>1</td>\n",
       "      <td>5850000</td>\n",
       "      <td>-0.266324</td>\n",
       "    </tr>\n",
       "    <tr>\n",
       "      <th>1</th>\n",
       "      <td>2</td>\n",
       "      <td>6000000</td>\n",
       "      <td>-0.234943</td>\n",
       "    </tr>\n",
       "    <tr>\n",
       "      <th>2</th>\n",
       "      <td>3</td>\n",
       "      <td>5700000</td>\n",
       "      <td>-0.297704</td>\n",
       "    </tr>\n",
       "    <tr>\n",
       "      <th>3</th>\n",
       "      <td>4</td>\n",
       "      <td>13100000</td>\n",
       "      <td>1.250402</td>\n",
       "    </tr>\n",
       "    <tr>\n",
       "      <th>4</th>\n",
       "      <td>5</td>\n",
       "      <td>16331452</td>\n",
       "      <td>1.926434</td>\n",
       "    </tr>\n",
       "  </tbody>\n",
       "</table>\n",
       "</div>"
      ],
      "text/plain": [
       "   id  price_doc  price_doc_\n",
       "0   1    5850000   -0.266324\n",
       "1   2    6000000   -0.234943\n",
       "2   3    5700000   -0.297704\n",
       "3   4   13100000    1.250402\n",
       "4   5   16331452    1.926434"
      ]
     },
     "execution_count": 82,
     "metadata": {},
     "output_type": "execute_result"
    }
   ],
   "source": [
    "df_targ.head()"
   ]
  },
  {
   "cell_type": "code",
   "execution_count": 83,
   "metadata": {},
   "outputs": [
    {
     "data": {
      "text/plain": [
       "(26238, 251)"
      ]
     },
     "execution_count": 83,
     "metadata": {},
     "output_type": "execute_result"
    }
   ],
   "source": [
    "df[df['id'].isin(id_list)].shape"
   ]
  },
  {
   "cell_type": "code",
   "execution_count": 87,
   "metadata": {},
   "outputs": [],
   "source": [
    "'''train, test, y_train, y_test = train_test_split(df.drop([\"id\", \"timestamp\"], axis=1), \n",
    "                                                df_targ, random_state=10, test_size=0.25)\n",
    "'''\n",
    "train, test, y_train, y_test = train_test_split(df[df['id'].isin(id_list)].drop([\"id\", \"timestamp\"], axis=1), \n",
    "                                                df_targ.drop([\"id\",\"price_doc\"], axis=1), random_state=10, test_size=0.25)"
   ]
  },
  {
   "cell_type": "code",
   "execution_count": 88,
   "metadata": {},
   "outputs": [],
   "source": [
    "xgb_params = {\n",
    "    'eta': 0.05,\n",
    "    'max_depth': 10,\n",
    "    'subsample': 0.7,\n",
    "    'colsample_bytree': 0.7,\n",
    "    #'objective': 'reg:linear',\n",
    "    # 'objective':'reg:squarederror', 'n_jobs':-1, #for the feature importance\n",
    "    'eval_metric': 'rmse',\n",
    "    'silent': 1\n",
    "}\n",
    "\n",
    "model = xgb.XGBRegressor(**xgb_params)\n",
    "model.fit(train,y_train)\n",
    "predictions = model.predict(test)"
   ]
  },
  {
   "cell_type": "markdown",
   "metadata": {},
   "source": [
    "## Evaluation"
   ]
  },
  {
   "cell_type": "markdown",
   "metadata": {},
   "source": [
    "### Errors"
   ]
  },
  {
   "cell_type": "code",
   "execution_count": 90,
   "metadata": {},
   "outputs": [
    {
     "data": {
      "text/plain": [
       "(-1.4270492341707273, -1.0465661)"
      ]
     },
     "execution_count": 90,
     "metadata": {},
     "output_type": "execute_result"
    }
   ],
   "source": [
    "y_test.price_doc_.min(), predictions.min()"
   ]
  },
  {
   "cell_type": "code",
   "execution_count": 91,
   "metadata": {
    "scrolled": true
   },
   "outputs": [
    {
     "name": "stdout",
     "output_type": "stream",
     "text": [
      "1.4270492341707273\n",
      "RMSLE: 0.154526\n"
     ]
    }
   ],
   "source": [
    "# Need an offset since \n",
    "#   Mean Squared Logarithmic Error cannot be used when targets contain negative values.\n",
    "offset = abs(min(y_test.price_doc_.min(), predictions.min()))\n",
    "print(offset)\n",
    "rmsle = np.sqrt(metrics.mean_squared_log_error(y_test+offset, predictions+offset))\n",
    "print(\"RMSLE: %f\" % (rmsle))"
   ]
  },
  {
   "cell_type": "markdown",
   "metadata": {},
   "source": [
    "Before 14.05.2020\n",
    "```\n",
    "1.4720281209972588\n",
    "RMSLE: 0.218097\n",
    "```\n",
    "\n",
    "14.05.2020\n",
    "```\n",
    "1.4357715590882796\n",
    "RMSLE: 0.217262\n",
    "```\n",
    "\n",
    "19.05.2020, dropped the 'sub_area' feature\n",
    "```\n",
    "1.4357715590882796\n",
    "RMSLE: 0.218165\n",
    "```\n",
    "\n",
    "19.05.2020, dropped rows with distribution spikes\n",
    "```\n",
    "1.4270492341707273\n",
    "RMSLE: 0.154526\n",
    "```"
   ]
  },
  {
   "cell_type": "code",
   "execution_count": 92,
   "metadata": {},
   "outputs": [
    {
     "data": {
      "text/plain": [
       "[<matplotlib.lines.Line2D at 0x7ff8705a1dd8>]"
      ]
     },
     "execution_count": 92,
     "metadata": {},
     "output_type": "execute_result"
    },
    {
     "data": {
      "image/png": "[encoded data removed]",
      "text/plain": [
       "<Figure size 1152x720 with 1 Axes>"
      ]
     },
     "metadata": {
      "needs_background": "light"
     },
     "output_type": "display_data"
    }
   ],
   "source": [
    "offsets = np.arange(1.5,11.0, 0.5)\n",
    "errors = []\n",
    "for x in offsets:\n",
    "    rmsle = np.sqrt(metrics.mean_squared_log_error(y_test+x, predictions+x))\n",
    "    errors.append(rmsle)\n",
    "errors = np.array(errors)\n",
    "\n",
    "plt.figure(figsize=[16,10])\n",
    "plt.plot(offsets, errors, 'o-')"
   ]
  },
  {
   "cell_type": "markdown",
   "metadata": {},
   "source": [
    "### Distributions"
   ]
  },
  {
   "cell_type": "code",
   "execution_count": 93,
   "metadata": {},
   "outputs": [
    {
     "data": {
      "text/plain": [
       "array([-0.52425504, -0.30524182, -0.26566297, ...,  0.02113199,\n",
       "        0.08848396, -0.21126199], dtype=float32)"
      ]
     },
     "execution_count": 93,
     "metadata": {},
     "output_type": "execute_result"
    }
   ],
   "source": [
    "predictions"
   ]
  },
  {
   "cell_type": "code",
   "execution_count": 94,
   "metadata": {},
   "outputs": [],
   "source": [
    "bin_width = 0.1\n",
    "bins=np.arange(-2,12 + bin_width, bin_width)\n",
    "hist_train, _ = np.histogram(y_train, bins=bins)\n",
    "hist_test, _ = np.histogram(y_test, bins=bins)\n",
    "hist_pred, _ = np.histogram(predictions, bins=bins)"
   ]
  },
  {
   "cell_type": "code",
   "execution_count": 95,
   "metadata": {},
   "outputs": [
    {
     "data": {
      "image/png": "[encoded data removed]",
      "text/plain": [
       "<Figure size 1152x720 with 1 Axes>"
      ]
     },
     "metadata": {
      "needs_background": "light"
     },
     "output_type": "display_data"
    }
   ],
   "source": [
    "fig, ax = plt.subplots(1,1,figsize=[16,10])\n",
    "\n",
    "ax.bar( x=bins[:-1],height=hist_train, width=bin_width, label='train', alpha=0.5)\n",
    "ax.bar( x=bins[:-1],height=hist_test, width=bin_width, label='test', alpha=0.5)\n",
    "ax.bar( x=bins[:-1],height=hist_pred, width=bin_width, label='pred', alpha=0.5)\n",
    "ax.legend();"
   ]
  },
  {
   "cell_type": "code",
   "execution_count": 96,
   "metadata": {},
   "outputs": [],
   "source": [
    "hist_train, _ = np.histogram(y_train, bins=bins, density=True)\n",
    "hist_test, _ = np.histogram(y_test, bins=bins, density=True)\n",
    "hist_pred, _ = np.histogram(predictions, bins=bins, density=True)"
   ]
  },
  {
   "cell_type": "code",
   "execution_count": 97,
   "metadata": {},
   "outputs": [
    {
     "data": {
      "image/png": "[encoded data removed]",
      "text/plain": [
       "<Figure size 1152x720 with 1 Axes>"
      ]
     },
     "metadata": {
      "needs_background": "light"
     },
     "output_type": "display_data"
    }
   ],
   "source": [
    "fig, ax = plt.subplots(1,1,figsize=[16,10])\n",
    "\n",
    "ax.bar( x=bins[:-1],height=hist_train, width=bin_width, label='train', alpha=0.5)\n",
    "ax.bar( x=bins[:-1],height=hist_test, width=bin_width, label='test', alpha=0.5)\n",
    "ax.bar( x=bins[:-1],height=hist_pred, width=bin_width, label='pred', alpha=0.5)\n",
    "ax.legend();"
   ]
  },
  {
   "cell_type": "code",
   "execution_count": 98,
   "metadata": {},
   "outputs": [
    {
     "data": {
      "image/png": "[encoded data removed]",
      "text/plain": [
       "<Figure size 1152x720 with 2 Axes>"
      ]
     },
     "metadata": {
      "needs_background": "light"
     },
     "output_type": "display_data"
    }
   ],
   "source": [
    "fig, ax = plt.subplots(2,1,figsize=[16,10])\n",
    "\n",
    "ax =ax.reshape(2)\n",
    "\n",
    "ax[0].plot( bins[:-1], hist_train, 'X:', label='train', alpha=0.95)\n",
    "ax[0].plot( bins[:-1], hist_test,  'P-.', label='test',  alpha=0.95)\n",
    "ax[0].plot( bins[:-1], hist_pred,  '.:', label='pred',  alpha=0.95)\n",
    "ax[0].set_xlim(-2.0,5.5)\n",
    "\n",
    "ax[1].plot( bins[:-1], hist_train, 'X:', label='train', alpha=0.95)\n",
    "ax[1].plot( bins[:-1], hist_test,  'P-.', label='test',  alpha=0.95)\n",
    "ax[1].plot( bins[:-1], hist_pred,  '.:', label='pred',  alpha=0.95)\n",
    "ax[1].set_yscale('log')\n",
    "ax[1].set_xlim(-2.0,5.5)\n",
    "ax[1].legend();"
   ]
  }
 ],
 "metadata": {
  "kernelspec": {
   "display_name": "Python 3",
   "language": "python",
   "name": "python3"
  },
  "language_info": {
   "codemirror_mode": {
    "name": "ipython",
    "version": 3
   },
   "file_extension": ".py",
   "mimetype": "text/x-python",
   "name": "python",
   "nbconvert_exporter": "python",
   "pygments_lexer": "ipython3",
   "version": "3.6.9"
  },
  "toc": {
   "nav_menu": {},
   "number_sections": true,
   "sideBar": true,
   "skip_h1_title": false,
   "title_cell": "Table of Contents",
   "title_sidebar": "Contents",
   "toc_cell": false,
   "toc_position": {},
   "toc_section_display": true,
   "toc_window_display": false
  }
 },
 "nbformat": 4,
 "nbformat_minor": 2
}
