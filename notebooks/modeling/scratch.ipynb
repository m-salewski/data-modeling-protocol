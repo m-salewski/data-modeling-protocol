{
 "cells": [
  {
   "cell_type": "code",
   "execution_count": 1,
   "metadata": {},
   "outputs": [],
   "source": [
    "import numpy as np"
   ]
  },
  {
   "cell_type": "code",
   "execution_count": 2,
   "metadata": {},
   "outputs": [],
   "source": [
    "arr = np.array([[0.56235599, 0.55436795, 0.54351341, 0.55013458, 0.49835918],\n",
    "[0.56025795, 0.53895065, 0.52990379, 0.52790068, 0.48509939],\n",
    "[0.5571593, 0.53638571, 0.51757359, 0.52506484, 0.48935352],\n",
    "[0.56045551, 0.5589107, 0.53130591, 0.53865928, 0.48276499],\n",
    "[0.55996603, 0.5417227, 0.51663691, 0.52770425, 0.49028224],\n",
    "[0.55871529, 0.5388298, 0.52046872, 0.53124797, 0.49394451],\n",
    "[0.56158605, 0.56168899, 0.53197282, 0.5456208, 0.4915766 ],\n",
    "[0.56352035, 0.5566814, 0.53096254, 0.52834747, 0.49521299],\n",
    "[0.56345494, 0.55712817, 0.52977254, 0.53255232, 0.49234366]])"
   ]
  },
  {
   "cell_type": "code",
   "execution_count": 3,
   "metadata": {},
   "outputs": [
    {
     "data": {
      "text/plain": [
       "array([[0.56235599, 0.55436795, 0.54351341, 0.55013458, 0.49835918],\n",
       "       [0.56025795, 0.53895065, 0.52990379, 0.52790068, 0.48509939],\n",
       "       [0.5571593 , 0.53638571, 0.51757359, 0.52506484, 0.48935352],\n",
       "       [0.56045551, 0.5589107 , 0.53130591, 0.53865928, 0.48276499],\n",
       "       [0.55996603, 0.5417227 , 0.51663691, 0.52770425, 0.49028224],\n",
       "       [0.55871529, 0.5388298 , 0.52046872, 0.53124797, 0.49394451],\n",
       "       [0.56158605, 0.56168899, 0.53197282, 0.5456208 , 0.4915766 ],\n",
       "       [0.56352035, 0.5566814 , 0.53096254, 0.52834747, 0.49521299],\n",
       "       [0.56345494, 0.55712817, 0.52977254, 0.53255232, 0.49234366]])"
      ]
     },
     "execution_count": 3,
     "metadata": {},
     "output_type": "execute_result"
    }
   ],
   "source": [
    "arr"
   ]
  },
  {
   "cell_type": "code",
   "execution_count": 11,
   "metadata": {},
   "outputs": [],
   "source": [
    "from sklearn.model_selection import cross_val_score, cross_validate, cross_val_predict\n",
    "from sklearn.model_selection import KFold, train_test_split\n"
   ]
  },
  {
   "cell_type": "code",
   "execution_count": 7,
   "metadata": {},
   "outputs": [
    {
     "ename": "TypeError",
     "evalue": "cross_validate() missing 2 required positional arguments: 'estimator' and 'X'",
     "output_type": "error",
     "traceback": [
      "\u001b[0;31m---------------------------------------------------------------------------\u001b[0m",
      "\u001b[0;31mTypeError\u001b[0m                                 Traceback (most recent call last)",
      "\u001b[0;32m<ipython-input-7-c745fe6c9706>\u001b[0m in \u001b[0;36m<module>\u001b[0;34m\u001b[0m\n\u001b[0;32m----> 1\u001b[0;31m \u001b[0mcross_validate\u001b[0m\u001b[0;34m(\u001b[0m\u001b[0;34m)\u001b[0m\u001b[0;34m\u001b[0m\u001b[0;34m\u001b[0m\u001b[0m\n\u001b[0m",
      "\u001b[0;31mTypeError\u001b[0m: cross_validate() missing 2 required positional arguments: 'estimator' and 'X'"
     ]
    }
   ],
   "source": [
    "cross_validate()"
   ]
  },
  {
   "cell_type": "code",
   "execution_count": 9,
   "metadata": {},
   "outputs": [
    {
     "data": {
      "text/plain": [
       "0.37416573867739417"
      ]
     },
     "execution_count": 9,
     "metadata": {},
     "output_type": "execute_result"
    }
   ],
   "source": [
    "np.sqrt(0.14)"
   ]
  },
  {
   "cell_type": "code",
   "execution_count": null,
   "metadata": {},
   "outputs": [],
   "source": [
    "from numpy.linalg import "
   ]
  },
  {
   "cell_type": "code",
   "execution_count": 12,
   "metadata": {},
   "outputs": [],
   "source": [
    "def is_invertible(a):\n",
    "    return a.shape[0] == a.shape[1] and np.linalg.matrix_rank(a) == a.shape[0]"
   ]
  },
  {
   "cell_type": "code",
   "execution_count": 14,
   "metadata": {},
   "outputs": [],
   "source": [
    "M = np.random.randint(-10,10, size=[2,4])"
   ]
  },
  {
   "cell_type": "code",
   "execution_count": 23,
   "metadata": {},
   "outputs": [],
   "source": [
    "MM = np.dot(M.transpose(),M)"
   ]
  },
  {
   "cell_type": "code",
   "execution_count": 27,
   "metadata": {},
   "outputs": [
    {
     "data": {
      "text/plain": [
       "array([[ 49, -28,  42,  63],\n",
       "       [-28,  17, -30, -34],\n",
       "       [ 42, -30,  72,  42],\n",
       "       [ 63, -34,  42,  85]])"
      ]
     },
     "execution_count": 27,
     "metadata": {},
     "output_type": "execute_result"
    }
   ],
   "source": [
    "MM"
   ]
  },
  {
   "cell_type": "code",
   "execution_count": 24,
   "metadata": {},
   "outputs": [
    {
     "data": {
      "text/plain": [
       "False"
      ]
     },
     "execution_count": 24,
     "metadata": {},
     "output_type": "execute_result"
    }
   ],
   "source": [
    "is_invertible(MM)"
   ]
  },
  {
   "cell_type": "code",
   "execution_count": 26,
   "metadata": {},
   "outputs": [
    {
     "data": {
      "text/plain": [
       "2"
      ]
     },
     "execution_count": 26,
     "metadata": {},
     "output_type": "execute_result"
    }
   ],
   "source": [
    "np.linalg.matrix_rank(MM)"
   ]
  },
  {
   "cell_type": "code",
   "execution_count": null,
   "metadata": {},
   "outputs": [],
   "source": []
  }
 ],
 "metadata": {
  "kernelspec": {
   "display_name": "Python 3",
   "language": "python",
   "name": "python3"
  },
  "language_info": {
   "codemirror_mode": {
    "name": "ipython",
    "version": 3
   },
   "file_extension": ".py",
   "mimetype": "text/x-python",
   "name": "python",
   "nbconvert_exporter": "python",
   "pygments_lexer": "ipython3",
   "version": "3.6.9"
  },
  "toc": {
   "nav_menu": {},
   "number_sections": true,
   "sideBar": true,
   "skip_h1_title": false,
   "title_cell": "Table of Contents",
   "title_sidebar": "Contents",
   "toc_cell": false,
   "toc_position": {},
   "toc_section_display": true,
   "toc_window_display": false
  }
 },
 "nbformat": 4,
 "nbformat_minor": 2
}
