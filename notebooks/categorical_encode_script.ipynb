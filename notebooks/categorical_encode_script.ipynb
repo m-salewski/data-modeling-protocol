{
 "cells": [
  {
   "cell_type": "code",
   "execution_count": 1,
   "metadata": {},
   "outputs": [
    {
     "data": {
      "text/html": [
       "<style>.container { width:100% !important; }</style>"
      ],
      "text/plain": [
       "<IPython.core.display.HTML object>"
      ]
     },
     "metadata": {},
     "output_type": "display_data"
    }
   ],
   "source": [
    "from IPython.core.display import display, HTML\n",
    "display(HTML(\"<style>.container { width:100% !important; }</style>\"))"
   ]
  },
  {
   "cell_type": "markdown",
   "metadata": {},
   "source": [
    "<font size=6>\n",
    "    Sberbank Russian Housing Market\n",
    "</font>\n",
    "\n",
    "<hr style=\"border: solid rgb(255,0,0) 0.0px; background-color: rgb(255,0,0);height: 2.0px;\"/>\n",
    "<font color='red' size=5>\n",
    "    Summary: Feature Engineering with categorical data\n",
    "    \n",
    "</font>\n",
    "<hr style=\"border: solid rgb(255,0,0) 0.0px; background-color: rgb(255,0,0);height: 2.0px;\"/>\n",
    "\n",
    "1. The categorical columns are inspected.\n",
    "    * 15 cols\n",
    "    * `product_type` contains two non-ordinal labels\n",
    "        * `'Investment', 'OwnerOccupier'`\n",
    "    * `sub_area` contains 146 non-ordinal labels\n",
    "        * regions in the city\n",
    "    * `ecology` contiain 4 ordinal labels and 1 'no data'\n",
    "        * 'no data' $\\to$ `np.NaN` but _after_ encoding\n",
    "            * `OrdinalEncoder` fails with NANs\n",
    "    * the rest are \"yes/no\" labels\n",
    "2. All columns are are converted to ordinal arrays\n",
    "    * \"yes/no\"$\\to$\"1/0\", \n",
    "    * `ecology = ['poor'...'excellent']` $\\to$ `[0,...,3]` \n",
    "    * the rest are arbitrary"
   ]
  },
  {
   "cell_type": "code",
   "execution_count": 1,
   "metadata": {},
   "outputs": [],
   "source": [
    "import numpy as np # linear algebra\n",
    "import pandas as pd # data processing, CSV file I/O (e.g. pd.read_csv)"
   ]
  },
  {
   "cell_type": "code",
   "execution_count": 2,
   "metadata": {},
   "outputs": [
    {
     "name": "stdout",
     "output_type": "stream",
     "text": [
      "../../datasets/sberbank-russian-housing-market/sample_submission.csv\n",
      "../../datasets/sberbank-russian-housing-market/macro.csv\n",
      "../../datasets/sberbank-russian-housing-market/test.csv\n",
      "../../datasets/sberbank-russian-housing-market/data_dictionary.txt\n",
      "../../datasets/sberbank-russian-housing-market/train.csv\n",
      "../../datasets/sberbank-russian-housing-market/sberbank-russian-housing-market.zip\n",
      "../../datasets/sberbank-russian-housing-market/__MACOSX/._test.csv\n",
      "../../datasets/sberbank-russian-housing-market/__MACOSX/._train.csv\n"
     ]
    }
   ],
   "source": [
    "# Input data files are available in the \"../input/\" directory.\n",
    "# For example, running this (by clicking run or pressing Shift+Enter) will list all files under the input directory\n",
    "\n",
    "import os\n",
    "for dirname, _, filenames in os.walk('../../datasets/sberbank-russian-housing-market/'):\n",
    "    for filename in filenames:\n",
    "        print(os.path.join(dirname, filename))"
   ]
  },
  {
   "cell_type": "markdown",
   "metadata": {},
   "source": [
    "## Load the data"
   ]
  },
  {
   "cell_type": "code",
   "execution_count": 3,
   "metadata": {},
   "outputs": [],
   "source": [
    "df = pd.read_csv('../../datasets/sberbank-russian-housing-market/train.csv', \\\n",
    "                 infer_datetime_format=True, parse_dates=['timestamp'])"
   ]
  },
  {
   "cell_type": "code",
   "execution_count": 4,
   "metadata": {},
   "outputs": [
    {
     "data": {
      "text/plain": [
       "(30471, 292)"
      ]
     },
     "execution_count": 4,
     "metadata": {},
     "output_type": "execute_result"
    }
   ],
   "source": [
    "df.shape"
   ]
  },
  {
   "cell_type": "code",
   "execution_count": 29,
   "metadata": {
    "scrolled": true
   },
   "outputs": [],
   "source": [
    "string_cols = df.select_dtypes('object').columns.tolist()"
   ]
  },
  {
   "cell_type": "code",
   "execution_count": 30,
   "metadata": {},
   "outputs": [
    {
     "data": {
      "text/plain": [
       "['id',\n",
       " 'product_type',\n",
       " 'sub_area',\n",
       " 'culture_objects_top_25',\n",
       " 'thermal_power_plant_raion',\n",
       " 'incineration_raion',\n",
       " 'oil_chemistry_raion',\n",
       " 'radiation_raion',\n",
       " 'railroad_terminal_raion',\n",
       " 'big_market_raion',\n",
       " 'nuclear_reactor_raion',\n",
       " 'detention_facility_raion',\n",
       " 'water_1line',\n",
       " 'big_road1_1line',\n",
       " 'railroad_1line',\n",
       " 'ecology']"
      ]
     },
     "execution_count": 30,
     "metadata": {},
     "output_type": "execute_result"
    }
   ],
   "source": [
    "['id'] + string_cols"
   ]
  },
  {
   "cell_type": "markdown",
   "metadata": {},
   "source": [
    "#### Encoding"
   ]
  },
  {
   "cell_type": "code",
   "execution_count": 13,
   "metadata": {},
   "outputs": [],
   "source": [
    "import importlib\n",
    "import os, sys"
   ]
  },
  {
   "cell_type": "code",
   "execution_count": 14,
   "metadata": {},
   "outputs": [],
   "source": [
    "sys.path.append('./helpers/')"
   ]
  },
  {
   "cell_type": "code",
   "execution_count": 42,
   "metadata": {},
   "outputs": [],
   "source": [
    "import categorical_encoding\n",
    "\n",
    "importlib.reload(categorical_encoding)\n",
    "\n",
    "from categorical_encoding import get_cat_encoding;"
   ]
  },
  {
   "cell_type": "markdown",
   "metadata": {},
   "source": [
    "1. Copy the data"
   ]
  },
  {
   "cell_type": "code",
   "execution_count": 43,
   "metadata": {},
   "outputs": [],
   "source": [
    "df_string_cols = df[['id'] + string_cols].copy()"
   ]
  },
  {
   "cell_type": "markdown",
   "metadata": {},
   "source": [
    "2. data inspection"
   ]
  },
  {
   "cell_type": "code",
   "execution_count": 44,
   "metadata": {},
   "outputs": [
    {
     "data": {
      "text/html": [
       "<div>\n",
       "<style scoped>\n",
       "    .dataframe tbody tr th:only-of-type {\n",
       "        vertical-align: middle;\n",
       "    }\n",
       "\n",
       "    .dataframe tbody tr th {\n",
       "        vertical-align: top;\n",
       "    }\n",
       "\n",
       "    .dataframe thead th {\n",
       "        text-align: right;\n",
       "    }\n",
       "</style>\n",
       "<table border=\"1\" class=\"dataframe\">\n",
       "  <thead>\n",
       "    <tr style=\"text-align: right;\">\n",
       "      <th></th>\n",
       "      <th>id</th>\n",
       "      <th>product_type</th>\n",
       "      <th>sub_area</th>\n",
       "      <th>culture_objects_top_25</th>\n",
       "      <th>thermal_power_plant_raion</th>\n",
       "      <th>incineration_raion</th>\n",
       "      <th>oil_chemistry_raion</th>\n",
       "      <th>radiation_raion</th>\n",
       "      <th>railroad_terminal_raion</th>\n",
       "      <th>big_market_raion</th>\n",
       "      <th>nuclear_reactor_raion</th>\n",
       "      <th>detention_facility_raion</th>\n",
       "      <th>water_1line</th>\n",
       "      <th>big_road1_1line</th>\n",
       "      <th>railroad_1line</th>\n",
       "      <th>ecology</th>\n",
       "    </tr>\n",
       "  </thead>\n",
       "  <tbody>\n",
       "    <tr>\n",
       "      <th>0</th>\n",
       "      <td>1</td>\n",
       "      <td>Investment</td>\n",
       "      <td>Bibirevo</td>\n",
       "      <td>no</td>\n",
       "      <td>no</td>\n",
       "      <td>no</td>\n",
       "      <td>no</td>\n",
       "      <td>no</td>\n",
       "      <td>no</td>\n",
       "      <td>no</td>\n",
       "      <td>no</td>\n",
       "      <td>no</td>\n",
       "      <td>no</td>\n",
       "      <td>no</td>\n",
       "      <td>no</td>\n",
       "      <td>good</td>\n",
       "    </tr>\n",
       "    <tr>\n",
       "      <th>1</th>\n",
       "      <td>2</td>\n",
       "      <td>Investment</td>\n",
       "      <td>Nagatinskij Zaton</td>\n",
       "      <td>yes</td>\n",
       "      <td>no</td>\n",
       "      <td>no</td>\n",
       "      <td>no</td>\n",
       "      <td>no</td>\n",
       "      <td>no</td>\n",
       "      <td>no</td>\n",
       "      <td>no</td>\n",
       "      <td>no</td>\n",
       "      <td>no</td>\n",
       "      <td>no</td>\n",
       "      <td>no</td>\n",
       "      <td>excellent</td>\n",
       "    </tr>\n",
       "    <tr>\n",
       "      <th>2</th>\n",
       "      <td>3</td>\n",
       "      <td>Investment</td>\n",
       "      <td>Tekstil'shhiki</td>\n",
       "      <td>no</td>\n",
       "      <td>no</td>\n",
       "      <td>no</td>\n",
       "      <td>no</td>\n",
       "      <td>yes</td>\n",
       "      <td>no</td>\n",
       "      <td>no</td>\n",
       "      <td>no</td>\n",
       "      <td>no</td>\n",
       "      <td>no</td>\n",
       "      <td>no</td>\n",
       "      <td>no</td>\n",
       "      <td>poor</td>\n",
       "    </tr>\n",
       "    <tr>\n",
       "      <th>3</th>\n",
       "      <td>4</td>\n",
       "      <td>Investment</td>\n",
       "      <td>Mitino</td>\n",
       "      <td>no</td>\n",
       "      <td>no</td>\n",
       "      <td>no</td>\n",
       "      <td>no</td>\n",
       "      <td>no</td>\n",
       "      <td>no</td>\n",
       "      <td>no</td>\n",
       "      <td>no</td>\n",
       "      <td>no</td>\n",
       "      <td>no</td>\n",
       "      <td>no</td>\n",
       "      <td>no</td>\n",
       "      <td>good</td>\n",
       "    </tr>\n",
       "    <tr>\n",
       "      <th>4</th>\n",
       "      <td>5</td>\n",
       "      <td>Investment</td>\n",
       "      <td>Basmannoe</td>\n",
       "      <td>no</td>\n",
       "      <td>no</td>\n",
       "      <td>no</td>\n",
       "      <td>no</td>\n",
       "      <td>yes</td>\n",
       "      <td>yes</td>\n",
       "      <td>no</td>\n",
       "      <td>no</td>\n",
       "      <td>no</td>\n",
       "      <td>no</td>\n",
       "      <td>no</td>\n",
       "      <td>yes</td>\n",
       "      <td>excellent</td>\n",
       "    </tr>\n",
       "  </tbody>\n",
       "</table>\n",
       "</div>"
      ],
      "text/plain": [
       "   id product_type           sub_area culture_objects_top_25  \\\n",
       "0   1   Investment           Bibirevo                     no   \n",
       "1   2   Investment  Nagatinskij Zaton                    yes   \n",
       "2   3   Investment     Tekstil'shhiki                     no   \n",
       "3   4   Investment             Mitino                     no   \n",
       "4   5   Investment          Basmannoe                     no   \n",
       "\n",
       "  thermal_power_plant_raion incineration_raion oil_chemistry_raion  \\\n",
       "0                        no                 no                  no   \n",
       "1                        no                 no                  no   \n",
       "2                        no                 no                  no   \n",
       "3                        no                 no                  no   \n",
       "4                        no                 no                  no   \n",
       "\n",
       "  radiation_raion railroad_terminal_raion big_market_raion  \\\n",
       "0              no                      no               no   \n",
       "1              no                      no               no   \n",
       "2             yes                      no               no   \n",
       "3              no                      no               no   \n",
       "4             yes                     yes               no   \n",
       "\n",
       "  nuclear_reactor_raion detention_facility_raion water_1line big_road1_1line  \\\n",
       "0                    no                       no          no              no   \n",
       "1                    no                       no          no              no   \n",
       "2                    no                       no          no              no   \n",
       "3                    no                       no          no              no   \n",
       "4                    no                       no          no              no   \n",
       "\n",
       "  railroad_1line    ecology  \n",
       "0             no       good  \n",
       "1             no  excellent  \n",
       "2             no       poor  \n",
       "3             no       good  \n",
       "4            yes  excellent  "
      ]
     },
     "execution_count": 44,
     "metadata": {},
     "output_type": "execute_result"
    }
   ],
   "source": [
    "df_string_cols.head()"
   ]
  },
  {
   "cell_type": "code",
   "execution_count": 45,
   "metadata": {},
   "outputs": [
    {
     "data": {
      "text/html": [
       "<div>\n",
       "<style scoped>\n",
       "    .dataframe tbody tr th:only-of-type {\n",
       "        vertical-align: middle;\n",
       "    }\n",
       "\n",
       "    .dataframe tbody tr th {\n",
       "        vertical-align: top;\n",
       "    }\n",
       "\n",
       "    .dataframe thead th {\n",
       "        text-align: right;\n",
       "    }\n",
       "</style>\n",
       "<table border=\"1\" class=\"dataframe\">\n",
       "  <thead>\n",
       "    <tr style=\"text-align: right;\">\n",
       "      <th></th>\n",
       "      <th>id</th>\n",
       "      <th>product_type</th>\n",
       "      <th>sub_area</th>\n",
       "      <th>culture_objects_top_25</th>\n",
       "      <th>thermal_power_plant_raion</th>\n",
       "      <th>incineration_raion</th>\n",
       "      <th>oil_chemistry_raion</th>\n",
       "      <th>radiation_raion</th>\n",
       "      <th>railroad_terminal_raion</th>\n",
       "      <th>big_market_raion</th>\n",
       "      <th>nuclear_reactor_raion</th>\n",
       "      <th>detention_facility_raion</th>\n",
       "      <th>water_1line</th>\n",
       "      <th>big_road1_1line</th>\n",
       "      <th>railroad_1line</th>\n",
       "      <th>ecology</th>\n",
       "    </tr>\n",
       "  </thead>\n",
       "  <tbody>\n",
       "    <tr>\n",
       "      <th>count</th>\n",
       "      <td>30471</td>\n",
       "      <td>30471</td>\n",
       "      <td>30471</td>\n",
       "      <td>30471</td>\n",
       "      <td>30471</td>\n",
       "      <td>30471</td>\n",
       "      <td>30471</td>\n",
       "      <td>30471</td>\n",
       "      <td>30471</td>\n",
       "      <td>30471</td>\n",
       "      <td>30471</td>\n",
       "      <td>30471</td>\n",
       "      <td>30471</td>\n",
       "      <td>30471</td>\n",
       "      <td>30471</td>\n",
       "      <td>30471</td>\n",
       "    </tr>\n",
       "    <tr>\n",
       "      <th>nunique</th>\n",
       "      <td>30471</td>\n",
       "      <td>2</td>\n",
       "      <td>146</td>\n",
       "      <td>2</td>\n",
       "      <td>2</td>\n",
       "      <td>2</td>\n",
       "      <td>2</td>\n",
       "      <td>2</td>\n",
       "      <td>2</td>\n",
       "      <td>2</td>\n",
       "      <td>2</td>\n",
       "      <td>2</td>\n",
       "      <td>2</td>\n",
       "      <td>2</td>\n",
       "      <td>2</td>\n",
       "      <td>5</td>\n",
       "    </tr>\n",
       "  </tbody>\n",
       "</table>\n",
       "</div>"
      ],
      "text/plain": [
       "            id  product_type  sub_area  culture_objects_top_25  \\\n",
       "count    30471         30471     30471                   30471   \n",
       "nunique  30471             2       146                       2   \n",
       "\n",
       "         thermal_power_plant_raion  incineration_raion  oil_chemistry_raion  \\\n",
       "count                        30471               30471                30471   \n",
       "nunique                          2                   2                    2   \n",
       "\n",
       "         radiation_raion  railroad_terminal_raion  big_market_raion  \\\n",
       "count              30471                    30471             30471   \n",
       "nunique                2                        2                 2   \n",
       "\n",
       "         nuclear_reactor_raion  detention_facility_raion  water_1line  \\\n",
       "count                    30471                     30471        30471   \n",
       "nunique                      2                         2            2   \n",
       "\n",
       "         big_road1_1line  railroad_1line  ecology  \n",
       "count              30471           30471    30471  \n",
       "nunique                2               2        5  "
      ]
     },
     "execution_count": 45,
     "metadata": {},
     "output_type": "execute_result"
    }
   ],
   "source": [
    "df_string_cols.agg(['count', 'nunique'])"
   ]
  },
  {
   "cell_type": "markdown",
   "metadata": {},
   "source": [
    "   * deep-dive into some cols"
   ]
  },
  {
   "cell_type": "code",
   "execution_count": 46,
   "metadata": {},
   "outputs": [
    {
     "data": {
      "text/plain": [
       "array(['good', 'excellent', 'poor', 'satisfactory', 'no data'],\n",
       "      dtype=object)"
      ]
     },
     "execution_count": 46,
     "metadata": {},
     "output_type": "execute_result"
    }
   ],
   "source": [
    "df_string_cols['ecology'].unique()"
   ]
  },
  {
   "cell_type": "code",
   "execution_count": 47,
   "metadata": {},
   "outputs": [
    {
     "data": {
      "text/plain": [
       "array(['Bibirevo', 'Nagatinskij Zaton', \"Tekstil'shhiki\", 'Mitino',\n",
       "       'Basmannoe', 'Nizhegorodskoe', \"Sokol'niki\", 'Koptevo', 'Kuncevo',\n",
       "       'Kosino-Uhtomskoe', 'Zapadnoe Degunino', 'Presnenskoe',\n",
       "       'Lefortovo', \"Mar'ino\", \"Kuz'minki\", 'Nagornoe', \"Gol'janovo\",\n",
       "       'Vnukovo', 'Juzhnoe Tushino', 'Severnoe Tushino',\n",
       "       \"Chertanovo Central'noe\", 'Fili Davydkovo', 'Otradnoe',\n",
       "       'Novo-Peredelkino', 'Bogorodskoe', 'Jaroslavskoe', 'Strogino',\n",
       "       'Hovrino', \"Moskvorech'e-Saburovo\", 'Staroe Krjukovo', 'Ljublino',\n",
       "       'Caricyno', 'Veshnjaki', 'Danilovskoe', 'Preobrazhenskoe',\n",
       "       \"Kon'kovo\", 'Brateevo', 'Vostochnoe Izmajlovo', 'Vyhino-Zhulebino',\n",
       "       'Donskoe', 'Novogireevo', 'Juzhnoe Butovo', 'Sokol', 'Kurkino',\n",
       "       'Izmajlovo', 'Severnoe Medvedkovo', 'Rostokino',\n",
       "       'Orehovo-Borisovo Severnoe', 'Ochakovo-Matveevskoe', 'Taganskoe',\n",
       "       'Dmitrovskoe', 'Orehovo-Borisovo Juzhnoe', 'Teplyj Stan',\n",
       "       'Babushkinskoe', 'Pokrovskoe Streshnevo', 'Obruchevskoe',\n",
       "       'Filevskij Park', 'Troparevo-Nikulino', 'Severnoe Butovo',\n",
       "       'Hamovniki', 'Solncevo', 'Dorogomilovo', 'Timirjazevskoe',\n",
       "       'Lianozovo', 'Pechatniki', 'Krjukovo', 'Jasenevo',\n",
       "       'Chertanovo Severnoe', 'Rjazanskij', 'Silino', 'Ivanovskoe',\n",
       "       'Golovinskoe', 'Novokosino', 'Nagatino-Sadovniki',\n",
       "       'Birjulevo Vostochnoe', 'Severnoe Izmajlovo', 'Sokolinaja Gora',\n",
       "       'Vostochnoe Degunino', 'Prospekt Vernadskogo', 'Savelki',\n",
       "       'Ajeroport', 'Vojkovskoe', 'Beskudnikovskoe', 'Krylatskoe',\n",
       "       'Juzhnoportovoe', 'Perovo', 'Akademicheskoe', 'Horoshevo-Mnevniki',\n",
       "       'Shhukino', 'Kapotnja', 'Horoshevskoe', 'Marfino',\n",
       "       'Chertanovo Juzhnoe', 'Savelovskoe', 'Birjulevo Zapadnoe',\n",
       "       'Nekrasovka', 'Cheremushki', 'Sviblovo', 'Alekseevskoe',\n",
       "       \"Krasnosel'skoe\", 'Kotlovka', 'Zjuzino', 'Ostankinskoe',\n",
       "       'Tverskoe', 'Losinoostrovskoe', 'Butyrskoe', 'Matushkino',\n",
       "       'Metrogorodok', 'Juzhnoe Medvedkovo', 'Lomonosovskoe', 'Jakimanka',\n",
       "       'Mozhajskoe', 'Levoberezhnoe', \"Mar'ina Roshha\", 'Gagarinskoe',\n",
       "       \"Zamoskvorech'e\", \"Altuf'evskoe\", 'Ramenki', 'Zjablikovo',\n",
       "       'Meshhanskoe', 'Severnoe', 'Begovoe', 'Arbat',\n",
       "       'Poselenie Sosenskoe', 'Poselenie Moskovskij',\n",
       "       'Poselenie Pervomajskoe', 'Poselenie Desjonovskoe',\n",
       "       'Poselenie Voskresenskoe', 'Poselenie Mosrentgen',\n",
       "       'Troickij okrug', 'Poselenie Shherbinka',\n",
       "       'Poselenie Filimonkovskoe', 'Poselenie Vnukovskoe',\n",
       "       'Poselenie Marushkinskoe', 'Poselenie Shhapovskoe',\n",
       "       'Poselenie Rjazanovskoe', 'Poselenie Kokoshkino', 'Vostochnoe',\n",
       "       'Poselenie Krasnopahorskoe', 'Poselenie Novofedorovskoe',\n",
       "       'Poselenie Voronovskoe', 'Poselenie Klenovskoe',\n",
       "       'Poselenie Rogovskoe', 'Poselenie Kievskij', 'Molzhaninovskoe',\n",
       "       'Poselenie Mihajlovo-Jarcevskoe'], dtype=object)"
      ]
     },
     "execution_count": 47,
     "metadata": {},
     "output_type": "execute_result"
    }
   ],
   "source": [
    "df_string_cols.sub_area.unique()"
   ]
  },
  {
   "cell_type": "markdown",
   "metadata": {},
   "source": [
    "3. select the cols to be transformed"
   ]
  },
  {
   "cell_type": "code",
   "execution_count": 48,
   "metadata": {},
   "outputs": [],
   "source": [
    "cols_to_encode = [col for col in string_cols]# if (col != 'sub_area')]"
   ]
  },
  {
   "cell_type": "code",
   "execution_count": 49,
   "metadata": {},
   "outputs": [
    {
     "data": {
      "text/plain": [
       "['product_type',\n",
       " 'sub_area',\n",
       " 'culture_objects_top_25',\n",
       " 'thermal_power_plant_raion',\n",
       " 'incineration_raion',\n",
       " 'oil_chemistry_raion',\n",
       " 'radiation_raion',\n",
       " 'railroad_terminal_raion',\n",
       " 'big_market_raion',\n",
       " 'nuclear_reactor_raion',\n",
       " 'detention_facility_raion',\n",
       " 'water_1line',\n",
       " 'big_road1_1line',\n",
       " 'railroad_1line',\n",
       " 'ecology']"
      ]
     },
     "execution_count": 49,
     "metadata": {},
     "output_type": "execute_result"
    }
   ],
   "source": [
    "cols_to_encode"
   ]
  },
  {
   "cell_type": "markdown",
   "metadata": {},
   "source": [
    "4. Get the encoder; specify the data to encode and transform"
   ]
  },
  {
   "cell_type": "code",
   "execution_count": 50,
   "metadata": {},
   "outputs": [],
   "source": [
    "df_new = get_cat_encoding(df_string_cols, cols_to_encode)"
   ]
  },
  {
   "cell_type": "code",
   "execution_count": 51,
   "metadata": {},
   "outputs": [
    {
     "data": {
      "text/plain": [
       "id                             int64\n",
       "product_type                    int8\n",
       "sub_area                        int8\n",
       "culture_objects_top_25          int8\n",
       "thermal_power_plant_raion       int8\n",
       "incineration_raion              int8\n",
       "oil_chemistry_raion             int8\n",
       "radiation_raion                 int8\n",
       "railroad_terminal_raion         int8\n",
       "big_market_raion                int8\n",
       "nuclear_reactor_raion           int8\n",
       "detention_facility_raion        int8\n",
       "water_1line                     int8\n",
       "big_road1_1line                 int8\n",
       "railroad_1line                  int8\n",
       "ecology                      float64\n",
       "dtype: object"
      ]
     },
     "execution_count": 51,
     "metadata": {},
     "output_type": "execute_result"
    }
   ],
   "source": [
    "df_new.dtypes"
   ]
  },
  {
   "cell_type": "code",
   "execution_count": 52,
   "metadata": {},
   "outputs": [
    {
     "data": {
      "text/html": [
       "<div>\n",
       "<style scoped>\n",
       "    .dataframe tbody tr th:only-of-type {\n",
       "        vertical-align: middle;\n",
       "    }\n",
       "\n",
       "    .dataframe tbody tr th {\n",
       "        vertical-align: top;\n",
       "    }\n",
       "\n",
       "    .dataframe thead th {\n",
       "        text-align: right;\n",
       "    }\n",
       "</style>\n",
       "<table border=\"1\" class=\"dataframe\">\n",
       "  <thead>\n",
       "    <tr style=\"text-align: right;\">\n",
       "      <th></th>\n",
       "      <th>id</th>\n",
       "      <th>product_type</th>\n",
       "      <th>sub_area</th>\n",
       "      <th>culture_objects_top_25</th>\n",
       "      <th>thermal_power_plant_raion</th>\n",
       "      <th>incineration_raion</th>\n",
       "      <th>oil_chemistry_raion</th>\n",
       "      <th>radiation_raion</th>\n",
       "      <th>railroad_terminal_raion</th>\n",
       "      <th>big_market_raion</th>\n",
       "      <th>nuclear_reactor_raion</th>\n",
       "      <th>detention_facility_raion</th>\n",
       "      <th>water_1line</th>\n",
       "      <th>big_road1_1line</th>\n",
       "      <th>railroad_1line</th>\n",
       "      <th>ecology</th>\n",
       "    </tr>\n",
       "  </thead>\n",
       "  <tbody>\n",
       "    <tr>\n",
       "      <th>0</th>\n",
       "      <td>1</td>\n",
       "      <td>0</td>\n",
       "      <td>0</td>\n",
       "      <td>0</td>\n",
       "      <td>0</td>\n",
       "      <td>0</td>\n",
       "      <td>0</td>\n",
       "      <td>0</td>\n",
       "      <td>0</td>\n",
       "      <td>0</td>\n",
       "      <td>0</td>\n",
       "      <td>0</td>\n",
       "      <td>0</td>\n",
       "      <td>0</td>\n",
       "      <td>0</td>\n",
       "      <td>2.0</td>\n",
       "    </tr>\n",
       "    <tr>\n",
       "      <th>1</th>\n",
       "      <td>2</td>\n",
       "      <td>0</td>\n",
       "      <td>1</td>\n",
       "      <td>1</td>\n",
       "      <td>0</td>\n",
       "      <td>0</td>\n",
       "      <td>0</td>\n",
       "      <td>0</td>\n",
       "      <td>0</td>\n",
       "      <td>0</td>\n",
       "      <td>0</td>\n",
       "      <td>0</td>\n",
       "      <td>0</td>\n",
       "      <td>0</td>\n",
       "      <td>0</td>\n",
       "      <td>3.0</td>\n",
       "    </tr>\n",
       "    <tr>\n",
       "      <th>2</th>\n",
       "      <td>3</td>\n",
       "      <td>0</td>\n",
       "      <td>2</td>\n",
       "      <td>0</td>\n",
       "      <td>0</td>\n",
       "      <td>0</td>\n",
       "      <td>0</td>\n",
       "      <td>1</td>\n",
       "      <td>0</td>\n",
       "      <td>0</td>\n",
       "      <td>0</td>\n",
       "      <td>0</td>\n",
       "      <td>0</td>\n",
       "      <td>0</td>\n",
       "      <td>0</td>\n",
       "      <td>0.0</td>\n",
       "    </tr>\n",
       "    <tr>\n",
       "      <th>3</th>\n",
       "      <td>4</td>\n",
       "      <td>0</td>\n",
       "      <td>3</td>\n",
       "      <td>0</td>\n",
       "      <td>0</td>\n",
       "      <td>0</td>\n",
       "      <td>0</td>\n",
       "      <td>0</td>\n",
       "      <td>0</td>\n",
       "      <td>0</td>\n",
       "      <td>0</td>\n",
       "      <td>0</td>\n",
       "      <td>0</td>\n",
       "      <td>0</td>\n",
       "      <td>0</td>\n",
       "      <td>2.0</td>\n",
       "    </tr>\n",
       "    <tr>\n",
       "      <th>4</th>\n",
       "      <td>5</td>\n",
       "      <td>0</td>\n",
       "      <td>4</td>\n",
       "      <td>0</td>\n",
       "      <td>0</td>\n",
       "      <td>0</td>\n",
       "      <td>0</td>\n",
       "      <td>1</td>\n",
       "      <td>1</td>\n",
       "      <td>0</td>\n",
       "      <td>0</td>\n",
       "      <td>0</td>\n",
       "      <td>0</td>\n",
       "      <td>0</td>\n",
       "      <td>1</td>\n",
       "      <td>3.0</td>\n",
       "    </tr>\n",
       "  </tbody>\n",
       "</table>\n",
       "</div>"
      ],
      "text/plain": [
       "   id  product_type  sub_area  culture_objects_top_25  \\\n",
       "0   1             0         0                       0   \n",
       "1   2             0         1                       1   \n",
       "2   3             0         2                       0   \n",
       "3   4             0         3                       0   \n",
       "4   5             0         4                       0   \n",
       "\n",
       "   thermal_power_plant_raion  incineration_raion  oil_chemistry_raion  \\\n",
       "0                          0                   0                    0   \n",
       "1                          0                   0                    0   \n",
       "2                          0                   0                    0   \n",
       "3                          0                   0                    0   \n",
       "4                          0                   0                    0   \n",
       "\n",
       "   radiation_raion  railroad_terminal_raion  big_market_raion  \\\n",
       "0                0                        0                 0   \n",
       "1                0                        0                 0   \n",
       "2                1                        0                 0   \n",
       "3                0                        0                 0   \n",
       "4                1                        1                 0   \n",
       "\n",
       "   nuclear_reactor_raion  detention_facility_raion  water_1line  \\\n",
       "0                      0                         0            0   \n",
       "1                      0                         0            0   \n",
       "2                      0                         0            0   \n",
       "3                      0                         0            0   \n",
       "4                      0                         0            0   \n",
       "\n",
       "   big_road1_1line  railroad_1line  ecology  \n",
       "0                0               0      2.0  \n",
       "1                0               0      3.0  \n",
       "2                0               0      0.0  \n",
       "3                0               0      2.0  \n",
       "4                0               1      3.0  "
      ]
     },
     "execution_count": 52,
     "metadata": {},
     "output_type": "execute_result"
    }
   ],
   "source": [
    "df_new.head()"
   ]
  },
  {
   "cell_type": "markdown",
   "metadata": {},
   "source": [
    "7. Final check on the data: does it contain all the rows as before?"
   ]
  },
  {
   "cell_type": "code",
   "execution_count": 53,
   "metadata": {},
   "outputs": [
    {
     "name": "stdout",
     "output_type": "stream",
     "text": [
      "<class 'pandas.core.frame.DataFrame'>\n",
      "RangeIndex: 30471 entries, 0 to 30470\n",
      "Data columns (total 16 columns):\n",
      "id                           30471 non-null int64\n",
      "product_type                 30471 non-null int8\n",
      "sub_area                     30471 non-null int8\n",
      "culture_objects_top_25       30471 non-null int8\n",
      "thermal_power_plant_raion    30471 non-null int8\n",
      "incineration_raion           30471 non-null int8\n",
      "oil_chemistry_raion          30471 non-null int8\n",
      "radiation_raion              30471 non-null int8\n",
      "railroad_terminal_raion      30471 non-null int8\n",
      "big_market_raion             30471 non-null int8\n",
      "nuclear_reactor_raion        30471 non-null int8\n",
      "detention_facility_raion     30471 non-null int8\n",
      "water_1line                  30471 non-null int8\n",
      "big_road1_1line              30471 non-null int8\n",
      "railroad_1line               30471 non-null int8\n",
      "ecology                      22815 non-null float64\n",
      "dtypes: float64(1), int64(1), int8(14)\n",
      "memory usage: 892.8 KB\n"
     ]
    }
   ],
   "source": [
    "df_new.info(verbose=True, null_counts=True)"
   ]
  },
  {
   "cell_type": "code",
   "execution_count": null,
   "metadata": {},
   "outputs": [],
   "source": []
  }
 ],
 "metadata": {
  "kernelspec": {
   "display_name": "Python 3",
   "language": "python",
   "name": "python3"
  },
  "language_info": {
   "codemirror_mode": {
    "name": "ipython",
    "version": 3
   },
   "file_extension": ".py",
   "mimetype": "text/x-python",
   "name": "python",
   "nbconvert_exporter": "python",
   "pygments_lexer": "ipython3",
   "version": "3.6.8"
  },
  "toc": {
   "nav_menu": {},
   "number_sections": true,
   "sideBar": true,
   "skip_h1_title": false,
   "title_cell": "Table of Contents",
   "title_sidebar": "Contents",
   "toc_cell": false,
   "toc_position": {},
   "toc_section_display": true,
   "toc_window_display": false
  }
 },
 "nbformat": 4,
 "nbformat_minor": 2
}
