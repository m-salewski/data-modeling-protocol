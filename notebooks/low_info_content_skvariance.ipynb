{
 "cells": [
  {
   "cell_type": "code",
   "execution_count": 72,
   "metadata": {
    "cell_style": "center"
   },
   "outputs": [
    {
     "data": {
      "text/html": [
       "<style>.container { width:100% !important; }</style>"
      ],
      "text/plain": [
       "<IPython.core.display.HTML object>"
      ]
     },
     "metadata": {},
     "output_type": "display_data"
    }
   ],
   "source": [
    "from IPython.core.display import display, HTML\n",
    "display(HTML(\"<style>.container { width:100% !important; }</style>\"))"
   ]
  },
  {
   "cell_type": "markdown",
   "metadata": {},
   "source": [
    "sklearn.set_config(display=”diagram”)"
   ]
  },
  {
   "cell_type": "markdown",
   "metadata": {},
   "source": [
    "<font size=6>\n",
    "    Sberbank Russian Housing Market\n",
    "</font>\n",
    "\n",
    "<hr style=\"border: solid rgb(0,0,0) 0.0px; background-color: rgb(0,0,0);height: 2.0px;\"/>\n",
    "<font color='red' size=5>\n",
    "    The show so far ... \n",
    "</font>\n"
   ]
  },
  {
   "cell_type": "markdown",
   "metadata": {},
   "source": [
    "**Summary**\n",
    "\n",
    "1. Load data\n",
    "2. Remove features\n",
    "    * features missing more than 10%\n",
    "    * features with high correlations to the other features\n",
    "        * used hierarchical correlation dropper\n",
    "3. Stage 1 transformations:\n",
    "    * Ignored features: \n",
    "        * e.g. 'id' and 'datetime' columns\n",
    "    * Scale num. features\n",
    "        * perhaps better to wait until after \n",
    "            1. cat. encoding is done with ordinals\n",
    "            2. imputation for (all) features\n",
    "    * Cat. features\n",
    "        * used Ordinal and OneHot-encoders\n",
    "        * used custom encoder to include NANs\n",
    "    * Retrieve column names        \n",
    "    * Recast all features as needed\n",
    "4. Stage 2 transformations:\n",
    "    * Ignored features: \n",
    "        * e.g. 'id' and 'datetime' columns\n",
    "    * Impute remaining features\n",
    "        * Used `SimpleImputer`\n",
    "        * `KNNImputer` failed\n",
    "    * Retrieve column names\n",
    "    * Recast all features as needed\n",
    "\n",
    "5. Modeling\n",
    "\n",
    "6. Evaluate errors\n",
    "\n",
    "7. Feature importance\n",
    "\n",
    "**TODOs**\n",
    "\n",
    "0. Priorities\n",
    "   1. Remove the target feature for the pipeline?\n",
    "        * if the pipeline is fit for the independent features, then it should work with them alone;\n",
    "        * whatever preprocessing is needed for the target feature can be done independently, outside of the pipeline \n",
    "   \n",
    "1. $\\checkmark$ ~~Get the columns names of the transformed data after the `Pipeline` / `ColumnTransformer` steps~~\n",
    "    * _Needed for checking, further exploration, and featuring engineering_\n",
    "2. Check on the appropriate strategies\n",
    "    * $\\checkmark$ ~~first do cat. encoding with `ColumnTransformer`, then do scaling on numericals in another `Pipeline`~~\n",
    "    * ~~do everything in a single `Pipeline` taking care of the steps~~ $\\to$ everything done with `ColumnTransformer` instead\n",
    "        * allows individual selection of features for transformations\n",
    "    * ~~Drop features with many unfilled values (can't do _after_ imputing) or just impute?, then pipeline~~ \n",
    "        * $\\checkmark$ ~~Drop features with many unfilled values before/after preprocessing?~~\n",
    "        * $\\checkmark$ ~~impute afterwards~~\n",
    "3. $\\checkmark$ ~~Drop features which are mutually correlated; keep only the most relevant ones~~\n",
    "    * **!!!** do this before first preprocessing stage?\n",
    "4. More EDA\n",
    "    * Identify quantities to be removed:\n",
    "        * IDs which contribute to the spikes in the neg. tail of the 'price_doc' distribution\n",
    "            * or see if they're correlated with another feature, like 'sub_area'\n",
    "            * **UNFINISHED** \n",
    "                * wasn't an early sign that this was the case\n",
    "                * is it possible to automatically detect narrow-bin spikes in a distribution? and eleminate the rows which contribute to them?\n",
    "        * $\\checkmark$ ~~check the distribution of the 'sub_area' feature~~\n",
    "            * ~~are there enough samples for each category?~~ \n",
    "5. More feature engineering\n",
    "    * There are a few more things which can be done to see if there's an improvement:\n",
    "        * removing some IDs (rows) which have some outlier behavior (clearly defined spikes in distributions)\n",
    "        * aggregating some features together (e.g. combining nearby 'sub_areas') $\\to$ needs some ad hoc investigations\n",
    "        * $\\checkmark$ Using the classifiers to identify and reduce the number of features to only the important ones. $\\to$ **TODO** need to save the results       \n",
    "6. Try to package up the routine into a single stage with a multistep pipeline\n",
    "    * The issue is keeping track of the columns since the stages work on different subsets;\n",
    "    * An idea would be to\n",
    "        1. Order the columns first by datatype\n",
    "        2. Then do the structure-preserving transformations (transformations which preserve the number of columns) like scaling, ordinal encoding, imputing(?))\n",
    "        3. Then do the transformations like OneHotEnc \n",
    "\n",
    "            \n",
    "**Notes**\n",
    "* All transforms were included with `ColumnTransformer`\n",
    "    * selects cols individually\n",
    "    * can act as a pipeline\n",
    "    * retrieve the columns names and ordering\n",
    "        * _this is important to do the next steps of processing_"
   ]
  },
  {
   "cell_type": "markdown",
   "metadata": {},
   "source": [
    "<hr style=\"border: solid rgb(0,0,0) 0.0px; background-color: rgb(0,0,0);height: 2.0px;\"/>"
   ]
  },
  {
   "cell_type": "code",
   "execution_count": 2,
   "metadata": {
    "cell_style": "center"
   },
   "outputs": [],
   "source": [
    "# This will reload imports before executing code, allowing you to easily change contents of custom scripts\n",
    "%load_ext autoreload\n",
    "%autoreload 2"
   ]
  },
  {
   "cell_type": "code",
   "execution_count": 3,
   "metadata": {},
   "outputs": [],
   "source": [
    "import numpy as np # linear algebra\n",
    "import pandas as pd # data processing, CSV file I/O (e.g. pd.read_csv)"
   ]
  },
  {
   "cell_type": "code",
   "execution_count": 4,
   "metadata": {},
   "outputs": [],
   "source": [
    "import os"
   ]
  },
  {
   "cell_type": "code",
   "execution_count": 5,
   "metadata": {},
   "outputs": [],
   "source": [
    "%matplotlib inline\n",
    "import matplotlib.pyplot as plt\n",
    "import seaborn as sns\n",
    "import random\n",
    "colors = [plt.cm.Spectral(each)\n",
    "          for each in np.linspace(0, 1, 20)]\n",
    "random.shuffle(colors)"
   ]
  },
  {
   "cell_type": "code",
   "execution_count": 6,
   "metadata": {},
   "outputs": [],
   "source": [
    "#import importlib\n",
    "import sys\n",
    "sys.path.append('./helpers/')"
   ]
  },
  {
   "cell_type": "markdown",
   "metadata": {},
   "source": [
    "## Load the data"
   ]
  },
  {
   "cell_type": "code",
   "execution_count": 86,
   "metadata": {},
   "outputs": [],
   "source": [
    "df = pd.read_csv('../../datasets/sberbank-russian-housing-market/train.csv', \\\n",
    "                 infer_datetime_format=True, parse_dates=['timestamp'])"
   ]
  },
  {
   "cell_type": "code",
   "execution_count": 87,
   "metadata": {},
   "outputs": [
    {
     "data": {
      "text/plain": [
       "(30471, 292)"
      ]
     },
     "execution_count": 87,
     "metadata": {},
     "output_type": "execute_result"
    }
   ],
   "source": [
    "df.shape"
   ]
  },
  {
   "cell_type": "markdown",
   "metadata": {},
   "source": [
    "Get the dtypes of the DF; save to a dict for later use"
   ]
  },
  {
   "cell_type": "code",
   "execution_count": 88,
   "metadata": {},
   "outputs": [],
   "source": [
    "df_dtypes = df.dtypes.reset_index().rename(columns={'index':'column', 0:'datatype'})\n",
    "df_dtype_dict = dict(zip(df_dtypes.column, df_dtypes.datatype.astype(str)))"
   ]
  },
  {
   "cell_type": "markdown",
   "metadata": {},
   "source": [
    "### Feature work\n",
    "\n",
    "#### Separate the target feature"
   ]
  },
  {
   "cell_type": "markdown",
   "metadata": {},
   "source": [
    "**Note** the target feature may also need to be transformed, _e.g._ rescaled"
   ]
  },
  {
   "cell_type": "code",
   "execution_count": 89,
   "metadata": {},
   "outputs": [],
   "source": [
    "target_feature = 'price_doc'\n",
    "target_col = [target_feature]"
   ]
  },
  {
   "cell_type": "code",
   "execution_count": 92,
   "metadata": {},
   "outputs": [
    {
     "data": {
      "text/html": [
       "<div>\n",
       "<style scoped>\n",
       "    .dataframe tbody tr th:only-of-type {\n",
       "        vertical-align: middle;\n",
       "    }\n",
       "\n",
       "    .dataframe tbody tr th {\n",
       "        vertical-align: top;\n",
       "    }\n",
       "\n",
       "    .dataframe thead th {\n",
       "        text-align: right;\n",
       "    }\n",
       "</style>\n",
       "<table border=\"1\" class=\"dataframe\">\n",
       "  <thead>\n",
       "    <tr style=\"text-align: right;\">\n",
       "      <th></th>\n",
       "      <th>price_doc</th>\n",
       "    </tr>\n",
       "  </thead>\n",
       "  <tbody>\n",
       "    <tr>\n",
       "      <th>0</th>\n",
       "      <td>5850000</td>\n",
       "    </tr>\n",
       "    <tr>\n",
       "      <th>1</th>\n",
       "      <td>6000000</td>\n",
       "    </tr>\n",
       "    <tr>\n",
       "      <th>2</th>\n",
       "      <td>5700000</td>\n",
       "    </tr>\n",
       "    <tr>\n",
       "      <th>3</th>\n",
       "      <td>13100000</td>\n",
       "    </tr>\n",
       "    <tr>\n",
       "      <th>4</th>\n",
       "      <td>16331452</td>\n",
       "    </tr>\n",
       "  </tbody>\n",
       "</table>\n",
       "</div>"
      ],
      "text/plain": [
       "   price_doc\n",
       "0    5850000\n",
       "1    6000000\n",
       "2    5700000\n",
       "3   13100000\n",
       "4   16331452"
      ]
     },
     "execution_count": 92,
     "metadata": {},
     "output_type": "execute_result"
    }
   ],
   "source": [
    "df[target_col].head()"
   ]
  },
  {
   "cell_type": "code",
   "execution_count": 93,
   "metadata": {},
   "outputs": [],
   "source": [
    "df_targ = df[target_col].copy()"
   ]
  },
  {
   "cell_type": "code",
   "execution_count": 97,
   "metadata": {},
   "outputs": [],
   "source": [
    "df = df.drop(columns=target_feature)"
   ]
  },
  {
   "cell_type": "markdown",
   "metadata": {},
   "source": [
    "#### Separate some features based on type and/or use\n",
    "\n",
    "##### Identify the numerical features"
   ]
  },
  {
   "cell_type": "code",
   "execution_count": 21,
   "metadata": {},
   "outputs": [],
   "source": [
    "ignore_cols = ['id','timestamp']"
   ]
  },
  {
   "cell_type": "code",
   "execution_count": 22,
   "metadata": {},
   "outputs": [],
   "source": [
    "float_cols = df.drop(columns=ignore_cols+target_col).select_dtypes('float').columns.tolist()\n",
    "\n",
    "int_cols = df.drop(columns=ignore_cols+target_col).select_dtypes('int').columns.tolist()\n",
    "\n",
    "num_cols = df.drop(columns=ignore_cols+target_col).select_dtypes(['int', 'float']).columns.tolist()"
   ]
  },
  {
   "cell_type": "markdown",
   "metadata": {},
   "source": [
    "Select the categorical features"
   ]
  },
  {
   "cell_type": "code",
   "execution_count": 23,
   "metadata": {},
   "outputs": [],
   "source": [
    "string_cols = df.drop(columns=ignore_cols+target_col).select_dtypes('object').columns.tolist()"
   ]
  },
  {
   "cell_type": "markdown",
   "metadata": {},
   "source": [
    "## Preprocess the data\n",
    "\n",
    "### Drop features\n",
    "\n",
    "#### Characterize the missing values"
   ]
  },
  {
   "cell_type": "code",
   "execution_count": 10,
   "metadata": {},
   "outputs": [],
   "source": [
    "from helpers.fill_rates import get_column_fill_rates, get_row_fill_rates"
   ]
  },
  {
   "cell_type": "code",
   "execution_count": 11,
   "metadata": {},
   "outputs": [
    {
     "data": {
      "text/plain": [
       "<matplotlib.axes._subplots.AxesSubplot at 0x7fb076d52cf8>"
      ]
     },
     "execution_count": 11,
     "metadata": {},
     "output_type": "execute_result"
    },
    {
     "data": {
      "image/png": "[encoded data removed]",
      "text/plain": [
       "<Figure size 1440x720 with 2 Axes>"
      ]
     },
     "metadata": {
      "needs_background": "light"
     },
     "output_type": "display_data"
    }
   ],
   "source": [
    "df_fillrates = get_column_fill_rates(df,0.0)\n",
    "unfilled_cols = df_fillrates[df_fillrates['frac_full']<=0.90]['column_name'].tolist()\n",
    "\n",
    "plt.figure(figsize=[20,10])\n",
    "colours = ['#000099', '#ffff00'] # specify the colours - yellow is missing. blue is not missing.\n",
    "sns.heatmap(df[unfilled_cols].isnull().sample(frac=1).reset_index(drop=True), cmap=sns.color_palette(colours))"
   ]
  },
  {
   "cell_type": "markdown",
   "metadata": {},
   "source": [
    "##### Check the fill rate of the features\n",
    "\n",
    "Keep all features having more than 90% (arbitrary) of their values"
   ]
  },
  {
   "cell_type": "code",
   "execution_count": 12,
   "metadata": {
    "scrolled": false
   },
   "outputs": [
    {
     "data": {
      "text/html": [
       "<div>\n",
       "<style scoped>\n",
       "    .dataframe tbody tr th:only-of-type {\n",
       "        vertical-align: middle;\n",
       "    }\n",
       "\n",
       "    .dataframe tbody tr th {\n",
       "        vertical-align: top;\n",
       "    }\n",
       "\n",
       "    .dataframe thead th {\n",
       "        text-align: right;\n",
       "    }\n",
       "</style>\n",
       "<table border=\"1\" class=\"dataframe\">\n",
       "  <thead>\n",
       "    <tr style=\"text-align: right;\">\n",
       "      <th></th>\n",
       "      <th>column_name</th>\n",
       "      <th>frac_full</th>\n",
       "    </tr>\n",
       "  </thead>\n",
       "  <tbody>\n",
       "    <tr>\n",
       "      <th>229</th>\n",
       "      <td>cafe_sum_2000_min_price_avg</td>\n",
       "      <td>0.943389</td>\n",
       "    </tr>\n",
       "    <tr>\n",
       "      <th>230</th>\n",
       "      <td>cafe_sum_2000_max_price_avg</td>\n",
       "      <td>0.943389</td>\n",
       "    </tr>\n",
       "    <tr>\n",
       "      <th>231</th>\n",
       "      <td>cafe_avg_price_2000</td>\n",
       "      <td>0.943389</td>\n",
       "    </tr>\n",
       "    <tr>\n",
       "      <th>252</th>\n",
       "      <td>cafe_sum_3000_min_price_avg</td>\n",
       "      <td>0.967477</td>\n",
       "    </tr>\n",
       "    <tr>\n",
       "      <th>254</th>\n",
       "      <td>cafe_avg_price_3000</td>\n",
       "      <td>0.967477</td>\n",
       "    </tr>\n",
       "    <tr>\n",
       "      <th>253</th>\n",
       "      <td>cafe_sum_3000_max_price_avg</td>\n",
       "      <td>0.967477</td>\n",
       "    </tr>\n",
       "    <tr>\n",
       "      <th>275</th>\n",
       "      <td>cafe_sum_5000_min_price_avg</td>\n",
       "      <td>0.990253</td>\n",
       "    </tr>\n",
       "    <tr>\n",
       "      <th>276</th>\n",
       "      <td>cafe_sum_5000_max_price_avg</td>\n",
       "      <td>0.990253</td>\n",
       "    </tr>\n",
       "    <tr>\n",
       "      <th>277</th>\n",
       "      <td>cafe_avg_price_5000</td>\n",
       "      <td>0.990253</td>\n",
       "    </tr>\n",
       "    <tr>\n",
       "      <th>269</th>\n",
       "      <td>prom_part_5000</td>\n",
       "      <td>0.994158</td>\n",
       "    </tr>\n",
       "  </tbody>\n",
       "</table>\n",
       "</div>"
      ],
      "text/plain": [
       "                     column_name  frac_full\n",
       "229  cafe_sum_2000_min_price_avg   0.943389\n",
       "230  cafe_sum_2000_max_price_avg   0.943389\n",
       "231          cafe_avg_price_2000   0.943389\n",
       "252  cafe_sum_3000_min_price_avg   0.967477\n",
       "254          cafe_avg_price_3000   0.967477\n",
       "253  cafe_sum_3000_max_price_avg   0.967477\n",
       "275  cafe_sum_5000_min_price_avg   0.990253\n",
       "276  cafe_sum_5000_max_price_avg   0.990253\n",
       "277          cafe_avg_price_5000   0.990253\n",
       "269               prom_part_5000   0.994158"
      ]
     },
     "metadata": {},
     "output_type": "display_data"
    }
   ],
   "source": [
    "threshold = 0.90\n",
    "df_fillrates = get_column_fill_rates(df,threshold)\n",
    "display(df_fillrates.sort_values(\"frac_full\", ascending=True)[:10])"
   ]
  },
  {
   "cell_type": "code",
   "execution_count": 13,
   "metadata": {},
   "outputs": [
    {
     "name": "stdout",
     "output_type": "stream",
     "text": [
      "Number of features more than 90% filled: 257\n"
     ]
    }
   ],
   "source": [
    "filled_cols = df_fillrates.column_name.tolist()\n",
    "print(f'Number of features more than {round(100*threshold)}% filled: { len(filled_cols)}')"
   ]
  },
  {
   "cell_type": "markdown",
   "metadata": {},
   "source": [
    "##### Check the fill rate of the rows\n",
    "\n",
    "**Note** this is passive; nothing is done with this info; it will also change when the unfilled features are removed"
   ]
  },
  {
   "cell_type": "code",
   "execution_count": 14,
   "metadata": {},
   "outputs": [
    {
     "data": {
      "text/html": [
       "<div>\n",
       "<style scoped>\n",
       "    .dataframe tbody tr th:only-of-type {\n",
       "        vertical-align: middle;\n",
       "    }\n",
       "\n",
       "    .dataframe tbody tr th {\n",
       "        vertical-align: top;\n",
       "    }\n",
       "\n",
       "    .dataframe thead th {\n",
       "        text-align: right;\n",
       "    }\n",
       "</style>\n",
       "<table border=\"1\" class=\"dataframe\">\n",
       "  <thead>\n",
       "    <tr style=\"text-align: right;\">\n",
       "      <th></th>\n",
       "      <th>id</th>\n",
       "      <th>row_counts</th>\n",
       "      <th>frac_full</th>\n",
       "    </tr>\n",
       "  </thead>\n",
       "  <tbody>\n",
       "    <tr>\n",
       "      <th>3589</th>\n",
       "      <td>3589</td>\n",
       "      <td>249</td>\n",
       "      <td>0.852740</td>\n",
       "    </tr>\n",
       "    <tr>\n",
       "      <th>20231</th>\n",
       "      <td>20231</td>\n",
       "      <td>251</td>\n",
       "      <td>0.859589</td>\n",
       "    </tr>\n",
       "    <tr>\n",
       "      <th>5094</th>\n",
       "      <td>5094</td>\n",
       "      <td>251</td>\n",
       "      <td>0.859589</td>\n",
       "    </tr>\n",
       "    <tr>\n",
       "      <th>8474</th>\n",
       "      <td>8474</td>\n",
       "      <td>251</td>\n",
       "      <td>0.859589</td>\n",
       "    </tr>\n",
       "    <tr>\n",
       "      <th>7972</th>\n",
       "      <td>7972</td>\n",
       "      <td>251</td>\n",
       "      <td>0.859589</td>\n",
       "    </tr>\n",
       "    <tr>\n",
       "      <th>7172</th>\n",
       "      <td>7172</td>\n",
       "      <td>251</td>\n",
       "      <td>0.859589</td>\n",
       "    </tr>\n",
       "    <tr>\n",
       "      <th>7902</th>\n",
       "      <td>7902</td>\n",
       "      <td>251</td>\n",
       "      <td>0.859589</td>\n",
       "    </tr>\n",
       "    <tr>\n",
       "      <th>22097</th>\n",
       "      <td>22097</td>\n",
       "      <td>251</td>\n",
       "      <td>0.859589</td>\n",
       "    </tr>\n",
       "    <tr>\n",
       "      <th>5105</th>\n",
       "      <td>5105</td>\n",
       "      <td>251</td>\n",
       "      <td>0.859589</td>\n",
       "    </tr>\n",
       "    <tr>\n",
       "      <th>5277</th>\n",
       "      <td>5277</td>\n",
       "      <td>251</td>\n",
       "      <td>0.859589</td>\n",
       "    </tr>\n",
       "  </tbody>\n",
       "</table>\n",
       "</div>"
      ],
      "text/plain": [
       "          id  row_counts  frac_full\n",
       "3589    3589         249   0.852740\n",
       "20231  20231         251   0.859589\n",
       "5094    5094         251   0.859589\n",
       "8474    8474         251   0.859589\n",
       "7972    7972         251   0.859589\n",
       "7172    7172         251   0.859589\n",
       "7902    7902         251   0.859589\n",
       "22097  22097         251   0.859589\n",
       "5105    5105         251   0.859589\n",
       "5277    5277         251   0.859589"
      ]
     },
     "metadata": {},
     "output_type": "display_data"
    }
   ],
   "source": [
    "threshold = 0.85\n",
    "df_fillrates = get_row_fill_rates(df,threshold)\n",
    "display(df_fillrates.sort_values(\"frac_full\", ascending=True)[:10])"
   ]
  },
  {
   "cell_type": "code",
   "execution_count": 15,
   "metadata": {},
   "outputs": [
    {
     "name": "stdout",
     "output_type": "stream",
     "text": [
      "Number of features more than 85% filled: 30470\n"
     ]
    }
   ],
   "source": [
    "print(f'Number of features more than {round(100*threshold)}% filled: { df_fillrates.shape[0]}')"
   ]
  },
  {
   "cell_type": "markdown",
   "metadata": {},
   "source": [
    "##### Check the information content of the features\n",
    "\n",
    "If the features contain little useful information (_ie_ they have low variance), they might not contribute much to the model. \n",
    "<br/>\n",
    "For efficiecy reasons, it might be best to drop these, though the resulting model will likely be unchanged."
   ]
  },
  {
   "cell_type": "code",
   "execution_count": 16,
   "metadata": {
    "scrolled": false
   },
   "outputs": [
    {
     "name": "stdout",
     "output_type": "stream",
     "text": [
      "oil_chemistry_raion: 99.02858%\n",
      "no     30175\n",
      "yes      296\n",
      "Name: oil_chemistry_raion, dtype: int64\n",
      "\n",
      "railroad_terminal_raion: 96.27187%\n",
      "no     29335\n",
      "yes     1136\n",
      "Name: railroad_terminal_raion, dtype: int64\n",
      "\n",
      "nuclear_reactor_raion: 97.16780%\n",
      "no     29608\n",
      "yes      863\n",
      "Name: nuclear_reactor_raion, dtype: int64\n",
      "\n",
      "big_road1_1line: 97.43691%\n",
      "no     29690\n",
      "yes      781\n",
      "Name: big_road1_1line, dtype: int64\n",
      "\n",
      "railroad_1line: 97.06934%\n",
      "no     29578\n",
      "yes      893\n",
      "Name: railroad_1line, dtype: int64\n",
      "\n",
      "cafe_count_500_price_high: 97.25641%\n",
      "0    29635\n",
      "1      787\n",
      "2       38\n",
      "3       11\n",
      "Name: cafe_count_500_price_high, dtype: int64\n",
      "\n",
      "mosque_count_500: 99.51101%\n",
      "0    30322\n",
      "1      149\n",
      "Name: mosque_count_500, dtype: int64\n",
      "\n",
      "cafe_count_1000_price_high: 95.52689%\n",
      "0    29108\n",
      "1     1104\n",
      "2      145\n",
      "3       51\n",
      "4       39\n",
      "5       15\n",
      "6        8\n",
      "7        1\n",
      "Name: cafe_count_1000_price_high, dtype: int64\n",
      "\n",
      "mosque_count_1000: 98.08342%\n",
      "0    29887\n",
      "1      584\n",
      "Name: mosque_count_1000, dtype: int64\n",
      "\n",
      "mosque_count_1500: 96.21936%\n",
      "0    29319\n",
      "1     1152\n",
      "Name: mosque_count_1500, dtype: int64\n",
      "\n"
     ]
    }
   ],
   "source": [
    "num_rows = len(df.index)\n",
    "low_information_cols = [] #\n",
    "\n",
    "for col in df.columns:\n",
    "    cnts = df[col].value_counts(dropna=False)\n",
    "    top_pct = (cnts/num_rows).iloc[0]\n",
    "    \n",
    "    if top_pct > 0.95:\n",
    "        low_information_cols.append(col)\n",
    "        print('{0}: {1:.5f}%'.format(col, top_pct*100))\n",
    "        print(cnts)\n",
    "        print()"
   ]
  },
  {
   "cell_type": "code",
   "execution_count": 34,
   "metadata": {},
   "outputs": [
    {
     "data": {
      "text/plain": [
       "10"
      ]
     },
     "execution_count": 34,
     "metadata": {},
     "output_type": "execute_result"
    }
   ],
   "source": [
    "len(low_information_cols)"
   ]
  },
  {
   "cell_type": "markdown",
   "metadata": {},
   "source": [
    "**Note** this only seems to work on numerical features; the homebrew above does for any feature."
   ]
  },
  {
   "cell_type": "code",
   "execution_count": 26,
   "metadata": {},
   "outputs": [],
   "source": [
    "X = df[num_cols].values"
   ]
  },
  {
   "cell_type": "code",
   "execution_count": 58,
   "metadata": {},
   "outputs": [],
   "source": [
    "from sklearn.feature_selection import VarianceThreshold\n",
    "variance_selector = VarianceThreshold(threshold=0.09)\n",
    "X_ = variance_selector.fit_transform(X)"
   ]
  },
  {
   "cell_type": "code",
   "execution_count": 59,
   "metadata": {},
   "outputs": [
    {
     "data": {
      "text/plain": [
       "((30471, 274), (30471, 266))"
      ]
     },
     "execution_count": 59,
     "metadata": {},
     "output_type": "execute_result"
    }
   ],
   "source": [
    "X.shape, X_.shape"
   ]
  },
  {
   "cell_type": "code",
   "execution_count": 60,
   "metadata": {},
   "outputs": [
    {
     "data": {
      "text/plain": [
       "{'threshold': 0.09}"
      ]
     },
     "execution_count": 60,
     "metadata": {},
     "output_type": "execute_result"
    }
   ],
   "source": [
    "variance_selector.get_params()"
   ]
  },
  {
   "cell_type": "code",
   "execution_count": 61,
   "metadata": {},
   "outputs": [],
   "source": [
    "vs_mask = variance_selector.get_support()"
   ]
  },
  {
   "cell_type": "code",
   "execution_count": 62,
   "metadata": {},
   "outputs": [],
   "source": [
    "map_array = lambda f: lambda x: np.fromiter((f(xi) for xi in x), x.dtype, count=len(x))"
   ]
  },
  {
   "cell_type": "code",
   "execution_count": 63,
   "metadata": {},
   "outputs": [],
   "source": [
    "notter = lambda x: not x\n",
    "\n",
    "vs_mask = map_array(notter)(vs_mask)"
   ]
  },
  {
   "cell_type": "code",
   "execution_count": 64,
   "metadata": {},
   "outputs": [],
   "source": [
    "new_num_cols = np.array(num_cols)\n",
    "new_num_cols = new_num_cols[vs_mask].tolist()"
   ]
  },
  {
   "cell_type": "code",
   "execution_count": 48,
   "metadata": {},
   "outputs": [
    {
     "data": {
      "text/plain": [
       "array(['full_sq', 'life_sq', 'floor', 'max_floor', 'material',\n",
       "       'build_year', 'num_room', 'kitch_sq', 'state', 'area_m',\n",
       "       'raion_popul', 'children_preschool', 'preschool_quota',\n",
       "       'preschool_education_centers_raion', 'children_school',\n",
       "       'school_quota', 'school_education_centers_raion',\n",
       "       'school_education_centers_top_20_raion', 'hospital_beds_raion',\n",
       "       'healthcare_centers_raion', 'university_top_20_raion',\n",
       "       'sport_objects_raion', 'additional_education_raion',\n",
       "       'culture_objects_top_25_raion', 'shopping_centers_raion',\n",
       "       'office_raion', 'full_all', 'male_f', 'female_f', 'young_all',\n",
       "       'young_male', 'young_female', 'work_all', 'work_male',\n",
       "       'work_female', 'ekder_all', 'ekder_male', 'ekder_female',\n",
       "       '0_6_all', '0_6_male', '0_6_female', '7_14_all', '7_14_male',\n",
       "       '7_14_female', '0_17_all', '0_17_male', '0_17_female', '16_29_all',\n",
       "       '16_29_male', '16_29_female', '0_13_all', '0_13_male',\n",
       "       '0_13_female', 'raion_build_count_with_material_info',\n",
       "       'build_count_block', 'build_count_wood', 'build_count_frame',\n",
       "       'build_count_brick', 'build_count_monolith', 'build_count_panel',\n",
       "       'build_count_foam', 'build_count_slag', 'build_count_mix',\n",
       "       'raion_build_count_with_builddate_info', 'build_count_before_1920',\n",
       "       'build_count_1921-1945', 'build_count_1946-1970',\n",
       "       'build_count_1971-1995', 'build_count_after_1995', 'ID_metro',\n",
       "       'metro_min_avto', 'metro_km_avto', 'metro_min_walk',\n",
       "       'metro_km_walk', 'kindergarten_km', 'school_km', 'park_km',\n",
       "       'industrial_km', 'water_treatment_km', 'cemetery_km',\n",
       "       'incineration_km', 'railroad_station_walk_km',\n",
       "       'railroad_station_walk_min', 'ID_railroad_station_walk',\n",
       "       'railroad_station_avto_km', 'railroad_station_avto_min',\n",
       "       'ID_railroad_station_avto', 'public_transport_station_km',\n",
       "       'public_transport_station_min_walk', 'water_km', 'mkad_km',\n",
       "       'ttk_km', 'sadovoe_km', 'bulvar_ring_km', 'kremlin_km',\n",
       "       'big_road1_km', 'ID_big_road1', 'big_road2_km', 'ID_big_road2',\n",
       "       'railroad_km', 'zd_vokzaly_avto_km', 'ID_railroad_terminal',\n",
       "       'bus_terminal_avto_km', 'ID_bus_terminal', 'oil_chemistry_km',\n",
       "       'nuclear_reactor_km', 'radiation_km', 'power_transmission_line_km',\n",
       "       'thermal_power_plant_km', 'ts_km', 'big_market_km',\n",
       "       'market_shop_km', 'fitness_km', 'swim_pool_km', 'ice_rink_km',\n",
       "       'stadium_km', 'basketball_km', 'hospice_morgue_km',\n",
       "       'detention_facility_km', 'public_healthcare_km', 'university_km',\n",
       "       'workplaces_km', 'shopping_centers_km', 'office_km',\n",
       "       'additional_education_km', 'preschool_km', 'big_church_km',\n",
       "       'church_synagogue_km', 'mosque_km', 'theater_km', 'museum_km',\n",
       "       'exhibition_km', 'catering_km', 'green_part_500', 'prom_part_500',\n",
       "       'office_count_500', 'office_sqm_500', 'trc_count_500',\n",
       "       'trc_sqm_500', 'cafe_count_500', 'cafe_sum_500_min_price_avg',\n",
       "       'cafe_sum_500_max_price_avg', 'cafe_avg_price_500',\n",
       "       'cafe_count_500_na_price', 'cafe_count_500_price_500',\n",
       "       'cafe_count_500_price_1000', 'cafe_count_500_price_1500',\n",
       "       'cafe_count_500_price_2500', 'cafe_count_500_price_4000',\n",
       "       'big_church_count_500', 'church_count_500', 'leisure_count_500',\n",
       "       'sport_count_500', 'market_count_500', 'green_part_1000',\n",
       "       'prom_part_1000', 'office_count_1000', 'office_sqm_1000',\n",
       "       'trc_count_1000', 'trc_sqm_1000', 'cafe_count_1000',\n",
       "       'cafe_sum_1000_min_price_avg', 'cafe_sum_1000_max_price_avg',\n",
       "       'cafe_avg_price_1000', 'cafe_count_1000_na_price',\n",
       "       'cafe_count_1000_price_500', 'cafe_count_1000_price_1000',\n",
       "       'cafe_count_1000_price_1500', 'cafe_count_1000_price_2500',\n",
       "       'cafe_count_1000_price_4000', 'cafe_count_1000_price_high',\n",
       "       'big_church_count_1000', 'church_count_1000', 'leisure_count_1000',\n",
       "       'sport_count_1000', 'market_count_1000', 'green_part_1500',\n",
       "       'prom_part_1500', 'office_count_1500', 'office_sqm_1500',\n",
       "       'trc_count_1500', 'trc_sqm_1500', 'cafe_count_1500',\n",
       "       'cafe_sum_1500_min_price_avg', 'cafe_sum_1500_max_price_avg',\n",
       "       'cafe_avg_price_1500', 'cafe_count_1500_na_price',\n",
       "       'cafe_count_1500_price_500', 'cafe_count_1500_price_1000',\n",
       "       'cafe_count_1500_price_1500', 'cafe_count_1500_price_2500',\n",
       "       'cafe_count_1500_price_4000', 'cafe_count_1500_price_high',\n",
       "       'big_church_count_1500', 'church_count_1500', 'leisure_count_1500',\n",
       "       'sport_count_1500', 'market_count_1500', 'green_part_2000',\n",
       "       'prom_part_2000', 'office_count_2000', 'office_sqm_2000',\n",
       "       'trc_count_2000', 'trc_sqm_2000', 'cafe_count_2000',\n",
       "       'cafe_sum_2000_min_price_avg', 'cafe_sum_2000_max_price_avg',\n",
       "       'cafe_avg_price_2000', 'cafe_count_2000_na_price',\n",
       "       'cafe_count_2000_price_500', 'cafe_count_2000_price_1000',\n",
       "       'cafe_count_2000_price_1500', 'cafe_count_2000_price_2500',\n",
       "       'cafe_count_2000_price_4000', 'cafe_count_2000_price_high',\n",
       "       'big_church_count_2000', 'church_count_2000', 'leisure_count_2000',\n",
       "       'sport_count_2000', 'market_count_2000', 'green_part_3000',\n",
       "       'prom_part_3000', 'office_count_3000', 'office_sqm_3000',\n",
       "       'trc_count_3000', 'trc_sqm_3000', 'cafe_count_3000',\n",
       "       'cafe_sum_3000_min_price_avg', 'cafe_sum_3000_max_price_avg',\n",
       "       'cafe_avg_price_3000', 'cafe_count_3000_na_price',\n",
       "       'cafe_count_3000_price_500', 'cafe_count_3000_price_1000',\n",
       "       'cafe_count_3000_price_1500', 'cafe_count_3000_price_2500',\n",
       "       'cafe_count_3000_price_4000', 'cafe_count_3000_price_high',\n",
       "       'big_church_count_3000', 'church_count_3000', 'mosque_count_3000',\n",
       "       'leisure_count_3000', 'sport_count_3000', 'market_count_3000',\n",
       "       'green_part_5000', 'prom_part_5000', 'office_count_5000',\n",
       "       'office_sqm_5000', 'trc_count_5000', 'trc_sqm_5000',\n",
       "       'cafe_count_5000', 'cafe_sum_5000_min_price_avg',\n",
       "       'cafe_sum_5000_max_price_avg', 'cafe_avg_price_5000',\n",
       "       'cafe_count_5000_na_price', 'cafe_count_5000_price_500',\n",
       "       'cafe_count_5000_price_1000', 'cafe_count_5000_price_1500',\n",
       "       'cafe_count_5000_price_2500', 'cafe_count_5000_price_4000',\n",
       "       'cafe_count_5000_price_high', 'big_church_count_5000',\n",
       "       'church_count_5000', 'mosque_count_5000', 'leisure_count_5000',\n",
       "       'sport_count_5000', 'market_count_5000'], dtype='<U37')"
      ]
     },
     "execution_count": 48,
     "metadata": {},
     "output_type": "execute_result"
    }
   ],
   "source": [
    "new_num_cols = np.array(num_cols)\n",
    "new_num_cols[vs_mask]"
   ]
  },
  {
   "cell_type": "code",
   "execution_count": 69,
   "metadata": {},
   "outputs": [
    {
     "data": {
      "text/plain": [
       "['cafe_count_500_price_high',\n",
       " 'mosque_count_500',\n",
       " 'cafe_count_1000_price_high',\n",
       " 'mosque_count_1000',\n",
       " 'mosque_count_1500']"
      ]
     },
     "execution_count": 69,
     "metadata": {},
     "output_type": "execute_result"
    }
   ],
   "source": [
    "low_information_cols"
   ]
  },
  {
   "cell_type": "code",
   "execution_count": 70,
   "metadata": {},
   "outputs": [
    {
     "data": {
      "text/html": [
       "<div>\n",
       "<style scoped>\n",
       "    .dataframe tbody tr th:only-of-type {\n",
       "        vertical-align: middle;\n",
       "    }\n",
       "\n",
       "    .dataframe tbody tr th {\n",
       "        vertical-align: top;\n",
       "    }\n",
       "\n",
       "    .dataframe thead th {\n",
       "        text-align: right;\n",
       "    }\n",
       "</style>\n",
       "<table border=\"1\" class=\"dataframe\">\n",
       "  <thead>\n",
       "    <tr style=\"text-align: right;\">\n",
       "      <th></th>\n",
       "      <th>cafe_count_500_price_high</th>\n",
       "      <th>mosque_count_500</th>\n",
       "      <th>cafe_count_1000_price_high</th>\n",
       "      <th>mosque_count_1000</th>\n",
       "      <th>mosque_count_1500</th>\n",
       "    </tr>\n",
       "  </thead>\n",
       "  <tbody>\n",
       "    <tr>\n",
       "      <th>0</th>\n",
       "      <td>0</td>\n",
       "      <td>0</td>\n",
       "      <td>0</td>\n",
       "      <td>0</td>\n",
       "      <td>0</td>\n",
       "    </tr>\n",
       "    <tr>\n",
       "      <th>1</th>\n",
       "      <td>0</td>\n",
       "      <td>0</td>\n",
       "      <td>0</td>\n",
       "      <td>0</td>\n",
       "      <td>0</td>\n",
       "    </tr>\n",
       "    <tr>\n",
       "      <th>2</th>\n",
       "      <td>0</td>\n",
       "      <td>0</td>\n",
       "      <td>0</td>\n",
       "      <td>0</td>\n",
       "      <td>0</td>\n",
       "    </tr>\n",
       "    <tr>\n",
       "      <th>3</th>\n",
       "      <td>0</td>\n",
       "      <td>0</td>\n",
       "      <td>0</td>\n",
       "      <td>0</td>\n",
       "      <td>0</td>\n",
       "    </tr>\n",
       "    <tr>\n",
       "      <th>4</th>\n",
       "      <td>0</td>\n",
       "      <td>0</td>\n",
       "      <td>1</td>\n",
       "      <td>0</td>\n",
       "      <td>0</td>\n",
       "    </tr>\n",
       "  </tbody>\n",
       "</table>\n",
       "</div>"
      ],
      "text/plain": [
       "   cafe_count_500_price_high  mosque_count_500  cafe_count_1000_price_high  \\\n",
       "0                          0                 0                           0   \n",
       "1                          0                 0                           0   \n",
       "2                          0                 0                           0   \n",
       "3                          0                 0                           0   \n",
       "4                          0                 0                           1   \n",
       "\n",
       "   mosque_count_1000  mosque_count_1500  \n",
       "0                  0                  0  \n",
       "1                  0                  0  \n",
       "2                  0                  0  \n",
       "3                  0                  0  \n",
       "4                  0                  0  "
      ]
     },
     "execution_count": 70,
     "metadata": {},
     "output_type": "execute_result"
    }
   ],
   "source": [
    "df[low_information_cols].head()"
   ]
  },
  {
   "cell_type": "code",
   "execution_count": 67,
   "metadata": {},
   "outputs": [
    {
     "data": {
      "text/plain": [
       "['green_zone_part',\n",
       " 'indust_part',\n",
       " 'green_zone_km',\n",
       " 'cafe_count_500_price_high',\n",
       " 'mosque_count_500',\n",
       " 'mosque_count_1000',\n",
       " 'mosque_count_1500',\n",
       " 'mosque_count_2000']"
      ]
     },
     "execution_count": 67,
     "metadata": {},
     "output_type": "execute_result"
    }
   ],
   "source": [
    "new_num_cols"
   ]
  },
  {
   "cell_type": "code",
   "execution_count": 71,
   "metadata": {
    "scrolled": false
   },
   "outputs": [
    {
     "name": "stdout",
     "output_type": "stream",
     "text": [
      "culture_objects_top_25_raion: 93.67267%\n",
      "0     28543\n",
      "1       891\n",
      "10      678\n",
      "3       190\n",
      "2        90\n",
      "4        79\n",
      "Name: culture_objects_top_25_raion, dtype: int64\n",
      "\n",
      "cafe_count_500_price_4000: 94.38482%\n",
      "0     28760\n",
      "1       785\n",
      "4       630\n",
      "2       163\n",
      "3        91\n",
      "5        16\n",
      "8         7\n",
      "9         6\n",
      "11        4\n",
      "13        2\n",
      "10        2\n",
      "7         2\n",
      "6         2\n",
      "14        1\n",
      "Name: cafe_count_500_price_4000, dtype: int64\n",
      "\n",
      "cafe_count_500_price_high: 97.25641%\n",
      "0    29635\n",
      "1      787\n",
      "2       38\n",
      "3       11\n",
      "Name: cafe_count_500_price_high, dtype: int64\n",
      "\n",
      "mosque_count_500: 99.51101%\n",
      "0    30322\n",
      "1      149\n",
      "Name: mosque_count_500, dtype: int64\n",
      "\n",
      "leisure_count_500: 94.84756%\n",
      "0    28901\n",
      "1     1299\n",
      "2      133\n",
      "4       54\n",
      "3       54\n",
      "9        9\n",
      "5        9\n",
      "7        6\n",
      "6        4\n",
      "8        2\n",
      "Name: leisure_count_500, dtype: int64\n",
      "\n",
      "cafe_count_1000_price_high: 95.52689%\n",
      "0    29108\n",
      "1     1104\n",
      "2      145\n",
      "3       51\n",
      "4       39\n",
      "5       15\n",
      "6        8\n",
      "7        1\n",
      "Name: cafe_count_1000_price_high, dtype: int64\n",
      "\n",
      "mosque_count_1000: 98.08342%\n",
      "0    29887\n",
      "1      584\n",
      "Name: mosque_count_1000, dtype: int64\n",
      "\n",
      "cafe_count_1500_price_high: 93.60704%\n",
      "0     28523\n",
      "1       740\n",
      "5       665\n",
      "2       318\n",
      "3        71\n",
      "4        46\n",
      "6        42\n",
      "7        27\n",
      "9        19\n",
      "8         9\n",
      "10        5\n",
      "12        3\n",
      "11        3\n",
      "Name: cafe_count_1500_price_high, dtype: int64\n",
      "\n",
      "mosque_count_1500: 96.21936%\n",
      "0    29319\n",
      "1     1152\n",
      "Name: mosque_count_1500, dtype: int64\n",
      "\n",
      "cafe_count_2000_price_high: 91.33931%\n",
      "0     27832\n",
      "1      1073\n",
      "10      611\n",
      "2       329\n",
      "3       192\n",
      "4        94\n",
      "6        93\n",
      "5        53\n",
      "7        43\n",
      "9        42\n",
      "8        32\n",
      "11       26\n",
      "12       21\n",
      "14       10\n",
      "15        9\n",
      "13        8\n",
      "16        3\n",
      "Name: cafe_count_2000_price_high, dtype: int64\n",
      "\n",
      "mosque_count_2000: 91.19491%\n",
      "0    27788\n",
      "1     2683\n",
      "Name: mosque_count_2000, dtype: int64\n",
      "\n"
     ]
    }
   ],
   "source": [
    "num_rows = len(df.index)\n",
    "low_information_cols = [] #\n",
    "\n",
    "for col in df[num_cols].columns:\n",
    "    cnts = df[col].value_counts(dropna=False)\n",
    "    top_pct = (cnts/num_rows).iloc[0]\n",
    "    \n",
    "    if top_pct > 0.90:\n",
    "        low_information_cols.append(col)\n",
    "        print('{0}: {1:.5f}%'.format(col, top_pct*100))\n",
    "        print(cnts)\n",
    "        print()"
   ]
  },
  {
   "cell_type": "code",
   "execution_count": null,
   "metadata": {},
   "outputs": [],
   "source": []
  }
 ],
 "metadata": {
  "kernelspec": {
   "display_name": "Python 3",
   "language": "python",
   "name": "python3"
  },
  "language_info": {
   "codemirror_mode": {
    "name": "ipython",
    "version": 3
   },
   "file_extension": ".py",
   "mimetype": "text/x-python",
   "name": "python",
   "nbconvert_exporter": "python",
   "pygments_lexer": "ipython3",
   "version": "3.6.9"
  },
  "toc": {
   "nav_menu": {},
   "number_sections": true,
   "sideBar": true,
   "skip_h1_title": false,
   "title_cell": "Table of Contents",
   "title_sidebar": "Contents",
   "toc_cell": false,
   "toc_position": {},
   "toc_section_display": true,
   "toc_window_display": false
  }
 },
 "nbformat": 4,
 "nbformat_minor": 2
}
